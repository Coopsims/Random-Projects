{
 "cells": [
  {
   "cell_type": "code",
   "execution_count": 19,
   "id": "initial_id",
   "metadata": {
    "collapsed": true,
    "ExecuteTime": {
     "end_time": "2024-02-25T21:33:18.978107Z",
     "start_time": "2024-02-25T21:33:18.972290Z"
    }
   },
   "outputs": [],
   "source": [
    "# Standard DS imports\n",
    "from sklearn.metrics import confusion_matrix, precision_score, recall_score, f1_score, accuracy_score, precision_recall_curve, auc\n",
    "from sklearn.model_selection import train_test_split, ParameterGrid, GridSearchCV\n",
    "from sklearn.ensemble import RandomForestClassifier\n",
    "from sklearn.preprocessing import StandardScaler\n",
    "from sklearn.tree import DecisionTreeClassifier\n",
    "from sklearn.preprocessing import LabelEncoder\n",
    "from matplotlib import pyplot as plt\n",
    "from sklearn import neighbors\n",
    "from sklearn.svm import SVC\n",
    "from tqdm import tqdm\n",
    "import seaborn as sns\n",
    "import pandas as pd\n",
    "import numpy as np\n",
    "import datetime\n",
    "import time"
   ]
  },
  {
   "cell_type": "code",
   "outputs": [
    {
     "name": "stdout",
     "output_type": "stream",
     "text": [
      "read in successfully as a dataframe\n"
     ]
    }
   ],
   "source": [
    "df = pd.read_csv('./dataset.csv')\n",
    "print('read in successfully as a dataframe')"
   ],
   "metadata": {
    "collapsed": false,
    "ExecuteTime": {
     "end_time": "2024-02-25T21:33:19.598536Z",
     "start_time": "2024-02-25T21:33:19.429231Z"
    }
   },
   "id": "fb7119475c2a7274",
   "execution_count": 20
  },
  {
   "cell_type": "code",
   "outputs": [],
   "source": [
    "\n",
    "df['track_genre_encoded'] = LabelEncoder().fit_transform(df['track_genre'])\n",
    "df = df.drop(columns=['Unnamed: 0', 'track_id', 'artists', 'album_name', 'track_name', 'track_genre'])"
   ],
   "metadata": {
    "collapsed": false
   },
   "id": "e9d7101dab05b250",
   "execution_count": 0
  },
  {
   "cell_type": "code",
   "outputs": [],
   "source": [
    "xtrain, xtest, ytrain, ytest = train_test_split(df[['track_genre_encoded', 'danceability', 'energy', 'key', 'loudness', 'mode', 'speechiness', 'acousticness',\n",
    "                                                    'instrumentalness', 'liveness', 'valence', 'tempo', 'time_signature', 'explicit']], df[['popularity']], test_size=0.2, random_state=42)\n",
    "\n",
    "# Training Model 2 KNN-Classifier\n",
    "ytrain = (ytrain > 40).astype(int)\n",
    "ytest = (ytest > 40).astype(int)"
   ],
   "metadata": {
    "collapsed": false,
    "ExecuteTime": {
     "end_time": "2024-02-24T18:29:54.538801Z",
     "start_time": "2024-02-24T18:29:54.520986Z"
    }
   },
   "id": "7f3be73a7e57f8ed",
   "execution_count": 16
  },
  {
   "cell_type": "code",
   "outputs": [
    {
     "name": "stderr",
     "output_type": "stream",
     "text": [
      "/Users/benfunk/DataspellProjects/RandomProjects/venv/lib/python3.11/site-packages/joblib/externals/loky/process_executor.py:752: UserWarning: A worker stopped while some jobs were given to the executor. This can be caused by a too short worker timeout or by a memory leak.\n",
      "  warnings.warn(\n"
     ]
    },
    {
     "data": {
      "text/plain": "    rank_test_score  mean_test_score  std_test_score  \\\n51                1         0.793151        0.000987   \n55                2         0.789523        0.000917   \n59                3         0.788947        0.001660   \n63                4         0.788851        0.001271   \n50                5         0.786865        0.001605   \n\n                                               params  \n51  {'bootstrap': False, 'max_depth': None, 'max_f...  \n55  {'bootstrap': False, 'max_depth': None, 'max_f...  \n59  {'bootstrap': False, 'max_depth': None, 'max_f...  \n63  {'bootstrap': False, 'max_depth': None, 'max_f...  \n50  {'bootstrap': False, 'max_depth': None, 'max_f...  ",
      "text/html": "<div>\n<style scoped>\n    .dataframe tbody tr th:only-of-type {\n        vertical-align: middle;\n    }\n\n    .dataframe tbody tr th {\n        vertical-align: top;\n    }\n\n    .dataframe thead th {\n        text-align: right;\n    }\n</style>\n<table border=\"1\" class=\"dataframe\">\n  <thead>\n    <tr style=\"text-align: right;\">\n      <th></th>\n      <th>rank_test_score</th>\n      <th>mean_test_score</th>\n      <th>std_test_score</th>\n      <th>params</th>\n    </tr>\n  </thead>\n  <tbody>\n    <tr>\n      <th>51</th>\n      <td>1</td>\n      <td>0.793151</td>\n      <td>0.000987</td>\n      <td>{'bootstrap': False, 'max_depth': None, 'max_f...</td>\n    </tr>\n    <tr>\n      <th>55</th>\n      <td>2</td>\n      <td>0.789523</td>\n      <td>0.000917</td>\n      <td>{'bootstrap': False, 'max_depth': None, 'max_f...</td>\n    </tr>\n    <tr>\n      <th>59</th>\n      <td>3</td>\n      <td>0.788947</td>\n      <td>0.001660</td>\n      <td>{'bootstrap': False, 'max_depth': None, 'max_f...</td>\n    </tr>\n    <tr>\n      <th>63</th>\n      <td>4</td>\n      <td>0.788851</td>\n      <td>0.001271</td>\n      <td>{'bootstrap': False, 'max_depth': None, 'max_f...</td>\n    </tr>\n    <tr>\n      <th>50</th>\n      <td>5</td>\n      <td>0.786865</td>\n      <td>0.001605</td>\n      <td>{'bootstrap': False, 'max_depth': None, 'max_f...</td>\n    </tr>\n  </tbody>\n</table>\n</div>"
     },
     "metadata": {},
     "output_type": "display_data"
    }
   ],
   "source": [
    "\n",
    "\n",
    "param_grid = {\n",
    "    'n_estimators': [10, 50, 100, 500],  # Number of trees in the forest\n",
    "    'max_depth': [None, 10, 20],  # Maximum depth of the tree\n",
    "    'min_samples_split': [2, 5],  # Minimum number of samples required to split an internal node\n",
    "    'min_samples_leaf': [1, 2],  # Minimum number of samples required to be at a leaf node\n",
    "    'bootstrap': [True, False],  # Whether bootstrap samples are used\n",
    "    'max_features': ['sqrt']  # The number of features to consider when looking for the best split\n",
    "}\n",
    "# Initialize the RandomForestClassifier\n",
    "rf = RandomForestClassifier(random_state=42)\n",
    "\n",
    "# Initialize GridSearchCV with the RandomForestClassifier and parameter grid\n",
    "grid_search = GridSearchCV(estimator=rf, param_grid=param_grid, scoring='f1_macro', n_jobs=-1)\n",
    "\n",
    "# Fit GridSearchCV to the training data\n",
    "grid_search.fit(xtrain, ytrain.values.ravel())\n",
    "\n",
    "# Convert the cv_results_ dictionary to a DataFrame\n",
    "results_df = pd.DataFrame(grid_search.cv_results_)\n",
    "\n",
    "# Sort the results by the 'rank_test_score' to see the best scores at the top\n",
    "sorted_results_df = results_df.sort_values(by='rank_test_score')\n",
    "\n",
    "# Display the sorted results, focusing on important columns\n",
    "important_columns = ['rank_test_score', 'mean_test_score', 'std_test_score', 'params']\n",
    "display(sorted_results_df[important_columns])"
   ],
   "metadata": {
    "collapsed": false,
    "ExecuteTime": {
     "end_time": "2024-02-24T18:49:26.982Z",
     "start_time": "2024-02-24T18:29:55.231200Z"
    }
   },
   "id": "78686a16fbbf6c2",
   "execution_count": 17
  },
  {
   "cell_type": "code",
   "outputs": [
    {
     "data": {
      "text/plain": "    rank_test_score  mean_test_score  std_test_score  \\\n51                1         0.793151        0.000987   \n55                2         0.789523        0.000917   \n59                3         0.788947        0.001660   \n63                4         0.788851        0.001271   \n50                5         0.786865        0.001605   \n..              ...              ...             ...   \n23               92         0.636253        0.004326   \n18               93         0.636171        0.004473   \n26               94         0.636100        0.004570   \n17               95         0.635890        0.003973   \n24               96         0.635789        0.007252   \n\n                                               params  \n51  {'bootstrap': False, 'max_depth': None, 'max_f...  \n55  {'bootstrap': False, 'max_depth': None, 'max_f...  \n59  {'bootstrap': False, 'max_depth': None, 'max_f...  \n63  {'bootstrap': False, 'max_depth': None, 'max_f...  \n50  {'bootstrap': False, 'max_depth': None, 'max_f...  \n..                                                ...  \n23  {'bootstrap': True, 'max_depth': 10, 'max_feat...  \n18  {'bootstrap': True, 'max_depth': 10, 'max_feat...  \n26  {'bootstrap': True, 'max_depth': 10, 'max_feat...  \n17  {'bootstrap': True, 'max_depth': 10, 'max_feat...  \n24  {'bootstrap': True, 'max_depth': 10, 'max_feat...  \n\n[96 rows x 4 columns]",
      "text/html": "<div>\n<style scoped>\n    .dataframe tbody tr th:only-of-type {\n        vertical-align: middle;\n    }\n\n    .dataframe tbody tr th {\n        vertical-align: top;\n    }\n\n    .dataframe thead th {\n        text-align: right;\n    }\n</style>\n<table border=\"1\" class=\"dataframe\">\n  <thead>\n    <tr style=\"text-align: right;\">\n      <th></th>\n      <th>rank_test_score</th>\n      <th>mean_test_score</th>\n      <th>std_test_score</th>\n      <th>params</th>\n    </tr>\n  </thead>\n  <tbody>\n    <tr>\n      <th>51</th>\n      <td>1</td>\n      <td>0.793151</td>\n      <td>0.000987</td>\n      <td>{'bootstrap': False, 'max_depth': None, 'max_f...</td>\n    </tr>\n    <tr>\n      <th>55</th>\n      <td>2</td>\n      <td>0.789523</td>\n      <td>0.000917</td>\n      <td>{'bootstrap': False, 'max_depth': None, 'max_f...</td>\n    </tr>\n    <tr>\n      <th>59</th>\n      <td>3</td>\n      <td>0.788947</td>\n      <td>0.001660</td>\n      <td>{'bootstrap': False, 'max_depth': None, 'max_f...</td>\n    </tr>\n    <tr>\n      <th>63</th>\n      <td>4</td>\n      <td>0.788851</td>\n      <td>0.001271</td>\n      <td>{'bootstrap': False, 'max_depth': None, 'max_f...</td>\n    </tr>\n    <tr>\n      <th>50</th>\n      <td>5</td>\n      <td>0.786865</td>\n      <td>0.001605</td>\n      <td>{'bootstrap': False, 'max_depth': None, 'max_f...</td>\n    </tr>\n    <tr>\n      <th>...</th>\n      <td>...</td>\n      <td>...</td>\n      <td>...</td>\n      <td>...</td>\n    </tr>\n    <tr>\n      <th>23</th>\n      <td>92</td>\n      <td>0.636253</td>\n      <td>0.004326</td>\n      <td>{'bootstrap': True, 'max_depth': 10, 'max_feat...</td>\n    </tr>\n    <tr>\n      <th>18</th>\n      <td>93</td>\n      <td>0.636171</td>\n      <td>0.004473</td>\n      <td>{'bootstrap': True, 'max_depth': 10, 'max_feat...</td>\n    </tr>\n    <tr>\n      <th>26</th>\n      <td>94</td>\n      <td>0.636100</td>\n      <td>0.004570</td>\n      <td>{'bootstrap': True, 'max_depth': 10, 'max_feat...</td>\n    </tr>\n    <tr>\n      <th>17</th>\n      <td>95</td>\n      <td>0.635890</td>\n      <td>0.003973</td>\n      <td>{'bootstrap': True, 'max_depth': 10, 'max_feat...</td>\n    </tr>\n    <tr>\n      <th>24</th>\n      <td>96</td>\n      <td>0.635789</td>\n      <td>0.007252</td>\n      <td>{'bootstrap': True, 'max_depth': 10, 'max_feat...</td>\n    </tr>\n  </tbody>\n</table>\n<p>96 rows × 4 columns</p>\n</div>"
     },
     "metadata": {},
     "output_type": "display_data"
    }
   ],
   "source": [],
   "metadata": {
    "collapsed": false,
    "ExecuteTime": {
     "end_time": "2024-02-24T18:52:03.966163Z",
     "start_time": "2024-02-24T18:52:03.960186Z"
    }
   },
   "id": "ec15f29eee5efd45",
   "execution_count": 18
  },
  {
   "cell_type": "code",
   "outputs": [],
   "source": [],
   "metadata": {
    "collapsed": false
   },
   "id": "b861296fc257302f"
  }
 ],
 "metadata": {
  "kernelspec": {
   "display_name": "Python 3",
   "language": "python",
   "name": "python3"
  },
  "language_info": {
   "codemirror_mode": {
    "name": "ipython",
    "version": 2
   },
   "file_extension": ".py",
   "mimetype": "text/x-python",
   "name": "python",
   "nbconvert_exporter": "python",
   "pygments_lexer": "ipython2",
   "version": "2.7.6"
  }
 },
 "nbformat": 4,
 "nbformat_minor": 5
}
