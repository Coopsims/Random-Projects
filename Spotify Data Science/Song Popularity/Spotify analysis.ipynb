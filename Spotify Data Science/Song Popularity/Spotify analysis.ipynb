{
 "cells": [
  {
   "cell_type": "markdown",
   "source": [
    "Data Science Semester project\n",
    "@Authour: Ben Funk\n",
    "\n",
    "Just as a disclaimer, I was running all of my code on either an apple M2 max 12 core CPU and 38 core GPU 64 GB ram or a Nvidia 3070 intel i7 10700k with 96 GB ram, and the code took a couple hours on both of my setups. This is a very intesive run so expect it to take a while."
   ],
   "metadata": {
    "collapsed": false
   }
  },
  {
   "cell_type": "code",
   "execution_count": 1,
   "metadata": {
    "collapsed": true,
    "ExecuteTime": {
     "end_time": "2024-02-12T20:12:46.489961Z",
     "start_time": "2024-02-12T20:12:43.192073Z"
    }
   },
   "outputs": [],
   "source": [
    "# Standard DS imports\n",
    "import pandas as pd\n",
    "import numpy as np\n",
    "from sklearn import neighbors\n",
    "from sklearn.preprocessing import LabelEncoder\n",
    "from matplotlib import pyplot as plt\n",
    "from sklearn.metrics import confusion_matrix\n",
    "from sklearn.model_selection import train_test_split\n",
    "from sklearn.metrics import make_scorer, confusion_matrix, precision_score, recall_score, f1_score, accuracy_score\n",
    "from sklearn.model_selection import GridSearchCV\n",
    "from sklearn.ensemble import RandomForestClassifier\n",
    "from sklearn.tree import DecisionTreeClassifier\n",
    "from sklearn.metrics import precision_recall_curve, auc\n",
    "import seaborn as sns\n",
    "from tqdm import tqdm\n",
    "import ast\n",
    "from sklearn import svm\n",
    "\n",
    "# All pytorch dependencies\n",
    "import torch\n",
    "import torch.optim as optim\n",
    "import torch.nn as nn\n",
    "from torch.utils.data import DataLoader, TensorDataset, random_split\n",
    "\n",
    "\n",
    "\n",
    "# all tensorflow dependencies\n",
    "import tensorflow as tf\n",
    "import keras\n",
    "from keras.callbacks import EarlyStopping\n",
    "from keras import metrics"
   ]
  },
  {
   "cell_type": "code",
   "outputs": [
    {
     "data": {
      "text/plain": "                       id                                 name  popularity  \\\n0  35iwgR4jXetI318WEWsa1Q                                Carve           6   \n1  021ht4sdgPcrDgSk7JTbKY  Capítulo 2.16 - Banquero Anarquista           0   \n2  07A5yehtSnoedViJAZkNnc   Vivo para Quererte - Remasterizado           0   \n3  08FmqUhxtyLTn6pAh6bk45        El Prisionero - Remasterizado           0   \n4  08y9GfoqCWfOGsKdwojr5e                  Lady of the Evening           0   \n\n   duration_ms  explicit              artists                  id_artists  \\\n0       126903         0              ['Uli']  ['45tIt06XoI0Iio4LBEVpls']   \n1        98200         0  ['Fernando Pessoa']  ['14jtPCOoNZwquk5wd9DxrY']   \n2       181640         0  ['Ignacio Corsini']  ['5LiOoJbxVSAMkBS2fUm3X2']   \n3       176907         0  ['Ignacio Corsini']  ['5LiOoJbxVSAMkBS2fUm3X2']   \n4       163080         0      ['Dick Haymes']  ['3BiJGZsyX9sJchTqcSA7Su']   \n\n  release_date  danceability  energy  key  loudness  mode  speechiness  \\\n0   1922-02-22         0.645  0.4450    0   -13.338     1       0.4510   \n1   1922-06-01         0.695  0.2630    0   -22.136     1       0.9570   \n2   1922-03-21         0.434  0.1770    1   -21.180     1       0.0512   \n3   1922-03-21         0.321  0.0946    7   -27.961     1       0.0504   \n4         1922         0.402  0.1580    3   -16.900     0       0.0390   \n\n   acousticness  instrumentalness  liveness  valence    tempo  time_signature  \n0         0.674            0.7440     0.151    0.127  104.851               3  \n1         0.797            0.0000     0.148    0.655  102.009               1  \n2         0.994            0.0218     0.212    0.457  130.418               5  \n3         0.995            0.9180     0.104    0.397  169.980               3  \n4         0.989            0.1300     0.311    0.196  103.220               4  ",
      "text/html": "<div>\n<style scoped>\n    .dataframe tbody tr th:only-of-type {\n        vertical-align: middle;\n    }\n\n    .dataframe tbody tr th {\n        vertical-align: top;\n    }\n\n    .dataframe thead th {\n        text-align: right;\n    }\n</style>\n<table border=\"1\" class=\"dataframe\">\n  <thead>\n    <tr style=\"text-align: right;\">\n      <th></th>\n      <th>id</th>\n      <th>name</th>\n      <th>popularity</th>\n      <th>duration_ms</th>\n      <th>explicit</th>\n      <th>artists</th>\n      <th>id_artists</th>\n      <th>release_date</th>\n      <th>danceability</th>\n      <th>energy</th>\n      <th>key</th>\n      <th>loudness</th>\n      <th>mode</th>\n      <th>speechiness</th>\n      <th>acousticness</th>\n      <th>instrumentalness</th>\n      <th>liveness</th>\n      <th>valence</th>\n      <th>tempo</th>\n      <th>time_signature</th>\n    </tr>\n  </thead>\n  <tbody>\n    <tr>\n      <th>0</th>\n      <td>35iwgR4jXetI318WEWsa1Q</td>\n      <td>Carve</td>\n      <td>6</td>\n      <td>126903</td>\n      <td>0</td>\n      <td>['Uli']</td>\n      <td>['45tIt06XoI0Iio4LBEVpls']</td>\n      <td>1922-02-22</td>\n      <td>0.645</td>\n      <td>0.4450</td>\n      <td>0</td>\n      <td>-13.338</td>\n      <td>1</td>\n      <td>0.4510</td>\n      <td>0.674</td>\n      <td>0.7440</td>\n      <td>0.151</td>\n      <td>0.127</td>\n      <td>104.851</td>\n      <td>3</td>\n    </tr>\n    <tr>\n      <th>1</th>\n      <td>021ht4sdgPcrDgSk7JTbKY</td>\n      <td>Capítulo 2.16 - Banquero Anarquista</td>\n      <td>0</td>\n      <td>98200</td>\n      <td>0</td>\n      <td>['Fernando Pessoa']</td>\n      <td>['14jtPCOoNZwquk5wd9DxrY']</td>\n      <td>1922-06-01</td>\n      <td>0.695</td>\n      <td>0.2630</td>\n      <td>0</td>\n      <td>-22.136</td>\n      <td>1</td>\n      <td>0.9570</td>\n      <td>0.797</td>\n      <td>0.0000</td>\n      <td>0.148</td>\n      <td>0.655</td>\n      <td>102.009</td>\n      <td>1</td>\n    </tr>\n    <tr>\n      <th>2</th>\n      <td>07A5yehtSnoedViJAZkNnc</td>\n      <td>Vivo para Quererte - Remasterizado</td>\n      <td>0</td>\n      <td>181640</td>\n      <td>0</td>\n      <td>['Ignacio Corsini']</td>\n      <td>['5LiOoJbxVSAMkBS2fUm3X2']</td>\n      <td>1922-03-21</td>\n      <td>0.434</td>\n      <td>0.1770</td>\n      <td>1</td>\n      <td>-21.180</td>\n      <td>1</td>\n      <td>0.0512</td>\n      <td>0.994</td>\n      <td>0.0218</td>\n      <td>0.212</td>\n      <td>0.457</td>\n      <td>130.418</td>\n      <td>5</td>\n    </tr>\n    <tr>\n      <th>3</th>\n      <td>08FmqUhxtyLTn6pAh6bk45</td>\n      <td>El Prisionero - Remasterizado</td>\n      <td>0</td>\n      <td>176907</td>\n      <td>0</td>\n      <td>['Ignacio Corsini']</td>\n      <td>['5LiOoJbxVSAMkBS2fUm3X2']</td>\n      <td>1922-03-21</td>\n      <td>0.321</td>\n      <td>0.0946</td>\n      <td>7</td>\n      <td>-27.961</td>\n      <td>1</td>\n      <td>0.0504</td>\n      <td>0.995</td>\n      <td>0.9180</td>\n      <td>0.104</td>\n      <td>0.397</td>\n      <td>169.980</td>\n      <td>3</td>\n    </tr>\n    <tr>\n      <th>4</th>\n      <td>08y9GfoqCWfOGsKdwojr5e</td>\n      <td>Lady of the Evening</td>\n      <td>0</td>\n      <td>163080</td>\n      <td>0</td>\n      <td>['Dick Haymes']</td>\n      <td>['3BiJGZsyX9sJchTqcSA7Su']</td>\n      <td>1922</td>\n      <td>0.402</td>\n      <td>0.1580</td>\n      <td>3</td>\n      <td>-16.900</td>\n      <td>0</td>\n      <td>0.0390</td>\n      <td>0.989</td>\n      <td>0.1300</td>\n      <td>0.311</td>\n      <td>0.196</td>\n      <td>103.220</td>\n      <td>4</td>\n    </tr>\n  </tbody>\n</table>\n</div>"
     },
     "execution_count": 7,
     "metadata": {},
     "output_type": "execute_result"
    }
   ],
   "source": [
    "# Loading data from csv\n",
    "dataFrame = pd.read_csv('./tracks.csv')\n",
    "dataFrame.head()\n"
   ],
   "metadata": {
    "collapsed": false,
    "ExecuteTime": {
     "end_time": "2024-02-11T16:16:27.032197Z",
     "start_time": "2024-02-11T16:16:25.983880Z"
    }
   },
   "execution_count": 7
  },
  {
   "cell_type": "code",
   "outputs": [
    {
     "name": "stdout",
     "output_type": "stream",
     "text": [
      "Index(['id', 'name', 'popularity', 'duration_ms', 'explicit', 'artists',\n",
      "       'id_artists', 'release_date', 'danceability', 'energy', 'key',\n",
      "       'loudness', 'mode', 'speechiness', 'acousticness', 'instrumentalness',\n",
      "       'liveness', 'valence', 'tempo', 'time_signature'],\n",
      "      dtype='object')\n"
     ]
    }
   ],
   "source": [
    "column_names = dataFrame.columns\n",
    "print(column_names)"
   ],
   "metadata": {
    "collapsed": false,
    "ExecuteTime": {
     "end_time": "2024-02-11T16:16:27.038557Z",
     "start_time": "2024-02-11T16:16:27.031947Z"
    }
   },
   "execution_count": 8
  },
  {
   "cell_type": "code",
   "outputs": [],
   "source": [
    "\n",
    "# variable I will try to predict: popularity\n",
    "# the dataset is taken from: https://www.kaggle.com/datasets/maharshipandya/-spotify-tracks-dataset/ or https://www.kaggle.com/code/skylarhew/python-spotify-matrix\n",
    "Cutoff = 40\n",
    "Cutoffp = Cutoff / 100\n",
    "dataFrame['popularity_flag'] = 0\n",
    "dataFrame.loc[dataFrame['popularity'] > Cutoff, 'popularity_flag'] = 1\n",
    "\n",
    "dataFrame['release_date'] = pd.to_datetime(dataFrame['release_date'], errors='coerce').dt.year\n",
    "\n",
    "# # Convert the string representation of list to actual list\n",
    "# dataFrame['id_artists'] = dataFrame['id_artists'].apply(ast.literal_eval)\n",
    "# dataFrame['artists'] = dataFrame['artists'].apply(ast.literal_eval)\n",
    "# \n",
    "# # Flatten the lists and get a list of all unique artist ids\n",
    "# unique_ids = pd.unique([item for sublist in dataFrame['id_artists'].tolist() for item in sublist])\n",
    "# \n",
    "# # Create a mapping of ids to unique numbers\n",
    "# id_to_num = {id:i for i, id in tqdm(enumerate(unique_ids))}\n",
    "# \n",
    "# # Apply the mapping to the 'id_artists' column\n",
    "# dataFrame['id_number'] = dataFrame['id_artists'].apply(lambda x: [id_to_num[i] for i in x])\n",
    "\n",
    "dataFrame = dataFrame.drop(columns=['id', 'name', 'artists', 'id_artists'])"
   ],
   "metadata": {
    "collapsed": false,
    "ExecuteTime": {
     "end_time": "2024-02-11T16:16:27.744167Z",
     "start_time": "2024-02-11T16:16:27.676728Z"
    }
   },
   "execution_count": 9
  },
  {
   "cell_type": "code",
   "outputs": [
    {
     "data": {
      "text/plain": "<Axes: >"
     },
     "execution_count": 10,
     "metadata": {},
     "output_type": "execute_result"
    },
    {
     "data": {
      "text/plain": "<Figure size 1100x900 with 2 Axes>",
      "image/png": "[encoded data removed]"
     },
     "metadata": {},
     "output_type": "display_data"
    }
   ],
   "source": [
    "# Calculate correlation matrix\n",
    "corr_matrix = dataFrame.corr()\n",
    "\n",
    "# Generate a mask for the upper triangle\n",
    "mask = np.triu(np.ones_like(corr_matrix, dtype=bool))\n",
    "\n",
    "# Set up the matplotlib figure\n",
    "f, ax = plt.subplots(figsize=(11, 9))\n",
    "\n",
    "# Generate a custom diverging colormap\n",
    "cmap = sns.diverging_palette(230, 20, as_cmap=True,)\n",
    "\n",
    "# Draw the heatmap with the mask and correct aspect ratio\n",
    "sns.heatmap(corr_matrix, mask=mask, cmap=cmap, vmax=.3, center=0,\n",
    "            square=True, linewidths=.5, cbar_kws={\"shrink\": .5})"
   ],
   "metadata": {
    "collapsed": false,
    "ExecuteTime": {
     "end_time": "2024-02-11T16:16:29.059138Z",
     "start_time": "2024-02-11T16:16:28.476247Z"
    }
   },
   "execution_count": 10
  },
  {
   "cell_type": "markdown",
   "source": [
    "Label to integer mapping: {'acoustic': 0, 'afrobeat': 1, 'alt-rock': 2, 'alternative': 3, 'ambient': 4, 'anime': 5, 'black-metal': 6, 'bluegrass': 7, 'blues': 8, 'brazil': 9, 'breakbeat': 10, 'british': 11, 'cantopop': 12, 'chicago-house': 13, 'children': 14, 'chill': 15, 'classical': 16, 'club': 17, 'comedy': 18, 'country': 19, 'dance': 20, 'dancehall': 21, 'death-metal': 22, 'deep-house': 23, 'detroit-techno': 24, 'disco': 25, 'disney': 26, 'drum-and-bass': 27, 'dub': 28, 'dubstep': 29, 'edm': 30, 'electro': 31, 'electronic': 32, 'emo': 33, 'folk': 34, 'forro': 35, 'french': 36, 'funk': 37, 'garage': 38, 'german': 39, 'gospel': 40, 'goth': 41, 'grindcore': 42, 'groove': 43, 'grunge': 44, 'guitar': 45, 'happy': 46, 'hard-rock': 47, 'hardcore': 48, 'hardstyle': 49, 'heavy-metal': 50, 'hip-hop': 51, 'honky-tonk': 52, 'house': 53, 'idm': 54, 'indian': 55, 'indie': 56, 'indie-pop': 57, 'industrial': 58, 'iranian': 59, 'j-dance': 60, 'j-idol': 61, 'j-pop': 62, 'j-rock': 63, 'jazz': 64, 'k-pop': 65, 'kids': 66, 'latin': 67, 'latino': 68, 'malay': 69, 'mandopop': 70, 'metal': 71, 'metalcore': 72, 'minimal-techno': 73, 'mpb': 74, 'new-age': 75, 'opera': 76, 'pagode': 77, 'party': 78, 'piano': 79, 'pop': 80, 'pop-film': 81, 'power-pop': 82, 'progressive-house': 83, 'psych-rock': 84, 'punk': 85, 'punk-rock': 86, 'r-n-b': 87, 'reggae': 88, 'reggaeton': 89, 'rock': 90, 'rock-n-roll': 91, 'rockabilly': 92, 'romance': 93, 'sad': 94, 'salsa': 95, 'samba': 96, 'sertanejo': 97, 'show-tunes': 98, 'singer-songwriter': 99, 'ska': 100, 'sleep': 101, 'songwriter': 102, 'soul': 103, 'spanish': 104, 'study': 105, 'swedish': 106, 'synth-pop': 107, 'tango': 108, 'techno': 109, 'trance': 110, 'trip-hop': 111, 'turkish': 112, 'world-music': 113}"
   ],
   "metadata": {
    "collapsed": false
   }
  },
  {
   "cell_type": "markdown",
   "source": [
    "This is a lot to go through but basically it is assigning each genre a number so that I now have a quantitative variable instead of a qualitative one. this allows for a neural net to run on the data."
   ],
   "metadata": {
    "collapsed": false
   }
  },
  {
   "cell_type": "code",
   "execution_count": 15,
   "outputs": [],
   "source": [
    "inputs = [ 'danceability', 'energy', 'key', 'loudness', 'mode', 'speechiness', 'acousticness',\n",
    "          'instrumentalness', 'liveness', 'valence', 'tempo', 'time_signature', 'explicit'] # 'track_genre_encoded',\n",
    "target = ['popularity_flag']"
   ],
   "metadata": {
    "collapsed": false,
    "ExecuteTime": {
     "end_time": "2024-02-11T16:17:43.614401Z",
     "start_time": "2024-02-11T16:17:43.597625Z"
    }
   }
  },
  {
   "cell_type": "code",
   "execution_count": 16,
   "outputs": [],
   "source": [
    "xtrain, xtest, ytrain, ytest = train_test_split(dataFrame[inputs], dataFrame[target], test_size=0.2, random_state=42)"
   ],
   "metadata": {
    "collapsed": false,
    "ExecuteTime": {
     "end_time": "2024-02-11T16:17:44.476486Z",
     "start_time": "2024-02-11T16:17:44.422246Z"
    }
   }
  },
  {
   "cell_type": "code",
   "outputs": [
    {
     "name": "stdout",
     "output_type": "stream",
     "text": [
      "The AUPRC baseline is: 0.2522238817736509\n"
     ]
    }
   ],
   "source": [
    "# Assuming y_train is your training labels\n",
    "positive_class_proportion = np.mean(ytrain)\n",
    "\n",
    "print(f\"The AUPRC baseline is: {positive_class_proportion}\")"
   ],
   "metadata": {
    "collapsed": false,
    "ExecuteTime": {
     "end_time": "2024-02-11T16:18:04.759134Z",
     "start_time": "2024-02-11T16:18:04.734803Z"
    }
   },
   "execution_count": 17
  },
  {
   "cell_type": "markdown",
   "source": [
    "This means that if my model is guessing it should have a score of 0.24 or 24% as the I am working with an unbalanced dataset. It focuses on the trade-off between precision and recall, and the AUPRC (Area Under the Precision-Recall Curve) is  useful for evaluating imbalanced dataset models... like what I have. It provides a measure of how well the model can increase its prediction accuracy on the positive class without incurring too many false positive errors."
   ],
   "metadata": {
    "collapsed": false
   }
  },
  {
   "cell_type": "code",
   "execution_count": 19,
   "outputs": [
    {
     "name": "stderr",
     "output_type": "stream",
     "text": [
      "100%|██████████| 199/199 [2:25:23<00:00, 43.84s/it]  \n"
     ]
    },
    {
     "data": {
      "text/plain": "<Figure size 640x480 with 1 Axes>",
      "image/png": "[encoded data removed]"
     },
     "metadata": {},
     "output_type": "display_data"
    },
    {
     "name": "stdout",
     "output_type": "stream",
     "text": [
      "The best k value is : 55\n"
     ]
    }
   ],
   "source": [
    "kvals = range(1,200,1)\n",
    "train_score = []\n",
    "test_score = []\n",
    "test_scores = {}\n",
    "\n",
    "for k in tqdm(kvals):\n",
    "    model = neighbors.KNeighborsRegressor(k)\n",
    "    model.fit(xtrain,ytrain)\n",
    "\n",
    "    y_train_pred = model.predict(xtrain)\n",
    "    y_test_pred = model.predict(xtest)\n",
    "\n",
    "    train_score.append(accuracy_score(ytrain, y_train_pred))\n",
    "    val = accuracy_score(ytest, y_test_pred)\n",
    "    test_score.append(val)\n",
    "    test_scores[k] = val  # Store the score for each k-value in the dictionary\n",
    "\n",
    "plt.plot(kvals, train_score, 'r-s', label='Train')\n",
    "plt.plot(kvals, test_score, 'b-o', label='Test')\n",
    "plt.legend()\n",
    "plt.show()\n",
    "\n",
    "# Print out the k value that gave the highest test score\n",
    "print(f\"The best k value is : {max(test_scores, key=test_scores.get)}\")"
   ],
   "metadata": {
    "collapsed": false,
    "ExecuteTime": {
     "end_time": "2024-02-11T18:43:55.849054Z",
     "start_time": "2024-02-11T16:18:32.186291Z"
    }
   }
  },
  {
   "cell_type": "markdown",
   "source": [
    "this does fine on the training set but leaves much to be desired on the testing set. for this project any f1 score over .5 will be a good model"
   ],
   "metadata": {
    "collapsed": false
   }
  },
  {
   "cell_type": "code",
   "outputs": [
    {
     "data": {
      "text/plain": "<Figure size 640x480 with 1 Axes>",
      "image/png": "[encoded data removed]"
     },
     "metadata": {},
     "output_type": "display_data"
    }
   ],
   "source": [
    "plt.plot(kvals, train_score, 'r-s', label='Train')\n",
    "plt.plot(kvals, test_score, 'b-o', label='Test')\n",
    "plt.xlabel('Kernel Value')\n",
    "plt.ylabel('Accuracy')\n",
    "plt.title('K-Nearest Neighbors Regression Model Training and Evaluation')\n",
    "plt.legend()\n",
    "plt.show()"
   ],
   "metadata": {
    "collapsed": false,
    "ExecuteTime": {
     "end_time": "2024-02-11T18:54:57.158245Z",
     "start_time": "2024-02-11T18:54:57.071228Z"
    }
   },
   "execution_count": 22
  },
  {
   "cell_type": "code",
   "outputs": [
    {
     "name": "stdout",
     "output_type": "stream",
     "text": [
      "AUPRC on Training set: 0.5269243320715379\n",
      "AUPRC on Testing set: 0.49732977422830116\n",
      "\n",
      "F1 Score on Training set: 0.4331728952445355\n",
      "F1 Score on Testing set: 0.4025895935220075 \n",
      "\n",
      "\n",
      "Accuracy on Training set: 0.7571084316812866\n",
      "Accuracy on Testing set: 0.7459751992159203\n",
      "\n",
      "Recall on Training set: 0.6281656044458491\n",
      "Recall on Testing set: 0.6114660334755804\n",
      "\n",
      "Precision on Training set: 0.6664689067244061\n",
      "Precision on Testing set: 0.6443533706835985\n",
      "\n",
      "Confusion Matrix on Training set: \n",
      "[[311780  39179]\n",
      " [ 74819  43559]]\n",
      "Confusion Matrix on Testing set: \n",
      "[[77486 10546]\n",
      " [19260 10043]]\n"
     ]
    }
   ],
   "source": [
    "model = neighbors.KNeighborsClassifier(55) # also try 4\n",
    "model.fit(xtrain, ytrain.values.ravel())\n",
    "y_train_scores = model.predict_proba(xtrain)[:, 1]\n",
    "y_test_scores = model.predict_proba(xtest)[:, 1]\n",
    "\n",
    "#Apply same threshold to train predictions\n",
    "y_train_pred = (y_train_scores > Cutoffp).astype(int)\n",
    "y_test_pred = (y_test_scores > Cutoffp).astype(int)\n",
    "\n",
    "# Precision-Recall curve\n",
    "precision_train, recall_train, _ = precision_recall_curve(ytrain, y_train_pred)\n",
    "precision_test, recall_test, _ = precision_recall_curve(ytest, y_test_pred)\n",
    "\n",
    "# AUC\n",
    "auprc_train = auc(recall_train, precision_train)\n",
    "auprc_test = auc(recall_test, precision_test)\n",
    "\n",
    "print(f\"AUPRC on Training set: {auprc_train}\")\n",
    "print(f\"AUPRC on Testing set: {auprc_test}\\n\")\n",
    "\n",
    "# Calculate F1 Score\n",
    "f1_train = f1_score(ytrain, y_train_pred)\n",
    "f1_test = f1_score(ytest, y_test_pred)\n",
    "\n",
    "print(f\"F1 Score on Training set: {f1_train}\")\n",
    "print(f\"F1 Score on Testing set: {f1_test} \\n\")\n",
    "\n",
    "# Calculate accuracy, precision and recall for training set\n",
    "accuracy_train = accuracy_score(ytrain, y_train_pred)\n",
    "precision_train = precision_score(ytrain, y_train_pred, average='macro')\n",
    "recall_train = recall_score(ytrain, y_train_pred, average='macro')\n",
    "\n",
    "# Calculate accuracy, precision and recall for test set\n",
    "accuracy_test = accuracy_score(ytest, y_test_pred)\n",
    "precision_test = precision_score(ytest, y_test_pred, average='macro')\n",
    "recall_test = recall_score(ytest, y_test_pred, average='macro')\n",
    "\n",
    "print(f\"\\nAccuracy on Training set: {accuracy_train}\")\n",
    "print(f\"Accuracy on Testing set: {accuracy_test}\\n\")\n",
    "\n",
    "print(f\"Recall on Training set: {recall_train}\")\n",
    "print(f\"Recall on Testing set: {recall_test}\\n\")\n",
    "\n",
    "print(f\"Precision on Training set: {precision_train}\")\n",
    "print(f\"Precision on Testing set: {precision_test}\\n\")\n",
    "\n",
    "# Calculate confusion matrix for training set and test set\n",
    "cm_train = confusion_matrix(ytrain, y_train_pred)\n",
    "cm_test = confusion_matrix(ytest, y_test_pred)\n",
    "\n",
    "print(f\"Confusion Matrix on Training set: \\n{cm_train}\")\n",
    "print(f\"Confusion Matrix on Testing set: \\n{cm_test}\")"
   ],
   "metadata": {
    "collapsed": false,
    "ExecuteTime": {
     "end_time": "2024-02-11T18:48:26.854822Z",
     "start_time": "2024-02-11T18:47:39.258766Z"
    }
   },
   "execution_count": 20
  },
  {
   "cell_type": "code",
   "execution_count": null,
   "outputs": [],
   "source": [
    "# Data importing\n",
    "dataFrame = pd.read_csv('./tracks.csv')\n",
    "dataFrame['popularity_flag'] = 0\n",
    "dataFrame.loc[dataFrame['popularity'] >Cutoff, 'popularity_flag'] = 1\n",
    "\n",
    "# Drop the columns\n",
    "dataFrame = dataFrame.drop(columns=['id', 'name', 'artists', 'id_artists', 'release_date'])\n",
    "\n",
    "# Split into features and target\n",
    "X = dataFrame.drop(columns=['popularity_flag'])\n",
    "y = dataFrame['popularity_flag']"
   ],
   "metadata": {
    "collapsed": false
   }
  },
  {
   "cell_type": "code",
   "outputs": [],
   "source": [
    "from collections import Counter\n",
    "from torch.utils.data import WeightedRandomSampler\n",
    "# Handle missing values - filling with 0 as an example\n",
    "X_filled = X.fillna(0)\n",
    "\n",
    "# makes sure its all one type\n",
    "X_filled = X_filled.astype('float32')\n",
    "\n",
    "# Now convert to PyTorch tensors\n",
    "X_tensor = torch.tensor(X_filled.values, dtype=torch.float32)\n",
    "y_tensor = torch.tensor(y.values, dtype=torch.float32).unsqueeze(1)  # Assuming y is already numeric and has no missing values\n",
    "\n",
    "dataset = TensorDataset(X_tensor, y_tensor)\n",
    "train_size = int(0.8 * len(dataset))\n",
    "test_size = len(dataset) - train_size\n",
    "train_dataset, test_dataset = random_split(dataset, [train_size, test_size])\n",
    "\n",
    "# Assuming you have already split train_dataset and test_dataset\n",
    "target = train_dataset.dataset.tensors[1][train_dataset.indices]  # Obtain targets of your training dataset\n",
    "\n",
    "class_count = Counter(target.flatten().tolist())\n",
    "class_weights = {k: 1.0 / v for k, v in class_count.items()}  # Calculate weight per class. \n",
    "\n",
    "# Calculate the weight for each sample. This will provide a weight for each instance in the dataset. If an instance belongs to a majority class, its weight will be small, and vice versa.\n",
    "sample_weights = np.vectorize(class_weights.get)(target).ravel()\n",
    "\n",
    "# Create sampler and DataLoader\n",
    "sampler = WeightedRandomSampler(sample_weights, num_samples=len(sample_weights), replacement=True)\n",
    "\n",
    "train_loader = DataLoader(train_dataset, batch_size=200, sampler=sampler, pin_memory=True)\n",
    "test_loader = DataLoader(test_dataset, batch_size=200, pin_memory=True)"
   ],
   "metadata": {
    "collapsed": false
   },
   "execution_count": null
  },
  {
   "cell_type": "code",
   "outputs": [],
   "source": [
    "# Define the device\n",
    "device = torch.device(\"cuda\" if torch.cuda.is_available() else \"cpu\")\n",
    "print(f\"Using device: {device}\")"
   ],
   "metadata": {
    "collapsed": false
   },
   "execution_count": null
  },
  {
   "cell_type": "code",
   "outputs": [],
   "source": [
    "# Model definition\n",
    "class NeuralNetwork(nn.Module):\n",
    "    def __init__(self, input_shape):\n",
    "        super(NeuralNetwork, self).__init__()\n",
    "        self.linear_relu_stack = nn.Sequential(\n",
    "            nn.Linear(input_shape, 8),\n",
    "            nn.ReLU(),\n",
    "            nn.Linear(8, 64),\n",
    "            nn.ReLU(),\n",
    "            nn.Linear(64, 64),\n",
    "            nn.ELU(),\n",
    "            nn.Linear(64, 16),\n",
    "            nn.ELU(),\n",
    "            nn.Linear(16, 1),\n",
    "            nn.Sigmoid(),\n",
    "        )\n",
    "\n",
    "    def forward(self, x):\n",
    "        logits = self.linear_relu_stack(x)\n",
    "        return logits"
   ],
   "metadata": {
    "collapsed": false
   },
   "execution_count": null
  },
  {
   "cell_type": "code",
   "outputs": [],
   "source": [
    "# Loss Functions\n",
    "def calculate_f1(model, dataloader, device):\n",
    "    model.eval()  # Set model to evaluation mode\n",
    "    true_y, pred_y = [], []\n",
    "    with torch.no_grad():\n",
    "        for X, y in dataloader:\n",
    "            X, y = X.to(device), y.to(device)\n",
    "            logits = model(X)\n",
    "            preds = torch.round(torch.sigmoid(logits))\n",
    "            true_y.extend(y.view(-1).tolist())\n",
    "            pred_y.extend(preds.view(-1).tolist())\n",
    "    f1 = f1_score(true_y, pred_y)\n",
    "    return f1\n",
    "\n",
    "# Move the model to the specified device (GPU or CPU)\n",
    "model = NeuralNetwork(X_tensor.shape[1]).to(device)\n",
    "\n",
    "# Optimizer\n",
    "optimizer = optim.Adam(model.parameters())\n",
    "\n",
    "\n",
    "# Training loop\n",
    "def train_loop(dataloader, model, loss_fn, optimizer):\n",
    "    size = len(dataloader.dataset)\n",
    "    model.train()  # Set the model to training mode\n",
    "    for batch, (X, y) in enumerate(dataloader):\n",
    "        X, y = X.to(device), y.to(device)\n",
    "        # Compute prediction and loss\n",
    "        pred = model(X)\n",
    "        loss = loss_fn(pred, y)\n",
    "\n",
    "        # Backpropagation\n",
    "        optimizer.zero_grad()\n",
    "        loss.backward()\n",
    "        optimizer.step()\n",
    "\n",
    "        if batch % 100 == 0:\n",
    "            loss, current = loss.item(), batch * len(X)\n",
    "\n",
    "\n",
    "\n",
    "\n",
    "# Initialize the model and optimizer\n",
    "input_shape = X_tensor.shape[1]\n",
    "model = NeuralNetwork(input_shape).to(device)\n",
    "optimizer = torch.optim.Adam(model.parameters())\n",
    "\n",
    "\n",
    "class_weights = torch.linspace(.25, 5, 1000).to(device)  # PyTorch tensor for class weights\n",
    "# class_weights = torch.tensor([4, 6,8,10]).to(device)  # Example class weights\n",
    "\n",
    "# Variables to save the best model\n",
    "best_f1 = 0\n",
    "best_model = None\n",
    "best_pos_weight = None\n",
    "\n",
    "for weight in tqdm(class_weights):\n",
    "    pos_weight = torch.tensor([weight]).to(device)\n",
    "    loss_fn = nn.BCEWithLogitsLoss(pos_weight=pos_weight)\n",
    "\n",
    "    # Initialize model and optimizer for each run\n",
    "    model = NeuralNetwork(input_shape).to(device)\n",
    "    optimizer = torch.optim.Adam(model.parameters())\n",
    "\n",
    "    # Train the model\n",
    "    train_loop(train_loader, model, loss_fn, optimizer)\n",
    "\n",
    "    # Evaluate F1 Score on the validation set\n",
    "    f1 = calculate_f1(model, test_loader, device)\n",
    "\n",
    "    if f1 > best_f1:\n",
    "        best_f1 = f1\n",
    "        best_pos_weight = weight\n",
    "        # This is the key part - we save the model that has the highest F1 score\n",
    "        best_model = model\n",
    "\n",
    "print(\"Best class weight (pos_weight): \", best_pos_weight.item())\n",
    "print(\"Best F1 score: \", best_f1)"
   ],
   "metadata": {
    "collapsed": false
   },
   "execution_count": null
  },
  {
   "cell_type": "code",
   "outputs": [],
   "source": [
    "# Put the best model in evaluation mode\n",
    "best_model.eval()\n",
    "\n",
    "# Lists for storing predicted and actual labels\n",
    "pred_labels, true_labels = [], []\n",
    "\n",
    "# Get the true and predicted labels\n",
    "with torch.no_grad():\n",
    "    for X_batch, y_batch in test_loader:\n",
    "        X_batch, y_batch = X_batch.to(device), y_batch.to(device)\n",
    "\n",
    "        # Make predictions \n",
    "        y_pred_probs = best_model(X_batch)\n",
    "\n",
    "        # Apply a threshold\n",
    "        y_pred = (y_pred_probs > Cutoffp).type(torch.IntTensor)\n",
    "\n",
    "        # Store the true and predicted labels\n",
    "        pred_labels.extend(y_pred.reshape(-1).tolist())\n",
    "        true_labels.extend(y_batch.reshape(-1).tolist())\n",
    "\n",
    "# Convert the lists into NumPy arrays\n",
    "true_labels_np = np.array(true_labels)\n",
    "pred_labels_np = np.array(pred_labels)\n",
    "\n",
    "# Calculate Precision-Recall curve\n",
    "precision, recall, _ = precision_recall_curve(true_labels_np, pred_labels_np)\n",
    "\n",
    "# Calculate accuracy, precision and recall\n",
    "accuracy = accuracy_score(true_labels_np, pred_labels_np)\n",
    "precision = precision_score(true_labels_np, pred_labels_np, average='macro')\n",
    "recall = recall_score(true_labels_np, pred_labels_np, average='macro')\n",
    "\n",
    "print(\"\\nAccuracy: {:.2f}\".format(accuracy))\n",
    "print(\"Recall: {:.2f}\".format(recall))\n",
    "print(\"Precision: {:.2f}\\n\".format(precision))\n",
    "\n",
    "# Calculate confusion matrix\n",
    "cm = confusion_matrix(true_labels_np, pred_labels_np)\n",
    "\n",
    "print(\"Confusion Matrix: \\n\", cm)\n",
    "\n",
    "# Calculate Precision-Recall curve\n",
    "precision_curve, recall_curve, _ = precision_recall_curve(true_labels_np, pred_labels_np)\n",
    "\n",
    "# Calculate AUC\n",
    "auprc = auc(recall_curve, precision_curve)\n",
    "\n",
    "print(\"\\nAUPRC: {:.2f}\".format(auprc))\n",
    "\n",
    "# Calculate F1 Score\n",
    "f1 = f1_score(true_labels_np, pred_labels_np)\n",
    "\n",
    "print(\"F1 Score: {:.2f}\\n\".format(f1))"
   ],
   "metadata": {
    "collapsed": false
   },
   "execution_count": null
  },
  {
   "cell_type": "markdown",
   "source": [
    "All code below is from tensorflow, however, as I couldn't gpu accelerate it I am switching to pytorch since that will allow me to use the GPU"
   ],
   "metadata": {
    "collapsed": false
   }
  },
  {
   "cell_type": "code",
   "outputs": [],
   "source": [
    "\n",
    "# Convert to tensor\n",
    "X_tensor = tf.convert_to_tensor(X.values, dtype=tf.float32)\n",
    "y_tensor = tf.convert_to_tensor(y.values, dtype=tf.float32)\n",
    "\n",
    "# Calculate the index at which to split the dataset\n",
    "train_size = int(0.8 * len(X))\n",
    "\n",
    "# Manually slice the tensors for train/test sets\n",
    "x_train = X_tensor[:train_size]\n",
    "y_train = y_tensor[:train_size]\n",
    "x_test = X_tensor[train_size:]\n",
    "y_test = y_tensor[train_size:]\n"
   ],
   "metadata": {
    "collapsed": false
   },
   "execution_count": null
  },
  {
   "cell_type": "code",
   "execution_count": null,
   "outputs": [],
   "source": [
    "@keras.saving.register_keras_serializable()\n",
    "def mse_loss(y_true, y_pred):\n",
    "    return tf.reduce_mean(tf.square(y_pred - y_true))\n",
    "\n",
    "@keras.saving.register_keras_serializable()\n",
    "def rmse(y_true, y_pred):\n",
    "    return tf.sqrt(mse_loss(y_true,y_pred))\n",
    "\n",
    "@keras.saving.register_keras_serializable()\n",
    "def r_squared(y_true, y_pred,):\n",
    "    residual = tf.reduce_sum(tf.square(tf.subtract(y_true, y_pred)))\n",
    "    total = tf.reduce_sum(tf.square(tf.subtract(y_true, tf.reduce_mean(y_true))))\n",
    "    r2 = tf.subtract(1.0, tf.divide(residual, total))\n",
    "    return r2\n",
    "\n",
    "@keras.saving.register_keras_serializable()\n",
    "def r_squared_loss(y_true, y_pred):\n",
    "    residual = tf.reduce_sum(tf.square(tf.subtract(y_true, y_pred)))\n",
    "    total = tf.reduce_sum(tf.square(tf.subtract(y_true, tf.reduce_mean(y_true))))\n",
    "    r2 = tf.subtract(1.0, tf.divide(residual, total))\n",
    "    return 1 - r2  # or you can return -r2 to minimize the negative value\n",
    "\n",
    "\n",
    "\n",
    "def plot_results(history):\n",
    "    epoch_num = np.arange(1, len(history.history['loss'])+1)\n",
    "\n",
    "    plt.figure(figsize=(15, 5))\n",
    "\n",
    "    plt.subplot(1, 2, 1)\n",
    "    plt.plot(epoch_num, history.history['loss'], label='training_loss')\n",
    "    plt.plot(epoch_num, history.history['val_loss'], label='test_loss')\n",
    "    plt.legend()\n",
    "    plt.xlabel('Epoch')\n",
    "    plt.ylabel('Loss')\n",
    "    plt.grid(True)\n",
    "\n",
    "    plt.subplot(1, 2, 2)\n",
    "    plt.plot(epoch_num, history.history['accuracy'], label='training_accuracy')\n",
    "    plt.plot(epoch_num, history.history['val_accuracy'], label='test_accuracy')\n",
    "    plt.legend()\n",
    "    plt.xlabel('Epoch')\n",
    "    plt.ylabel('Accuracy')\n",
    "    plt.grid(True)"
   ],
   "metadata": {
    "collapsed": false
   }
  },
  {
   "cell_type": "code",
   "execution_count": null,
   "outputs": [],
   "source": [
    "input_shape = (x_train_tensor.shape[1],)\n",
    "\n",
    "# Build model function\n",
    "def build_model(input_shape):\n",
    "    model = tf.keras.Sequential([\n",
    "        tf.keras.layers.Dense(8, activation='relu', input_shape=input_shape),\n",
    "        tf.keras.layers.Dense(8, activation='relu'),\n",
    "        tf.keras.layers.Dense(4, activation='elu'),\n",
    "        tf.keras.layers.Dense(4, activation='elu'),\n",
    "        tf.keras.layers.Dense(1, activation='sigmoid')\n",
    "    ])\n",
    "    return model"
   ],
   "metadata": {
    "collapsed": false
   }
  },
  {
   "cell_type": "code",
   "outputs": [],
   "source": [
    "\n",
    "# Define a set of class weights to evaluate\n",
    "class_weights_grid = [{0:1.0, 1:weight} for weight in np.linspace(1, 10, 10)]  # Drop the 100 down to 10 if you are running this on a weaker computer.\n",
    "\n",
    "# Initial placeholders for the best weights and highest f1 score\n",
    "best_class_weights = None\n",
    "highest_f1 = 0\n",
    "\n",
    "for class_weights in tqdm(class_weights_grid):\n",
    "\n",
    "    #Build and compile model as before\n",
    "    model = build_model(input_shape)\n",
    "    model.compile(optimizer='adam',\n",
    "                  loss=tf.keras.losses.BinaryCrossentropy(),\n",
    "                  metrics=[metrics.BinaryAccuracy(name='accuracy'),\n",
    "                           metrics.Precision(name='precision'),\n",
    "                           metrics.Recall(name='recall'),\n",
    "                           metrics.AUC(name='auc')])\n",
    "\n",
    "    # Train model with current class weight\n",
    "    model.fit(x_train,\n",
    "              y_train,\n",
    "              epochs=20,\n",
    "              validation_split=0.1,\n",
    "              batch_size=200,\n",
    "              class_weight=class_weights,\n",
    "              verbose=0) # Turn off output \n",
    "\n",
    "    # Evaluate F1 Score\n",
    "    y_train_scores = model.predict(x_train).flatten()\n",
    "    y_train_pred = (y_train_scores > Cutoffp).astype(int)\n",
    "    f1 = f1_score(y_train, y_train_pred)\n",
    "\n",
    "    if f1 > highest_f1:\n",
    "        best_class_weights = class_weights\n",
    "        highest_f1 = f1\n",
    "\n",
    "# Output the best class weights\n",
    "print(\"Best class weights: \", best_class_weights)\n",
    "print(\"Best F1 score: \", highest_f1)"
   ],
   "metadata": {
    "collapsed": false
   },
   "execution_count": null
  },
  {
   "cell_type": "markdown",
   "source": [
    "Now that I have found the best class weight I will use that to train the final model"
   ],
   "metadata": {
    "collapsed": false
   }
  },
  {
   "cell_type": "code",
   "outputs": [],
   "source": [
    "\n",
    "# Class weights for cost-sensitive training\n",
    "class_weights = {0: 1., 1: 9}  # You can fine-tune this based on your specific case\n",
    "early_stopping = EarlyStopping(monitor='accuracy', patience=50, restore_best_weights=True)\n",
    "\n",
    "with tf.device('/GPU:0'):\n",
    "    # Regular model training\n",
    "    model = build_model(input_shape)\n",
    "    model.compile(optimizer='adam', loss=tf.keras.losses.BinaryCrossentropy(), \n",
    "                  metrics=[metrics.BinaryAccuracy(name='accuracy'), \n",
    "                           metrics.Precision(name='precision'), \n",
    "                           metrics.Recall(name='recall'), \n",
    "                           metrics.AUC(name='auc')])\n",
    "    \n",
    "    model.fit(x_train, y_train, epochs=20,validation_split=0.1, batch_size=200, class_weight = class_weights)\n",
    "\n",
    "    # Get model's predictions (as class labels using threshold of 0.5)\n",
    "    y_train_scores = model.predict(x_train).flatten()\n",
    "    y_test_scores = model.predict(x_test).flatten()\n",
    "    y_train_pred = (y_train_scores > Cutoffp).astype(int)\n",
    "    y_test_pred = (y_test_scores > Cutoffp).astype(int)\n",
    "\n",
    "    print(f\"Summarizing model performance:\\n\")\n",
    "\n",
    "# AUC\n",
    "auprc_train = auc(recall_train, precision_train)\n",
    "auprc_test = auc(recall_test, precision_test)\n",
    "\n",
    "print(f\"AUPRC on Training set: {auprc_train}\")\n",
    "print(f\"AUPRC on Testing set: {auprc_test}\\n\")\n",
    "\n",
    "# Calculate F1 Score\n",
    "f1_train = f1_score(ytrain, y_train_pred)\n",
    "f1_test = f1_score(ytest, y_test_pred)\n",
    "\n",
    "print(f\"F1 Score on Training set: {f1_train}\")\n",
    "print(f\"F1 Score on Testing set: {f1_test} \\n\")\n",
    "\n",
    "# Calculate accuracy, precision and recall for training set\n",
    "accuracy_train = accuracy_score(ytrain, y_train_pred)\n",
    "precision_train = precision_score(ytrain, y_train_pred, average='macro')\n",
    "recall_train = recall_score(ytrain, y_train_pred, average='macro')\n",
    "\n",
    "# Calculate accuracy, precision and recall for test set\n",
    "accuracy_test = accuracy_score(ytest, y_test_pred)\n",
    "precision_test = precision_score(ytest, y_test_pred, average='macro')\n",
    "recall_test = recall_score(ytest, y_test_pred, average='macro')\n",
    "\n",
    "print(f\"\\nAccuracy on Training set: {accuracy_train}\")\n",
    "print(f\"Accuracy on Testing set: {accuracy_test}\\n\")\n",
    "\n",
    "print(f\"Recall on Training set: {recall_train}\")\n",
    "print(f\"Recall on Testing set: {recall_test}\\n\")\n",
    "\n",
    "print(f\"Precision on Training set: {precision_train}\")\n",
    "print(f\"Precision on Testing set: {precision_test}\\n\")\n",
    "\n",
    "# Calculate confusion matrix for training set and test set\n",
    "cm_train = confusion_matrix(ytrain, y_train_pred)\n",
    "cm_test = confusion_matrix(ytest, y_test_pred)\n",
    "\n",
    "print(f\"Confusion Matrix on Training set: \\n{cm_train}\")\n",
    "print(f\"Confusion Matrix on Testing set: \\n{cm_test}\")"
   ],
   "metadata": {
    "collapsed": false,
    "pycharm": {
     "is_executing": true
    }
   },
   "execution_count": null
  },
  {
   "cell_type": "code",
   "execution_count": null,
   "outputs": [],
   "source": [
    "#Data importing\n",
    "dataFrame = pd.read_csv('./tracks.csv')\n",
    "dataFrame['popularity_flag'] = 0\n",
    "dataFrame.loc[dataFrame['popularity'] > Cutoff, 'popularity_flag'] = 1\n",
    "\n",
    "# Drop the columns\n",
    "dataFrame = dataFrame.drop(columns=['id', 'name', 'artists', 'id_artists', 'release_date'])\n",
    "\n",
    "# Split into features and target\n",
    "X = dataFrame.drop(columns=['popularity_flag'])\n",
    "y = dataFrame['popularity_flag']\n",
    "\n",
    "X_train, X_test, y_train, y_test = train_test_split(X, y, test_size=0.2, random_state=42)\n",
    "\n",
    "dt = DecisionTreeClassifier()\n",
    "dt.fit(X_train, y_train)\n",
    "\n",
    "# Print the confusion matrix using Matplotlib\n",
    "y_train_scores_dt = dt.predict_proba(X_train)[:, 1]\n",
    "y_test_scores_dt = dt.predict_proba(X_test)[:, 1]\n",
    "# Precision-Recall curve\n",
    "precision_train, recall_train, _ = precision_recall_curve(y_train, y_train_scores_dt)\n",
    "precision_test, recall_test, _ = precision_recall_curve(y_test, y_test_scores_dt)\n",
    "\n",
    "# AUC\n",
    "auprc_train = auc(recall_train, precision_train)\n",
    "auprc_test = auc(recall_test, precision_test)\n",
    "\n",
    "print(f\"AUPRC on Training set: {auprc_train}\")\n",
    "print(f\"AUPRC on Testing set: {auprc_test}\\n\")\n",
    "\n",
    "# Calculate F1 Score\n",
    "f1_train = f1_score(ytrain, y_train_pred)\n",
    "f1_test = f1_score(ytest, y_test_pred)\n",
    "\n",
    "print(f\"F1 Score on Training set: {f1_train}\")\n",
    "print(f\"F1 Score on Testing set: {f1_test} \\n\")\n",
    "\n",
    "# Calculate accuracy, precision and recall for training set\n",
    "accuracy_train = accuracy_score(ytrain, y_train_pred)\n",
    "precision_train = precision_score(ytrain, y_train_pred, average='macro')\n",
    "recall_train = recall_score(ytrain, y_train_pred, average='macro')\n",
    "\n",
    "# Calculate accuracy, precision and recall for test set\n",
    "accuracy_test = accuracy_score(ytest, y_test_pred)\n",
    "precision_test = precision_score(ytest, y_test_pred, average='macro')\n",
    "recall_test = recall_score(ytest, y_test_pred, average='macro')\n",
    "\n",
    "print(f\"\\nAccuracy on Training set: {accuracy_train}\")\n",
    "print(f\"Accuracy on Testing set: {accuracy_test}\\n\")\n",
    "\n",
    "print(f\"Recall on Training set: {recall_train}\")\n",
    "print(f\"Recall on Testing set: {recall_test}\\n\")\n",
    "\n",
    "print(f\"Precision on Training set: {precision_train}\")\n",
    "print(f\"Precision on Testing set: {precision_test}\\n\")\n",
    "\n",
    "# Calculate confusion matrix for training set and test set\n",
    "cm_train = confusion_matrix(ytrain, y_train_pred)\n",
    "cm_test = confusion_matrix(ytest, y_test_pred)\n",
    "\n",
    "print(f\"Confusion Matrix on Training set: \\n{cm_train}\")\n",
    "print(f\"Confusion Matrix on Testing set: \\n{cm_test}\")"
   ],
   "metadata": {
    "collapsed": false
   }
  },
  {
   "cell_type": "markdown",
   "source": [],
   "metadata": {
    "collapsed": false
   }
  },
  {
   "cell_type": "code",
   "execution_count": null,
   "outputs": [],
   "source": [
    "\n",
    "#Create a Gaussian Classifier\n",
    "rf=RandomForestClassifier(n_estimators=1000, n_jobs=-1)\n",
    "\n",
    "#Train the model using the training sets y_pred=clf.predict(X_test)\n",
    "rf.fit(X_train, y_train.values.ravel())\n",
    "y_train_predrf = rf.predict(X_train)\n",
    "y_test_predrf = rf.predict(X_test)\n",
    "\n",
    "conf_matrix_rf = confusion_matrix(y_true=y_test, y_pred=y_test_predrf)\n",
    "\n",
    "\n",
    "y_train_scores_dt = rf.predict_proba(X_train)[:, 1]\n",
    "y_test_scores_dt = rf.predict_proba(X_test)[:, 1]\n",
    "# Precision-Recall curve\n",
    "precision_train, recall_train, _ = precision_recall_curve(y_train, y_train_scores_dt)\n",
    "precision_test, recall_test, _ = precision_recall_curve(y_test, y_test_scores_dt)\n",
    "\n",
    "# AUC\n",
    "auprc_train = auc(recall_train, precision_train)\n",
    "auprc_test = auc(recall_test, precision_test)\n",
    "\n",
    "print(f\"AUPRC on Training set: {auprc_train}\")\n",
    "print(f\"AUPRC on Testing set: {auprc_test}\\n\")\n",
    "\n",
    "# Calculate F1 Score\n",
    "f1_train = f1_score(ytrain, y_train_pred)\n",
    "f1_test = f1_score(ytest, y_test_pred)\n",
    "\n",
    "print(f\"F1 Score on Training set: {f1_train}\")\n",
    "print(f\"F1 Score on Testing set: {f1_test} \\n\")\n",
    "\n",
    "# Calculate accuracy, precision and recall for training set\n",
    "accuracy_train = accuracy_score(ytrain, y_train_pred)\n",
    "precision_train = precision_score(ytrain, y_train_pred, average='macro')\n",
    "recall_train = recall_score(ytrain, y_train_pred, average='macro')\n",
    "\n",
    "# Calculate accuracy, precision and recall for test set\n",
    "accuracy_test = accuracy_score(ytest, y_test_pred)\n",
    "precision_test = precision_score(ytest, y_test_pred, average='macro')\n",
    "recall_test = recall_score(ytest, y_test_pred, average='macro')\n",
    "\n",
    "print(f\"\\nAccuracy on Training set: {accuracy_train}\")\n",
    "print(f\"Accuracy on Testing set: {accuracy_test}\\n\")\n",
    "\n",
    "print(f\"Recall on Training set: {recall_train}\")\n",
    "print(f\"Recall on Testing set: {recall_test}\\n\")\n",
    "\n",
    "print(f\"Precision on Training set: {precision_train}\")\n",
    "print(f\"Precision on Testing set: {precision_test}\\n\")\n",
    "\n",
    "# Calculate confusion matrix for training set and test set\n",
    "cm_train = confusion_matrix(ytrain, y_train_pred)\n",
    "cm_test = confusion_matrix(ytest, y_test_pred)\n",
    "\n",
    "print(f\"Confusion Matrix on Training set: \\n{cm_train}\")\n",
    "print(f\"Confusion Matrix on Testing set: \\n{cm_test}\")"
   ],
   "metadata": {
    "collapsed": false
   }
  },
  {
   "cell_type": "code",
   "execution_count": null,
   "outputs": [],
   "source": [
    "def custom_auc(y_true, y_pred):\n",
    "    # check if y_pred is 1-dimensional\n",
    "    if len(y_pred.shape) == 1:\n",
    "        precision, recall, _ = precision_recall_curve(y_true, y_pred)\n",
    "    else:\n",
    "        precision, recall, _ = precision_recall_curve(y_true, y_pred[:, 1])\n",
    "    return auc(recall, precision)\n",
    "\n",
    "# Create the parameter grid based on the results of random search\n",
    "param_grid = {\n",
    "    'max_depth': [20,  80, 100],\n",
    "    'max_features': ['sqrt'],\n",
    "    'n_estimators': [100, 500, 1000]\n",
    "}\n",
    "# Create a based model\n",
    "rf_0 = RandomForestClassifier(n_jobs=-1)\n",
    "# Instantiate the grid search model\n",
    "grid_search = GridSearchCV(estimator=rf_0, param_grid=param_grid, scoring=make_scorer(custom_auc, needs_proba=True))\n",
    "grid_search.fit(X_train, y_train.values.ravel())\n",
    "print ('Best Parameters: ', grid_search.best_params_, ' \\n')\n",
    "\n",
    "#Create a Gaussian Classifier\n",
    "rf2=RandomForestClassifier(n_estimators=1000, max_depth = 100, max_features = 'sqrt', min_samples_leaf =1,min_samples_split =2, n_jobs=-1, random_state=42)\n",
    "\n",
    "#Train the model using the training sets y_pred=clf.predict(X_test)\n",
    "rf2.fit(X_train, y_train.values.ravel())\n",
    "\n",
    "y_train_scores_dt = rf2.predict_proba(X_train)[:, 1]\n",
    "y_test_scores_dt = rf2.predict_proba(X_test)[:, 1]\n",
    "\n",
    "# Precision-Recall curve\n",
    "precision_train, recall_train, _ = precision_recall_curve(y_train, y_train_scores_dt)\n",
    "precision_test, recall_test, _ = precision_recall_curve(y_test, y_test_scores_dt)\n",
    "\n",
    "# AUC\n",
    "auprc_train = auc(recall_train, precision_train)\n",
    "auprc_test = auc(recall_test, precision_test)\n",
    "\n",
    "print(f\"AUPRC on Training set: {auprc_train}\")\n",
    "print(f\"AUPRC on Testing set: {auprc_test}\\n\")\n",
    "\n",
    "# Calculate F1 Score\n",
    "f1_train = f1_score(ytrain, y_train_pred)\n",
    "f1_test = f1_score(ytest, y_test_pred)\n",
    "\n",
    "print(f\"F1 Score on Training set: {f1_train}\")\n",
    "print(f\"F1 Score on Testing set: {f1_test} \\n\")\n",
    "\n",
    "# Calculate accuracy, precision and recall for training set\n",
    "accuracy_train = accuracy_score(ytrain, y_train_pred)\n",
    "precision_train = precision_score(ytrain, y_train_pred, average='macro')\n",
    "recall_train = recall_score(ytrain, y_train_pred, average='macro')\n",
    "\n",
    "# Calculate accuracy, precision and recall for test set\n",
    "accuracy_test = accuracy_score(ytest, y_test_pred)\n",
    "precision_test = precision_score(ytest, y_test_pred, average='macro')\n",
    "recall_test = recall_score(ytest, y_test_pred, average='macro')\n",
    "\n",
    "print(f\"\\nAccuracy on Training set: {accuracy_train}\")\n",
    "print(f\"Accuracy on Testing set: {accuracy_test}\\n\")\n",
    "\n",
    "print(f\"Recall on Training set: {recall_train}\")\n",
    "print(f\"Recall on Testing set: {recall_test}\\n\")\n",
    "\n",
    "print(f\"Precision on Training set: {precision_train}\")\n",
    "print(f\"Precision on Testing set: {precision_test}\\n\")\n",
    "\n",
    "# Calculate confusion matrix for training set and test set\n",
    "cm_train = confusion_matrix(ytrain, y_train_pred)\n",
    "cm_test = confusion_matrix(ytest, y_test_pred)\n",
    "\n",
    "print(f\"Confusion Matrix on Training set: \\n{cm_train}\")\n",
    "print(f\"Confusion Matrix on Testing set: \\n{cm_test}\")"
   ],
   "metadata": {
    "collapsed": false
   }
  },
  {
   "cell_type": "markdown",
   "source": [],
   "metadata": {
    "collapsed": false
   }
  },
  {
   "cell_type": "markdown",
   "source": [
    "**This is now working on the trimmed dataset\n",
    "\n",
    "\n",
    "\n",
    "\n",
    "\n",
    "\n",
    "\n",
    "\n",
    "\n",
    "\n",
    "\n",
    "\n",
    "\n",
    "\n",
    "\n",
    "\n",
    "\n",
    "\n",
    "\n",
    "\n",
    "\n",
    "\n",
    "\n",
    "\n",
    "\n",
    "\n",
    "\n",
    "\n",
    "\n",
    "\n",
    "\n",
    "\n",
    "\n",
    "\n",
    "\n",
    "\n",
    "\n",
    "\n",
    "\n",
    "\n",
    "\n",
    "\n",
    "\n",
    "\n",
    "\n",
    "\n",
    "Big gap for ease of finding second code part"
   ],
   "metadata": {
    "collapsed": false
   }
  },
  {
   "cell_type": "code",
   "execution_count": 8,
   "outputs": [
    {
     "name": "stdout",
     "output_type": "stream",
     "text": [
      "                     duration_ms  explicit  danceability    energy       key  \\\n",
      "duration_ms             1.000000 -0.065263     -0.073426  0.058523  0.008114   \n",
      "explicit               -0.065263  1.000000      0.122507  0.096955  0.004484   \n",
      "danceability           -0.073426  0.122507      1.000000  0.134325  0.036469   \n",
      "energy                  0.058523  0.096955      0.134325  1.000000  0.048006   \n",
      "key                     0.008114  0.004484      0.036469  0.048006  1.000000   \n",
      "loudness               -0.003470  0.108588      0.259077  0.761690  0.038590   \n",
      "mode                   -0.035556 -0.037212     -0.069219 -0.078362 -0.135916   \n",
      "speechiness            -0.062600  0.307952      0.108626  0.142509  0.020418   \n",
      "acousticness           -0.103788 -0.094403     -0.171533 -0.733906 -0.040937   \n",
      "instrumentalness        0.124371 -0.103404     -0.185606 -0.181879 -0.006823   \n",
      "liveness                0.010321  0.032549     -0.131617  0.184796 -0.001600   \n",
      "valence                -0.154479 -0.003381      0.477341  0.258934  0.034103   \n",
      "tempo                   0.024346 -0.002816     -0.050450  0.247851  0.010917   \n",
      "time_signature          0.018225  0.038386      0.207218  0.187126  0.015065   \n",
      "popularity_flag        -0.008291  0.030837      0.060322 -0.034301 -0.000275   \n",
      "track_genre_encoded    -0.032826 -0.054828      0.003569 -0.056175 -0.005508   \n",
      "\n",
      "                     loudness      mode  speechiness  acousticness  \\\n",
      "duration_ms         -0.003470 -0.035556    -0.062600     -0.103788   \n",
      "explicit             0.108588 -0.037212     0.307952     -0.094403   \n",
      "danceability         0.259077 -0.069219     0.108626     -0.171533   \n",
      "energy               0.761690 -0.078362     0.142509     -0.733906   \n",
      "key                  0.038590 -0.135916     0.020418     -0.040937   \n",
      "loudness             1.000000 -0.041764     0.060826     -0.589803   \n",
      "mode                -0.041764  1.000000    -0.046532      0.095553   \n",
      "speechiness          0.060826 -0.046532     1.000000     -0.002186   \n",
      "acousticness        -0.589803  0.095553    -0.002186      1.000000   \n",
      "instrumentalness    -0.433477 -0.049955    -0.089616      0.104027   \n",
      "liveness             0.076899  0.014012     0.205219     -0.020700   \n",
      "valence              0.279848  0.021953     0.036635     -0.107070   \n",
      "tempo                0.212446  0.000566     0.017273     -0.208224   \n",
      "time_signature       0.191992 -0.024092    -0.000011     -0.176138   \n",
      "popularity_flag      0.042545 -0.016407    -0.075285     -0.006269   \n",
      "track_genre_encoded -0.027233  0.005242    -0.085145      0.077217   \n",
      "\n",
      "                     instrumentalness  liveness   valence     tempo  \\\n",
      "duration_ms                  0.124371  0.010321 -0.154479  0.024346   \n",
      "explicit                    -0.103404  0.032549 -0.003381 -0.002816   \n",
      "danceability                -0.185606 -0.131617  0.477341 -0.050450   \n",
      "energy                      -0.181879  0.184796  0.258934  0.247851   \n",
      "key                         -0.006823 -0.001600  0.034103  0.010917   \n",
      "loudness                    -0.433477  0.076899  0.279848  0.212446   \n",
      "mode                        -0.049955  0.014012  0.021953  0.000566   \n",
      "speechiness                 -0.089616  0.205219  0.036635  0.017273   \n",
      "acousticness                 0.104027 -0.020700 -0.107070 -0.208224   \n",
      "instrumentalness             1.000000 -0.079893 -0.324312 -0.050330   \n",
      "liveness                    -0.079893  1.000000  0.019086  0.000600   \n",
      "valence                     -0.324312  0.019086  1.000000  0.078273   \n",
      "tempo                       -0.050330  0.000600  0.078273  1.000000   \n",
      "time_signature              -0.082580 -0.023651  0.133686  0.066641   \n",
      "popularity_flag             -0.086002 -0.030030 -0.056962  0.006135   \n",
      "track_genre_encoded         -0.070664  0.033565  0.053307 -0.025926   \n",
      "\n",
      "                     time_signature  popularity_flag  track_genre_encoded  \n",
      "duration_ms                0.018225        -0.008291            -0.032826  \n",
      "explicit                   0.038386         0.030837            -0.054828  \n",
      "danceability               0.207218         0.060322             0.003569  \n",
      "energy                     0.187126        -0.034301            -0.056175  \n",
      "key                        0.015065        -0.000275            -0.005508  \n",
      "loudness                   0.191992         0.042545            -0.027233  \n",
      "mode                      -0.024092        -0.016407             0.005242  \n",
      "speechiness               -0.000011        -0.075285            -0.085145  \n",
      "acousticness              -0.176138        -0.006269             0.077217  \n",
      "instrumentalness          -0.082580        -0.086002            -0.070664  \n",
      "liveness                  -0.023651        -0.030030             0.033565  \n",
      "valence                    0.133686        -0.056962             0.053307  \n",
      "tempo                      0.066641         0.006135            -0.025926  \n",
      "time_signature             1.000000         0.032084            -0.021005  \n",
      "popularity_flag            0.032084         1.000000             0.006765  \n",
      "track_genre_encoded       -0.021005         0.006765             1.000000  \n"
     ]
    },
    {
     "data": {
      "text/plain": "<Axes: >"
     },
     "execution_count": 8,
     "metadata": {},
     "output_type": "execute_result"
    },
    {
     "data": {
      "text/plain": "<Figure size 1100x900 with 2 Axes>",
      "image/png": "[encoded data removed]"
     },
     "metadata": {},
     "output_type": "display_data"
    }
   ],
   "source": [
    "#Data importing \n",
    "dataFrame = pd.read_csv('./dataset.csv')\n",
    "\n",
    "Cutoff = 40\n",
    "Cutoffp = Cutoff / 100\n",
    "dataFrame['popularity_flag'] = 0\n",
    "dataFrame.loc[dataFrame['popularity'] > Cutoff, 'popularity_flag'] = 1\n",
    "\n",
    "# Label encoding 'track_genre'\n",
    "le = LabelEncoder()\n",
    "dataFrame['track_genre_encoded'] = le.fit_transform(dataFrame['track_genre'])\n",
    "\n",
    "# Drop the columns\n",
    "dataFrame = dataFrame.drop(\n",
    "    columns=['Unnamed: 0', 'track_id', 'artists', 'album_name', 'track_name', 'track_genre', 'popularity'])\n",
    "# Calculate correlation matrix\n",
    "corr_matrix = dataFrame.corr()\n",
    "\n",
    "# Show correlation matrix\n",
    "print(corr_matrix)\n",
    "\n",
    "# Generate a mask for the upper triangle\n",
    "mask = np.triu(np.ones_like(corr_matrix, dtype=bool))\n",
    "\n",
    "# Set up the matplotlib figure\n",
    "f, ax = plt.subplots(figsize=(11, 9))\n",
    "\n",
    "# Generate a custom diverging colormap\n",
    "cmap = sns.diverging_palette(230, 20, as_cmap=True, )\n",
    "\n",
    "# Draw the heatmap with the mask and correct aspect ratio\n",
    "sns.heatmap(corr_matrix, mask=mask, cmap=cmap, vmax=.3, center=0,\n",
    "            square=True, linewidths=.5, cbar_kws={\"shrink\": .5})"
   ],
   "metadata": {
    "collapsed": false,
    "ExecuteTime": {
     "end_time": "2024-02-12T20:44:24.106005Z",
     "start_time": "2024-02-12T20:44:23.646929Z"
    }
   }
  },
  {
   "cell_type": "code",
   "outputs": [
    {
     "name": "stdout",
     "output_type": "stream",
     "text": [
      "The AUPRC baseline is: 0.41016447368421055\n"
     ]
    }
   ],
   "source": [
    "\n",
    "inputs = ['track_genre_encoded', 'danceability', 'energy', 'key', 'loudness', 'mode', 'speechiness', 'acousticness',\n",
    "          'instrumentalness', 'liveness', 'valence', 'tempo', 'time_signature', 'explicit']\n",
    "target = ['popularity_flag']\n",
    "xtrain, xtest, ytrain, ytest = train_test_split(dataFrame[inputs], dataFrame[target], test_size=0.2, random_state=42)\n",
    "# Assuming y_train is your training labels\n",
    "positive_class_proportion = np.mean(ytrain)\n",
    "\n",
    "print(f\"The AUPRC baseline is: {positive_class_proportion}\")"
   ],
   "metadata": {
    "collapsed": false,
    "ExecuteTime": {
     "end_time": "2024-02-12T20:44:24.865210Z",
     "start_time": "2024-02-12T20:44:24.838349Z"
    }
   },
   "execution_count": 9
  },
  {
   "cell_type": "code",
   "outputs": [
    {
     "name": "stdout",
     "output_type": "stream",
     "text": [
      "AUPRC on Training set: 0.8075556763975958\n",
      "AUPRC on Testing set: 0.6616554804522208\n",
      "\n",
      "F1 Score on Training set: 0.6922596053665027\n",
      "F1 Score on Testing set: 0.5191562068738911 \n",
      "\n",
      "\n",
      "Accuracy on Training set: 0.789484649122807\n",
      "Accuracy on Testing set: 0.679078947368421\n",
      "\n",
      "Recall on Training set: 0.7571633204042603\n",
      "Recall on Testing set: 0.6392283844986238\n",
      "\n",
      "Precision on Training set: 0.8128283176223854\n",
      "Precision on Testing set: 0.6741582923970775\n",
      "\n",
      "Confusion Matrix on Training set: \n",
      "[[50407  3386]\n",
      " [15813 21594]]\n",
      "Confusion Matrix on Testing set: \n",
      "[[11533  2000]\n",
      " [ 5317  3950]]\n"
     ]
    }
   ],
   "source": [
    "\n",
    "model = neighbors.KNeighborsRegressor(4)\n",
    "model.fit(xtrain, ytrain)\n",
    "ypred = model.predict(xtest)\n",
    "ypred = (ypred > Cutoffp).astype(int)  # Apply a threshold \n",
    "\n",
    "y_train_scores = model.predict(xtrain)\n",
    "y_test_scores = model.predict(xtest)\n",
    "\n",
    "#Apply same threshold to train predictions\n",
    "y_train_pred = (y_train_scores > 0.5).astype(int)\n",
    "y_test_pred = (y_test_scores > 0.5).astype(int)\n",
    "\n",
    "# Precision-Recall curve\n",
    "precision_train, recall_train, _ = precision_recall_curve(ytrain, y_train_pred)\n",
    "precision_test, recall_test, _ = precision_recall_curve(ytest, y_test_pred)\n",
    "\n",
    "# AUC\n",
    "auprc_train = auc(recall_train, precision_train)\n",
    "auprc_test = auc(recall_test, precision_test)\n",
    "\n",
    "print(f\"AUPRC on Training set: {auprc_train}\")\n",
    "print(f\"AUPRC on Testing set: {auprc_test}\\n\")\n",
    "\n",
    "# Calculate F1 Score\n",
    "f1_train = f1_score(ytrain, y_train_pred)\n",
    "f1_test = f1_score(ytest, y_test_pred)\n",
    "\n",
    "print(f\"F1 Score on Training set: {f1_train}\")\n",
    "print(f\"F1 Score on Testing set: {f1_test} \\n\")\n",
    "\n",
    "# Calculate accuracy, precision and recall for training set\n",
    "accuracy_train = accuracy_score(ytrain, y_train_pred)\n",
    "precision_train = precision_score(ytrain, y_train_pred, average='macro')\n",
    "recall_train = recall_score(ytrain, y_train_pred, average='macro')\n",
    "\n",
    "# Calculate accuracy, precision and recall for test set\n",
    "accuracy_test = accuracy_score(ytest, y_test_pred)\n",
    "precision_test = precision_score(ytest, y_test_pred, average='macro')\n",
    "recall_test = recall_score(ytest, y_test_pred, average='macro')\n",
    "\n",
    "print(f\"\\nAccuracy on Training set: {accuracy_train}\")\n",
    "print(f\"Accuracy on Testing set: {accuracy_test}\\n\")\n",
    "\n",
    "print(f\"Recall on Training set: {recall_train}\")\n",
    "print(f\"Recall on Testing set: {recall_test}\\n\")\n",
    "\n",
    "print(f\"Precision on Training set: {precision_train}\")\n",
    "print(f\"Precision on Testing set: {precision_test}\\n\")\n",
    "\n",
    "# Calculate confusion matrix for training set and test set\n",
    "cm_train = confusion_matrix(ytrain, y_train_pred)\n",
    "cm_test = confusion_matrix(ytest, y_test_pred)\n",
    "\n",
    "print(f\"Confusion Matrix on Training set: \\n{cm_train}\")\n",
    "print(f\"Confusion Matrix on Testing set: \\n{cm_test}\")"
   ],
   "metadata": {
    "collapsed": false,
    "ExecuteTime": {
     "end_time": "2024-02-12T20:44:26.585690Z",
     "start_time": "2024-02-12T20:44:25.559422Z"
    }
   },
   "execution_count": 10
  },
  {
   "cell_type": "code",
   "outputs": [
    {
     "name": "stdout",
     "output_type": "stream",
     "text": [
      "AUPRC on Training set: 0.8105526200668147\n",
      "AUPRC on Testing set: 0.6955225589231618\n",
      "\n",
      "F1 Score on Training set: 0.7741176470588236\n",
      "F1 Score on Testing set: 0.6277230605016738 \n",
      "\n",
      "\n",
      "Accuracy on Training set: 0.7936842105263158\n",
      "Accuracy on Testing set: 0.6634649122807017\n",
      "\n",
      "Recall on Training set: 0.8040775805088956\n",
      "Recall on Testing set: 0.6689189336273953\n",
      "\n",
      "Precision on Training set: 0.7942735926408389\n",
      "Precision on Testing set: 0.6630092889899221\n",
      "\n",
      "Confusion Matrix on Training set: \n",
      "[[40142 13651]\n",
      " [ 5165 32242]]\n",
      "Confusion Matrix on Testing set: \n",
      "[[8658 4875]\n",
      " [2798 6469]]\n"
     ]
    }
   ],
   "source": [
    "\n",
    "model = neighbors.KNeighborsClassifier(n_neighbors=4)\n",
    "model.fit(xtrain, ytrain.values.ravel())\n",
    "y_train_scores = model.predict_proba(xtrain)[:, 1]\n",
    "y_test_scores = model.predict_proba(xtest)[:, 1]\n",
    "\n",
    "#Apply same threshold to train predictions\n",
    "y_train_pred = (y_train_scores > Cutoffp).astype(int)\n",
    "y_test_pred = (y_test_scores > Cutoffp).astype(int)\n",
    "\n",
    "# Precision-Recall curve\n",
    "precision_train, recall_train, _ = precision_recall_curve(ytrain, y_train_pred)\n",
    "precision_test, recall_test, _ = precision_recall_curve(ytest, y_test_pred)\n",
    "\n",
    "# AUC\n",
    "auprc_train = auc(recall_train, precision_train)\n",
    "auprc_test = auc(recall_test, precision_test)\n",
    "\n",
    "print(f\"AUPRC on Training set: {auprc_train}\")\n",
    "print(f\"AUPRC on Testing set: {auprc_test}\\n\")\n",
    "\n",
    "# Calculate F1 Score\n",
    "f1_train = f1_score(ytrain, y_train_pred)\n",
    "f1_test = f1_score(ytest, y_test_pred)\n",
    "\n",
    "print(f\"F1 Score on Training set: {f1_train}\")\n",
    "print(f\"F1 Score on Testing set: {f1_test} \\n\")\n",
    "\n",
    "# Calculate accuracy, precision and recall for training set\n",
    "accuracy_train = accuracy_score(ytrain, y_train_pred)\n",
    "precision_train = precision_score(ytrain, y_train_pred, average='macro')\n",
    "recall_train = recall_score(ytrain, y_train_pred, average='macro')\n",
    "\n",
    "# Calculate accuracy, precision and recall for test set\n",
    "accuracy_test = accuracy_score(ytest, y_test_pred)\n",
    "precision_test = precision_score(ytest, y_test_pred, average='macro')\n",
    "recall_test = recall_score(ytest, y_test_pred, average='macro')\n",
    "\n",
    "print(f\"\\nAccuracy on Training set: {accuracy_train}\")\n",
    "print(f\"Accuracy on Testing set: {accuracy_test}\\n\")\n",
    "\n",
    "print(f\"Recall on Training set: {recall_train}\")\n",
    "print(f\"Recall on Testing set: {recall_test}\\n\")\n",
    "\n",
    "print(f\"Precision on Training set: {precision_train}\")\n",
    "print(f\"Precision on Testing set: {precision_test}\\n\")\n",
    "\n",
    "# Calculate confusion matrix for training set and test set\n",
    "cm_train = confusion_matrix(ytrain, y_train_pred)\n",
    "cm_test = confusion_matrix(ytest, y_test_pred)\n",
    "\n",
    "print(f\"Confusion Matrix on Training set: \\n{cm_train}\")\n",
    "print(f\"Confusion Matrix on Testing set: \\n{cm_test}\")"
   ],
   "metadata": {
    "collapsed": false,
    "ExecuteTime": {
     "end_time": "2024-02-12T20:44:27.539053Z",
     "start_time": "2024-02-12T20:44:26.588350Z"
    }
   },
   "execution_count": 11
  },
  {
   "cell_type": "code",
   "outputs": [
    {
     "name": "stderr",
     "output_type": "stream",
     "text": [
      "/Users/benfunk/DataspellProjects/RandomProjects/venv/lib/python3.11/site-packages/sklearn/utils/validation.py:1229: DataConversionWarning: A column-vector y was passed when a 1d array was expected. Please change the shape of y to (n_samples, ), for example using ravel().\n",
      "  y = column_or_1d(y, warn=True)\n"
     ]
    },
    {
     "data": {
      "text/plain": "(0.5939035087719299,\n '              precision    recall  f1-score   support\\n\\n Not Popular       0.59      1.00      0.74     13533\\n     Popular       0.58      0.00      0.01      9267\\n\\n    accuracy                           0.59     22800\\n   macro avg       0.59      0.50      0.38     22800\\nweighted avg       0.59      0.59      0.44     22800\\n')"
     },
     "execution_count": 12,
     "metadata": {},
     "output_type": "execute_result"
    }
   ],
   "source": [
    "from sklearn.metrics import classification_report\n",
    "from sklearn.svm import SVC\n",
    "from sklearn.preprocessing import StandardScaler\n",
    "\n",
    "# Feature Scaling\n",
    "sc = StandardScaler()\n",
    "X_train = sc.fit_transform(xtrain)\n",
    "X_test = sc.transform(xtest)\n",
    "\n",
    "# Training the SVM model on the Training set using a linear kernel\n",
    "svm_classifier = SVC(kernel = 'linear', random_state = 42)\n",
    "svm_classifier.fit(xtrain, ytrain)\n",
    "\n",
    "# Predicting the Test set results\n",
    "y_pred = svm_classifier.predict(xtest)\n",
    "\n",
    "# Evaluating the model\n",
    "accuracy = accuracy_score(ytest, y_pred)\n",
    "classification_report_results = classification_report(ytest, y_pred, target_names=['Not Popular', 'Popular'])\n",
    "\n",
    "accuracy, classification_report_results"
   ],
   "metadata": {
    "collapsed": false,
    "ExecuteTime": {
     "end_time": "2024-02-12T21:36:39.024775Z",
     "start_time": "2024-02-12T20:44:28.471794Z"
    }
   },
   "execution_count": 12
  },
  {
   "cell_type": "code",
   "outputs": [
    {
     "name": "stdout",
     "output_type": "stream",
     "text": [
      "              precision    recall  f1-score   support\n",
      "\n",
      " Not Popular       0.59      1.00      0.74     13533\n",
      "     Popular       0.58      0.00      0.01      9267\n",
      "\n",
      "    accuracy                           0.59     22800\n",
      "   macro avg       0.59      0.50      0.38     22800\n",
      "weighted avg       0.59      0.59      0.44     22800\n"
     ]
    }
   ],
   "source": [
    "print(classification_report_results)"
   ],
   "metadata": {
    "collapsed": false,
    "ExecuteTime": {
     "end_time": "2024-02-12T21:55:18.672633Z",
     "start_time": "2024-02-12T21:55:18.653945Z"
    }
   },
   "execution_count": 13
  },
  {
   "cell_type": "code",
   "outputs": [
    {
     "name": "stdout",
     "output_type": "stream",
     "text": [
      "AUPRC on Training set: 0.7050822368421052\n",
      "AUPRC on Testing set: 0.7032236842105263\n",
      "\n",
      "F1 Score on Training set: 0.0\n",
      "F1 Score on Testing set: 0.0 \n",
      "\n",
      "\n",
      "Accuracy on Training set: 0.5898355263157895\n",
      "Accuracy on Testing set: 0.5935526315789473\n",
      "\n",
      "Recall on Training set: 0.5\n",
      "Recall on Testing set: 0.5\n",
      "\n",
      "Precision on Training set: 0.29491776315789475\n",
      "Precision on Testing set: 0.29677631578947367\n",
      "\n",
      "Confusion Matrix on Training set: \n",
      "[[53793     0]\n",
      " [37407     0]]\n",
      "Confusion Matrix on Testing set: \n",
      "[[13533     0]\n",
      " [ 9267     0]]\n"
     ]
    },
    {
     "name": "stderr",
     "output_type": "stream",
     "text": [
      "/Users/benfunk/DataspellProjects/RandomProjects/venv/lib/python3.11/site-packages/sklearn/metrics/_classification.py:1497: UndefinedMetricWarning: Precision is ill-defined and being set to 0.0 in labels with no predicted samples. Use `zero_division` parameter to control this behavior.\n",
      "  _warn_prf(average, modifier, f\"{metric.capitalize()} is\", len(result))\n",
      "/Users/benfunk/DataspellProjects/RandomProjects/venv/lib/python3.11/site-packages/sklearn/metrics/_classification.py:1497: UndefinedMetricWarning: Precision is ill-defined and being set to 0.0 in labels with no predicted samples. Use `zero_division` parameter to control this behavior.\n",
      "  _warn_prf(average, modifier, f\"{metric.capitalize()} is\", len(result))\n"
     ]
    }
   ],
   "source": [
    "model = svm.SVC(kernel='rbf', C=1.0)\n",
    "model.fit(xtrain, ytrain.values.ravel())\n",
    "\n",
    "ypred_train = model.predict(xtrain)\n",
    "ypred_train = (ypred_train > Cutoffp).astype(int)  # Apply a threshold\n",
    "\n",
    "ypred_test = model.predict(xtest)\n",
    "ypred_test = (ypred_test > Cutoffp).astype(int)  # Apply a threshold\n",
    "\n",
    "# precision-recall curve\n",
    "precision_train, recall_train, _ = precision_recall_curve(ytrain, ypred_train)\n",
    "precision_test, recall_test, _ = precision_recall_curve(ytest, ypred_test)\n",
    "# AUC\n",
    "auprc_train = auc(recall_train, precision_train)\n",
    "auprc_test = auc(recall_test, precision_test)\n",
    "\n",
    "print(f\"AUPRC on Training set: {auprc_train}\")\n",
    "print(f\"AUPRC on Testing set: {auprc_test}\\n\")\n",
    "\n",
    "# Calculate F1 Score\n",
    "f1_train = f1_score(ytrain, ypred_train)\n",
    "f1_test = f1_score(ytest, ypred_test)\n",
    "\n",
    "print(f\"F1 Score on Training set: {f1_train}\")\n",
    "print(f\"F1 Score on Testing set: {f1_test} \\n\")\n",
    "\n",
    "# Calculate accuracy, precision and recall for training set\n",
    "accuracy_train = accuracy_score(ytrain, ypred_train)\n",
    "precision_train = precision_score(ytrain, ypred_train, average='macro')\n",
    "recall_train = recall_score(ytrain, ypred_train, average='macro')\n",
    "\n",
    "# Calculate accuracy, precision and recall for test set\n",
    "accuracy_test = accuracy_score(ytest, ypred_test)\n",
    "precision_test = precision_score(ytest, ypred_test, average='macro')\n",
    "recall_test = recall_score(ytest, ypred_test, average='macro')\n",
    "\n",
    "print(f\"\\nAccuracy on Training set: {accuracy_train}\")\n",
    "print(f\"Accuracy on Testing set: {accuracy_test}\\n\")\n",
    "\n",
    "print(f\"Recall on Training set: {recall_train}\")\n",
    "print(f\"Recall on Testing set: {recall_test}\\n\")\n",
    "\n",
    "print(f\"Precision on Training set: {precision_train}\")\n",
    "print(f\"Precision on Testing set: {precision_test}\\n\")\n",
    "\n",
    "# Calculate confusion matrix for training set and test set\n",
    "cm_train = confusion_matrix(ytrain, ypred_train)\n",
    "cm_test = confusion_matrix(ytest, ypred_test)\n",
    "\n",
    "print(f\"Confusion Matrix on Training set: \\n{cm_train}\")\n",
    "print(f\"Confusion Matrix on Testing set: \\n{cm_test}\")"
   ],
   "metadata": {
    "collapsed": false,
    "ExecuteTime": {
     "end_time": "2024-02-12T20:22:49.106779Z",
     "start_time": "2024-02-12T20:15:00.146950Z"
    }
   },
   "execution_count": 7
  },
  {
   "cell_type": "code",
   "outputs": [],
   "source": [
    "model = svm.SVC(kernel='polynomial', C=1.0)\n",
    "model.fit(xtrain, ytrain.values.ravel())\n",
    "\n",
    "ypred_train = model.predict(xtrain)\n",
    "ypred_train = (ypred_train > Cutoffp).astype(int)  # Apply a threshold\n",
    "\n",
    "ypred_test = model.predict(xtest)\n",
    "ypred_test = (ypred_test > Cutoffp).astype(int)  # Apply a threshold\n",
    "\n",
    "# precision-recall curve\n",
    "precision_train, recall_train, _ = precision_recall_curve(ytrain, ypred_train)\n",
    "precision_test, recall_test, _ = precision_recall_curve(ytest, ypred_test)\n",
    "# AUC\n",
    "auprc_train = auc(recall_train, precision_train)\n",
    "auprc_test = auc(recall_test, precision_test)\n",
    "\n",
    "print(f\"AUPRC on Training set: {auprc_train}\")\n",
    "print(f\"AUPRC on Testing set: {auprc_test}\\n\")\n",
    "\n",
    "# Calculate F1 Score\n",
    "f1_train = f1_score(ytrain, ypred_train)\n",
    "f1_test = f1_score(ytest, ypred_test)\n",
    "\n",
    "print(f\"F1 Score on Training set: {f1_train}\")\n",
    "print(f\"F1 Score on Testing set: {f1_test} \\n\")\n",
    "\n",
    "# Calculate accuracy, precision and recall for training set\n",
    "accuracy_train = accuracy_score(ytrain, ypred_train)\n",
    "precision_train = precision_score(ytrain, ypred_train, average='macro')\n",
    "recall_train = recall_score(ytrain, ypred_train, average='macro')\n",
    "\n",
    "# Calculate accuracy, precision and recall for test set\n",
    "accuracy_test = accuracy_score(ytest, ypred_test)\n",
    "precision_test = precision_score(ytest, ypred_test, average='macro')\n",
    "recall_test = recall_score(ytest, ypred_test, average='macro')\n",
    "\n",
    "print(f\"\\nAccuracy on Training set: {accuracy_train}\")\n",
    "print(f\"Accuracy on Testing set: {accuracy_test}\\n\")\n",
    "\n",
    "print(f\"Recall on Training set: {recall_train}\")\n",
    "print(f\"Recall on Testing set: {recall_test}\\n\")\n",
    "\n",
    "print(f\"Precision on Training set: {precision_train}\")\n",
    "print(f\"Precision on Testing set: {precision_test}\\n\")\n",
    "\n",
    "# Calculate confusion matrix for training set and test set\n",
    "cm_train = confusion_matrix(ytrain, ypred_train)\n",
    "cm_test = confusion_matrix(ytest, ypred_test)\n",
    "\n",
    "print(f\"Confusion Matrix on Training set: \\n{cm_train}\")\n",
    "print(f\"Confusion Matrix on Testing set: \\n{cm_test}\")"
   ],
   "metadata": {
    "collapsed": false
   }
  },
  {
   "cell_type": "code",
   "outputs": [],
   "source": [
    "\n",
    "# Data importing\n",
    "dataFrame = pd.read_csv('./dataset.csv')\n",
    "dataFrame['popularity_flag'] = 0\n",
    "dataFrame.loc[dataFrame['popularity'] > Cutoff, 'popularity_flag'] = 1\n",
    "# Label encoding 'track_genre'\n",
    "le = LabelEncoder()\n",
    "dataFrame['track_genre_encoded'] = le.fit_transform(dataFrame['track_genre'])\n",
    "\n",
    "# Drop the columns\n",
    "dataFrame = dataFrame.drop(\n",
    "    columns=['Unnamed: 0', 'track_id', 'artists', 'album_name', 'track_name', 'track_genre', 'popularity'])\n",
    "\n",
    "# Split into features and target\n",
    "X = dataFrame.drop(columns=['popularity_flag'])\n",
    "y = dataFrame['popularity_flag']\n",
    "# Handle missing values - filling with 0 as an example\n",
    "X_filled = X.fillna(0)\n",
    "\n",
    "# Optionally, convert to a specific dtype (e.g., float32) to ensure consistency\n",
    "X_filled = X_filled.astype('float32')"
   ],
   "metadata": {
    "collapsed": false,
    "ExecuteTime": {
     "end_time": "2024-02-11T22:59:01.372271Z",
     "start_time": "2024-02-11T22:59:01.181685Z"
    }
   },
   "execution_count": 49
  },
  {
   "cell_type": "code",
   "outputs": [],
   "source": [
    "\n",
    "# Now convert to PyTorch tensors\n",
    "X_tensor = torch.tensor(X_filled.values, dtype=torch.float32)\n",
    "y_tensor = torch.tensor(y.values, dtype=torch.float32).unsqueeze(\n",
    "    1)  # Assuming y is already numeric and has no missing values\n",
    "\n",
    "dataset = TensorDataset(X_tensor, y_tensor)\n",
    "train_size = int(0.8 * len(dataset))\n",
    "test_size = len(dataset) - train_size\n",
    "train_dataset, test_dataset = random_split(dataset, [train_size, test_size])\n",
    "\n",
    "# Use pin_memory=True safely because data is on CPU\n",
    "train_loader = DataLoader(train_dataset, batch_size=200, shuffle=True, pin_memory=True)\n",
    "test_loader = DataLoader(test_dataset, batch_size=200, shuffle=False, pin_memory=True)"
   ],
   "metadata": {
    "collapsed": false,
    "ExecuteTime": {
     "end_time": "2024-02-11T22:59:03.432995Z",
     "start_time": "2024-02-11T22:59:03.416596Z"
    }
   },
   "execution_count": 50
  },
  {
   "cell_type": "code",
   "outputs": [
    {
     "name": "stdout",
     "output_type": "stream",
     "text": [
      "Using device: cpu\n"
     ]
    }
   ],
   "source": [
    "# Define the device\n",
    "device = torch.device(\"cuda\" if torch.cuda.is_available() else \"cpu\")\n",
    "print(f\"Using device: {device}\")\n"
   ],
   "metadata": {
    "collapsed": false,
    "ExecuteTime": {
     "end_time": "2024-02-11T22:59:04.700181Z",
     "start_time": "2024-02-11T22:59:04.692831Z"
    }
   },
   "execution_count": 51
  },
  {
   "cell_type": "code",
   "outputs": [
    {
     "name": "stderr",
     "output_type": "stream",
     "text": [
      "100%|██████████| 100/100 [00:44<00:00,  2.22it/s]"
     ]
    },
    {
     "name": "stdout",
     "output_type": "stream",
     "text": [
      "Best class weight (pos_weight):  3.848484754562378\n",
      "Best F1 score:  0.5826184259604625\n"
     ]
    },
    {
     "name": "stderr",
     "output_type": "stream",
     "text": [
      "\n"
     ]
    }
   ],
   "source": [
    "\n",
    "# Model definition\n",
    "class NeuralNetwork(nn.Module):\n",
    "    def __init__(self, input_shape):\n",
    "        super(NeuralNetwork, self).__init__()\n",
    "        self.linear_relu_stack = nn.Sequential(\n",
    "            nn.Linear(input_shape, 8),\n",
    "            nn.ReLU(),\n",
    "            nn.Linear(8, 64),\n",
    "            nn.ReLU(),\n",
    "            nn.Linear(64, 64),\n",
    "            nn.ReLU(),\n",
    "            nn.Linear(64, 16),\n",
    "            nn.ELU(),\n",
    "            nn.Linear(16, 1),\n",
    "            nn.Sigmoid(),\n",
    "        )\n",
    "\n",
    "    def forward(self, x):\n",
    "        logits = self.linear_relu_stack(x)\n",
    "        return logits\n",
    "\n",
    "\n",
    "# Loss Functions\n",
    "def calculate_f1(model, dataloader, device):\n",
    "    model.eval()  # Set model to evaluation mode\n",
    "    true_y, pred_y = [], []\n",
    "    with torch.no_grad():\n",
    "        for X, y in dataloader:\n",
    "            X, y = X.to(device), y.to(device)\n",
    "            logits = model(X)\n",
    "            preds = torch.round(torch.sigmoid(logits))\n",
    "            true_y.extend(y.view(-1).tolist())\n",
    "            pred_y.extend(preds.view(-1).tolist())\n",
    "    f1 = f1_score(true_y, pred_y)\n",
    "    return f1\n",
    "\n",
    "\n",
    "# Move the model to the specified device (GPU or CPU)\n",
    "model = NeuralNetwork(X_tensor.shape[1]).to(device)\n",
    "\n",
    "# Optimizer\n",
    "optimizer = optim.Adam(model.parameters())\n",
    "\n",
    "\n",
    "# Training loop\n",
    "def train_loop(dataloader, model, loss_fn, optimizer):\n",
    "    size = len(dataloader.dataset)\n",
    "    model.train()  # Set the model to training mode\n",
    "    for batch, (X, y) in enumerate(dataloader):\n",
    "        X, y = X.to(device), y.to(device)\n",
    "        # Compute prediction and loss\n",
    "        pred = model(X)\n",
    "        loss = loss_fn(pred, y)\n",
    "\n",
    "        # Backpropagation\n",
    "        optimizer.zero_grad()\n",
    "        loss.backward()\n",
    "        optimizer.step()\n",
    "\n",
    "        if batch % 100 == 0:\n",
    "            loss, current = loss.item(), batch * len(X)\n",
    "\n",
    "\n",
    "# Initialize the model and optimizer\n",
    "input_shape = X_tensor.shape[1]\n",
    "model = NeuralNetwork(input_shape).to(device)\n",
    "optimizer = torch.optim.Adam(model.parameters())\n",
    "\n",
    "class_weights = torch.linspace(3.5, 3.7, 100).to(device)  # class weights\n",
    "\n",
    "# Variables to save the best model\n",
    "best_f1 = 0\n",
    "best_model = None\n",
    "best_pos_weight = None\n",
    "\n",
    "for weight in tqdm(class_weights):\n",
    "    pos_weight = torch.tensor([weight]).to(device)\n",
    "    loss_fn = nn.BCEWithLogitsLoss(pos_weight=pos_weight)\n",
    "\n",
    "    # Initialize model and optimizer for each run\n",
    "    model = NeuralNetwork(input_shape).to(device)\n",
    "    optimizer = torch.optim.Adam(model.parameters())\n",
    "\n",
    "    # Train the model\n",
    "    train_loop(train_loader, model, loss_fn, optimizer)\n",
    "\n",
    "    # Evaluate F1 Score on the validation set\n",
    "    f1 = calculate_f1(model, test_loader, device)\n",
    "\n",
    "    if f1 > best_f1:\n",
    "        best_f1 = f1\n",
    "        best_pos_weight = weight\n",
    "        # This is the key part - we save the model that has the highest F1 score\n",
    "        best_model = model\n",
    "\n",
    "print(\"Best class weight (pos_weight): \", best_pos_weight.item())\n",
    "print(\"Best F1 score: \", best_f1)"
   ],
   "metadata": {
    "collapsed": false,
    "ExecuteTime": {
     "end_time": "2024-02-11T22:59:53.664684Z",
     "start_time": "2024-02-11T22:59:08.661790Z"
    }
   },
   "execution_count": 52
  },
  {
   "cell_type": "code",
   "outputs": [
    {
     "name": "stdout",
     "output_type": "stream",
     "text": [
      "\n",
      "Accuracy: 0.41\n",
      "Recall: 0.50\n",
      "Precision: 0.21\n",
      "\n",
      "Confusion Matrix: \n",
      " [[    0 13428]\n",
      " [    0  9372]]\n",
      "\n",
      "AUPRC: 0.71\n",
      "F1 Score: 0.58\n"
     ]
    },
    {
     "name": "stderr",
     "output_type": "stream",
     "text": [
      "/Users/benfunk/DataspellProjects/RandomProjects/venv/lib/python3.11/site-packages/sklearn/metrics/_classification.py:1497: UndefinedMetricWarning: Precision is ill-defined and being set to 0.0 in labels with no predicted samples. Use `zero_division` parameter to control this behavior.\n",
      "  _warn_prf(average, modifier, f\"{metric.capitalize()} is\", len(result))\n"
     ]
    }
   ],
   "source": [
    "\n",
    "# Put the best model in evaluation mode\n",
    "best_model.eval()\n",
    "\n",
    "# Lists for storing predicted and actual labels\n",
    "pred_labels, true_labels = [], []\n",
    "\n",
    "# Get the true and predicted labels\n",
    "with torch.no_grad():\n",
    "    for X_batch, y_batch in test_loader:\n",
    "        X_batch, y_batch = X_batch.to(device), y_batch.to(device)\n",
    "\n",
    "        # Make predictions \n",
    "        y_pred_probs = best_model(X_batch)\n",
    "\n",
    "        # Apply a threshold\n",
    "        y_pred = (y_pred_probs > Cutoffp).type(torch.IntTensor)\n",
    "\n",
    "        # Store the true and predicted labels\n",
    "        pred_labels.extend(y_pred.reshape(-1).tolist())\n",
    "        true_labels.extend(y_batch.reshape(-1).tolist())\n",
    "\n",
    "# Convert the lists into NumPy arrays\n",
    "true_labels_np = np.array(true_labels)\n",
    "pred_labels_np = np.array(pred_labels)\n",
    "\n",
    "# Calculate accuracy, precision and recall\n",
    "accuracy = accuracy_score(true_labels_np, pred_labels_np)\n",
    "precision = precision_score(true_labels_np, pred_labels_np, average='macro')\n",
    "recall = recall_score(true_labels_np, pred_labels_np, average='macro')\n",
    "\n",
    "print(\"\\nAccuracy: {:.2f}\".format(accuracy))\n",
    "print(\"Recall: {:.2f}\".format(recall))\n",
    "print(\"Precision: {:.2f}\\n\".format(precision))\n",
    "\n",
    "# Calculate confusion matrix\n",
    "cm = confusion_matrix(true_labels_np, pred_labels_np)\n",
    "\n",
    "print(\"Confusion Matrix: \\n\", cm)\n",
    "\n",
    "# Calculate Precision-Recall curve\n",
    "precision_curve, recall_curve, _ = precision_recall_curve(true_labels_np, pred_labels_np)\n",
    "\n",
    "# Calculate AUC\n",
    "auprc = auc(recall_curve, precision_curve)\n",
    "\n",
    "print(\"\\nAUPRC: {:.2f}\".format(auprc))\n",
    "\n",
    "# Calculate F1 Score\n",
    "f1 = f1_score(true_labels_np, pred_labels_np)\n",
    "\n",
    "print(\"F1 Score: {:.2f}\\n\".format(f1))"
   ],
   "metadata": {
    "collapsed": false,
    "ExecuteTime": {
     "end_time": "2024-02-11T23:02:12.522010Z",
     "start_time": "2024-02-11T23:02:12.438221Z"
    }
   },
   "execution_count": 53
  },
  {
   "cell_type": "code",
   "outputs": [],
   "source": [
    "# Convert to tensor\n",
    "X_tensor = tf.convert_to_tensor(X.values, dtype=tf.float32)\n",
    "y_tensor = tf.convert_to_tensor(y.values, dtype=tf.float32)\n",
    "\n",
    "# Calculate the index at which to split the dataset\n",
    "train_size = int(0.8 * len(X))\n",
    "\n",
    "# Manually slice the tensors for train/test sets\n",
    "x_train_tensor = X_tensor[:train_size]\n",
    "y_train_tensor = y_tensor[:train_size]\n",
    "x_test_tensor = X_tensor[train_size:]\n",
    "y_test_tensor = y_tensor[train_size:]\n",
    "\n",
    "\n",
    "@keras.saving.register_keras_serializable()\n",
    "def mse_loss(y_true, y_pred):\n",
    "    return tf.reduce_mean(tf.square(y_pred - y_true))\n",
    "\n",
    "\n",
    "@keras.saving.register_keras_serializable()\n",
    "def rmse(y_true, y_pred):\n",
    "    return tf.sqrt(mse_loss(y_true, y_pred))\n",
    "\n",
    "\n",
    "@keras.saving.register_keras_serializable()\n",
    "def r_squared(y_true, y_pred, ):\n",
    "    residual = tf.reduce_sum(tf.square(tf.subtract(y_true, y_pred)))\n",
    "    total = tf.reduce_sum(tf.square(tf.subtract(y_true, tf.reduce_mean(y_true))))\n",
    "    r2 = tf.subtract(1.0, tf.divide(residual, total))\n",
    "    return r2\n",
    "\n",
    "\n",
    "@keras.saving.register_keras_serializable()\n",
    "def r_squared_loss(y_true, y_pred):\n",
    "    residual = tf.reduce_sum(tf.square(tf.subtract(y_true, y_pred)))\n",
    "    total = tf.reduce_sum(tf.square(tf.subtract(y_true, tf.reduce_mean(y_true))))\n",
    "    r2 = tf.subtract(1.0, tf.divide(residual, total))\n",
    "    return 1 - r2  # or you can return -r2 to minimize the negative value\n",
    "\n",
    "\n",
    "\n",
    "def plot_results(history):\n",
    "    epoch_num = np.arange(1, len(history.history['loss']) + 1)\n",
    "\n",
    "    plt.figure(figsize=(15, 5))\n",
    "\n",
    "    plt.subplot(1, 2, 1)\n",
    "    plt.plot(epoch_num, history.history['loss'], label='training_loss')\n",
    "    plt.plot(epoch_num, history.history['val_loss'], label='test_loss')\n",
    "    plt.legend()\n",
    "    plt.xlabel('Epoch')\n",
    "    plt.ylabel('Loss')\n",
    "    plt.grid(True)\n",
    "\n",
    "    plt.subplot(1, 2, 2)\n",
    "    plt.plot(epoch_num, history.history['accuracy'], label='training_accuracy')\n",
    "    plt.plot(epoch_num, history.history['val_accuracy'], label='test_accuracy')\n",
    "    plt.legend()\n",
    "    plt.xlabel('Epoch')\n",
    "    plt.ylabel('Accuracy')\n",
    "    plt.grid(True)\n"
   ],
   "metadata": {
    "collapsed": false,
    "ExecuteTime": {
     "end_time": "2024-02-11T23:02:14.061872Z",
     "start_time": "2024-02-11T23:02:13.961315Z"
    }
   },
   "execution_count": 54
  },
  {
   "cell_type": "code",
   "outputs": [],
   "source": [
    "\n",
    "input_shape = (x_train_tensor.shape[1],)\n",
    "\n",
    "\n",
    "# Build model function\n",
    "def build_model(input_shape):\n",
    "    model = tf.keras.Sequential([\n",
    "        tf.keras.layers.Dense(8, activation='relu', input_shape=input_shape),\n",
    "        tf.keras.layers.Dense(8, activation='relu'),\n",
    "        tf.keras.layers.Dense(4, activation='elu'),\n",
    "        tf.keras.layers.Dense(4, activation='elu'),\n",
    "        tf.keras.layers.Dense(1, activation='sigmoid')\n",
    "    ])\n",
    "    return model\n",
    "\n",
    "\n",
    "# Define a set of class weights to evaluate\n",
    "class_weights_grid = [{0: 1.0, 1: weight} for weight in\n",
    "                      np.linspace(3.5, 3.7, 100)]  # Drop the 100 down to 10 if you are running this on a weaker computer.\n",
    "\n",
    "# Initial placeholders for the best weights and highest f1 score\n",
    "best_class_weights = None\n",
    "highest_f1 = 0"
   ],
   "metadata": {
    "collapsed": false,
    "ExecuteTime": {
     "end_time": "2024-02-11T23:03:00.135553Z",
     "start_time": "2024-02-11T23:03:00.105676Z"
    }
   },
   "execution_count": 57
  },
  {
   "cell_type": "code",
   "outputs": [
    {
     "name": "stderr",
     "output_type": "stream",
     "text": [
      "  0%|          | 0/100 [00:00<?, ?it/s]"
     ]
    },
    {
     "name": "stdout",
     "output_type": "stream",
     "text": [
      "2850/2850 [==============================] - 1s 220us/step\n"
     ]
    },
    {
     "name": "stderr",
     "output_type": "stream",
     "text": [
      "  1%|          | 1/100 [00:05<09:06,  5.52s/it]"
     ]
    },
    {
     "name": "stdout",
     "output_type": "stream",
     "text": [
      "2850/2850 [==============================] - 1s 212us/step\n"
     ]
    },
    {
     "name": "stderr",
     "output_type": "stream",
     "text": [
      "  2%|▏         | 2/100 [00:10<08:06,  4.97s/it]"
     ]
    },
    {
     "name": "stdout",
     "output_type": "stream",
     "text": [
      "2850/2850 [==============================] - 1s 214us/step\n"
     ]
    },
    {
     "name": "stderr",
     "output_type": "stream",
     "text": [
      "  3%|▎         | 3/100 [00:14<07:42,  4.77s/it]"
     ]
    },
    {
     "name": "stdout",
     "output_type": "stream",
     "text": [
      "2850/2850 [==============================] - 1s 220us/step\n"
     ]
    },
    {
     "name": "stderr",
     "output_type": "stream",
     "text": [
      "  4%|▍         | 4/100 [00:19<07:31,  4.70s/it]"
     ]
    },
    {
     "name": "stdout",
     "output_type": "stream",
     "text": [
      "2850/2850 [==============================] - 1s 213us/step\n"
     ]
    },
    {
     "name": "stderr",
     "output_type": "stream",
     "text": [
      "  5%|▌         | 5/100 [00:23<07:22,  4.66s/it]"
     ]
    },
    {
     "name": "stdout",
     "output_type": "stream",
     "text": [
      "2850/2850 [==============================] - 1s 214us/step\n"
     ]
    },
    {
     "name": "stderr",
     "output_type": "stream",
     "text": [
      "  6%|▌         | 6/100 [00:28<07:15,  4.63s/it]"
     ]
    },
    {
     "name": "stdout",
     "output_type": "stream",
     "text": [
      "2850/2850 [==============================] - 1s 214us/step\n"
     ]
    },
    {
     "name": "stderr",
     "output_type": "stream",
     "text": [
      "  7%|▋         | 7/100 [00:32<07:08,  4.61s/it]"
     ]
    },
    {
     "name": "stdout",
     "output_type": "stream",
     "text": [
      "2850/2850 [==============================] - 1s 213us/step\n"
     ]
    },
    {
     "name": "stderr",
     "output_type": "stream",
     "text": [
      "  8%|▊         | 8/100 [00:37<07:04,  4.61s/it]"
     ]
    },
    {
     "name": "stdout",
     "output_type": "stream",
     "text": [
      "2850/2850 [==============================] - 1s 216us/step\n"
     ]
    },
    {
     "name": "stderr",
     "output_type": "stream",
     "text": [
      "  9%|▉         | 9/100 [00:42<07:07,  4.70s/it]"
     ]
    },
    {
     "name": "stdout",
     "output_type": "stream",
     "text": [
      "2850/2850 [==============================] - 1s 215us/step\n"
     ]
    },
    {
     "name": "stderr",
     "output_type": "stream",
     "text": [
      " 10%|█         | 10/100 [00:47<07:01,  4.68s/it]"
     ]
    },
    {
     "name": "stdout",
     "output_type": "stream",
     "text": [
      "2850/2850 [==============================] - 1s 211us/step\n"
     ]
    },
    {
     "name": "stderr",
     "output_type": "stream",
     "text": [
      " 11%|█         | 11/100 [00:51<06:57,  4.70s/it]"
     ]
    },
    {
     "name": "stdout",
     "output_type": "stream",
     "text": [
      "2850/2850 [==============================] - 1s 214us/step\n"
     ]
    },
    {
     "name": "stderr",
     "output_type": "stream",
     "text": [
      " 12%|█▏        | 12/100 [00:56<06:48,  4.64s/it]"
     ]
    },
    {
     "name": "stdout",
     "output_type": "stream",
     "text": [
      "2850/2850 [==============================] - 1s 215us/step\n"
     ]
    },
    {
     "name": "stderr",
     "output_type": "stream",
     "text": [
      " 13%|█▎        | 13/100 [01:00<06:42,  4.62s/it]"
     ]
    },
    {
     "name": "stdout",
     "output_type": "stream",
     "text": [
      "2850/2850 [==============================] - 1s 211us/step\n"
     ]
    },
    {
     "name": "stderr",
     "output_type": "stream",
     "text": [
      " 14%|█▍        | 14/100 [01:05<06:35,  4.60s/it]"
     ]
    },
    {
     "name": "stdout",
     "output_type": "stream",
     "text": [
      "2850/2850 [==============================] - 1s 214us/step\n"
     ]
    },
    {
     "name": "stderr",
     "output_type": "stream",
     "text": [
      " 15%|█▌        | 15/100 [01:10<06:29,  4.58s/it]"
     ]
    },
    {
     "name": "stdout",
     "output_type": "stream",
     "text": [
      "2850/2850 [==============================] - 1s 215us/step\n"
     ]
    },
    {
     "name": "stderr",
     "output_type": "stream",
     "text": [
      " 16%|█▌        | 16/100 [01:14<06:24,  4.58s/it]"
     ]
    },
    {
     "name": "stdout",
     "output_type": "stream",
     "text": [
      "2850/2850 [==============================] - 1s 216us/step\n"
     ]
    },
    {
     "name": "stderr",
     "output_type": "stream",
     "text": [
      " 17%|█▋        | 17/100 [01:19<06:19,  4.57s/it]"
     ]
    },
    {
     "name": "stdout",
     "output_type": "stream",
     "text": [
      "2850/2850 [==============================] - 1s 214us/step\n"
     ]
    },
    {
     "name": "stderr",
     "output_type": "stream",
     "text": [
      " 18%|█▊        | 18/100 [01:23<06:13,  4.56s/it]"
     ]
    },
    {
     "name": "stdout",
     "output_type": "stream",
     "text": [
      "2850/2850 [==============================] - 1s 215us/step\n"
     ]
    },
    {
     "name": "stderr",
     "output_type": "stream",
     "text": [
      " 19%|█▉        | 19/100 [01:28<06:09,  4.56s/it]"
     ]
    },
    {
     "name": "stdout",
     "output_type": "stream",
     "text": [
      "2850/2850 [==============================] - 1s 213us/step\n"
     ]
    },
    {
     "name": "stderr",
     "output_type": "stream",
     "text": [
      " 20%|██        | 20/100 [01:32<06:04,  4.56s/it]"
     ]
    },
    {
     "name": "stdout",
     "output_type": "stream",
     "text": [
      "2850/2850 [==============================] - 1s 212us/step\n"
     ]
    },
    {
     "name": "stderr",
     "output_type": "stream",
     "text": [
      " 21%|██        | 21/100 [01:37<05:59,  4.56s/it]"
     ]
    },
    {
     "name": "stdout",
     "output_type": "stream",
     "text": [
      "2850/2850 [==============================] - 1s 212us/step\n"
     ]
    },
    {
     "name": "stderr",
     "output_type": "stream",
     "text": [
      " 22%|██▏       | 22/100 [01:41<05:55,  4.56s/it]"
     ]
    },
    {
     "name": "stdout",
     "output_type": "stream",
     "text": [
      "2850/2850 [==============================] - 1s 213us/step\n"
     ]
    },
    {
     "name": "stderr",
     "output_type": "stream",
     "text": [
      " 23%|██▎       | 23/100 [01:46<05:49,  4.54s/it]"
     ]
    },
    {
     "name": "stdout",
     "output_type": "stream",
     "text": [
      "2850/2850 [==============================] - 1s 218us/step\n"
     ]
    },
    {
     "name": "stderr",
     "output_type": "stream",
     "text": [
      " 24%|██▍       | 24/100 [01:50<05:45,  4.55s/it]"
     ]
    },
    {
     "name": "stdout",
     "output_type": "stream",
     "text": [
      "2850/2850 [==============================] - 1s 213us/step\n"
     ]
    },
    {
     "name": "stderr",
     "output_type": "stream",
     "text": [
      " 25%|██▌       | 25/100 [01:55<05:40,  4.54s/it]"
     ]
    },
    {
     "name": "stdout",
     "output_type": "stream",
     "text": [
      "2850/2850 [==============================] - 1s 303us/step\n"
     ]
    },
    {
     "name": "stderr",
     "output_type": "stream",
     "text": [
      " 26%|██▌       | 26/100 [02:00<05:42,  4.63s/it]"
     ]
    },
    {
     "name": "stdout",
     "output_type": "stream",
     "text": [
      "2850/2850 [==============================] - 1s 212us/step\n"
     ]
    },
    {
     "name": "stderr",
     "output_type": "stream",
     "text": [
      " 27%|██▋       | 27/100 [02:05<05:40,  4.66s/it]"
     ]
    },
    {
     "name": "stdout",
     "output_type": "stream",
     "text": [
      "2850/2850 [==============================] - 1s 214us/step\n"
     ]
    },
    {
     "name": "stderr",
     "output_type": "stream",
     "text": [
      " 28%|██▊       | 28/100 [02:09<05:33,  4.63s/it]"
     ]
    },
    {
     "name": "stdout",
     "output_type": "stream",
     "text": [
      "2850/2850 [==============================] - 1s 215us/step\n"
     ]
    },
    {
     "name": "stderr",
     "output_type": "stream",
     "text": [
      " 29%|██▉       | 29/100 [02:14<05:27,  4.62s/it]"
     ]
    },
    {
     "name": "stdout",
     "output_type": "stream",
     "text": [
      "2850/2850 [==============================] - 1s 215us/step\n"
     ]
    },
    {
     "name": "stderr",
     "output_type": "stream",
     "text": [
      " 30%|███       | 30/100 [02:18<05:22,  4.61s/it]"
     ]
    },
    {
     "name": "stdout",
     "output_type": "stream",
     "text": [
      "2850/2850 [==============================] - 1s 220us/step\n"
     ]
    },
    {
     "name": "stderr",
     "output_type": "stream",
     "text": [
      " 31%|███       | 31/100 [02:23<05:16,  4.59s/it]"
     ]
    },
    {
     "name": "stdout",
     "output_type": "stream",
     "text": [
      "2850/2850 [==============================] - 1s 221us/step\n"
     ]
    },
    {
     "name": "stderr",
     "output_type": "stream",
     "text": [
      " 32%|███▏      | 32/100 [02:27<05:11,  4.58s/it]"
     ]
    },
    {
     "name": "stdout",
     "output_type": "stream",
     "text": [
      "2850/2850 [==============================] - 1s 213us/step\n"
     ]
    },
    {
     "name": "stderr",
     "output_type": "stream",
     "text": [
      " 33%|███▎      | 33/100 [02:32<05:07,  4.58s/it]"
     ]
    },
    {
     "name": "stdout",
     "output_type": "stream",
     "text": [
      "2850/2850 [==============================] - 1s 218us/step\n"
     ]
    },
    {
     "name": "stderr",
     "output_type": "stream",
     "text": [
      " 34%|███▍      | 34/100 [02:37<05:01,  4.57s/it]"
     ]
    },
    {
     "name": "stdout",
     "output_type": "stream",
     "text": [
      "2850/2850 [==============================] - 1s 211us/step\n"
     ]
    },
    {
     "name": "stderr",
     "output_type": "stream",
     "text": [
      " 35%|███▌      | 35/100 [02:41<04:58,  4.59s/it]"
     ]
    },
    {
     "name": "stdout",
     "output_type": "stream",
     "text": [
      "2850/2850 [==============================] - 1s 214us/step\n"
     ]
    },
    {
     "name": "stderr",
     "output_type": "stream",
     "text": [
      " 36%|███▌      | 36/100 [02:46<04:53,  4.59s/it]"
     ]
    },
    {
     "name": "stdout",
     "output_type": "stream",
     "text": [
      "2850/2850 [==============================] - 1s 211us/step\n"
     ]
    },
    {
     "name": "stderr",
     "output_type": "stream",
     "text": [
      " 37%|███▋      | 37/100 [02:50<04:48,  4.58s/it]"
     ]
    },
    {
     "name": "stdout",
     "output_type": "stream",
     "text": [
      "2850/2850 [==============================] - 1s 220us/step\n"
     ]
    },
    {
     "name": "stderr",
     "output_type": "stream",
     "text": [
      " 38%|███▊      | 38/100 [02:55<04:47,  4.63s/it]"
     ]
    },
    {
     "name": "stdout",
     "output_type": "stream",
     "text": [
      "2850/2850 [==============================] - 1s 214us/step\n"
     ]
    },
    {
     "name": "stderr",
     "output_type": "stream",
     "text": [
      " 39%|███▉      | 39/100 [03:00<04:43,  4.65s/it]"
     ]
    },
    {
     "name": "stdout",
     "output_type": "stream",
     "text": [
      "2850/2850 [==============================] - 1s 216us/step\n"
     ]
    },
    {
     "name": "stderr",
     "output_type": "stream",
     "text": [
      " 40%|████      | 40/100 [03:05<04:41,  4.70s/it]"
     ]
    },
    {
     "name": "stdout",
     "output_type": "stream",
     "text": [
      "2850/2850 [==============================] - 1s 219us/step\n"
     ]
    },
    {
     "name": "stderr",
     "output_type": "stream",
     "text": [
      " 41%|████      | 41/100 [03:09<04:39,  4.73s/it]"
     ]
    },
    {
     "name": "stdout",
     "output_type": "stream",
     "text": [
      "2850/2850 [==============================] - 1s 223us/step\n"
     ]
    },
    {
     "name": "stderr",
     "output_type": "stream",
     "text": [
      " 42%|████▏     | 42/100 [03:14<04:36,  4.76s/it]"
     ]
    },
    {
     "name": "stdout",
     "output_type": "stream",
     "text": [
      "2850/2850 [==============================] - 1s 217us/step\n"
     ]
    },
    {
     "name": "stderr",
     "output_type": "stream",
     "text": [
      " 43%|████▎     | 43/100 [03:19<04:37,  4.87s/it]"
     ]
    },
    {
     "name": "stdout",
     "output_type": "stream",
     "text": [
      "2850/2850 [==============================] - 1s 216us/step\n"
     ]
    },
    {
     "name": "stderr",
     "output_type": "stream",
     "text": [
      " 44%|████▍     | 44/100 [03:26<05:08,  5.51s/it]"
     ]
    },
    {
     "name": "stdout",
     "output_type": "stream",
     "text": [
      "2850/2850 [==============================] - 1s 219us/step\n"
     ]
    },
    {
     "name": "stderr",
     "output_type": "stream",
     "text": [
      " 45%|████▌     | 45/100 [03:32<04:59,  5.45s/it]"
     ]
    },
    {
     "name": "stdout",
     "output_type": "stream",
     "text": [
      "2850/2850 [==============================] - 1s 224us/step\n"
     ]
    },
    {
     "name": "stderr",
     "output_type": "stream",
     "text": [
      " 46%|████▌     | 46/100 [03:37<04:45,  5.29s/it]"
     ]
    },
    {
     "name": "stdout",
     "output_type": "stream",
     "text": [
      "2850/2850 [==============================] - 1s 220us/step\n"
     ]
    },
    {
     "name": "stderr",
     "output_type": "stream",
     "text": [
      " 47%|████▋     | 47/100 [03:42<04:34,  5.19s/it]"
     ]
    },
    {
     "name": "stdout",
     "output_type": "stream",
     "text": [
      "2850/2850 [==============================] - 1s 227us/step\n"
     ]
    },
    {
     "name": "stderr",
     "output_type": "stream",
     "text": [
      " 48%|████▊     | 48/100 [03:47<04:42,  5.43s/it]"
     ]
    },
    {
     "name": "stdout",
     "output_type": "stream",
     "text": [
      "2850/2850 [==============================] - 1s 228us/step\n"
     ]
    },
    {
     "name": "stderr",
     "output_type": "stream",
     "text": [
      " 49%|████▉     | 49/100 [03:52<04:29,  5.28s/it]"
     ]
    },
    {
     "name": "stdout",
     "output_type": "stream",
     "text": [
      "2850/2850 [==============================] - 1s 218us/step\n"
     ]
    },
    {
     "name": "stderr",
     "output_type": "stream",
     "text": [
      " 50%|█████     | 50/100 [03:57<04:13,  5.07s/it]"
     ]
    },
    {
     "name": "stdout",
     "output_type": "stream",
     "text": [
      "2850/2850 [==============================] - 1s 216us/step\n"
     ]
    },
    {
     "name": "stderr",
     "output_type": "stream",
     "text": [
      " 51%|█████     | 51/100 [04:02<04:01,  4.92s/it]"
     ]
    },
    {
     "name": "stdout",
     "output_type": "stream",
     "text": [
      "2850/2850 [==============================] - 1s 215us/step\n"
     ]
    },
    {
     "name": "stderr",
     "output_type": "stream",
     "text": [
      " 52%|█████▏    | 52/100 [04:06<03:50,  4.81s/it]"
     ]
    },
    {
     "name": "stdout",
     "output_type": "stream",
     "text": [
      "2850/2850 [==============================] - 1s 215us/step\n"
     ]
    },
    {
     "name": "stderr",
     "output_type": "stream",
     "text": [
      " 53%|█████▎    | 53/100 [04:11<03:43,  4.75s/it]"
     ]
    },
    {
     "name": "stdout",
     "output_type": "stream",
     "text": [
      "2850/2850 [==============================] - 1s 216us/step\n"
     ]
    },
    {
     "name": "stderr",
     "output_type": "stream",
     "text": [
      " 54%|█████▍    | 54/100 [04:15<03:37,  4.72s/it]"
     ]
    },
    {
     "name": "stdout",
     "output_type": "stream",
     "text": [
      "2850/2850 [==============================] - 1s 212us/step\n"
     ]
    },
    {
     "name": "stderr",
     "output_type": "stream",
     "text": [
      " 55%|█████▌    | 55/100 [04:20<03:30,  4.69s/it]"
     ]
    },
    {
     "name": "stdout",
     "output_type": "stream",
     "text": [
      "2850/2850 [==============================] - 1s 211us/step\n"
     ]
    },
    {
     "name": "stderr",
     "output_type": "stream",
     "text": [
      " 56%|█████▌    | 56/100 [04:25<03:24,  4.66s/it]"
     ]
    },
    {
     "name": "stdout",
     "output_type": "stream",
     "text": [
      "2850/2850 [==============================] - 1s 215us/step\n"
     ]
    },
    {
     "name": "stderr",
     "output_type": "stream",
     "text": [
      " 57%|█████▋    | 57/100 [04:29<03:19,  4.63s/it]"
     ]
    },
    {
     "name": "stdout",
     "output_type": "stream",
     "text": [
      "2850/2850 [==============================] - 1s 212us/step\n"
     ]
    },
    {
     "name": "stderr",
     "output_type": "stream",
     "text": [
      " 58%|█████▊    | 58/100 [04:34<03:14,  4.62s/it]"
     ]
    },
    {
     "name": "stdout",
     "output_type": "stream",
     "text": [
      "2850/2850 [==============================] - 1s 216us/step\n"
     ]
    },
    {
     "name": "stderr",
     "output_type": "stream",
     "text": [
      " 59%|█████▉    | 59/100 [04:38<03:09,  4.62s/it]"
     ]
    },
    {
     "name": "stdout",
     "output_type": "stream",
     "text": [
      "2850/2850 [==============================] - 1s 219us/step\n"
     ]
    },
    {
     "name": "stderr",
     "output_type": "stream",
     "text": [
      " 60%|██████    | 60/100 [04:43<03:04,  4.62s/it]"
     ]
    },
    {
     "name": "stdout",
     "output_type": "stream",
     "text": [
      "2850/2850 [==============================] - 1s 214us/step\n"
     ]
    },
    {
     "name": "stderr",
     "output_type": "stream",
     "text": [
      " 61%|██████    | 61/100 [04:48<02:59,  4.61s/it]"
     ]
    },
    {
     "name": "stdout",
     "output_type": "stream",
     "text": [
      "2850/2850 [==============================] - 1s 216us/step\n"
     ]
    },
    {
     "name": "stderr",
     "output_type": "stream",
     "text": [
      " 62%|██████▏   | 62/100 [04:52<02:55,  4.61s/it]"
     ]
    },
    {
     "name": "stdout",
     "output_type": "stream",
     "text": [
      "2850/2850 [==============================] - 1s 216us/step\n"
     ]
    },
    {
     "name": "stderr",
     "output_type": "stream",
     "text": [
      " 63%|██████▎   | 63/100 [04:57<02:53,  4.69s/it]"
     ]
    },
    {
     "name": "stdout",
     "output_type": "stream",
     "text": [
      "2850/2850 [==============================] - 1s 213us/step\n"
     ]
    },
    {
     "name": "stderr",
     "output_type": "stream",
     "text": [
      " 64%|██████▍   | 64/100 [05:02<02:47,  4.64s/it]"
     ]
    },
    {
     "name": "stdout",
     "output_type": "stream",
     "text": [
      "2850/2850 [==============================] - 1s 213us/step\n"
     ]
    },
    {
     "name": "stderr",
     "output_type": "stream",
     "text": [
      " 65%|██████▌   | 65/100 [05:06<02:42,  4.63s/it]"
     ]
    },
    {
     "name": "stdout",
     "output_type": "stream",
     "text": [
      "2850/2850 [==============================] - 1s 211us/step\n"
     ]
    },
    {
     "name": "stderr",
     "output_type": "stream",
     "text": [
      " 66%|██████▌   | 66/100 [05:11<02:36,  4.60s/it]"
     ]
    },
    {
     "name": "stdout",
     "output_type": "stream",
     "text": [
      "2850/2850 [==============================] - 1s 221us/step\n"
     ]
    },
    {
     "name": "stderr",
     "output_type": "stream",
     "text": [
      " 67%|██████▋   | 67/100 [05:15<02:31,  4.60s/it]"
     ]
    },
    {
     "name": "stdout",
     "output_type": "stream",
     "text": [
      "2850/2850 [==============================] - 1s 211us/step\n"
     ]
    },
    {
     "name": "stderr",
     "output_type": "stream",
     "text": [
      " 68%|██████▊   | 68/100 [05:20<02:27,  4.60s/it]"
     ]
    },
    {
     "name": "stdout",
     "output_type": "stream",
     "text": [
      "2850/2850 [==============================] - 1s 215us/step\n"
     ]
    },
    {
     "name": "stderr",
     "output_type": "stream",
     "text": [
      " 69%|██████▉   | 69/100 [05:25<02:22,  4.60s/it]"
     ]
    },
    {
     "name": "stdout",
     "output_type": "stream",
     "text": [
      "2850/2850 [==============================] - 1s 210us/step\n"
     ]
    },
    {
     "name": "stderr",
     "output_type": "stream",
     "text": [
      " 70%|███████   | 70/100 [05:29<02:17,  4.59s/it]"
     ]
    },
    {
     "name": "stdout",
     "output_type": "stream",
     "text": [
      "2850/2850 [==============================] - 1s 213us/step\n"
     ]
    },
    {
     "name": "stderr",
     "output_type": "stream",
     "text": [
      " 71%|███████   | 71/100 [05:34<02:13,  4.60s/it]"
     ]
    },
    {
     "name": "stdout",
     "output_type": "stream",
     "text": [
      "2850/2850 [==============================] - 1s 216us/step\n"
     ]
    },
    {
     "name": "stderr",
     "output_type": "stream",
     "text": [
      " 72%|███████▏  | 72/100 [05:38<02:08,  4.60s/it]"
     ]
    },
    {
     "name": "stdout",
     "output_type": "stream",
     "text": [
      "2850/2850 [==============================] - 1s 212us/step\n"
     ]
    },
    {
     "name": "stderr",
     "output_type": "stream",
     "text": [
      " 73%|███████▎  | 73/100 [05:43<02:04,  4.61s/it]"
     ]
    },
    {
     "name": "stdout",
     "output_type": "stream",
     "text": [
      "2850/2850 [==============================] - 1s 215us/step\n"
     ]
    },
    {
     "name": "stderr",
     "output_type": "stream",
     "text": [
      " 74%|███████▍  | 74/100 [05:48<01:59,  4.60s/it]"
     ]
    },
    {
     "name": "stdout",
     "output_type": "stream",
     "text": [
      "2850/2850 [==============================] - 1s 215us/step\n"
     ]
    },
    {
     "name": "stderr",
     "output_type": "stream",
     "text": [
      " 75%|███████▌  | 75/100 [05:52<01:54,  4.60s/it]"
     ]
    },
    {
     "name": "stdout",
     "output_type": "stream",
     "text": [
      "2850/2850 [==============================] - 1s 217us/step\n"
     ]
    },
    {
     "name": "stderr",
     "output_type": "stream",
     "text": [
      " 76%|███████▌  | 76/100 [05:57<01:50,  4.60s/it]"
     ]
    },
    {
     "name": "stdout",
     "output_type": "stream",
     "text": [
      "2850/2850 [==============================] - 1s 215us/step\n"
     ]
    },
    {
     "name": "stderr",
     "output_type": "stream",
     "text": [
      " 77%|███████▋  | 77/100 [06:01<01:45,  4.60s/it]"
     ]
    },
    {
     "name": "stdout",
     "output_type": "stream",
     "text": [
      "2850/2850 [==============================] - 1s 216us/step\n"
     ]
    },
    {
     "name": "stderr",
     "output_type": "stream",
     "text": [
      " 78%|███████▊  | 78/100 [06:06<01:41,  4.60s/it]"
     ]
    },
    {
     "name": "stdout",
     "output_type": "stream",
     "text": [
      "2850/2850 [==============================] - 1s 215us/step\n"
     ]
    },
    {
     "name": "stderr",
     "output_type": "stream",
     "text": [
      " 79%|███████▉  | 79/100 [06:11<01:36,  4.60s/it]"
     ]
    },
    {
     "name": "stdout",
     "output_type": "stream",
     "text": [
      "2850/2850 [==============================] - 1s 215us/step\n"
     ]
    },
    {
     "name": "stderr",
     "output_type": "stream",
     "text": [
      " 80%|████████  | 80/100 [06:15<01:32,  4.62s/it]"
     ]
    },
    {
     "name": "stdout",
     "output_type": "stream",
     "text": [
      "2850/2850 [==============================] - 1s 215us/step\n"
     ]
    },
    {
     "name": "stderr",
     "output_type": "stream",
     "text": [
      " 81%|████████  | 81/100 [06:20<01:27,  4.61s/it]"
     ]
    },
    {
     "name": "stdout",
     "output_type": "stream",
     "text": [
      "2850/2850 [==============================] - 1s 213us/step\n"
     ]
    },
    {
     "name": "stderr",
     "output_type": "stream",
     "text": [
      " 82%|████████▏ | 82/100 [06:24<01:22,  4.59s/it]"
     ]
    },
    {
     "name": "stdout",
     "output_type": "stream",
     "text": [
      "2850/2850 [==============================] - 1s 212us/step\n"
     ]
    },
    {
     "name": "stderr",
     "output_type": "stream",
     "text": [
      " 83%|████████▎ | 83/100 [06:29<01:18,  4.59s/it]"
     ]
    },
    {
     "name": "stdout",
     "output_type": "stream",
     "text": [
      "2850/2850 [==============================] - 1s 215us/step\n"
     ]
    },
    {
     "name": "stderr",
     "output_type": "stream",
     "text": [
      " 84%|████████▍ | 84/100 [06:34<01:15,  4.70s/it]"
     ]
    },
    {
     "name": "stdout",
     "output_type": "stream",
     "text": [
      "2850/2850 [==============================] - 1s 220us/step\n"
     ]
    },
    {
     "name": "stderr",
     "output_type": "stream",
     "text": [
      " 85%|████████▌ | 85/100 [06:38<01:09,  4.66s/it]"
     ]
    },
    {
     "name": "stdout",
     "output_type": "stream",
     "text": [
      "2850/2850 [==============================] - 1s 213us/step\n"
     ]
    },
    {
     "name": "stderr",
     "output_type": "stream",
     "text": [
      " 86%|████████▌ | 86/100 [06:43<01:04,  4.63s/it]"
     ]
    },
    {
     "name": "stdout",
     "output_type": "stream",
     "text": [
      "2850/2850 [==============================] - 1s 211us/step\n"
     ]
    },
    {
     "name": "stderr",
     "output_type": "stream",
     "text": [
      " 87%|████████▋ | 87/100 [06:48<00:59,  4.61s/it]"
     ]
    },
    {
     "name": "stdout",
     "output_type": "stream",
     "text": [
      "2850/2850 [==============================] - 1s 213us/step\n"
     ]
    },
    {
     "name": "stderr",
     "output_type": "stream",
     "text": [
      " 88%|████████▊ | 88/100 [06:52<00:55,  4.59s/it]"
     ]
    },
    {
     "name": "stdout",
     "output_type": "stream",
     "text": [
      "2850/2850 [==============================] - 1s 214us/step\n"
     ]
    },
    {
     "name": "stderr",
     "output_type": "stream",
     "text": [
      " 89%|████████▉ | 89/100 [06:57<00:50,  4.59s/it]"
     ]
    },
    {
     "name": "stdout",
     "output_type": "stream",
     "text": [
      "2850/2850 [==============================] - 1s 214us/step\n"
     ]
    },
    {
     "name": "stderr",
     "output_type": "stream",
     "text": [
      " 90%|█████████ | 90/100 [07:01<00:45,  4.59s/it]"
     ]
    },
    {
     "name": "stdout",
     "output_type": "stream",
     "text": [
      "2850/2850 [==============================] - 1s 214us/step\n"
     ]
    },
    {
     "name": "stderr",
     "output_type": "stream",
     "text": [
      " 91%|█████████ | 91/100 [07:06<00:41,  4.60s/it]"
     ]
    },
    {
     "name": "stdout",
     "output_type": "stream",
     "text": [
      "2850/2850 [==============================] - 1s 219us/step\n"
     ]
    },
    {
     "name": "stderr",
     "output_type": "stream",
     "text": [
      " 92%|█████████▏| 92/100 [07:10<00:36,  4.59s/it]"
     ]
    },
    {
     "name": "stdout",
     "output_type": "stream",
     "text": [
      "2850/2850 [==============================] - 1s 213us/step\n"
     ]
    },
    {
     "name": "stderr",
     "output_type": "stream",
     "text": [
      " 93%|█████████▎| 93/100 [07:15<00:32,  4.59s/it]"
     ]
    },
    {
     "name": "stdout",
     "output_type": "stream",
     "text": [
      "2850/2850 [==============================] - 1s 213us/step\n"
     ]
    },
    {
     "name": "stderr",
     "output_type": "stream",
     "text": [
      " 94%|█████████▍| 94/100 [07:20<00:27,  4.59s/it]"
     ]
    },
    {
     "name": "stdout",
     "output_type": "stream",
     "text": [
      "2850/2850 [==============================] - 1s 216us/step\n"
     ]
    },
    {
     "name": "stderr",
     "output_type": "stream",
     "text": [
      " 95%|█████████▌| 95/100 [07:24<00:22,  4.59s/it]"
     ]
    },
    {
     "name": "stdout",
     "output_type": "stream",
     "text": [
      "2850/2850 [==============================] - 1s 251us/step\n"
     ]
    },
    {
     "name": "stderr",
     "output_type": "stream",
     "text": [
      " 96%|█████████▌| 96/100 [07:29<00:18,  4.62s/it]"
     ]
    },
    {
     "name": "stdout",
     "output_type": "stream",
     "text": [
      "2850/2850 [==============================] - 1s 213us/step\n"
     ]
    },
    {
     "name": "stderr",
     "output_type": "stream",
     "text": [
      " 97%|█████████▋| 97/100 [07:34<00:13,  4.61s/it]"
     ]
    },
    {
     "name": "stdout",
     "output_type": "stream",
     "text": [
      "2850/2850 [==============================] - 1s 211us/step\n"
     ]
    },
    {
     "name": "stderr",
     "output_type": "stream",
     "text": [
      " 98%|█████████▊| 98/100 [07:38<00:09,  4.59s/it]"
     ]
    },
    {
     "name": "stdout",
     "output_type": "stream",
     "text": [
      "2850/2850 [==============================] - 1s 222us/step\n"
     ]
    },
    {
     "name": "stderr",
     "output_type": "stream",
     "text": [
      " 99%|█████████▉| 99/100 [07:43<00:04,  4.58s/it]"
     ]
    },
    {
     "name": "stdout",
     "output_type": "stream",
     "text": [
      "2850/2850 [==============================] - 1s 215us/step\n"
     ]
    },
    {
     "name": "stderr",
     "output_type": "stream",
     "text": [
      "100%|██████████| 100/100 [07:47<00:00,  4.68s/it]"
     ]
    },
    {
     "name": "stdout",
     "output_type": "stream",
     "text": [
      "Best class weights:  {0: 1.0, 1: 2.8181818181818183}\n",
      "Best F1 score:  0.5888932465291395\n"
     ]
    },
    {
     "name": "stderr",
     "output_type": "stream",
     "text": [
      "\n"
     ]
    }
   ],
   "source": [
    "\n",
    "for class_weights in tqdm(class_weights_grid):\n",
    "\n",
    "    #Build and compile model as before\n",
    "    model = build_model(input_shape)\n",
    "    model.compile(optimizer='adam',\n",
    "                  loss=tf.keras.losses.BinaryCrossentropy(),\n",
    "                  metrics=[metrics.BinaryAccuracy(name='accuracy'),\n",
    "                           metrics.Precision(name='precision'),\n",
    "                           metrics.Recall(name='recall'),\n",
    "                           metrics.AUC(name='auc')])\n",
    "\n",
    "    # Train model with current class weight\n",
    "    model.fit(x_train_tensor,\n",
    "              y_train_tensor,\n",
    "              epochs=20,\n",
    "              validation_split=0.1,\n",
    "              batch_size=200,\n",
    "              class_weight=class_weights,\n",
    "              verbose=0)  # Turn off output \n",
    "\n",
    "    # Evaluate F1 Score\n",
    "    y_train_scores = model.predict(x_train_tensor).flatten()\n",
    "    y_train_pred = (y_train_scores > Cutoffp).astype(int)\n",
    "    f1 = f1_score(y_train_tensor, y_train_pred)\n",
    "\n",
    "    if f1 > highest_f1:\n",
    "        best_class_weights = class_weights\n",
    "        highest_f1 = f1\n",
    "\n",
    "# Output the best class weights\n",
    "print(\"Best class weights: \", best_class_weights)\n",
    "print(\"Best F1 score: \", highest_f1)"
   ],
   "metadata": {
    "collapsed": false,
    "ExecuteTime": {
     "end_time": "2024-02-11T23:10:48.515325Z",
     "start_time": "2024-02-11T23:03:00.812667Z"
    }
   },
   "execution_count": 58
  },
  {
   "cell_type": "code",
   "outputs": [
    {
     "name": "stdout",
     "output_type": "stream",
     "text": [
      "Epoch 1/20\n",
      "411/411 [==============================] - 1s 714us/step - loss: 1.2365 - accuracy: 0.4121 - precision: 0.4121 - recall: 1.0000 - auc: 0.4989 - val_loss: 0.8564 - val_accuracy: 0.4319 - val_precision: 0.4319 - val_recall: 1.0000 - val_auc: 0.5000\n",
      "Epoch 2/20\n",
      "411/411 [==============================] - 0s 488us/step - loss: 1.2358 - accuracy: 0.4121 - precision: 0.4121 - recall: 1.0000 - auc: 0.4971 - val_loss: 0.8664 - val_accuracy: 0.4319 - val_precision: 0.4319 - val_recall: 1.0000 - val_auc: 0.5000\n",
      "Epoch 3/20\n",
      "411/411 [==============================] - 0s 483us/step - loss: 1.2358 - accuracy: 0.4121 - precision: 0.4121 - recall: 1.0000 - auc: 0.4983 - val_loss: 0.8618 - val_accuracy: 0.4319 - val_precision: 0.4319 - val_recall: 1.0000 - val_auc: 0.5000\n",
      "Epoch 4/20\n",
      "411/411 [==============================] - 0s 511us/step - loss: 1.2358 - accuracy: 0.4121 - precision: 0.4121 - recall: 1.0000 - auc: 0.4994 - val_loss: 0.8615 - val_accuracy: 0.4319 - val_precision: 0.4319 - val_recall: 1.0000 - val_auc: 0.5000\n",
      "Epoch 5/20\n",
      "411/411 [==============================] - 0s 481us/step - loss: 1.2357 - accuracy: 0.4121 - precision: 0.4121 - recall: 1.0000 - auc: 0.4978 - val_loss: 0.8609 - val_accuracy: 0.4319 - val_precision: 0.4319 - val_recall: 1.0000 - val_auc: 0.5000\n",
      "Epoch 6/20\n",
      "411/411 [==============================] - 0s 475us/step - loss: 1.2357 - accuracy: 0.4121 - precision: 0.4121 - recall: 1.0000 - auc: 0.5008 - val_loss: 0.8581 - val_accuracy: 0.4319 - val_precision: 0.4319 - val_recall: 1.0000 - val_auc: 0.5000\n",
      "Epoch 7/20\n",
      "411/411 [==============================] - 0s 475us/step - loss: 1.2357 - accuracy: 0.4121 - precision: 0.4121 - recall: 1.0000 - auc: 0.4999 - val_loss: 0.8534 - val_accuracy: 0.4319 - val_precision: 0.4319 - val_recall: 1.0000 - val_auc: 0.5000\n",
      "Epoch 8/20\n",
      "411/411 [==============================] - 0s 480us/step - loss: 1.2358 - accuracy: 0.4121 - precision: 0.4121 - recall: 1.0000 - auc: 0.4975 - val_loss: 0.8634 - val_accuracy: 0.4319 - val_precision: 0.4319 - val_recall: 1.0000 - val_auc: 0.5000\n",
      "Epoch 9/20\n",
      "411/411 [==============================] - 0s 472us/step - loss: 1.2357 - accuracy: 0.4121 - precision: 0.4121 - recall: 1.0000 - auc: 0.4987 - val_loss: 0.8516 - val_accuracy: 0.4319 - val_precision: 0.4319 - val_recall: 1.0000 - val_auc: 0.5000\n",
      "Epoch 10/20\n",
      "411/411 [==============================] - 0s 483us/step - loss: 1.2358 - accuracy: 0.4121 - precision: 0.4121 - recall: 1.0000 - auc: 0.4970 - val_loss: 0.8622 - val_accuracy: 0.4319 - val_precision: 0.4319 - val_recall: 1.0000 - val_auc: 0.5000\n",
      "Epoch 11/20\n",
      "411/411 [==============================] - 0s 474us/step - loss: 1.2358 - accuracy: 0.4121 - precision: 0.4121 - recall: 1.0000 - auc: 0.4967 - val_loss: 0.8571 - val_accuracy: 0.4319 - val_precision: 0.4319 - val_recall: 1.0000 - val_auc: 0.5000\n",
      "Epoch 12/20\n",
      "411/411 [==============================] - 0s 473us/step - loss: 1.2781 - accuracy: 0.4125 - precision: 0.4121 - recall: 0.9975 - auc: 0.4979 - val_loss: 0.8533 - val_accuracy: 0.4319 - val_precision: 0.4319 - val_recall: 1.0000 - val_auc: 0.5000\n",
      "Epoch 13/20\n",
      "411/411 [==============================] - 0s 482us/step - loss: 1.2358 - accuracy: 0.4121 - precision: 0.4121 - recall: 1.0000 - auc: 0.5004 - val_loss: 0.8596 - val_accuracy: 0.4319 - val_precision: 0.4319 - val_recall: 1.0000 - val_auc: 0.5000\n",
      "Epoch 14/20\n",
      "411/411 [==============================] - 0s 471us/step - loss: 1.2358 - accuracy: 0.4121 - precision: 0.4121 - recall: 1.0000 - auc: 0.5002 - val_loss: 0.8621 - val_accuracy: 0.4319 - val_precision: 0.4319 - val_recall: 1.0000 - val_auc: 0.5000\n",
      "Epoch 15/20\n",
      "411/411 [==============================] - 0s 470us/step - loss: 1.2358 - accuracy: 0.4121 - precision: 0.4121 - recall: 1.0000 - auc: 0.5011 - val_loss: 0.8647 - val_accuracy: 0.4319 - val_precision: 0.4319 - val_recall: 1.0000 - val_auc: 0.5000\n",
      "Epoch 16/20\n",
      "411/411 [==============================] - 0s 483us/step - loss: 1.2358 - accuracy: 0.4121 - precision: 0.4121 - recall: 1.0000 - auc: 0.5030 - val_loss: 0.8580 - val_accuracy: 0.4319 - val_precision: 0.4319 - val_recall: 1.0000 - val_auc: 0.5000\n",
      "Epoch 17/20\n",
      "411/411 [==============================] - 0s 483us/step - loss: 1.2358 - accuracy: 0.4121 - precision: 0.4121 - recall: 1.0000 - auc: 0.4990 - val_loss: 0.8588 - val_accuracy: 0.4319 - val_precision: 0.4319 - val_recall: 1.0000 - val_auc: 0.5000\n",
      "Epoch 18/20\n",
      "411/411 [==============================] - 0s 486us/step - loss: 1.2358 - accuracy: 0.4121 - precision: 0.4121 - recall: 1.0000 - auc: 0.4981 - val_loss: 0.8641 - val_accuracy: 0.4319 - val_precision: 0.4319 - val_recall: 1.0000 - val_auc: 0.5000\n",
      "Epoch 19/20\n",
      "411/411 [==============================] - 0s 476us/step - loss: 1.2359 - accuracy: 0.4121 - precision: 0.4121 - recall: 1.0000 - auc: 0.4975 - val_loss: 0.8533 - val_accuracy: 0.4319 - val_precision: 0.4319 - val_recall: 1.0000 - val_auc: 0.5000\n",
      "Epoch 20/20\n",
      "411/411 [==============================] - 0s 466us/step - loss: 1.2359 - accuracy: 0.4121 - precision: 0.4121 - recall: 1.0000 - auc: 0.4976 - val_loss: 0.8472 - val_accuracy: 0.4319 - val_precision: 0.4319 - val_recall: 1.0000 - val_auc: 0.5000\n",
      "2850/2850 [==============================] - 1s 218us/step\n",
      "713/713 [==============================] - 0s 218us/step\n",
      "Summarizing model performance:\n",
      "\n",
      "AUPRC on Training set: 0.7070417438787706\n",
      "AUPRC on Testing set: 0.6953947368421053\n",
      "F1 Score on Training set: 0.5856563510464242\n",
      "F1 Score on Testing set: 0.5619678334910123\n",
      "Epoch 1/20\n",
      "411/411 [==============================] - 0s 495us/step - loss: 0.6960 - accuracy: 0.5493 - val_loss: 0.6852 - val_accuracy: 0.5681\n",
      "Epoch 2/20\n",
      "411/411 [==============================] - 0s 375us/step - loss: 0.6776 - accuracy: 0.5879 - val_loss: 0.6850 - val_accuracy: 0.5681\n",
      "Epoch 3/20\n",
      "411/411 [==============================] - 0s 375us/step - loss: 0.6777 - accuracy: 0.5879 - val_loss: 0.6840 - val_accuracy: 0.5681\n",
      "Epoch 4/20\n",
      "411/411 [==============================] - 0s 366us/step - loss: 0.6777 - accuracy: 0.5879 - val_loss: 0.6849 - val_accuracy: 0.5681\n",
      "Epoch 5/20\n",
      "411/411 [==============================] - 0s 370us/step - loss: 0.6777 - accuracy: 0.5879 - val_loss: 0.6843 - val_accuracy: 0.5681\n",
      "Epoch 6/20\n",
      "411/411 [==============================] - 0s 374us/step - loss: 0.6777 - accuracy: 0.5879 - val_loss: 0.6850 - val_accuracy: 0.5681\n",
      "Epoch 7/20\n",
      "411/411 [==============================] - 0s 367us/step - loss: 0.6777 - accuracy: 0.5879 - val_loss: 0.6844 - val_accuracy: 0.5681\n",
      "Epoch 8/20\n",
      "411/411 [==============================] - 0s 367us/step - loss: 0.6777 - accuracy: 0.5879 - val_loss: 0.6851 - val_accuracy: 0.5681\n",
      "Epoch 9/20\n",
      "411/411 [==============================] - 0s 372us/step - loss: 0.6777 - accuracy: 0.5879 - val_loss: 0.6849 - val_accuracy: 0.5681\n",
      "Epoch 10/20\n",
      "411/411 [==============================] - 0s 368us/step - loss: 0.6777 - accuracy: 0.5879 - val_loss: 0.6846 - val_accuracy: 0.5681\n",
      "Epoch 11/20\n",
      "411/411 [==============================] - 0s 367us/step - loss: 0.6777 - accuracy: 0.5879 - val_loss: 0.6855 - val_accuracy: 0.5681\n",
      "Epoch 12/20\n",
      "411/411 [==============================] - 0s 405us/step - loss: 0.6777 - accuracy: 0.5879 - val_loss: 0.6845 - val_accuracy: 0.5681\n",
      "Epoch 13/20\n",
      "411/411 [==============================] - 0s 374us/step - loss: 0.6778 - accuracy: 0.5879 - val_loss: 0.6845 - val_accuracy: 0.5681\n",
      "Epoch 14/20\n",
      "411/411 [==============================] - 0s 368us/step - loss: 0.6777 - accuracy: 0.5879 - val_loss: 0.6841 - val_accuracy: 0.5681\n",
      "Epoch 15/20\n",
      "411/411 [==============================] - 0s 361us/step - loss: 0.6777 - accuracy: 0.5879 - val_loss: 0.6848 - val_accuracy: 0.5681\n",
      "Epoch 16/20\n",
      "411/411 [==============================] - 0s 375us/step - loss: 0.6777 - accuracy: 0.5879 - val_loss: 0.6846 - val_accuracy: 0.5681\n",
      "Epoch 17/20\n",
      "411/411 [==============================] - 0s 369us/step - loss: 0.6777 - accuracy: 0.5879 - val_loss: 0.6848 - val_accuracy: 0.5681\n",
      "Epoch 18/20\n",
      "411/411 [==============================] - 0s 369us/step - loss: 0.6777 - accuracy: 0.5879 - val_loss: 0.6850 - val_accuracy: 0.5681\n",
      "Epoch 19/20\n",
      "411/411 [==============================] - 0s 369us/step - loss: 0.6777 - accuracy: 0.5879 - val_loss: 0.6844 - val_accuracy: 0.5681\n",
      "Epoch 20/20\n",
      "411/411 [==============================] - 0s 371us/step - loss: 0.6777 - accuracy: 0.5879 - val_loss: 0.6841 - val_accuracy: 0.5681\n",
      "AUPRC on Training set: 0.9998481845263991\n",
      "AUPRC on Testing set: 0.7433658626514683\n",
      "F1 Score on Training set: 0.5817302458672223\n",
      "F1 Score on Testing set: 0.5779773599027037\n",
      "AUPRC on Training set: 0.9991328362200965\n",
      "AUPRC on Testing set: 0.8438441183739309\n",
      "F1 Score on Training set: 0.5817302458672223\n",
      "F1 Score on Testing set: 0.5779773599027037\n"
     ]
    },
    {
     "name": "stderr",
     "output_type": "stream",
     "text": [
      "/Users/benfunk/DataspellProjects/RandomProjects/venv/lib/python3.11/site-packages/sklearn/metrics/_scorer.py:548: FutureWarning: The `needs_threshold` and `needs_proba` parameter are deprecated in version 1.4 and will be removed in 1.6. You can either let `response_method` be `None` or set it to `predict` to preserve the same behaviour.\n",
      "  warnings.warn(\n"
     ]
    },
    {
     "name": "stdout",
     "output_type": "stream",
     "text": [
      "Best Parameters:  {'max_depth': 80, 'max_features': 'sqrt', 'n_estimators': 1000}  \n",
      "AUPRC on Training set: 0.9991328362200963\n",
      "AUPRC on Testing set: 0.843844192752115\n",
      "F1 Score on Training set: 0.5817302458672223\n",
      "F1 Score on Testing set: 0.5779773599027037\n"
     ]
    }
   ],
   "source": [
    "\n",
    "\n",
    "# Class weights for cost-sensitive training\n",
    "\n",
    "\n",
    "class_weights = {0: 1., 1: 3.6}  # You can fine-tune this based on your specific case\n",
    "early_stopping = EarlyStopping(monitor='accuracy', patience=50, restore_best_weights=True)\n",
    "\n",
    "with tf.device('/GPU:0'):\n",
    "    # Regular model training\n",
    "    model = build_model(input_shape)\n",
    "    model.compile(optimizer='adam', loss=tf.keras.losses.BinaryCrossentropy(),\n",
    "                  metrics=[metrics.BinaryAccuracy(name='accuracy'),\n",
    "                           metrics.Precision(name='precision'),\n",
    "                           metrics.Recall(name='recall'),\n",
    "                           metrics.AUC(name='auc')])\n",
    "\n",
    "    model.fit(x_train_tensor, y_train_tensor, epochs=20, validation_split=0.1, batch_size=200,\n",
    "              class_weight=class_weights)\n",
    "\n",
    "    # Get model's predictions (as class labels using threshold of 0.5)\n",
    "    y_train_scores = model.predict(x_train_tensor).flatten()\n",
    "    y_test_scores = model.predict(x_test_tensor).flatten()\n",
    "    y_train_pred = (y_train_scores > Cutoffp).astype(int)\n",
    "    y_test_pred = (y_test_scores > Cutoffp).astype(int)\n",
    "\n",
    "    print(f\"Summarizing model performance:\\n\")\n",
    "\n",
    "    # Precision-Recall curve\n",
    "    precision_train, recall_train, _ = precision_recall_curve(y_train_tensor, y_train_pred)\n",
    "    precision_test, recall_test, _ = precision_recall_curve(y_test_tensor, y_test_pred)\n",
    "\n",
    "    # Calculate AUC\n",
    "    auprc_train = auc(recall_train, precision_train)\n",
    "    auprc_test = auc(recall_test, precision_test)\n",
    "    print(f\"AUPRC on Training set: {auprc_train}\")\n",
    "    print(f\"AUPRC on Testing set: {auprc_test}\")\n",
    "\n",
    "    # Calculate F1 Score\n",
    "    f1_train = f1_score(y_train_tensor, y_train_pred)\n",
    "    f1_test = f1_score(y_test_tensor, y_test_pred)\n",
    "    print(f\"F1 Score on Training set: {f1_train}\")\n",
    "    print(f\"F1 Score on Testing set: {f1_test}\")\n",
    "    model.compile(optimizer='adam', loss=tf.keras.losses.BinaryCrossentropy(), metrics=['accuracy'])\n",
    "model.fit(x_train_tensor, y_train_tensor, epochs=20, validation_split=0.1, batch_size=200)  #Data importing\n",
    "dataFrame = pd.read_csv('./dataset.csv')\n",
    "\n",
    "# variable I will try to predict: popularity\n",
    "# the dataset is taken from: https://www.kaggle.com/datasets/maharshipandya/-spotify-tracks-dataset/\n",
    "\n",
    "dataFrame['popularity_flag'] = 0\n",
    "dataFrame.loc[dataFrame['popularity'] > Cutoff, 'popularity_flag'] = 1\n",
    "# Label encoding 'track_genre'\n",
    "le = LabelEncoder()\n",
    "dataFrame['track_genre_encoded'] = le.fit_transform(dataFrame['track_genre'])\n",
    "\n",
    "# Drop the columns\n",
    "dataFrame = dataFrame.drop(\n",
    "    columns=['Unnamed: 0', 'track_id', 'artists', 'album_name', 'track_name', 'track_genre', 'popularity'])\n",
    "\n",
    "inputs = ['track_genre_encoded', 'danceability', 'energy', 'key', 'loudness', 'mode', 'speechiness', 'acousticness',\n",
    "          'instrumentalness', 'liveness', 'valence', 'tempo', 'time_signature', 'explicit']\n",
    "target = ['popularity_flag']\n",
    "\n",
    "X_train, X_test, y_train, y_test = train_test_split(dataFrame[inputs], dataFrame[target], test_size=0.2,\n",
    "                                                    random_state=42)\n",
    "\n",
    "dt = DecisionTreeClassifier(random_state=42)\n",
    "dt.fit(X_train, y_train)\n",
    "\n",
    "# Print the confusion matrix using Matplotlib\n",
    "y_train_scores_dt = dt.predict_proba(X_train)[:, 1]\n",
    "y_test_scores_dt = dt.predict_proba(X_test)[:, 1]\n",
    "# Precision-Recall curve\n",
    "precision_train, recall_train, _ = precision_recall_curve(y_train, y_train_scores_dt)\n",
    "precision_test, recall_test, _ = precision_recall_curve(y_test, y_test_scores_dt)\n",
    "\n",
    "# AUC\n",
    "auprc_train = auc(recall_train, precision_train)\n",
    "auprc_test = auc(recall_test, precision_test)\n",
    "\n",
    "print(f\"AUPRC on Training set: {auprc_train}\")\n",
    "print(f\"AUPRC on Testing set: {auprc_test}\")\n",
    "\n",
    "# Calculate F1 Score for both train and test sets\n",
    "f1_train = f1_score(ytrain, y_train_pred)\n",
    "f1_test = f1_score(ytest, y_test_pred)\n",
    "\n",
    "print(f\"F1 Score on Training set: {f1_train}\")\n",
    "print(f\"F1 Score on Testing set: {f1_test}\")\n",
    "\n",
    "#Create a Gaussian Classifier\n",
    "rf = RandomForestClassifier(n_estimators=1000, n_jobs=-1, random_state=42)\n",
    "\n",
    "#Train the model using the training sets y_pred=clf.predict(X_test)\n",
    "rf.fit(X_train, y_train.values.ravel())\n",
    "y_train_predrf = rf.predict(X_train)\n",
    "y_test_predrf = rf.predict(X_test)\n",
    "\n",
    "conf_matrix_rf = confusion_matrix(y_true=y_test, y_pred=y_test_predrf)\n",
    "\n",
    "y_train_scores_dt = rf.predict_proba(X_train)[:, 1]\n",
    "y_test_scores_dt = rf.predict_proba(X_test)[:, 1]\n",
    "# Precision-Recall curve\n",
    "precision_train, recall_train, _ = precision_recall_curve(y_train, y_train_scores_dt)\n",
    "precision_test, recall_test, _ = precision_recall_curve(y_test, y_test_scores_dt)\n",
    "\n",
    "# AUC\n",
    "auprc_train = auc(recall_train, precision_train)\n",
    "auprc_test = auc(recall_test, precision_test)\n",
    "\n",
    "print(f\"AUPRC on Training set: {auprc_train}\")\n",
    "print(f\"AUPRC on Testing set: {auprc_test}\")\n",
    "\n",
    "# Calculate F1 Score for both train and test sets\n",
    "f1_train = f1_score(ytrain, y_train_pred)\n",
    "f1_test = f1_score(ytest, y_test_pred)\n",
    "\n",
    "print(f\"F1 Score on Training set: {f1_train}\")\n",
    "print(f\"F1 Score on Testing set: {f1_test}\")\n",
    "\n",
    "\n",
    "def custom_auc(y_true, y_pred):\n",
    "    # check if y_pred is 1-dimensional\n",
    "    if len(y_pred.shape) == 1:\n",
    "        precision, recall, _ = precision_recall_curve(y_true, y_pred)\n",
    "    else:\n",
    "        precision, recall, _ = precision_recall_curve(y_true, y_pred[:, 1])\n",
    "    return auc(recall, precision)\n",
    "\n",
    "\n",
    "# Create the parameter grid based on the results of random search\n",
    "param_grid = {\n",
    "    'max_depth': [20, 80, 100],\n",
    "    'max_features': ['sqrt'],\n",
    "    'n_estimators': [100, 500, 1000]\n",
    "}\n",
    "# Create a based model\n",
    "rf_0 = RandomForestClassifier(n_jobs=-1, random_state=42)\n",
    "# Instantiate the grid search model\n",
    "grid_search = GridSearchCV(estimator=rf_0, param_grid=param_grid, scoring=make_scorer(custom_auc, needs_proba=True))\n",
    "grid_search.fit(X_train, y_train.values.ravel())\n",
    "print('Best Parameters: ', grid_search.best_params_, ' \\n')\n",
    "\n",
    "#Create a Gaussian Classifier\n",
    "rf2 = RandomForestClassifier(n_estimators=1000, max_depth=100, max_features='sqrt', min_samples_leaf=1,\n",
    "                             min_samples_split=2, n_jobs=-1, random_state=42)\n",
    "\n",
    "#Train the model using the training sets y_pred=clf.predict(X_test)\n",
    "rf2.fit(X_train, y_train.values.ravel())\n",
    "\n",
    "y_train_scores_dt = rf2.predict_proba(X_train)[:, 1]\n",
    "y_test_scores_dt = rf2.predict_proba(X_test)[:, 1]\n",
    "\n",
    "# Precision-Recall curve\n",
    "precision_train, recall_train, _ = precision_recall_curve(y_train, y_train_scores_dt)\n",
    "precision_test, recall_test, _ = precision_recall_curve(y_test, y_test_scores_dt)\n",
    "\n",
    "# AUC\n",
    "auprc_train = auc(recall_train, precision_train)\n",
    "auprc_test = auc(recall_test, precision_test)\n",
    "\n",
    "print(f\"AUPRC on Training set: {auprc_train}\")\n",
    "print(f\"AUPRC on Testing set: {auprc_test}\")\n",
    "\n",
    "# Calculate F1 Score for both train and test sets\n",
    "f1_train = f1_score(ytrain, y_train_pred)\n",
    "f1_test = f1_score(ytest, y_test_pred)\n",
    "\n",
    "print(f\"F1 Score on Training set: {f1_train}\")\n",
    "print(f\"F1 Score on Testing set: {f1_test}\")"
   ],
   "metadata": {
    "collapsed": false,
    "ExecuteTime": {
     "end_time": "2024-02-11T23:16:55.633295Z",
     "start_time": "2024-02-11T23:10:48.523526Z"
    }
   },
   "execution_count": 59
  },
  {
   "cell_type": "code",
   "outputs": [],
   "source": [],
   "metadata": {
    "collapsed": false
   }
  }
 ],
 "metadata": {
  "kernelspec": {
   "display_name": "Python 3",
   "language": "python",
   "name": "python3"
  },
  "language_info": {
   "codemirror_mode": {
    "name": "ipython",
    "version": 2
   },
   "file_extension": ".py",
   "mimetype": "text/x-python",
   "name": "python",
   "nbconvert_exporter": "python",
   "pygments_lexer": "ipython2",
   "version": "2.7.6"
  }
 },
 "nbformat": 4,
 "nbformat_minor": 0
}
