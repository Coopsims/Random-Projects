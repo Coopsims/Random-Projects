{
 "cells": [
  {
   "cell_type": "code",
   "execution_count": 2,
   "metadata": {
    "collapsed": true,
    "ExecuteTime": {
     "end_time": "2024-02-05T17:28:25.568676Z",
     "start_time": "2024-02-05T17:28:25.566763Z"
    }
   },
   "outputs": [],
   "source": [
    "# Standard DS imports\n",
    "import pandas as pd\n",
    "import numpy as np\n",
    "from sklearn import neighbors\n",
    "from sklearn.preprocessing import LabelEncoder\n",
    "from matplotlib import pyplot as plt\n",
    "from sklearn.metrics import confusion_matrix\n",
    "from sklearn.model_selection import train_test_split\n",
    "from sklearn.metrics import make_scorer, confusion_matrix, precision_score, recall_score, f1_score, accuracy_score\n",
    "from sklearn.model_selection import GridSearchCV\n",
    "from sklearn.ensemble import RandomForestClassifier\n",
    "from sklearn.tree import DecisionTreeClassifier\n",
    "from sklearn.metrics import precision_recall_curve, auc\n",
    "import seaborn as sns\n",
    "from tqdm import tqdm\n",
    "\n",
    "\n",
    "# All pytorch dependencies\n",
    "import torch\n",
    "import torch.optim as optim\n",
    "import torch.nn as nn\n",
    "from torch.utils.data import DataLoader, TensorDataset, random_split\n",
    "\n",
    "\n",
    "\n",
    "# all tensorflow dependencies\n",
    "import tensorflow as tf\n",
    "import keras\n",
    "from keras.callbacks import EarlyStopping\n",
    "from keras import metrics"
   ]
  },
  {
   "cell_type": "code",
   "execution_count": 3,
   "outputs": [
    {
     "data": {
      "text/plain": "   Unnamed: 0                track_id                 artists  \\\n0           0  5SuOikwiRyPMVoIQDJUgSV             Gen Hoshino   \n1           1  4qPNDBW1i3p13qLCt0Ki3A            Ben Woodward   \n2           2  1iJBSr7s7jYXzM8EGcbK5b  Ingrid Michaelson;ZAYN   \n3           3  6lfxq3CG4xtTiEg7opyCyx            Kina Grannis   \n4           4  5vjLSffimiIP26QG5WcN2K        Chord Overstreet   \n\n                                          album_name  \\\n0                                             Comedy   \n1                                   Ghost (Acoustic)   \n2                                     To Begin Again   \n3  Crazy Rich Asians (Original Motion Picture Sou...   \n4                                            Hold On   \n\n                   track_name  popularity  duration_ms  explicit  \\\n0                      Comedy          73       230666     False   \n1            Ghost - Acoustic          55       149610     False   \n2              To Begin Again          57       210826     False   \n3  Can't Help Falling In Love          71       201933     False   \n4                     Hold On          82       198853     False   \n\n   danceability  energy  ...  loudness  mode  speechiness  acousticness  \\\n0         0.676  0.4610  ...    -6.746     0       0.1430        0.0322   \n1         0.420  0.1660  ...   -17.235     1       0.0763        0.9240   \n2         0.438  0.3590  ...    -9.734     1       0.0557        0.2100   \n3         0.266  0.0596  ...   -18.515     1       0.0363        0.9050   \n4         0.618  0.4430  ...    -9.681     1       0.0526        0.4690   \n\n   instrumentalness  liveness  valence    tempo  time_signature  track_genre  \n0          0.000001    0.3580    0.715   87.917               4     acoustic  \n1          0.000006    0.1010    0.267   77.489               4     acoustic  \n2          0.000000    0.1170    0.120   76.332               4     acoustic  \n3          0.000071    0.1320    0.143  181.740               3     acoustic  \n4          0.000000    0.0829    0.167  119.949               4     acoustic  \n\n[5 rows x 21 columns]",
      "text/html": "<div>\n<style scoped>\n    .dataframe tbody tr th:only-of-type {\n        vertical-align: middle;\n    }\n\n    .dataframe tbody tr th {\n        vertical-align: top;\n    }\n\n    .dataframe thead th {\n        text-align: right;\n    }\n</style>\n<table border=\"1\" class=\"dataframe\">\n  <thead>\n    <tr style=\"text-align: right;\">\n      <th></th>\n      <th>Unnamed: 0</th>\n      <th>track_id</th>\n      <th>artists</th>\n      <th>album_name</th>\n      <th>track_name</th>\n      <th>popularity</th>\n      <th>duration_ms</th>\n      <th>explicit</th>\n      <th>danceability</th>\n      <th>energy</th>\n      <th>...</th>\n      <th>loudness</th>\n      <th>mode</th>\n      <th>speechiness</th>\n      <th>acousticness</th>\n      <th>instrumentalness</th>\n      <th>liveness</th>\n      <th>valence</th>\n      <th>tempo</th>\n      <th>time_signature</th>\n      <th>track_genre</th>\n    </tr>\n  </thead>\n  <tbody>\n    <tr>\n      <th>0</th>\n      <td>0</td>\n      <td>5SuOikwiRyPMVoIQDJUgSV</td>\n      <td>Gen Hoshino</td>\n      <td>Comedy</td>\n      <td>Comedy</td>\n      <td>73</td>\n      <td>230666</td>\n      <td>False</td>\n      <td>0.676</td>\n      <td>0.4610</td>\n      <td>...</td>\n      <td>-6.746</td>\n      <td>0</td>\n      <td>0.1430</td>\n      <td>0.0322</td>\n      <td>0.000001</td>\n      <td>0.3580</td>\n      <td>0.715</td>\n      <td>87.917</td>\n      <td>4</td>\n      <td>acoustic</td>\n    </tr>\n    <tr>\n      <th>1</th>\n      <td>1</td>\n      <td>4qPNDBW1i3p13qLCt0Ki3A</td>\n      <td>Ben Woodward</td>\n      <td>Ghost (Acoustic)</td>\n      <td>Ghost - Acoustic</td>\n      <td>55</td>\n      <td>149610</td>\n      <td>False</td>\n      <td>0.420</td>\n      <td>0.1660</td>\n      <td>...</td>\n      <td>-17.235</td>\n      <td>1</td>\n      <td>0.0763</td>\n      <td>0.9240</td>\n      <td>0.000006</td>\n      <td>0.1010</td>\n      <td>0.267</td>\n      <td>77.489</td>\n      <td>4</td>\n      <td>acoustic</td>\n    </tr>\n    <tr>\n      <th>2</th>\n      <td>2</td>\n      <td>1iJBSr7s7jYXzM8EGcbK5b</td>\n      <td>Ingrid Michaelson;ZAYN</td>\n      <td>To Begin Again</td>\n      <td>To Begin Again</td>\n      <td>57</td>\n      <td>210826</td>\n      <td>False</td>\n      <td>0.438</td>\n      <td>0.3590</td>\n      <td>...</td>\n      <td>-9.734</td>\n      <td>1</td>\n      <td>0.0557</td>\n      <td>0.2100</td>\n      <td>0.000000</td>\n      <td>0.1170</td>\n      <td>0.120</td>\n      <td>76.332</td>\n      <td>4</td>\n      <td>acoustic</td>\n    </tr>\n    <tr>\n      <th>3</th>\n      <td>3</td>\n      <td>6lfxq3CG4xtTiEg7opyCyx</td>\n      <td>Kina Grannis</td>\n      <td>Crazy Rich Asians (Original Motion Picture Sou...</td>\n      <td>Can't Help Falling In Love</td>\n      <td>71</td>\n      <td>201933</td>\n      <td>False</td>\n      <td>0.266</td>\n      <td>0.0596</td>\n      <td>...</td>\n      <td>-18.515</td>\n      <td>1</td>\n      <td>0.0363</td>\n      <td>0.9050</td>\n      <td>0.000071</td>\n      <td>0.1320</td>\n      <td>0.143</td>\n      <td>181.740</td>\n      <td>3</td>\n      <td>acoustic</td>\n    </tr>\n    <tr>\n      <th>4</th>\n      <td>4</td>\n      <td>5vjLSffimiIP26QG5WcN2K</td>\n      <td>Chord Overstreet</td>\n      <td>Hold On</td>\n      <td>Hold On</td>\n      <td>82</td>\n      <td>198853</td>\n      <td>False</td>\n      <td>0.618</td>\n      <td>0.4430</td>\n      <td>...</td>\n      <td>-9.681</td>\n      <td>1</td>\n      <td>0.0526</td>\n      <td>0.4690</td>\n      <td>0.000000</td>\n      <td>0.0829</td>\n      <td>0.167</td>\n      <td>119.949</td>\n      <td>4</td>\n      <td>acoustic</td>\n    </tr>\n  </tbody>\n</table>\n<p>5 rows × 21 columns</p>\n</div>"
     },
     "execution_count": 3,
     "metadata": {},
     "output_type": "execute_result"
    }
   ],
   "source": [
    "#Data importing\n",
    "dataFrame = pd.read_csv('./dataset.csv')\n",
    "dataFrame.head()"
   ],
   "metadata": {
    "collapsed": false,
    "ExecuteTime": {
     "end_time": "2024-02-05T17:28:26.439973Z",
     "start_time": "2024-02-05T17:28:26.243758Z"
    }
   }
  },
  {
   "cell_type": "code",
   "outputs": [
    {
     "data": {
      "text/plain": "                       id                                 name  popularity  \\\n0  35iwgR4jXetI318WEWsa1Q                                Carve           6   \n1  021ht4sdgPcrDgSk7JTbKY  Capítulo 2.16 - Banquero Anarquista           0   \n2  07A5yehtSnoedViJAZkNnc   Vivo para Quererte - Remasterizado           0   \n3  08FmqUhxtyLTn6pAh6bk45        El Prisionero - Remasterizado           0   \n4  08y9GfoqCWfOGsKdwojr5e                  Lady of the Evening           0   \n\n   duration_ms  explicit              artists                  id_artists  \\\n0       126903         0              ['Uli']  ['45tIt06XoI0Iio4LBEVpls']   \n1        98200         0  ['Fernando Pessoa']  ['14jtPCOoNZwquk5wd9DxrY']   \n2       181640         0  ['Ignacio Corsini']  ['5LiOoJbxVSAMkBS2fUm3X2']   \n3       176907         0  ['Ignacio Corsini']  ['5LiOoJbxVSAMkBS2fUm3X2']   \n4       163080         0      ['Dick Haymes']  ['3BiJGZsyX9sJchTqcSA7Su']   \n\n  release_date  danceability  energy  key  loudness  mode  speechiness  \\\n0   1922-02-22         0.645  0.4450    0   -13.338     1       0.4510   \n1   1922-06-01         0.695  0.2630    0   -22.136     1       0.9570   \n2   1922-03-21         0.434  0.1770    1   -21.180     1       0.0512   \n3   1922-03-21         0.321  0.0946    7   -27.961     1       0.0504   \n4         1922         0.402  0.1580    3   -16.900     0       0.0390   \n\n   acousticness  instrumentalness  liveness  valence    tempo  time_signature  \n0         0.674            0.7440     0.151    0.127  104.851               3  \n1         0.797            0.0000     0.148    0.655  102.009               1  \n2         0.994            0.0218     0.212    0.457  130.418               5  \n3         0.995            0.9180     0.104    0.397  169.980               3  \n4         0.989            0.1300     0.311    0.196  103.220               4  ",
      "text/html": "<div>\n<style scoped>\n    .dataframe tbody tr th:only-of-type {\n        vertical-align: middle;\n    }\n\n    .dataframe tbody tr th {\n        vertical-align: top;\n    }\n\n    .dataframe thead th {\n        text-align: right;\n    }\n</style>\n<table border=\"1\" class=\"dataframe\">\n  <thead>\n    <tr style=\"text-align: right;\">\n      <th></th>\n      <th>id</th>\n      <th>name</th>\n      <th>popularity</th>\n      <th>duration_ms</th>\n      <th>explicit</th>\n      <th>artists</th>\n      <th>id_artists</th>\n      <th>release_date</th>\n      <th>danceability</th>\n      <th>energy</th>\n      <th>key</th>\n      <th>loudness</th>\n      <th>mode</th>\n      <th>speechiness</th>\n      <th>acousticness</th>\n      <th>instrumentalness</th>\n      <th>liveness</th>\n      <th>valence</th>\n      <th>tempo</th>\n      <th>time_signature</th>\n    </tr>\n  </thead>\n  <tbody>\n    <tr>\n      <th>0</th>\n      <td>35iwgR4jXetI318WEWsa1Q</td>\n      <td>Carve</td>\n      <td>6</td>\n      <td>126903</td>\n      <td>0</td>\n      <td>['Uli']</td>\n      <td>['45tIt06XoI0Iio4LBEVpls']</td>\n      <td>1922-02-22</td>\n      <td>0.645</td>\n      <td>0.4450</td>\n      <td>0</td>\n      <td>-13.338</td>\n      <td>1</td>\n      <td>0.4510</td>\n      <td>0.674</td>\n      <td>0.7440</td>\n      <td>0.151</td>\n      <td>0.127</td>\n      <td>104.851</td>\n      <td>3</td>\n    </tr>\n    <tr>\n      <th>1</th>\n      <td>021ht4sdgPcrDgSk7JTbKY</td>\n      <td>Capítulo 2.16 - Banquero Anarquista</td>\n      <td>0</td>\n      <td>98200</td>\n      <td>0</td>\n      <td>['Fernando Pessoa']</td>\n      <td>['14jtPCOoNZwquk5wd9DxrY']</td>\n      <td>1922-06-01</td>\n      <td>0.695</td>\n      <td>0.2630</td>\n      <td>0</td>\n      <td>-22.136</td>\n      <td>1</td>\n      <td>0.9570</td>\n      <td>0.797</td>\n      <td>0.0000</td>\n      <td>0.148</td>\n      <td>0.655</td>\n      <td>102.009</td>\n      <td>1</td>\n    </tr>\n    <tr>\n      <th>2</th>\n      <td>07A5yehtSnoedViJAZkNnc</td>\n      <td>Vivo para Quererte - Remasterizado</td>\n      <td>0</td>\n      <td>181640</td>\n      <td>0</td>\n      <td>['Ignacio Corsini']</td>\n      <td>['5LiOoJbxVSAMkBS2fUm3X2']</td>\n      <td>1922-03-21</td>\n      <td>0.434</td>\n      <td>0.1770</td>\n      <td>1</td>\n      <td>-21.180</td>\n      <td>1</td>\n      <td>0.0512</td>\n      <td>0.994</td>\n      <td>0.0218</td>\n      <td>0.212</td>\n      <td>0.457</td>\n      <td>130.418</td>\n      <td>5</td>\n    </tr>\n    <tr>\n      <th>3</th>\n      <td>08FmqUhxtyLTn6pAh6bk45</td>\n      <td>El Prisionero - Remasterizado</td>\n      <td>0</td>\n      <td>176907</td>\n      <td>0</td>\n      <td>['Ignacio Corsini']</td>\n      <td>['5LiOoJbxVSAMkBS2fUm3X2']</td>\n      <td>1922-03-21</td>\n      <td>0.321</td>\n      <td>0.0946</td>\n      <td>7</td>\n      <td>-27.961</td>\n      <td>1</td>\n      <td>0.0504</td>\n      <td>0.995</td>\n      <td>0.9180</td>\n      <td>0.104</td>\n      <td>0.397</td>\n      <td>169.980</td>\n      <td>3</td>\n    </tr>\n    <tr>\n      <th>4</th>\n      <td>08y9GfoqCWfOGsKdwojr5e</td>\n      <td>Lady of the Evening</td>\n      <td>0</td>\n      <td>163080</td>\n      <td>0</td>\n      <td>['Dick Haymes']</td>\n      <td>['3BiJGZsyX9sJchTqcSA7Su']</td>\n      <td>1922</td>\n      <td>0.402</td>\n      <td>0.1580</td>\n      <td>3</td>\n      <td>-16.900</td>\n      <td>0</td>\n      <td>0.0390</td>\n      <td>0.989</td>\n      <td>0.1300</td>\n      <td>0.311</td>\n      <td>0.196</td>\n      <td>103.220</td>\n      <td>4</td>\n    </tr>\n  </tbody>\n</table>\n</div>"
     },
     "execution_count": 54,
     "metadata": {},
     "output_type": "execute_result"
    }
   ],
   "source": [
    "\n",
    "dataFrame = pd.read_csv('./tracks.csv')\n",
    "dataFrame.head()\n"
   ],
   "metadata": {
    "collapsed": false,
    "ExecuteTime": {
     "end_time": "2024-02-05T19:27:15.937811Z",
     "start_time": "2024-02-05T19:27:14.879095Z"
    }
   },
   "execution_count": 54
  },
  {
   "cell_type": "code",
   "outputs": [],
   "source": [
    "\n",
    "# variable I will try to predict: popularity\n",
    "# the dataset is taken from: https://www.kaggle.com/datasets/maharshipandya/-spotify-tracks-dataset/ or https://www.kaggle.com/code/skylarhew/python-spotify-matrix\n",
    "\n",
    "dataFrame['popularity_flag'] = 0\n",
    "dataFrame.loc[dataFrame['popularity'] > 40, 'popularity_flag'] = 1\n",
    "# # Label encoding 'track_genre'\n",
    "# le = LabelEncoder()\n",
    "# dataFrame['track_genre_encoded'] = le.fit_transform(dataFrame['track_genre'])\n",
    "# \n",
    "# # Drop the columns\n",
    "# dataFrame = dataFrame.drop(columns=['Unnamed: 0', 'track_id', 'artists', 'album_name', 'track_genre', 'track_name', 'popularity']) \n",
    "\n",
    "dataFrame = dataFrame.drop(columns=['id', 'name', 'artists', 'id_artists', 'release_date'])"
   ],
   "metadata": {
    "collapsed": false,
    "ExecuteTime": {
     "end_time": "2024-02-05T19:27:15.942435Z",
     "start_time": "2024-02-05T19:27:15.927247Z"
    }
   },
   "execution_count": 55
  },
  {
   "cell_type": "code",
   "outputs": [
    {
     "name": "stdout",
     "output_type": "stream",
     "text": [
      "                  popularity  duration_ms  explicit  danceability    energy  \\\n",
      "popularity          1.000000     0.027681  0.211758      0.187000  0.302315   \n",
      "duration_ms         0.027681     1.000000 -0.016747     -0.120371  0.024825   \n",
      "explicit            0.211758    -0.016747  1.000000      0.150229  0.123076   \n",
      "danceability        0.187000    -0.120371  0.150229      1.000000  0.241563   \n",
      "energy              0.302315     0.024825  0.123076      0.241563  1.000000   \n",
      "key                 0.015299     0.004626  0.010932      0.018824  0.036294   \n",
      "loudness            0.327028     0.000337  0.134603      0.251436  0.764735   \n",
      "mode               -0.033655    -0.027610 -0.051754     -0.044719 -0.065246   \n",
      "speechiness        -0.047357    -0.125771  0.102258      0.199310 -0.053506   \n",
      "acousticness       -0.370882    -0.064434 -0.149018     -0.242951 -0.715412   \n",
      "instrumentalness   -0.236487     0.069278 -0.067520     -0.225900 -0.195839   \n",
      "liveness           -0.048740     0.002137 -0.013114     -0.106168  0.124632   \n",
      "valence             0.004643    -0.163202 -0.016539      0.528150  0.372276   \n",
      "tempo               0.071364    -0.001210  0.005745     -0.040783  0.230099   \n",
      "time_signature      0.086759     0.037552  0.044447      0.146196  0.188983   \n",
      "popularity_flag     0.765310     0.021406  0.200352      0.142525  0.201358   \n",
      "\n",
      "                       key  loudness      mode  speechiness  acousticness  \\\n",
      "popularity        0.015299  0.327028 -0.033655    -0.047357     -0.370882   \n",
      "duration_ms       0.004626  0.000337 -0.027610    -0.125771     -0.064434   \n",
      "explicit          0.010932  0.134603 -0.051754     0.102258     -0.149018   \n",
      "danceability      0.018824  0.251436 -0.044719     0.199310     -0.242951   \n",
      "energy            0.036294  0.764735 -0.065246    -0.053506     -0.715412   \n",
      "key               1.000000  0.027109 -0.129491    -0.001035     -0.027414   \n",
      "loudness          0.027109  1.000000 -0.040464    -0.167112     -0.519423   \n",
      "mode             -0.129491 -0.040464  1.000000    -0.017992      0.058918   \n",
      "speechiness      -0.001035 -0.167112 -0.017992     1.000000      0.069060   \n",
      "acousticness     -0.027414 -0.519423  0.058918     0.069060      1.000000   \n",
      "instrumentalness -0.006776 -0.329306 -0.010008    -0.102440      0.204412   \n",
      "liveness         -0.006774  0.029529  0.007009     0.207047     -0.004738   \n",
      "valence           0.019992  0.275448  0.011474     0.046501     -0.180939   \n",
      "tempo             0.004904  0.189288  0.007871    -0.086911     -0.195235   \n",
      "time_signature    0.008928  0.164377 -0.015892    -0.114171     -0.173927   \n",
      "popularity_flag   0.015341  0.255347 -0.027112    -0.064664     -0.239879   \n",
      "\n",
      "                  instrumentalness  liveness   valence     tempo  \\\n",
      "popularity               -0.236487 -0.048740  0.004643  0.071364   \n",
      "duration_ms               0.069278  0.002137 -0.163202 -0.001210   \n",
      "explicit                 -0.067520 -0.013114 -0.016539  0.005745   \n",
      "danceability             -0.225900 -0.106168  0.528150 -0.040783   \n",
      "energy                   -0.195839  0.124632  0.372276  0.230099   \n",
      "key                      -0.006776 -0.006774  0.019992  0.004904   \n",
      "loudness                 -0.329306  0.029529  0.275448  0.189288   \n",
      "mode                     -0.010008  0.007009  0.011474  0.007871   \n",
      "speechiness              -0.102440  0.207047  0.046501 -0.086911   \n",
      "acousticness              0.204412 -0.004738 -0.180939 -0.195235   \n",
      "instrumentalness          1.000000 -0.038848 -0.175226 -0.055477   \n",
      "liveness                 -0.038848  1.000000 -0.000034 -0.014912   \n",
      "valence                  -0.175226 -0.000034  1.000000  0.135250   \n",
      "tempo                    -0.055477 -0.014912  0.135250  1.000000   \n",
      "time_signature           -0.042257 -0.024202  0.105529  0.031875   \n",
      "popularity_flag          -0.121253 -0.056963 -0.022466  0.050438   \n",
      "\n",
      "                  time_signature  popularity_flag  \n",
      "popularity              0.086759         0.765310  \n",
      "duration_ms             0.037552         0.021406  \n",
      "explicit                0.044447         0.200352  \n",
      "danceability            0.146196         0.142525  \n",
      "energy                  0.188983         0.201358  \n",
      "key                     0.008928         0.015341  \n",
      "loudness                0.164377         0.255347  \n",
      "mode                   -0.015892        -0.027112  \n",
      "speechiness            -0.114171        -0.064664  \n",
      "acousticness           -0.173927        -0.239879  \n",
      "instrumentalness       -0.042257        -0.121253  \n",
      "liveness               -0.024202        -0.056963  \n",
      "valence                 0.105529        -0.022466  \n",
      "tempo                   0.031875         0.050438  \n",
      "time_signature          1.000000         0.067582  \n",
      "popularity_flag         0.067582         1.000000  \n"
     ]
    },
    {
     "data": {
      "text/plain": "<Axes: >"
     },
     "execution_count": 56,
     "metadata": {},
     "output_type": "execute_result"
    },
    {
     "data": {
      "text/plain": "<Figure size 1100x900 with 2 Axes>",
      "image/png": "[encoded data removed]"
     },
     "metadata": {},
     "output_type": "display_data"
    }
   ],
   "source": [
    "# Calculate correlation matrix\n",
    "corr_matrix = dataFrame.corr()\n",
    "\n",
    "# Show correlation matrix\n",
    "print(corr_matrix)\n",
    "\n",
    "# Generate a mask for the upper triangle\n",
    "mask = np.triu(np.ones_like(corr_matrix, dtype=bool))\n",
    "\n",
    "# Set up the matplotlib figure\n",
    "f, ax = plt.subplots(figsize=(11, 9))\n",
    "\n",
    "# Generate a custom diverging colormap\n",
    "cmap = sns.diverging_palette(230, 20, as_cmap=True,)\n",
    "\n",
    "# Draw the heatmap with the mask and correct aspect ratio\n",
    "sns.heatmap(corr_matrix, mask=mask, cmap=cmap, vmax=.3, center=0,\n",
    "            square=True, linewidths=.5, cbar_kws={\"shrink\": .5})"
   ],
   "metadata": {
    "collapsed": false,
    "ExecuteTime": {
     "end_time": "2024-02-05T19:27:16.399218Z",
     "start_time": "2024-02-05T19:27:15.942397Z"
    }
   },
   "execution_count": 56
  },
  {
   "cell_type": "markdown",
   "source": [
    "Label to integer mapping: {'acoustic': 0, 'afrobeat': 1, 'alt-rock': 2, 'alternative': 3, 'ambient': 4, 'anime': 5, 'black-metal': 6, 'bluegrass': 7, 'blues': 8, 'brazil': 9, 'breakbeat': 10, 'british': 11, 'cantopop': 12, 'chicago-house': 13, 'children': 14, 'chill': 15, 'classical': 16, 'club': 17, 'comedy': 18, 'country': 19, 'dance': 20, 'dancehall': 21, 'death-metal': 22, 'deep-house': 23, 'detroit-techno': 24, 'disco': 25, 'disney': 26, 'drum-and-bass': 27, 'dub': 28, 'dubstep': 29, 'edm': 30, 'electro': 31, 'electronic': 32, 'emo': 33, 'folk': 34, 'forro': 35, 'french': 36, 'funk': 37, 'garage': 38, 'german': 39, 'gospel': 40, 'goth': 41, 'grindcore': 42, 'groove': 43, 'grunge': 44, 'guitar': 45, 'happy': 46, 'hard-rock': 47, 'hardcore': 48, 'hardstyle': 49, 'heavy-metal': 50, 'hip-hop': 51, 'honky-tonk': 52, 'house': 53, 'idm': 54, 'indian': 55, 'indie': 56, 'indie-pop': 57, 'industrial': 58, 'iranian': 59, 'j-dance': 60, 'j-idol': 61, 'j-pop': 62, 'j-rock': 63, 'jazz': 64, 'k-pop': 65, 'kids': 66, 'latin': 67, 'latino': 68, 'malay': 69, 'mandopop': 70, 'metal': 71, 'metalcore': 72, 'minimal-techno': 73, 'mpb': 74, 'new-age': 75, 'opera': 76, 'pagode': 77, 'party': 78, 'piano': 79, 'pop': 80, 'pop-film': 81, 'power-pop': 82, 'progressive-house': 83, 'psych-rock': 84, 'punk': 85, 'punk-rock': 86, 'r-n-b': 87, 'reggae': 88, 'reggaeton': 89, 'rock': 90, 'rock-n-roll': 91, 'rockabilly': 92, 'romance': 93, 'sad': 94, 'salsa': 95, 'samba': 96, 'sertanejo': 97, 'show-tunes': 98, 'singer-songwriter': 99, 'ska': 100, 'sleep': 101, 'songwriter': 102, 'soul': 103, 'spanish': 104, 'study': 105, 'swedish': 106, 'synth-pop': 107, 'tango': 108, 'techno': 109, 'trance': 110, 'trip-hop': 111, 'turkish': 112, 'world-music': 113}"
   ],
   "metadata": {
    "collapsed": false
   }
  },
  {
   "cell_type": "markdown",
   "source": [
    "This is a lot to go through but basically it is assigning each genre a number so that I now have a quantitative variable instead of a qualitative one. this allows for a neural net to run on the data."
   ],
   "metadata": {
    "collapsed": false
   }
  },
  {
   "cell_type": "code",
   "execution_count": 57,
   "outputs": [],
   "source": [
    "inputs = [ 'danceability', 'energy', 'key', 'loudness', 'mode', 'speechiness', 'acousticness',\n",
    "          'instrumentalness', 'liveness', 'valence', 'tempo', 'time_signature', 'explicit'] # 'track_genre_encoded',\n",
    "target = ['popularity_flag']"
   ],
   "metadata": {
    "collapsed": false,
    "ExecuteTime": {
     "end_time": "2024-02-05T19:27:17.777667Z",
     "start_time": "2024-02-05T19:27:17.771780Z"
    }
   }
  },
  {
   "cell_type": "code",
   "execution_count": 58,
   "outputs": [],
   "source": [
    "xtrain, xtest, ytrain, ytest = train_test_split(dataFrame[inputs], dataFrame[target], test_size=0.2, random_state=42)"
   ],
   "metadata": {
    "collapsed": false,
    "ExecuteTime": {
     "end_time": "2024-02-05T19:27:18.378759Z",
     "start_time": "2024-02-05T19:27:18.327387Z"
    }
   }
  },
  {
   "cell_type": "code",
   "outputs": [
    {
     "name": "stdout",
     "output_type": "stream",
     "text": [
      "The AUPRC baseline is: 0.2522238817736509\n"
     ]
    }
   ],
   "source": [
    "# Assuming y_train is your training labels\n",
    "positive_class_proportion = np.mean(ytrain)\n",
    "\n",
    "print(f\"The AUPRC baseline is: {positive_class_proportion}\")"
   ],
   "metadata": {
    "collapsed": false,
    "ExecuteTime": {
     "end_time": "2024-02-05T19:27:18.764132Z",
     "start_time": "2024-02-05T19:27:18.758712Z"
    }
   },
   "execution_count": 59
  },
  {
   "cell_type": "markdown",
   "source": [
    "This means that if my model is guessing it should have a score of 0.24 or 24% as the I am working with an unbalanced dataset. It focuses on the trade-off between precision and recall, and the AUPRC (Area Under the Precision-Recall Curve) is  useful for evaluating imbalanced dataset models... like what I have. It provides a measure of how well the model can increase its prediction accuracy on the positive class without incurring too many false positive errors."
   ],
   "metadata": {
    "collapsed": false
   }
  },
  {
   "cell_type": "code",
   "execution_count": 60,
   "outputs": [
    {
     "name": "stdout",
     "output_type": "stream",
     "text": [
      "AUPRC on Training set: 0.8059550607692713\n",
      "AUPRC on Testing set: 0.530306482135398\n",
      "F1 Score on Training set: 0.7594346738910627\n",
      "F1 Score on Testing set: 0.4489449767730339\n",
      "Confusion Matrix on Training set: \n",
      "[[276096  74863]\n",
      " [    82 118296]]\n",
      "Confusion Matrix on Testing set: \n",
      "[[56066 31966]\n",
      " [11569 17734]]\n"
     ]
    }
   ],
   "source": [
    "model = neighbors.KNeighborsRegressor(2)\n",
    "model.fit(xtrain,ytrain)\n",
    "ypred = model.predict(xtest)\n",
    "ypred = (ypred > 0.4).astype(int)  # Apply a threshold \n",
    "\n",
    "y_train_scores = model.predict(xtrain)\n",
    "y_test_scores = model.predict(xtest)\n",
    "\n",
    "#Apply same threshold to train predictions\n",
    "y_train_pred = (y_train_scores > 0.4).astype(int)\n",
    "y_test_pred = (y_test_scores > 0.4).astype(int)\n",
    "\n",
    "# Precision-Recall curve\n",
    "precision_train, recall_train, _ = precision_recall_curve(ytrain, y_train_pred)\n",
    "precision_test, recall_test, _ = precision_recall_curve(ytest, y_test_pred)\n",
    "\n",
    "# AUC\n",
    "auprc_train = auc(recall_train, precision_train)\n",
    "auprc_test = auc(recall_test, precision_test)\n",
    "\n",
    "print(f\"AUPRC on Training set: {auprc_train}\")\n",
    "print(f\"AUPRC on Testing set: {auprc_test}\")\n",
    "\n",
    "# Calculate F1 Score\n",
    "f1_train = f1_score(ytrain, y_train_pred)\n",
    "f1_test = f1_score(ytest, y_test_pred)\n",
    "\n",
    "print(f\"F1 Score on Training set: {f1_train}\")\n",
    "print(f\"F1 Score on Testing set: {f1_test}\")\n",
    "\n",
    "# Calculate confusion matrix for training set and test set\n",
    "cm_train = confusion_matrix(ytrain, y_train_pred)\n",
    "cm_test = confusion_matrix(ytest, y_test_pred)\n",
    "\n",
    "print(f\"Confusion Matrix on Training set: \\n{cm_train}\")\n",
    "print(f\"Confusion Matrix on Testing set: \\n{cm_test}\")"
   ],
   "metadata": {
    "collapsed": false,
    "ExecuteTime": {
     "end_time": "2024-02-05T19:27:35.706823Z",
     "start_time": "2024-02-05T19:27:19.831580Z"
    }
   }
  },
  {
   "cell_type": "markdown",
   "source": [
    "this does fine on the training set but leaves much to be desired on the testing set. for this project any f1 score over .5 will be a good model"
   ],
   "metadata": {
    "collapsed": false
   }
  },
  {
   "cell_type": "code",
   "outputs": [
    {
     "name": "stdout",
     "output_type": "stream",
     "text": [
      "AUPRC on Training set: 0.8059550607692713\n",
      "AUPRC on Testing set: 0.530306482135398\n",
      "F1 Score on Training set: 0.7594346738910627\n",
      "F1 Score on Testing set: 0.4489449767730339\n",
      "Confusion Matrix on Training set: \n",
      "[[276096  74863]\n",
      " [    82 118296]]\n",
      "Confusion Matrix on Testing set: \n",
      "[[56066 31966]\n",
      " [11569 17734]]\n"
     ]
    }
   ],
   "source": [
    "model = neighbors.KNeighborsClassifier(n_neighbors=2)\n",
    "model.fit(xtrain, ytrain.values.ravel())\n",
    "y_train_scores = model.predict_proba(xtrain)[:, 1]\n",
    "y_test_scores = model.predict_proba(xtest)[:, 1]\n",
    "\n",
    "#Apply same threshold to train predictions\n",
    "y_train_pred = (y_train_scores > 0.4).astype(int)\n",
    "y_test_pred = (y_test_scores > 0.4).astype(int)\n",
    "\n",
    "# Precision-Recall curve\n",
    "precision_train, recall_train, _ = precision_recall_curve(ytrain, y_train_pred)\n",
    "precision_test, recall_test, _ = precision_recall_curve(ytest, y_test_pred)\n",
    "\n",
    "# AUC\n",
    "auprc_train = auc(recall_train, precision_train)\n",
    "auprc_test = auc(recall_test, precision_test)\n",
    "\n",
    "print(f\"AUPRC on Training set: {auprc_train}\")\n",
    "print(f\"AUPRC on Testing set: {auprc_test}\")\n",
    "\n",
    "# Calculate F1 Score\n",
    "f1_train = f1_score(ytrain, y_train_pred)\n",
    "f1_test = f1_score(ytest, y_test_pred)\n",
    "\n",
    "print(f\"F1 Score on Training set: {f1_train}\")\n",
    "print(f\"F1 Score on Testing set: {f1_test}\")\n",
    "\n",
    "# Calculate confusion matrix for training set and test set\n",
    "cm_train = confusion_matrix(ytrain, y_train_pred)\n",
    "cm_test = confusion_matrix(ytest, y_test_pred)\n",
    "\n",
    "print(f\"Confusion Matrix on Training set: \\n{cm_train}\")\n",
    "print(f\"Confusion Matrix on Testing set: \\n{cm_test}\")"
   ],
   "metadata": {
    "collapsed": false,
    "ExecuteTime": {
     "end_time": "2024-02-05T19:27:48.772620Z",
     "start_time": "2024-02-05T19:27:35.710161Z"
    }
   },
   "execution_count": 61
  },
  {
   "cell_type": "code",
   "execution_count": 62,
   "outputs": [],
   "source": [
    "# Data importing\n",
    "dataFrame = pd.read_csv('./tracks.csv')\n",
    "dataFrame['popularity_flag'] = 0\n",
    "dataFrame.loc[dataFrame['popularity'] > 40, 'popularity_flag'] = 1\n",
    "\n",
    "# # Label encoding 'track_genre'\n",
    "# le = LabelEncoder()\n",
    "# dataFrame['track_genre_encoded'] = le.fit_transform(dataFrame['track_genre'])\n",
    "# \n",
    "# # Drop the columns\n",
    "# dataFrame = dataFrame.drop(columns=['Unnamed: 0', 'track_id', 'artists', 'album_name', 'track_genre', 'track_name', 'popularity'])\n",
    "\n",
    "# Drop the columns\n",
    "dataFrame = dataFrame.drop(columns=['id', 'name', 'artists', 'id_artists', 'release_date'])\n",
    "\n",
    "# Split into features and target\n",
    "X = dataFrame.drop(columns=['popularity_flag'])\n",
    "y = dataFrame['popularity_flag']"
   ],
   "metadata": {
    "collapsed": false,
    "ExecuteTime": {
     "end_time": "2024-02-05T19:28:24.266416Z",
     "start_time": "2024-02-05T19:28:23.164839Z"
    }
   }
  },
  {
   "cell_type": "code",
   "outputs": [],
   "source": [
    "# Handle missing values - filling with 0 as an example\n",
    "X_filled = X.fillna(0)\n",
    "\n",
    "# Optionally, convert to a specific dtype (e.g., float32) to ensure consistency\n",
    "X_filled = X_filled.astype('float32')\n",
    "\n",
    "# Now convert to PyTorch tensors\n",
    "X_tensor = torch.tensor(X_filled.values, dtype=torch.float32)\n",
    "y_tensor = torch.tensor(y.values, dtype=torch.float32).unsqueeze(1)  # Assuming y is already numeric and has no missing values\n",
    "\n",
    "dataset = TensorDataset(X_tensor, y_tensor)\n",
    "train_size = int(0.8 * len(dataset))\n",
    "test_size = len(dataset) - train_size\n",
    "train_dataset, test_dataset = random_split(dataset, [train_size, test_size])\n",
    "\n",
    "# Use pin_memory=True safely because data is on CPU\n",
    "train_loader = DataLoader(train_dataset, batch_size=200, shuffle=True, pin_memory=True)\n",
    "test_loader = DataLoader(test_dataset, batch_size=200, shuffle=False, pin_memory=True)"
   ],
   "metadata": {
    "collapsed": false,
    "ExecuteTime": {
     "end_time": "2024-02-05T19:28:24.601201Z",
     "start_time": "2024-02-05T19:28:24.558118Z"
    }
   },
   "execution_count": 63
  },
  {
   "cell_type": "code",
   "outputs": [
    {
     "name": "stdout",
     "output_type": "stream",
     "text": [
      "Using device: cpu\n"
     ]
    }
   ],
   "source": [
    "# Define the device\n",
    "device = torch.device(\"cuda\" if torch.cuda.is_available() else \"cpu\")\n",
    "print(f\"Using device: {device}\")"
   ],
   "metadata": {
    "collapsed": false,
    "ExecuteTime": {
     "end_time": "2024-02-05T19:28:25.878287Z",
     "start_time": "2024-02-05T19:28:25.860431Z"
    }
   },
   "execution_count": 64
  },
  {
   "cell_type": "code",
   "outputs": [],
   "source": [
    "# Model definition\n",
    "class NeuralNetwork(nn.Module):\n",
    "    def __init__(self, input_shape):\n",
    "        super(NeuralNetwork, self).__init__()\n",
    "        self.linear_relu_stack = nn.Sequential(\n",
    "            nn.Linear(input_shape, 8),\n",
    "            nn.ReLU(),\n",
    "            nn.Linear(8, 64),\n",
    "            nn.ReLU(),\n",
    "            nn.Linear(64, 64),\n",
    "            nn.ELU(),\n",
    "            nn.Linear(64, 16),\n",
    "            nn.ELU(),\n",
    "            nn.Linear(16, 1),\n",
    "            nn.Sigmoid(),\n",
    "        )\n",
    "\n",
    "    def forward(self, x):\n",
    "        logits = self.linear_relu_stack(x)\n",
    "        return logits"
   ],
   "metadata": {
    "collapsed": false,
    "ExecuteTime": {
     "end_time": "2024-02-05T19:28:26.517268Z",
     "start_time": "2024-02-05T19:28:26.512005Z"
    }
   },
   "execution_count": 65
  },
  {
   "cell_type": "code",
   "outputs": [
    {
     "name": "stderr",
     "output_type": "stream",
     "text": [
      "100%|██████████| 4/4 [00:10<00:00,  2.68s/it]"
     ]
    },
    {
     "name": "stdout",
     "output_type": "stream",
     "text": [
      "Best class weight (pos_weight):  6\n",
      "Best F1 score:  0.4005152812235884\n"
     ]
    },
    {
     "name": "stderr",
     "output_type": "stream",
     "text": [
      "\n"
     ]
    }
   ],
   "source": [
    "# Loss Functions\n",
    "def calculate_f1(model, dataloader, device):\n",
    "    model.eval()  # Set model to evaluation mode\n",
    "    true_y, pred_y = [], []\n",
    "    with torch.no_grad():\n",
    "        for X, y in dataloader:\n",
    "            X, y = X.to(device), y.to(device)\n",
    "            logits = model(X)\n",
    "            preds = torch.round(torch.sigmoid(logits))\n",
    "            true_y.extend(y.view(-1).tolist())\n",
    "            pred_y.extend(preds.view(-1).tolist())\n",
    "    f1 = f1_score(true_y, pred_y)\n",
    "    return f1\n",
    "\n",
    "# Move the model to the specified device (GPU or CPU)\n",
    "model = NeuralNetwork(X_tensor.shape[1]).to(device)\n",
    "\n",
    "# Optimizer\n",
    "optimizer = optim.Adam(model.parameters())\n",
    "\n",
    "\n",
    "# Training loop\n",
    "def train_loop(dataloader, model, loss_fn, optimizer):\n",
    "    size = len(dataloader.dataset)\n",
    "    model.train()  # Set the model to training mode\n",
    "    for batch, (X, y) in enumerate(dataloader):\n",
    "        X, y = X.to(device), y.to(device)\n",
    "        # Compute prediction and loss\n",
    "        pred = model(X)\n",
    "        loss = loss_fn(pred, y)\n",
    "\n",
    "        # Backpropagation\n",
    "        optimizer.zero_grad()\n",
    "        loss.backward()\n",
    "        optimizer.step()\n",
    "\n",
    "        if batch % 100 == 0:\n",
    "            loss, current = loss.item(), batch * len(X)\n",
    "\n",
    "\n",
    "\n",
    "\n",
    "# Initialize the model and optimizer\n",
    "input_shape = X_tensor.shape[1]\n",
    "model = NeuralNetwork(input_shape).to(device)\n",
    "optimizer = torch.optim.Adam(model.parameters())\n",
    "\n",
    "# Assuming you have a train_loader and a validation_loader\n",
    "\n",
    "# class_weights = torch.linspace(1, 10, 1000).to(device)  # PyTorch tensor for class weights\n",
    "\n",
    "# Example of how to train with class weights for a single epoch\n",
    "class_weights = torch.tensor([4, 6,8,10]).to(device)  # Example class weights\n",
    "\n",
    "# Variables to save the best model\n",
    "best_f1 = 0\n",
    "best_model = None\n",
    "best_pos_weight = None\n",
    "\n",
    "for weight in tqdm(class_weights):\n",
    "    pos_weight = torch.tensor([weight]).to(device)\n",
    "    loss_fn = nn.BCEWithLogitsLoss(pos_weight=pos_weight)\n",
    "\n",
    "    # Initialize model and optimizer for each run\n",
    "    model = NeuralNetwork(input_shape).to(device)\n",
    "    optimizer = torch.optim.Adam(model.parameters())\n",
    "\n",
    "    # Train the model\n",
    "    train_loop(train_loader, model, loss_fn, optimizer)\n",
    "\n",
    "    # Evaluate F1 Score on the validation set\n",
    "    f1 = calculate_f1(model, test_loader, device)\n",
    "\n",
    "    if f1 > best_f1:\n",
    "        best_f1 = f1\n",
    "        best_pos_weight = weight\n",
    "        # This is the key part - we save the model that has the highest F1 score\n",
    "        best_model = model\n",
    "\n",
    "print(\"Best class weight (pos_weight): \", best_pos_weight.item())\n",
    "print(\"Best F1 score: \", best_f1)"
   ],
   "metadata": {
    "collapsed": false,
    "ExecuteTime": {
     "end_time": "2024-02-05T19:32:00.501791Z",
     "start_time": "2024-02-05T19:31:49.793114Z"
    }
   },
   "execution_count": 69
  },
  {
   "cell_type": "code",
   "outputs": [
    {
     "name": "stdout",
     "output_type": "stream",
     "text": [
      "AUPRC: 0.6252013465717816\n",
      "F1 Score: 0.4005152812235884\n",
      "Confusion Matrix: \n",
      "[[    0 87954]\n",
      " [    0 29381]]\n"
     ]
    }
   ],
   "source": [
    "# Put the best model in evaluation mode\n",
    "best_model.eval()\n",
    "\n",
    "# Lists for storing predicted and actual labels\n",
    "pred_labels, true_labels = [], []\n",
    "\n",
    "# Get the true and predicted labels\n",
    "with torch.no_grad():\n",
    "    for X_batch, y_batch in test_loader:\n",
    "        X_batch, y_batch = X_batch.to(device), y_batch.to(device)\n",
    "\n",
    "        # Make predictions \n",
    "        y_pred_probs = best_model(X_batch)\n",
    "\n",
    "        # Apply a threshold\n",
    "        y_pred = (y_pred_probs > 0.4).type(torch.IntTensor)\n",
    "\n",
    "        # Store the true and predicted labels\n",
    "        pred_labels.extend(y_pred.reshape(-1).tolist())\n",
    "        true_labels.extend(y_batch.reshape(-1).tolist())\n",
    "\n",
    "# Convert the lists into NumPy arrays\n",
    "true_labels_np = np.array(true_labels)\n",
    "pred_labels_np = np.array(pred_labels)\n",
    "\n",
    "# Calculate Precision-Recall curve\n",
    "precision, recall, _ = precision_recall_curve(true_labels_np, pred_labels_np)\n",
    "\n",
    "# Calculate AUC\n",
    "auprc = auc(recall, precision)\n",
    "\n",
    "print(f\"AUPRC: {auprc}\")\n",
    "\n",
    "# Calculate F1 Score\n",
    "f1 = f1_score(true_labels_np, pred_labels_np)\n",
    "\n",
    "print(f\"F1 Score: {f1}\")\n",
    "\n",
    "# Calculate the confusion matrix\n",
    "cm = confusion_matrix(true_labels_np, pred_labels_np)\n",
    "\n",
    "print(f\"Confusion Matrix: \\n{cm}\")"
   ],
   "metadata": {
    "collapsed": false,
    "ExecuteTime": {
     "end_time": "2024-02-05T19:32:04.694443Z",
     "start_time": "2024-02-05T19:32:04.292017Z"
    }
   },
   "execution_count": 70
  },
  {
   "cell_type": "markdown",
   "source": [
    "All code below is from tensorflow, however, as I couldn't gpu accelerate it I am switching to pytorch since that will allow me to use the GPU"
   ],
   "metadata": {
    "collapsed": false
   }
  },
  {
   "cell_type": "code",
   "outputs": [],
   "source": [
    "\n",
    "# Convert to tensor\n",
    "X_tensor = tf.convert_to_tensor(X.values, dtype=tf.float32)\n",
    "y_tensor = tf.convert_to_tensor(y.values, dtype=tf.float32)\n",
    "\n",
    "# Calculate the index at which to split the dataset\n",
    "train_size = int(0.8 * len(X))\n",
    "\n",
    "# Manually slice the tensors for train/test sets\n",
    "x_train_tensor = X_tensor[:train_size]\n",
    "y_train_tensor = y_tensor[:train_size]\n",
    "x_test_tensor = X_tensor[train_size:]\n",
    "y_test_tensor = y_tensor[train_size:]\n"
   ],
   "metadata": {
    "collapsed": false,
    "ExecuteTime": {
     "end_time": "2024-02-05T19:15:14.140076Z",
     "start_time": "2024-02-05T19:15:14.069085Z"
    }
   },
   "execution_count": 31
  },
  {
   "cell_type": "code",
   "execution_count": 32,
   "outputs": [],
   "source": [
    "@keras.saving.register_keras_serializable()\n",
    "def mse_loss(y_true, y_pred):\n",
    "    return tf.reduce_mean(tf.square(y_pred - y_true))\n",
    "\n",
    "@keras.saving.register_keras_serializable()\n",
    "def rmse(y_true, y_pred):\n",
    "    return tf.sqrt(mse_loss(y_true,y_pred))\n",
    "\n",
    "@keras.saving.register_keras_serializable()\n",
    "def r_squared(y_true, y_pred,):\n",
    "    residual = tf.reduce_sum(tf.square(tf.subtract(y_true, y_pred)))\n",
    "    total = tf.reduce_sum(tf.square(tf.subtract(y_true, tf.reduce_mean(y_true))))\n",
    "    r2 = tf.subtract(1.0, tf.divide(residual, total))\n",
    "    return r2\n",
    "\n",
    "@keras.saving.register_keras_serializable()\n",
    "def r_squared_loss(y_true, y_pred):\n",
    "    residual = tf.reduce_sum(tf.square(tf.subtract(y_true, y_pred)))\n",
    "    total = tf.reduce_sum(tf.square(tf.subtract(y_true, tf.reduce_mean(y_true))))\n",
    "    r2 = tf.subtract(1.0, tf.divide(residual, total))\n",
    "    return 1 - r2  # or you can return -r2 to minimize the negative value\n",
    "\n",
    "def custom_loss(y_true, y_pred):\n",
    "    # Assign costs\n",
    "    cost_fp = 2.0  # cost of a false positive\n",
    "    cost_fn = 5.0  # cost of a false negative\n",
    "\n",
    "    # Calculate binary cross-entropy\n",
    "    bce = tf.keras.losses.BinaryCrossentropy()\n",
    "    base_loss = bce(y_true, y_pred)\n",
    "\n",
    "    # Calculate false positives and false negatives\n",
    "    y_pred_binary = tf.round(y_pred)\n",
    "    fp = tf.math.reduce_sum(tf.math.multiply(tf.math.subtract(y_pred_binary, y_true), cost_fp))\n",
    "    fn = tf.math.reduce_sum(tf.math.multiply(tf.math.subtract(y_true, y_pred_binary), cost_fn))\n",
    "\n",
    "    # Add to base loss\n",
    "    return base_loss + fp + fn\n",
    "\n",
    "def plot_results(history):\n",
    "    epoch_num = np.arange(1, len(history.history['loss'])+1)\n",
    "\n",
    "    plt.figure(figsize=(15, 5))\n",
    "\n",
    "    plt.subplot(1, 2, 1)\n",
    "    plt.plot(epoch_num, history.history['loss'], label='training_loss')\n",
    "    plt.plot(epoch_num, history.history['val_loss'], label='test_loss')\n",
    "    plt.legend()\n",
    "    plt.xlabel('Epoch')\n",
    "    plt.ylabel('Loss')\n",
    "    plt.grid(True)\n",
    "\n",
    "    plt.subplot(1, 2, 2)\n",
    "    plt.plot(epoch_num, history.history['accuracy'], label='training_accuracy')\n",
    "    plt.plot(epoch_num, history.history['val_accuracy'], label='test_accuracy')\n",
    "    plt.legend()\n",
    "    plt.xlabel('Epoch')\n",
    "    plt.ylabel('Accuracy')\n",
    "    plt.grid(True)"
   ],
   "metadata": {
    "collapsed": false,
    "ExecuteTime": {
     "end_time": "2024-02-05T19:15:14.613147Z",
     "start_time": "2024-02-05T19:15:14.610Z"
    }
   }
  },
  {
   "cell_type": "code",
   "execution_count": 33,
   "outputs": [],
   "source": [
    "input_shape = (x_train_tensor.shape[1],)\n",
    "\n",
    "# Build model function\n",
    "def build_model(input_shape):\n",
    "    model = tf.keras.Sequential([\n",
    "        tf.keras.layers.Dense(8, activation='relu', input_shape=input_shape),\n",
    "        tf.keras.layers.Dense(8, activation='relu'),\n",
    "        tf.keras.layers.Dense(4, activation='elu'),\n",
    "        tf.keras.layers.Dense(4, activation='elu'),\n",
    "        tf.keras.layers.Dense(1, activation='sigmoid')\n",
    "    ])\n",
    "    return model"
   ],
   "metadata": {
    "collapsed": false,
    "ExecuteTime": {
     "end_time": "2024-02-05T19:15:15.176354Z",
     "start_time": "2024-02-05T19:15:15.171769Z"
    }
   }
  },
  {
   "cell_type": "code",
   "outputs": [
    {
     "name": "stderr",
     "output_type": "stream",
     "text": [
      "  0%|          | 0/10 [00:00<?, ?it/s]"
     ]
    },
    {
     "name": "stdout",
     "output_type": "stream",
     "text": [
      "14667/14667 [==============================] - 3s 212us/step\n"
     ]
    },
    {
     "name": "stderr",
     "output_type": "stream",
     "text": [
      " 10%|█         | 1/10 [00:34<05:08, 34.28s/it]\n"
     ]
    },
    {
     "ename": "KeyboardInterrupt",
     "evalue": "",
     "output_type": "error",
     "traceback": [
      "\u001B[0;31m---------------------------------------------------------------------------\u001B[0m",
      "\u001B[0;31mKeyboardInterrupt\u001B[0m                         Traceback (most recent call last)",
      "Cell \u001B[0;32mIn[34], line 20\u001B[0m\n\u001B[1;32m     12\u001B[0m model\u001B[38;5;241m.\u001B[39mcompile(optimizer\u001B[38;5;241m=\u001B[39m\u001B[38;5;124m'\u001B[39m\u001B[38;5;124madam\u001B[39m\u001B[38;5;124m'\u001B[39m,\n\u001B[1;32m     13\u001B[0m               loss\u001B[38;5;241m=\u001B[39mtf\u001B[38;5;241m.\u001B[39mkeras\u001B[38;5;241m.\u001B[39mlosses\u001B[38;5;241m.\u001B[39mBinaryCrossentropy(),\n\u001B[1;32m     14\u001B[0m               metrics\u001B[38;5;241m=\u001B[39m[metrics\u001B[38;5;241m.\u001B[39mBinaryAccuracy(name\u001B[38;5;241m=\u001B[39m\u001B[38;5;124m'\u001B[39m\u001B[38;5;124maccuracy\u001B[39m\u001B[38;5;124m'\u001B[39m),\n\u001B[1;32m     15\u001B[0m                        metrics\u001B[38;5;241m.\u001B[39mPrecision(name\u001B[38;5;241m=\u001B[39m\u001B[38;5;124m'\u001B[39m\u001B[38;5;124mprecision\u001B[39m\u001B[38;5;124m'\u001B[39m),\n\u001B[1;32m     16\u001B[0m                        metrics\u001B[38;5;241m.\u001B[39mRecall(name\u001B[38;5;241m=\u001B[39m\u001B[38;5;124m'\u001B[39m\u001B[38;5;124mrecall\u001B[39m\u001B[38;5;124m'\u001B[39m),\n\u001B[1;32m     17\u001B[0m                        metrics\u001B[38;5;241m.\u001B[39mAUC(name\u001B[38;5;241m=\u001B[39m\u001B[38;5;124m'\u001B[39m\u001B[38;5;124mauc\u001B[39m\u001B[38;5;124m'\u001B[39m)])\n\u001B[1;32m     19\u001B[0m \u001B[38;5;66;03m# Train model with current class weight\u001B[39;00m\n\u001B[0;32m---> 20\u001B[0m \u001B[43mmodel\u001B[49m\u001B[38;5;241;43m.\u001B[39;49m\u001B[43mfit\u001B[49m\u001B[43m(\u001B[49m\u001B[43mx_train_tensor\u001B[49m\u001B[43m,\u001B[49m\n\u001B[1;32m     21\u001B[0m \u001B[43m          \u001B[49m\u001B[43my_train_tensor\u001B[49m\u001B[43m,\u001B[49m\n\u001B[1;32m     22\u001B[0m \u001B[43m          \u001B[49m\u001B[43mepochs\u001B[49m\u001B[38;5;241;43m=\u001B[39;49m\u001B[38;5;241;43m20\u001B[39;49m\u001B[43m,\u001B[49m\n\u001B[1;32m     23\u001B[0m \u001B[43m          \u001B[49m\u001B[43mvalidation_split\u001B[49m\u001B[38;5;241;43m=\u001B[39;49m\u001B[38;5;241;43m0.1\u001B[39;49m\u001B[43m,\u001B[49m\n\u001B[1;32m     24\u001B[0m \u001B[43m          \u001B[49m\u001B[43mbatch_size\u001B[49m\u001B[38;5;241;43m=\u001B[39;49m\u001B[38;5;241;43m200\u001B[39;49m\u001B[43m,\u001B[49m\n\u001B[1;32m     25\u001B[0m \u001B[43m          \u001B[49m\u001B[43mclass_weight\u001B[49m\u001B[38;5;241;43m=\u001B[39;49m\u001B[43mclass_weights\u001B[49m\u001B[43m,\u001B[49m\n\u001B[1;32m     26\u001B[0m \u001B[43m          \u001B[49m\u001B[43mverbose\u001B[49m\u001B[38;5;241;43m=\u001B[39;49m\u001B[38;5;241;43m0\u001B[39;49m\u001B[43m)\u001B[49m \u001B[38;5;66;03m# Turn off output \u001B[39;00m\n\u001B[1;32m     28\u001B[0m \u001B[38;5;66;03m# Evaluate F1 Score\u001B[39;00m\n\u001B[1;32m     29\u001B[0m y_train_scores \u001B[38;5;241m=\u001B[39m model\u001B[38;5;241m.\u001B[39mpredict(x_train_tensor)\u001B[38;5;241m.\u001B[39mflatten()\n",
      "File \u001B[0;32m~/DataspellProjects/RandomProjects/venv/lib/python3.11/site-packages/keras/src/utils/traceback_utils.py:65\u001B[0m, in \u001B[0;36mfilter_traceback.<locals>.error_handler\u001B[0;34m(*args, **kwargs)\u001B[0m\n\u001B[1;32m     63\u001B[0m filtered_tb \u001B[38;5;241m=\u001B[39m \u001B[38;5;28;01mNone\u001B[39;00m\n\u001B[1;32m     64\u001B[0m \u001B[38;5;28;01mtry\u001B[39;00m:\n\u001B[0;32m---> 65\u001B[0m     \u001B[38;5;28;01mreturn\u001B[39;00m \u001B[43mfn\u001B[49m\u001B[43m(\u001B[49m\u001B[38;5;241;43m*\u001B[39;49m\u001B[43margs\u001B[49m\u001B[43m,\u001B[49m\u001B[43m \u001B[49m\u001B[38;5;241;43m*\u001B[39;49m\u001B[38;5;241;43m*\u001B[39;49m\u001B[43mkwargs\u001B[49m\u001B[43m)\u001B[49m\n\u001B[1;32m     66\u001B[0m \u001B[38;5;28;01mexcept\u001B[39;00m \u001B[38;5;167;01mException\u001B[39;00m \u001B[38;5;28;01mas\u001B[39;00m e:\n\u001B[1;32m     67\u001B[0m     filtered_tb \u001B[38;5;241m=\u001B[39m _process_traceback_frames(e\u001B[38;5;241m.\u001B[39m__traceback__)\n",
      "File \u001B[0;32m~/DataspellProjects/RandomProjects/venv/lib/python3.11/site-packages/keras/src/engine/training.py:1807\u001B[0m, in \u001B[0;36mModel.fit\u001B[0;34m(self, x, y, batch_size, epochs, verbose, callbacks, validation_split, validation_data, shuffle, class_weight, sample_weight, initial_epoch, steps_per_epoch, validation_steps, validation_batch_size, validation_freq, max_queue_size, workers, use_multiprocessing)\u001B[0m\n\u001B[1;32m   1799\u001B[0m \u001B[38;5;28;01mwith\u001B[39;00m tf\u001B[38;5;241m.\u001B[39mprofiler\u001B[38;5;241m.\u001B[39mexperimental\u001B[38;5;241m.\u001B[39mTrace(\n\u001B[1;32m   1800\u001B[0m     \u001B[38;5;124m\"\u001B[39m\u001B[38;5;124mtrain\u001B[39m\u001B[38;5;124m\"\u001B[39m,\n\u001B[1;32m   1801\u001B[0m     epoch_num\u001B[38;5;241m=\u001B[39mepoch,\n\u001B[0;32m   (...)\u001B[0m\n\u001B[1;32m   1804\u001B[0m     _r\u001B[38;5;241m=\u001B[39m\u001B[38;5;241m1\u001B[39m,\n\u001B[1;32m   1805\u001B[0m ):\n\u001B[1;32m   1806\u001B[0m     callbacks\u001B[38;5;241m.\u001B[39mon_train_batch_begin(step)\n\u001B[0;32m-> 1807\u001B[0m     tmp_logs \u001B[38;5;241m=\u001B[39m \u001B[38;5;28;43mself\u001B[39;49m\u001B[38;5;241;43m.\u001B[39;49m\u001B[43mtrain_function\u001B[49m\u001B[43m(\u001B[49m\u001B[43miterator\u001B[49m\u001B[43m)\u001B[49m\n\u001B[1;32m   1808\u001B[0m     \u001B[38;5;28;01mif\u001B[39;00m data_handler\u001B[38;5;241m.\u001B[39mshould_sync:\n\u001B[1;32m   1809\u001B[0m         context\u001B[38;5;241m.\u001B[39masync_wait()\n",
      "File \u001B[0;32m~/DataspellProjects/RandomProjects/venv/lib/python3.11/site-packages/tensorflow/python/util/traceback_utils.py:150\u001B[0m, in \u001B[0;36mfilter_traceback.<locals>.error_handler\u001B[0;34m(*args, **kwargs)\u001B[0m\n\u001B[1;32m    148\u001B[0m filtered_tb \u001B[38;5;241m=\u001B[39m \u001B[38;5;28;01mNone\u001B[39;00m\n\u001B[1;32m    149\u001B[0m \u001B[38;5;28;01mtry\u001B[39;00m:\n\u001B[0;32m--> 150\u001B[0m   \u001B[38;5;28;01mreturn\u001B[39;00m \u001B[43mfn\u001B[49m\u001B[43m(\u001B[49m\u001B[38;5;241;43m*\u001B[39;49m\u001B[43margs\u001B[49m\u001B[43m,\u001B[49m\u001B[43m \u001B[49m\u001B[38;5;241;43m*\u001B[39;49m\u001B[38;5;241;43m*\u001B[39;49m\u001B[43mkwargs\u001B[49m\u001B[43m)\u001B[49m\n\u001B[1;32m    151\u001B[0m \u001B[38;5;28;01mexcept\u001B[39;00m \u001B[38;5;167;01mException\u001B[39;00m \u001B[38;5;28;01mas\u001B[39;00m e:\n\u001B[1;32m    152\u001B[0m   filtered_tb \u001B[38;5;241m=\u001B[39m _process_traceback_frames(e\u001B[38;5;241m.\u001B[39m__traceback__)\n",
      "File \u001B[0;32m~/DataspellProjects/RandomProjects/venv/lib/python3.11/site-packages/tensorflow/python/eager/polymorphic_function/polymorphic_function.py:832\u001B[0m, in \u001B[0;36mFunction.__call__\u001B[0;34m(self, *args, **kwds)\u001B[0m\n\u001B[1;32m    829\u001B[0m compiler \u001B[38;5;241m=\u001B[39m \u001B[38;5;124m\"\u001B[39m\u001B[38;5;124mxla\u001B[39m\u001B[38;5;124m\"\u001B[39m \u001B[38;5;28;01mif\u001B[39;00m \u001B[38;5;28mself\u001B[39m\u001B[38;5;241m.\u001B[39m_jit_compile \u001B[38;5;28;01melse\u001B[39;00m \u001B[38;5;124m\"\u001B[39m\u001B[38;5;124mnonXla\u001B[39m\u001B[38;5;124m\"\u001B[39m\n\u001B[1;32m    831\u001B[0m \u001B[38;5;28;01mwith\u001B[39;00m OptionalXlaContext(\u001B[38;5;28mself\u001B[39m\u001B[38;5;241m.\u001B[39m_jit_compile):\n\u001B[0;32m--> 832\u001B[0m   result \u001B[38;5;241m=\u001B[39m \u001B[38;5;28;43mself\u001B[39;49m\u001B[38;5;241;43m.\u001B[39;49m\u001B[43m_call\u001B[49m\u001B[43m(\u001B[49m\u001B[38;5;241;43m*\u001B[39;49m\u001B[43margs\u001B[49m\u001B[43m,\u001B[49m\u001B[43m \u001B[49m\u001B[38;5;241;43m*\u001B[39;49m\u001B[38;5;241;43m*\u001B[39;49m\u001B[43mkwds\u001B[49m\u001B[43m)\u001B[49m\n\u001B[1;32m    834\u001B[0m new_tracing_count \u001B[38;5;241m=\u001B[39m \u001B[38;5;28mself\u001B[39m\u001B[38;5;241m.\u001B[39mexperimental_get_tracing_count()\n\u001B[1;32m    835\u001B[0m without_tracing \u001B[38;5;241m=\u001B[39m (tracing_count \u001B[38;5;241m==\u001B[39m new_tracing_count)\n",
      "File \u001B[0;32m~/DataspellProjects/RandomProjects/venv/lib/python3.11/site-packages/tensorflow/python/eager/polymorphic_function/polymorphic_function.py:868\u001B[0m, in \u001B[0;36mFunction._call\u001B[0;34m(self, *args, **kwds)\u001B[0m\n\u001B[1;32m    865\u001B[0m   \u001B[38;5;28mself\u001B[39m\u001B[38;5;241m.\u001B[39m_lock\u001B[38;5;241m.\u001B[39mrelease()\n\u001B[1;32m    866\u001B[0m   \u001B[38;5;66;03m# In this case we have created variables on the first call, so we run the\u001B[39;00m\n\u001B[1;32m    867\u001B[0m   \u001B[38;5;66;03m# defunned version which is guaranteed to never create variables.\u001B[39;00m\n\u001B[0;32m--> 868\u001B[0m   \u001B[38;5;28;01mreturn\u001B[39;00m \u001B[43mtracing_compilation\u001B[49m\u001B[38;5;241;43m.\u001B[39;49m\u001B[43mcall_function\u001B[49m\u001B[43m(\u001B[49m\n\u001B[1;32m    869\u001B[0m \u001B[43m      \u001B[49m\u001B[43margs\u001B[49m\u001B[43m,\u001B[49m\u001B[43m \u001B[49m\u001B[43mkwds\u001B[49m\u001B[43m,\u001B[49m\u001B[43m \u001B[49m\u001B[38;5;28;43mself\u001B[39;49m\u001B[38;5;241;43m.\u001B[39;49m\u001B[43m_no_variable_creation_config\u001B[49m\n\u001B[1;32m    870\u001B[0m \u001B[43m  \u001B[49m\u001B[43m)\u001B[49m\n\u001B[1;32m    871\u001B[0m \u001B[38;5;28;01melif\u001B[39;00m \u001B[38;5;28mself\u001B[39m\u001B[38;5;241m.\u001B[39m_variable_creation_config \u001B[38;5;129;01mis\u001B[39;00m \u001B[38;5;129;01mnot\u001B[39;00m \u001B[38;5;28;01mNone\u001B[39;00m:\n\u001B[1;32m    872\u001B[0m   \u001B[38;5;66;03m# Release the lock early so that multiple threads can perform the call\u001B[39;00m\n\u001B[1;32m    873\u001B[0m   \u001B[38;5;66;03m# in parallel.\u001B[39;00m\n\u001B[1;32m    874\u001B[0m   \u001B[38;5;28mself\u001B[39m\u001B[38;5;241m.\u001B[39m_lock\u001B[38;5;241m.\u001B[39mrelease()\n",
      "File \u001B[0;32m~/DataspellProjects/RandomProjects/venv/lib/python3.11/site-packages/tensorflow/python/eager/polymorphic_function/tracing_compilation.py:139\u001B[0m, in \u001B[0;36mcall_function\u001B[0;34m(args, kwargs, tracing_options)\u001B[0m\n\u001B[1;32m    137\u001B[0m bound_args \u001B[38;5;241m=\u001B[39m function\u001B[38;5;241m.\u001B[39mfunction_type\u001B[38;5;241m.\u001B[39mbind(\u001B[38;5;241m*\u001B[39margs, \u001B[38;5;241m*\u001B[39m\u001B[38;5;241m*\u001B[39mkwargs)\n\u001B[1;32m    138\u001B[0m flat_inputs \u001B[38;5;241m=\u001B[39m function\u001B[38;5;241m.\u001B[39mfunction_type\u001B[38;5;241m.\u001B[39munpack_inputs(bound_args)\n\u001B[0;32m--> 139\u001B[0m \u001B[38;5;28;01mreturn\u001B[39;00m \u001B[43mfunction\u001B[49m\u001B[38;5;241;43m.\u001B[39;49m\u001B[43m_call_flat\u001B[49m\u001B[43m(\u001B[49m\u001B[43m  \u001B[49m\u001B[38;5;66;43;03m# pylint: disable=protected-access\u001B[39;49;00m\n\u001B[1;32m    140\u001B[0m \u001B[43m    \u001B[49m\u001B[43mflat_inputs\u001B[49m\u001B[43m,\u001B[49m\u001B[43m \u001B[49m\u001B[43mcaptured_inputs\u001B[49m\u001B[38;5;241;43m=\u001B[39;49m\u001B[43mfunction\u001B[49m\u001B[38;5;241;43m.\u001B[39;49m\u001B[43mcaptured_inputs\u001B[49m\n\u001B[1;32m    141\u001B[0m \u001B[43m\u001B[49m\u001B[43m)\u001B[49m\n",
      "File \u001B[0;32m~/DataspellProjects/RandomProjects/venv/lib/python3.11/site-packages/tensorflow/python/eager/polymorphic_function/concrete_function.py:1323\u001B[0m, in \u001B[0;36mConcreteFunction._call_flat\u001B[0;34m(self, tensor_inputs, captured_inputs)\u001B[0m\n\u001B[1;32m   1319\u001B[0m possible_gradient_type \u001B[38;5;241m=\u001B[39m gradients_util\u001B[38;5;241m.\u001B[39mPossibleTapeGradientTypes(args)\n\u001B[1;32m   1320\u001B[0m \u001B[38;5;28;01mif\u001B[39;00m (possible_gradient_type \u001B[38;5;241m==\u001B[39m gradients_util\u001B[38;5;241m.\u001B[39mPOSSIBLE_GRADIENT_TYPES_NONE\n\u001B[1;32m   1321\u001B[0m     \u001B[38;5;129;01mand\u001B[39;00m executing_eagerly):\n\u001B[1;32m   1322\u001B[0m   \u001B[38;5;66;03m# No tape is watching; skip to running the function.\u001B[39;00m\n\u001B[0;32m-> 1323\u001B[0m   \u001B[38;5;28;01mreturn\u001B[39;00m \u001B[38;5;28;43mself\u001B[39;49m\u001B[38;5;241;43m.\u001B[39;49m\u001B[43m_inference_function\u001B[49m\u001B[38;5;241;43m.\u001B[39;49m\u001B[43mcall_preflattened\u001B[49m\u001B[43m(\u001B[49m\u001B[43margs\u001B[49m\u001B[43m)\u001B[49m\n\u001B[1;32m   1324\u001B[0m forward_backward \u001B[38;5;241m=\u001B[39m \u001B[38;5;28mself\u001B[39m\u001B[38;5;241m.\u001B[39m_select_forward_and_backward_functions(\n\u001B[1;32m   1325\u001B[0m     args,\n\u001B[1;32m   1326\u001B[0m     possible_gradient_type,\n\u001B[1;32m   1327\u001B[0m     executing_eagerly)\n\u001B[1;32m   1328\u001B[0m forward_function, args_with_tangents \u001B[38;5;241m=\u001B[39m forward_backward\u001B[38;5;241m.\u001B[39mforward()\n",
      "File \u001B[0;32m~/DataspellProjects/RandomProjects/venv/lib/python3.11/site-packages/tensorflow/python/eager/polymorphic_function/atomic_function.py:216\u001B[0m, in \u001B[0;36mAtomicFunction.call_preflattened\u001B[0;34m(self, args)\u001B[0m\n\u001B[1;32m    214\u001B[0m \u001B[38;5;28;01mdef\u001B[39;00m \u001B[38;5;21mcall_preflattened\u001B[39m(\u001B[38;5;28mself\u001B[39m, args: Sequence[core\u001B[38;5;241m.\u001B[39mTensor]) \u001B[38;5;241m-\u001B[39m\u001B[38;5;241m>\u001B[39m Any:\n\u001B[1;32m    215\u001B[0m \u001B[38;5;250m  \u001B[39m\u001B[38;5;124;03m\"\"\"Calls with flattened tensor inputs and returns the structured output.\"\"\"\u001B[39;00m\n\u001B[0;32m--> 216\u001B[0m   flat_outputs \u001B[38;5;241m=\u001B[39m \u001B[38;5;28;43mself\u001B[39;49m\u001B[38;5;241;43m.\u001B[39;49m\u001B[43mcall_flat\u001B[49m\u001B[43m(\u001B[49m\u001B[38;5;241;43m*\u001B[39;49m\u001B[43margs\u001B[49m\u001B[43m)\u001B[49m\n\u001B[1;32m    217\u001B[0m   \u001B[38;5;28;01mreturn\u001B[39;00m \u001B[38;5;28mself\u001B[39m\u001B[38;5;241m.\u001B[39mfunction_type\u001B[38;5;241m.\u001B[39mpack_output(flat_outputs)\n",
      "File \u001B[0;32m~/DataspellProjects/RandomProjects/venv/lib/python3.11/site-packages/tensorflow/python/eager/polymorphic_function/atomic_function.py:251\u001B[0m, in \u001B[0;36mAtomicFunction.call_flat\u001B[0;34m(self, *args)\u001B[0m\n\u001B[1;32m    249\u001B[0m \u001B[38;5;28;01mwith\u001B[39;00m record\u001B[38;5;241m.\u001B[39mstop_recording():\n\u001B[1;32m    250\u001B[0m   \u001B[38;5;28;01mif\u001B[39;00m \u001B[38;5;28mself\u001B[39m\u001B[38;5;241m.\u001B[39m_bound_context\u001B[38;5;241m.\u001B[39mexecuting_eagerly():\n\u001B[0;32m--> 251\u001B[0m     outputs \u001B[38;5;241m=\u001B[39m \u001B[38;5;28;43mself\u001B[39;49m\u001B[38;5;241;43m.\u001B[39;49m\u001B[43m_bound_context\u001B[49m\u001B[38;5;241;43m.\u001B[39;49m\u001B[43mcall_function\u001B[49m\u001B[43m(\u001B[49m\n\u001B[1;32m    252\u001B[0m \u001B[43m        \u001B[49m\u001B[38;5;28;43mself\u001B[39;49m\u001B[38;5;241;43m.\u001B[39;49m\u001B[43mname\u001B[49m\u001B[43m,\u001B[49m\n\u001B[1;32m    253\u001B[0m \u001B[43m        \u001B[49m\u001B[38;5;28;43mlist\u001B[39;49m\u001B[43m(\u001B[49m\u001B[43margs\u001B[49m\u001B[43m)\u001B[49m\u001B[43m,\u001B[49m\n\u001B[1;32m    254\u001B[0m \u001B[43m        \u001B[49m\u001B[38;5;28;43mlen\u001B[39;49m\u001B[43m(\u001B[49m\u001B[38;5;28;43mself\u001B[39;49m\u001B[38;5;241;43m.\u001B[39;49m\u001B[43mfunction_type\u001B[49m\u001B[38;5;241;43m.\u001B[39;49m\u001B[43mflat_outputs\u001B[49m\u001B[43m)\u001B[49m\u001B[43m,\u001B[49m\n\u001B[1;32m    255\u001B[0m \u001B[43m    \u001B[49m\u001B[43m)\u001B[49m\n\u001B[1;32m    256\u001B[0m   \u001B[38;5;28;01melse\u001B[39;00m:\n\u001B[1;32m    257\u001B[0m     outputs \u001B[38;5;241m=\u001B[39m make_call_op_in_graph(\n\u001B[1;32m    258\u001B[0m         \u001B[38;5;28mself\u001B[39m,\n\u001B[1;32m    259\u001B[0m         \u001B[38;5;28mlist\u001B[39m(args),\n\u001B[1;32m    260\u001B[0m         \u001B[38;5;28mself\u001B[39m\u001B[38;5;241m.\u001B[39m_bound_context\u001B[38;5;241m.\u001B[39mfunction_call_options\u001B[38;5;241m.\u001B[39mas_attrs(),\n\u001B[1;32m    261\u001B[0m     )\n",
      "File \u001B[0;32m~/DataspellProjects/RandomProjects/venv/lib/python3.11/site-packages/tensorflow/python/eager/context.py:1486\u001B[0m, in \u001B[0;36mContext.call_function\u001B[0;34m(self, name, tensor_inputs, num_outputs)\u001B[0m\n\u001B[1;32m   1484\u001B[0m cancellation_context \u001B[38;5;241m=\u001B[39m cancellation\u001B[38;5;241m.\u001B[39mcontext()\n\u001B[1;32m   1485\u001B[0m \u001B[38;5;28;01mif\u001B[39;00m cancellation_context \u001B[38;5;129;01mis\u001B[39;00m \u001B[38;5;28;01mNone\u001B[39;00m:\n\u001B[0;32m-> 1486\u001B[0m   outputs \u001B[38;5;241m=\u001B[39m \u001B[43mexecute\u001B[49m\u001B[38;5;241;43m.\u001B[39;49m\u001B[43mexecute\u001B[49m\u001B[43m(\u001B[49m\n\u001B[1;32m   1487\u001B[0m \u001B[43m      \u001B[49m\u001B[43mname\u001B[49m\u001B[38;5;241;43m.\u001B[39;49m\u001B[43mdecode\u001B[49m\u001B[43m(\u001B[49m\u001B[38;5;124;43m\"\u001B[39;49m\u001B[38;5;124;43mutf-8\u001B[39;49m\u001B[38;5;124;43m\"\u001B[39;49m\u001B[43m)\u001B[49m\u001B[43m,\u001B[49m\n\u001B[1;32m   1488\u001B[0m \u001B[43m      \u001B[49m\u001B[43mnum_outputs\u001B[49m\u001B[38;5;241;43m=\u001B[39;49m\u001B[43mnum_outputs\u001B[49m\u001B[43m,\u001B[49m\n\u001B[1;32m   1489\u001B[0m \u001B[43m      \u001B[49m\u001B[43minputs\u001B[49m\u001B[38;5;241;43m=\u001B[39;49m\u001B[43mtensor_inputs\u001B[49m\u001B[43m,\u001B[49m\n\u001B[1;32m   1490\u001B[0m \u001B[43m      \u001B[49m\u001B[43mattrs\u001B[49m\u001B[38;5;241;43m=\u001B[39;49m\u001B[43mattrs\u001B[49m\u001B[43m,\u001B[49m\n\u001B[1;32m   1491\u001B[0m \u001B[43m      \u001B[49m\u001B[43mctx\u001B[49m\u001B[38;5;241;43m=\u001B[39;49m\u001B[38;5;28;43mself\u001B[39;49m\u001B[43m,\u001B[49m\n\u001B[1;32m   1492\u001B[0m \u001B[43m  \u001B[49m\u001B[43m)\u001B[49m\n\u001B[1;32m   1493\u001B[0m \u001B[38;5;28;01melse\u001B[39;00m:\n\u001B[1;32m   1494\u001B[0m   outputs \u001B[38;5;241m=\u001B[39m execute\u001B[38;5;241m.\u001B[39mexecute_with_cancellation(\n\u001B[1;32m   1495\u001B[0m       name\u001B[38;5;241m.\u001B[39mdecode(\u001B[38;5;124m\"\u001B[39m\u001B[38;5;124mutf-8\u001B[39m\u001B[38;5;124m\"\u001B[39m),\n\u001B[1;32m   1496\u001B[0m       num_outputs\u001B[38;5;241m=\u001B[39mnum_outputs,\n\u001B[0;32m   (...)\u001B[0m\n\u001B[1;32m   1500\u001B[0m       cancellation_manager\u001B[38;5;241m=\u001B[39mcancellation_context,\n\u001B[1;32m   1501\u001B[0m   )\n",
      "File \u001B[0;32m~/DataspellProjects/RandomProjects/venv/lib/python3.11/site-packages/tensorflow/python/eager/execute.py:53\u001B[0m, in \u001B[0;36mquick_execute\u001B[0;34m(op_name, num_outputs, inputs, attrs, ctx, name)\u001B[0m\n\u001B[1;32m     51\u001B[0m \u001B[38;5;28;01mtry\u001B[39;00m:\n\u001B[1;32m     52\u001B[0m   ctx\u001B[38;5;241m.\u001B[39mensure_initialized()\n\u001B[0;32m---> 53\u001B[0m   tensors \u001B[38;5;241m=\u001B[39m \u001B[43mpywrap_tfe\u001B[49m\u001B[38;5;241;43m.\u001B[39;49m\u001B[43mTFE_Py_Execute\u001B[49m\u001B[43m(\u001B[49m\u001B[43mctx\u001B[49m\u001B[38;5;241;43m.\u001B[39;49m\u001B[43m_handle\u001B[49m\u001B[43m,\u001B[49m\u001B[43m \u001B[49m\u001B[43mdevice_name\u001B[49m\u001B[43m,\u001B[49m\u001B[43m \u001B[49m\u001B[43mop_name\u001B[49m\u001B[43m,\u001B[49m\n\u001B[1;32m     54\u001B[0m \u001B[43m                                      \u001B[49m\u001B[43minputs\u001B[49m\u001B[43m,\u001B[49m\u001B[43m \u001B[49m\u001B[43mattrs\u001B[49m\u001B[43m,\u001B[49m\u001B[43m \u001B[49m\u001B[43mnum_outputs\u001B[49m\u001B[43m)\u001B[49m\n\u001B[1;32m     55\u001B[0m \u001B[38;5;28;01mexcept\u001B[39;00m core\u001B[38;5;241m.\u001B[39m_NotOkStatusException \u001B[38;5;28;01mas\u001B[39;00m e:\n\u001B[1;32m     56\u001B[0m   \u001B[38;5;28;01mif\u001B[39;00m name \u001B[38;5;129;01mis\u001B[39;00m \u001B[38;5;129;01mnot\u001B[39;00m \u001B[38;5;28;01mNone\u001B[39;00m:\n",
      "\u001B[0;31mKeyboardInterrupt\u001B[0m: "
     ]
    }
   ],
   "source": [
    "\n",
    "# Define a set of class weights to evaluate\n",
    "class_weights_grid = [{0:1.0, 1:weight} for weight in np.linspace(1, 10, 10)]  # Drop the 100 down to 10 if you are running this on a weaker computer.\n",
    "\n",
    "# Initial placeholders for the best weights and highest f1 score\n",
    "best_class_weights = None\n",
    "highest_f1 = 0\n",
    "\n",
    "for class_weights in tqdm(class_weights_grid):\n",
    "\n",
    "    #Build and compile model as before\n",
    "    model = build_model(input_shape)\n",
    "    model.compile(optimizer='adam',\n",
    "                  loss=tf.keras.losses.BinaryCrossentropy(),\n",
    "                  metrics=[metrics.BinaryAccuracy(name='accuracy'),\n",
    "                           metrics.Precision(name='precision'),\n",
    "                           metrics.Recall(name='recall'),\n",
    "                           metrics.AUC(name='auc')])\n",
    "\n",
    "    # Train model with current class weight\n",
    "    model.fit(x_train_tensor,\n",
    "              y_train_tensor,\n",
    "              epochs=20,\n",
    "              validation_split=0.1,\n",
    "              batch_size=200,\n",
    "              class_weight=class_weights,\n",
    "              verbose=0) # Turn off output \n",
    "\n",
    "    # Evaluate F1 Score\n",
    "    y_train_scores = model.predict(x_train_tensor).flatten()\n",
    "    y_train_pred = (y_train_scores > 0.5).astype(int)\n",
    "    f1 = f1_score(y_train_tensor, y_train_pred)\n",
    "\n",
    "    if f1 > highest_f1:\n",
    "        best_class_weights = class_weights\n",
    "        highest_f1 = f1\n",
    "\n",
    "# Output the best class weights\n",
    "print(\"Best class weights: \", best_class_weights)\n",
    "print(\"Best F1 score: \", highest_f1)"
   ],
   "metadata": {
    "collapsed": false,
    "ExecuteTime": {
     "end_time": "2024-02-05T19:15:50.343702Z",
     "start_time": "2024-02-05T19:15:15.853847Z"
    }
   },
   "execution_count": 34
  },
  {
   "cell_type": "markdown",
   "source": [
    "Now that I have found the best class weight I will use that to train the final model"
   ],
   "metadata": {
    "collapsed": false
   }
  },
  {
   "cell_type": "code",
   "outputs": [
    {
     "name": "stdout",
     "output_type": "stream",
     "text": [
      "Epoch 1/20\n",
      "2113/2113 [==============================] - 1s 491us/step - loss: 14.6357 - accuracy: 0.1909 - precision: 0.1282 - recall: 0.9157 - auc: 0.4987 - val_loss: 0.6970 - val_accuracy: 0.1592 - val_precision: 0.1592 - val_recall: 1.0000 - val_auc: 0.5000\n",
      "Epoch 2/20\n",
      "2113/2113 [==============================] - 1s 435us/step - loss: 1.2263 - accuracy: 0.2832 - precision: 0.1285 - recall: 0.7940 - auc: 0.4999 - val_loss: 0.7123 - val_accuracy: 0.1592 - val_precision: 0.1592 - val_recall: 1.0000 - val_auc: 0.5000\n",
      "Epoch 3/20\n",
      "2113/2113 [==============================] - 1s 427us/step - loss: 1.2262 - accuracy: 0.2464 - precision: 0.1283 - recall: 0.8423 - auc: 0.5011 - val_loss: 0.7022 - val_accuracy: 0.1592 - val_precision: 0.1592 - val_recall: 1.0000 - val_auc: 0.5000\n",
      "Epoch 4/20\n",
      "2113/2113 [==============================] - 1s 435us/step - loss: 1.2263 - accuracy: 0.2359 - precision: 0.1280 - recall: 0.8532 - auc: 0.4987 - val_loss: 0.7031 - val_accuracy: 0.1592 - val_precision: 0.1592 - val_recall: 1.0000 - val_auc: 0.5000\n",
      "Epoch 5/20\n",
      "2113/2113 [==============================] - 1s 432us/step - loss: 1.2263 - accuracy: 0.2529 - precision: 0.1282 - recall: 0.8328 - auc: 0.4999 - val_loss: 0.7219 - val_accuracy: 0.1592 - val_precision: 0.1592 - val_recall: 1.0000 - val_auc: 0.5000\n",
      "Epoch 6/20\n",
      "2113/2113 [==============================] - 1s 431us/step - loss: 1.2263 - accuracy: 0.2347 - precision: 0.1283 - recall: 0.8577 - auc: 0.4997 - val_loss: 0.6846 - val_accuracy: 0.8408 - val_precision: 0.0000e+00 - val_recall: 0.0000e+00 - val_auc: 0.5000\n",
      "Epoch 7/20\n",
      "2113/2113 [==============================] - 1s 432us/step - loss: 1.2263 - accuracy: 0.2113 - precision: 0.1282 - recall: 0.8882 - auc: 0.4994 - val_loss: 0.7025 - val_accuracy: 0.1592 - val_precision: 0.1592 - val_recall: 1.0000 - val_auc: 0.5000\n",
      "Epoch 8/20\n",
      "2113/2113 [==============================] - 1s 433us/step - loss: 1.2262 - accuracy: 0.2164 - precision: 0.1281 - recall: 0.8806 - auc: 0.4998 - val_loss: 0.7180 - val_accuracy: 0.1592 - val_precision: 0.1592 - val_recall: 1.0000 - val_auc: 0.5000\n",
      "Epoch 9/20\n",
      "2113/2113 [==============================] - 1s 433us/step - loss: 1.2262 - accuracy: 0.2508 - precision: 0.1285 - recall: 0.8375 - auc: 0.5000 - val_loss: 0.7131 - val_accuracy: 0.1592 - val_precision: 0.1592 - val_recall: 1.0000 - val_auc: 0.5000\n",
      "Epoch 10/20\n",
      "2113/2113 [==============================] - 1s 432us/step - loss: 1.2262 - accuracy: 0.2189 - precision: 0.1283 - recall: 0.8791 - auc: 0.4993 - val_loss: 0.6995 - val_accuracy: 0.1592 - val_precision: 0.1592 - val_recall: 1.0000 - val_auc: 0.5000\n",
      "Epoch 11/20\n",
      "2113/2113 [==============================] - 1s 442us/step - loss: 1.2263 - accuracy: 0.2487 - precision: 0.1280 - recall: 0.8366 - auc: 0.5007 - val_loss: 0.7114 - val_accuracy: 0.1592 - val_precision: 0.1592 - val_recall: 1.0000 - val_auc: 0.5000\n",
      "Epoch 12/20\n",
      "2113/2113 [==============================] - 1s 442us/step - loss: 1.2263 - accuracy: 0.2619 - precision: 0.1281 - recall: 0.8198 - auc: 0.5004 - val_loss: 0.7097 - val_accuracy: 0.1592 - val_precision: 0.1592 - val_recall: 1.0000 - val_auc: 0.5000\n",
      "Epoch 13/20\n",
      "2113/2113 [==============================] - 1s 431us/step - loss: 1.2262 - accuracy: 0.2330 - precision: 0.1279 - recall: 0.8567 - auc: 0.5001 - val_loss: 0.7052 - val_accuracy: 0.1592 - val_precision: 0.1592 - val_recall: 1.0000 - val_auc: 0.5000\n",
      "Epoch 14/20\n",
      "2113/2113 [==============================] - 1s 446us/step - loss: 1.2262 - accuracy: 0.2585 - precision: 0.1282 - recall: 0.8250 - auc: 0.5025 - val_loss: 0.6898 - val_accuracy: 0.8408 - val_precision: 0.0000e+00 - val_recall: 0.0000e+00 - val_auc: 0.5000\n",
      "Epoch 15/20\n",
      "2113/2113 [==============================] - 1s 472us/step - loss: 1.2262 - accuracy: 0.2344 - precision: 0.1281 - recall: 0.8566 - auc: 0.5011 - val_loss: 0.7012 - val_accuracy: 0.1592 - val_precision: 0.1592 - val_recall: 1.0000 - val_auc: 0.5000\n",
      "Epoch 16/20\n",
      "2113/2113 [==============================] - 1s 501us/step - loss: 1.2262 - accuracy: 0.2126 - precision: 0.1280 - recall: 0.8843 - auc: 0.4989 - val_loss: 0.6984 - val_accuracy: 0.1592 - val_precision: 0.1592 - val_recall: 1.0000 - val_auc: 0.5000\n",
      "Epoch 17/20\n",
      "2113/2113 [==============================] - 1s 499us/step - loss: 1.2263 - accuracy: 0.2444 - precision: 0.1280 - recall: 0.8419 - auc: 0.4981 - val_loss: 0.7095 - val_accuracy: 0.1592 - val_precision: 0.1592 - val_recall: 1.0000 - val_auc: 0.5000\n",
      "Epoch 18/20\n",
      "2113/2113 [==============================] - 1s 501us/step - loss: 1.2262 - accuracy: 0.2099 - precision: 0.1280 - recall: 0.8885 - auc: 0.4994 - val_loss: 0.7131 - val_accuracy: 0.1592 - val_precision: 0.1592 - val_recall: 1.0000 - val_auc: 0.5000\n",
      "Epoch 19/20\n",
      "2113/2113 [==============================] - 1s 496us/step - loss: 1.2262 - accuracy: 0.2456 - precision: 0.1281 - recall: 0.8410 - auc: 0.5005 - val_loss: 0.7015 - val_accuracy: 0.1592 - val_precision: 0.1592 - val_recall: 1.0000 - val_auc: 0.5000\n",
      "Epoch 20/20\n",
      "2113/2113 [==============================] - 1s 528us/step - loss: 1.2262 - accuracy: 0.1629 - precision: 0.1281 - recall: 0.9524 - auc: 0.4986 - val_loss: 0.7199 - val_accuracy: 0.1592 - val_precision: 0.1592 - val_recall: 1.0000 - val_auc: 0.5000\n",
      "14667/14667 [==============================] - 3s 236us/step\n",
      "3667/3667 [==============================] - 1s 207us/step\n",
      "Summarizing model performance:\n",
      "\n",
      "AUPRC on Training set: 0.5656404672974856\n",
      "AUPRC on Testing set: 0.5340392892146418\n",
      "F1 Score on Training set: 0.23209254320541217\n",
      "F1 Score on Testing set: 0.1274785953097197\n",
      "Confusion Matrix on Training set: \n",
      "[[     0 413538]\n",
      " [     0  55799]]\n",
      "Confusion Matrix on Testing set: \n",
      "[[     0 103531]\n",
      " [     0  13804]]\n"
     ]
    }
   ],
   "source": [
    "\n",
    "# Class weights for cost-sensitive training\n",
    "class_weights = {0: 1., 1: 7}  # You can fine-tune this based on your specific case\n",
    "early_stopping = EarlyStopping(monitor='accuracy', patience=50, restore_best_weights=True)\n",
    "\n",
    "with tf.device('/GPU:0'):\n",
    "    # Regular model training\n",
    "    model = build_model(input_shape)\n",
    "    model.compile(optimizer='adam', loss=tf.keras.losses.BinaryCrossentropy(), \n",
    "                  metrics=[metrics.BinaryAccuracy(name='accuracy'), \n",
    "                           metrics.Precision(name='precision'), \n",
    "                           metrics.Recall(name='recall'), \n",
    "                           metrics.AUC(name='auc')])\n",
    "    \n",
    "    model.fit(x_train_tensor, y_train_tensor, epochs=20,validation_split=0.1, batch_size=200, class_weight = class_weights)\n",
    "\n",
    "    # Get model's predictions (as class labels using threshold of 0.5)\n",
    "    y_train_scores = model.predict(x_train_tensor).flatten()\n",
    "    y_test_scores = model.predict(x_test_tensor).flatten()\n",
    "    y_train_pred = (y_train_scores > 0.4).astype(int)\n",
    "    y_test_pred = (y_test_scores > 0.4).astype(int)\n",
    "\n",
    "    print(f\"Summarizing model performance:\\n\")\n",
    "\n",
    "    # Precision-Recall curve\n",
    "    precision_train, recall_train, _ = precision_recall_curve(y_train_tensor, y_train_pred)\n",
    "    precision_test, recall_test, _ = precision_recall_curve(y_test_tensor, y_test_pred)\n",
    "\n",
    "    # Calculate AUC\n",
    "    auprc_train = auc(recall_train, precision_train)\n",
    "    auprc_test = auc(recall_test, precision_test)\n",
    "    print(f\"AUPRC on Training set: {auprc_train}\")\n",
    "    print(f\"AUPRC on Testing set: {auprc_test}\")\n",
    "\n",
    "    # Calculate F1 Score\n",
    "    f1_train = f1_score(y_train_tensor, y_train_pred)\n",
    "    f1_test = f1_score(y_test_tensor, y_test_pred)\n",
    "    print(f\"F1 Score on Training set: {f1_train}\")\n",
    "    print(f\"F1 Score on Testing set: {f1_test}\")\n",
    "\n",
    "    cm_train = confusion_matrix(ytrain, y_train_pred)\n",
    "    cm_test = confusion_matrix(ytest, y_test_pred)\n",
    "\n",
    "    print(f\"Confusion Matrix on Training set: \\n{cm_train}\")\n",
    "    print(f\"Confusion Matrix on Testing set: \\n{cm_test}\")"
   ],
   "metadata": {
    "collapsed": false,
    "pycharm": {
     "is_executing": true
    },
    "ExecuteTime": {
     "end_time": "2024-02-05T19:22:43.406944Z",
     "start_time": "2024-02-05T19:22:17.991595Z"
    }
   },
   "execution_count": 40
  },
  {
   "cell_type": "code",
   "execution_count": 73,
   "outputs": [
    {
     "name": "stdout",
     "output_type": "stream",
     "text": [
      "AUPRC on Training set: 1.0\n",
      "AUPRC on Testing set: 1.0\n",
      "F1 Score on Training set: 0.7594346738910627\n",
      "F1 Score on Testing set: 0.4489449767730339\n",
      "Confusion Matrix on Training set: \n",
      "[[276096  74863]\n",
      " [    82 118296]]\n",
      "Confusion Matrix on Testing set: \n",
      "[[56066 31966]\n",
      " [11569 17734]]\n"
     ]
    }
   ],
   "source": [
    "#Data importing\n",
    "dataFrame = pd.read_csv('./tracks.csv')\n",
    "dataFrame['popularity_flag'] = 0\n",
    "dataFrame.loc[dataFrame['popularity'] > 40, 'popularity_flag'] = 1\n",
    "\n",
    "# Drop the columns\n",
    "dataFrame = dataFrame.drop(columns=['id', 'name', 'artists', 'id_artists', 'release_date'])\n",
    "\n",
    "# Split into features and target\n",
    "X = dataFrame.drop(columns=['popularity_flag'])\n",
    "y = dataFrame['popularity_flag']\n",
    "\n",
    "X_train, X_test, y_train, y_test = train_test_split(X, y, test_size=0.2, random_state=42)\n",
    "\n",
    "dt = DecisionTreeClassifier()\n",
    "dt.fit(X_train, y_train)\n",
    "\n",
    "# Print the confusion matrix using Matplotlib\n",
    "y_train_scores_dt = dt.predict_proba(X_train)[:, 1]\n",
    "y_test_scores_dt = dt.predict_proba(X_test)[:, 1]\n",
    "# Precision-Recall curve\n",
    "precision_train, recall_train, _ = precision_recall_curve(y_train, y_train_scores_dt)\n",
    "precision_test, recall_test, _ = precision_recall_curve(y_test, y_test_scores_dt)\n",
    "\n",
    "# AUC\n",
    "auprc_train = auc(recall_train, precision_train)\n",
    "auprc_test = auc(recall_test, precision_test)\n",
    "\n",
    "print(f\"AUPRC on Training set: {auprc_train}\")\n",
    "print(f\"AUPRC on Testing set: {auprc_test}\")\n",
    "\n",
    "# Calculate F1 Score for both train and test sets\n",
    "f1_train = f1_score(ytrain, y_train_pred)\n",
    "f1_test = f1_score(ytest, y_test_pred)\n",
    "\n",
    "print(f\"F1 Score on Training set: {f1_train}\")\n",
    "print(f\"F1 Score on Testing set: {f1_test}\")\n",
    "\n",
    "cm_train = confusion_matrix(ytrain, y_train_pred)\n",
    "cm_test = confusion_matrix(ytest, y_test_pred)\n",
    "\n",
    "print(f\"Confusion Matrix on Training set: \\n{cm_train}\")\n",
    "print(f\"Confusion Matrix on Testing set: \\n{cm_test}\")"
   ],
   "metadata": {
    "collapsed": false,
    "ExecuteTime": {
     "end_time": "2024-02-05T19:35:41.095836Z",
     "start_time": "2024-02-05T19:35:39.487469Z"
    }
   }
  },
  {
   "cell_type": "markdown",
   "source": [],
   "metadata": {
    "collapsed": false
   }
  },
  {
   "cell_type": "code",
   "execution_count": 74,
   "outputs": [
    {
     "name": "stdout",
     "output_type": "stream",
     "text": [
      "AUPRC on Training set: 1.0\n",
      "AUPRC on Testing set: 1.0\n",
      "F1 Score on Training set: 0.7594346738910627\n",
      "F1 Score on Testing set: 0.4489449767730339\n",
      "Confusion Matrix on Training set: \n",
      "[[276096  74863]\n",
      " [    82 118296]]\n",
      "Confusion Matrix on Testing set: \n",
      "[[56066 31966]\n",
      " [11569 17734]]\n"
     ]
    }
   ],
   "source": [
    "\n",
    "#Create a Gaussian Classifier\n",
    "rf=RandomForestClassifier(n_estimators=1000, n_jobs=-1)\n",
    "\n",
    "#Train the model using the training sets y_pred=clf.predict(X_test)\n",
    "rf.fit(X_train, y_train.values.ravel())\n",
    "y_train_predrf = rf.predict(X_train)\n",
    "y_test_predrf = rf.predict(X_test)\n",
    "\n",
    "conf_matrix_rf = confusion_matrix(y_true=y_test, y_pred=y_test_predrf)\n",
    "\n",
    "\n",
    "y_train_scores_dt = rf.predict_proba(X_train)[:, 1]\n",
    "y_test_scores_dt = rf.predict_proba(X_test)[:, 1]\n",
    "# Precision-Recall curve\n",
    "precision_train, recall_train, _ = precision_recall_curve(y_train, y_train_scores_dt)\n",
    "precision_test, recall_test, _ = precision_recall_curve(y_test, y_test_scores_dt)\n",
    "\n",
    "# AUC\n",
    "auprc_train = auc(recall_train, precision_train)\n",
    "auprc_test = auc(recall_test, precision_test)\n",
    "\n",
    "print(f\"AUPRC on Training set: {auprc_train}\")\n",
    "print(f\"AUPRC on Testing set: {auprc_test}\")\n",
    "\n",
    "# Calculate F1 Score for both train and test sets\n",
    "f1_train = f1_score(ytrain, y_train_pred)\n",
    "f1_test = f1_score(ytest, y_test_pred)\n",
    "\n",
    "print(f\"F1 Score on Training set: {f1_train}\")\n",
    "print(f\"F1 Score on Testing set: {f1_test}\")\n",
    "\n",
    "cm_train = confusion_matrix(ytrain, y_train_pred)\n",
    "cm_test = confusion_matrix(ytest, y_test_pred)\n",
    "\n",
    "print(f\"Confusion Matrix on Training set: \\n{cm_train}\")\n",
    "print(f\"Confusion Matrix on Testing set: \\n{cm_test}\")"
   ],
   "metadata": {
    "collapsed": false,
    "ExecuteTime": {
     "end_time": "2024-02-05T19:36:28.846984Z",
     "start_time": "2024-02-05T19:35:53.193751Z"
    }
   }
  },
  {
   "cell_type": "code",
   "execution_count": 44,
   "outputs": [
    {
     "name": "stderr",
     "output_type": "stream",
     "text": [
      "/Users/benfunk/DataspellProjects/RandomProjects/venv/lib/python3.11/site-packages/sklearn/metrics/_scorer.py:548: FutureWarning: The `needs_threshold` and `needs_proba` parameter are deprecated in version 1.4 and will be removed in 1.6. You can either let `response_method` be `None` or set it to `predict` to preserve the same behaviour.\n",
      "  warnings.warn(\n"
     ]
    },
    {
     "ename": "KeyboardInterrupt",
     "evalue": "",
     "output_type": "error",
     "traceback": [
      "\u001B[0;31m---------------------------------------------------------------------------\u001B[0m",
      "\u001B[0;31mKeyboardInterrupt\u001B[0m                         Traceback (most recent call last)",
      "Cell \u001B[0;32mIn[44], line 19\u001B[0m\n\u001B[1;32m     17\u001B[0m \u001B[38;5;66;03m# Instantiate the grid search model\u001B[39;00m\n\u001B[1;32m     18\u001B[0m grid_search \u001B[38;5;241m=\u001B[39m GridSearchCV(estimator\u001B[38;5;241m=\u001B[39mrf_0, param_grid\u001B[38;5;241m=\u001B[39mparam_grid, scoring\u001B[38;5;241m=\u001B[39mmake_scorer(custom_auc, needs_proba\u001B[38;5;241m=\u001B[39m\u001B[38;5;28;01mTrue\u001B[39;00m))\n\u001B[0;32m---> 19\u001B[0m \u001B[43mgrid_search\u001B[49m\u001B[38;5;241;43m.\u001B[39;49m\u001B[43mfit\u001B[49m\u001B[43m(\u001B[49m\u001B[43mX_train\u001B[49m\u001B[43m,\u001B[49m\u001B[43m \u001B[49m\u001B[43my_train\u001B[49m\u001B[38;5;241;43m.\u001B[39;49m\u001B[43mvalues\u001B[49m\u001B[38;5;241;43m.\u001B[39;49m\u001B[43mravel\u001B[49m\u001B[43m(\u001B[49m\u001B[43m)\u001B[49m\u001B[43m)\u001B[49m\n\u001B[1;32m     20\u001B[0m \u001B[38;5;28mprint\u001B[39m (\u001B[38;5;124m'\u001B[39m\u001B[38;5;124mBest Parameters: \u001B[39m\u001B[38;5;124m'\u001B[39m, grid_search\u001B[38;5;241m.\u001B[39mbest_params_, \u001B[38;5;124m'\u001B[39m\u001B[38;5;124m \u001B[39m\u001B[38;5;130;01m\\n\u001B[39;00m\u001B[38;5;124m'\u001B[39m)\n\u001B[1;32m     22\u001B[0m \u001B[38;5;66;03m#Create a Gaussian Classifier\u001B[39;00m\n",
      "File \u001B[0;32m~/DataspellProjects/RandomProjects/venv/lib/python3.11/site-packages/sklearn/base.py:1351\u001B[0m, in \u001B[0;36m_fit_context.<locals>.decorator.<locals>.wrapper\u001B[0;34m(estimator, *args, **kwargs)\u001B[0m\n\u001B[1;32m   1344\u001B[0m     estimator\u001B[38;5;241m.\u001B[39m_validate_params()\n\u001B[1;32m   1346\u001B[0m \u001B[38;5;28;01mwith\u001B[39;00m config_context(\n\u001B[1;32m   1347\u001B[0m     skip_parameter_validation\u001B[38;5;241m=\u001B[39m(\n\u001B[1;32m   1348\u001B[0m         prefer_skip_nested_validation \u001B[38;5;129;01mor\u001B[39;00m global_skip_validation\n\u001B[1;32m   1349\u001B[0m     )\n\u001B[1;32m   1350\u001B[0m ):\n\u001B[0;32m-> 1351\u001B[0m     \u001B[38;5;28;01mreturn\u001B[39;00m \u001B[43mfit_method\u001B[49m\u001B[43m(\u001B[49m\u001B[43mestimator\u001B[49m\u001B[43m,\u001B[49m\u001B[43m \u001B[49m\u001B[38;5;241;43m*\u001B[39;49m\u001B[43margs\u001B[49m\u001B[43m,\u001B[49m\u001B[43m \u001B[49m\u001B[38;5;241;43m*\u001B[39;49m\u001B[38;5;241;43m*\u001B[39;49m\u001B[43mkwargs\u001B[49m\u001B[43m)\u001B[49m\n",
      "File \u001B[0;32m~/DataspellProjects/RandomProjects/venv/lib/python3.11/site-packages/sklearn/model_selection/_search.py:970\u001B[0m, in \u001B[0;36mBaseSearchCV.fit\u001B[0;34m(self, X, y, **params)\u001B[0m\n\u001B[1;32m    964\u001B[0m     results \u001B[38;5;241m=\u001B[39m \u001B[38;5;28mself\u001B[39m\u001B[38;5;241m.\u001B[39m_format_results(\n\u001B[1;32m    965\u001B[0m         all_candidate_params, n_splits, all_out, all_more_results\n\u001B[1;32m    966\u001B[0m     )\n\u001B[1;32m    968\u001B[0m     \u001B[38;5;28;01mreturn\u001B[39;00m results\n\u001B[0;32m--> 970\u001B[0m \u001B[38;5;28;43mself\u001B[39;49m\u001B[38;5;241;43m.\u001B[39;49m\u001B[43m_run_search\u001B[49m\u001B[43m(\u001B[49m\u001B[43mevaluate_candidates\u001B[49m\u001B[43m)\u001B[49m\n\u001B[1;32m    972\u001B[0m \u001B[38;5;66;03m# multimetric is determined here because in the case of a callable\u001B[39;00m\n\u001B[1;32m    973\u001B[0m \u001B[38;5;66;03m# self.scoring the return type is only known after calling\u001B[39;00m\n\u001B[1;32m    974\u001B[0m first_test_score \u001B[38;5;241m=\u001B[39m all_out[\u001B[38;5;241m0\u001B[39m][\u001B[38;5;124m\"\u001B[39m\u001B[38;5;124mtest_scores\u001B[39m\u001B[38;5;124m\"\u001B[39m]\n",
      "File \u001B[0;32m~/DataspellProjects/RandomProjects/venv/lib/python3.11/site-packages/sklearn/model_selection/_search.py:1527\u001B[0m, in \u001B[0;36mGridSearchCV._run_search\u001B[0;34m(self, evaluate_candidates)\u001B[0m\n\u001B[1;32m   1525\u001B[0m \u001B[38;5;28;01mdef\u001B[39;00m \u001B[38;5;21m_run_search\u001B[39m(\u001B[38;5;28mself\u001B[39m, evaluate_candidates):\n\u001B[1;32m   1526\u001B[0m \u001B[38;5;250m    \u001B[39m\u001B[38;5;124;03m\"\"\"Search all candidates in param_grid\"\"\"\u001B[39;00m\n\u001B[0;32m-> 1527\u001B[0m     \u001B[43mevaluate_candidates\u001B[49m\u001B[43m(\u001B[49m\u001B[43mParameterGrid\u001B[49m\u001B[43m(\u001B[49m\u001B[38;5;28;43mself\u001B[39;49m\u001B[38;5;241;43m.\u001B[39;49m\u001B[43mparam_grid\u001B[49m\u001B[43m)\u001B[49m\u001B[43m)\u001B[49m\n",
      "File \u001B[0;32m~/DataspellProjects/RandomProjects/venv/lib/python3.11/site-packages/sklearn/model_selection/_search.py:916\u001B[0m, in \u001B[0;36mBaseSearchCV.fit.<locals>.evaluate_candidates\u001B[0;34m(candidate_params, cv, more_results)\u001B[0m\n\u001B[1;32m    908\u001B[0m \u001B[38;5;28;01mif\u001B[39;00m \u001B[38;5;28mself\u001B[39m\u001B[38;5;241m.\u001B[39mverbose \u001B[38;5;241m>\u001B[39m \u001B[38;5;241m0\u001B[39m:\n\u001B[1;32m    909\u001B[0m     \u001B[38;5;28mprint\u001B[39m(\n\u001B[1;32m    910\u001B[0m         \u001B[38;5;124m\"\u001B[39m\u001B[38;5;124mFitting \u001B[39m\u001B[38;5;132;01m{0}\u001B[39;00m\u001B[38;5;124m folds for each of \u001B[39m\u001B[38;5;132;01m{1}\u001B[39;00m\u001B[38;5;124m candidates,\u001B[39m\u001B[38;5;124m\"\u001B[39m\n\u001B[1;32m    911\u001B[0m         \u001B[38;5;124m\"\u001B[39m\u001B[38;5;124m totalling \u001B[39m\u001B[38;5;132;01m{2}\u001B[39;00m\u001B[38;5;124m fits\u001B[39m\u001B[38;5;124m\"\u001B[39m\u001B[38;5;241m.\u001B[39mformat(\n\u001B[1;32m    912\u001B[0m             n_splits, n_candidates, n_candidates \u001B[38;5;241m*\u001B[39m n_splits\n\u001B[1;32m    913\u001B[0m         )\n\u001B[1;32m    914\u001B[0m     )\n\u001B[0;32m--> 916\u001B[0m out \u001B[38;5;241m=\u001B[39m \u001B[43mparallel\u001B[49m\u001B[43m(\u001B[49m\n\u001B[1;32m    917\u001B[0m \u001B[43m    \u001B[49m\u001B[43mdelayed\u001B[49m\u001B[43m(\u001B[49m\u001B[43m_fit_and_score\u001B[49m\u001B[43m)\u001B[49m\u001B[43m(\u001B[49m\n\u001B[1;32m    918\u001B[0m \u001B[43m        \u001B[49m\u001B[43mclone\u001B[49m\u001B[43m(\u001B[49m\u001B[43mbase_estimator\u001B[49m\u001B[43m)\u001B[49m\u001B[43m,\u001B[49m\n\u001B[1;32m    919\u001B[0m \u001B[43m        \u001B[49m\u001B[43mX\u001B[49m\u001B[43m,\u001B[49m\n\u001B[1;32m    920\u001B[0m \u001B[43m        \u001B[49m\u001B[43my\u001B[49m\u001B[43m,\u001B[49m\n\u001B[1;32m    921\u001B[0m \u001B[43m        \u001B[49m\u001B[43mtrain\u001B[49m\u001B[38;5;241;43m=\u001B[39;49m\u001B[43mtrain\u001B[49m\u001B[43m,\u001B[49m\n\u001B[1;32m    922\u001B[0m \u001B[43m        \u001B[49m\u001B[43mtest\u001B[49m\u001B[38;5;241;43m=\u001B[39;49m\u001B[43mtest\u001B[49m\u001B[43m,\u001B[49m\n\u001B[1;32m    923\u001B[0m \u001B[43m        \u001B[49m\u001B[43mparameters\u001B[49m\u001B[38;5;241;43m=\u001B[39;49m\u001B[43mparameters\u001B[49m\u001B[43m,\u001B[49m\n\u001B[1;32m    924\u001B[0m \u001B[43m        \u001B[49m\u001B[43msplit_progress\u001B[49m\u001B[38;5;241;43m=\u001B[39;49m\u001B[43m(\u001B[49m\u001B[43msplit_idx\u001B[49m\u001B[43m,\u001B[49m\u001B[43m \u001B[49m\u001B[43mn_splits\u001B[49m\u001B[43m)\u001B[49m\u001B[43m,\u001B[49m\n\u001B[1;32m    925\u001B[0m \u001B[43m        \u001B[49m\u001B[43mcandidate_progress\u001B[49m\u001B[38;5;241;43m=\u001B[39;49m\u001B[43m(\u001B[49m\u001B[43mcand_idx\u001B[49m\u001B[43m,\u001B[49m\u001B[43m \u001B[49m\u001B[43mn_candidates\u001B[49m\u001B[43m)\u001B[49m\u001B[43m,\u001B[49m\n\u001B[1;32m    926\u001B[0m \u001B[43m        \u001B[49m\u001B[38;5;241;43m*\u001B[39;49m\u001B[38;5;241;43m*\u001B[39;49m\u001B[43mfit_and_score_kwargs\u001B[49m\u001B[43m,\u001B[49m\n\u001B[1;32m    927\u001B[0m \u001B[43m    \u001B[49m\u001B[43m)\u001B[49m\n\u001B[1;32m    928\u001B[0m \u001B[43m    \u001B[49m\u001B[38;5;28;43;01mfor\u001B[39;49;00m\u001B[43m \u001B[49m\u001B[43m(\u001B[49m\u001B[43mcand_idx\u001B[49m\u001B[43m,\u001B[49m\u001B[43m \u001B[49m\u001B[43mparameters\u001B[49m\u001B[43m)\u001B[49m\u001B[43m,\u001B[49m\u001B[43m \u001B[49m\u001B[43m(\u001B[49m\u001B[43msplit_idx\u001B[49m\u001B[43m,\u001B[49m\u001B[43m \u001B[49m\u001B[43m(\u001B[49m\u001B[43mtrain\u001B[49m\u001B[43m,\u001B[49m\u001B[43m \u001B[49m\u001B[43mtest\u001B[49m\u001B[43m)\u001B[49m\u001B[43m)\u001B[49m\u001B[43m \u001B[49m\u001B[38;5;129;43;01min\u001B[39;49;00m\u001B[43m \u001B[49m\u001B[43mproduct\u001B[49m\u001B[43m(\u001B[49m\n\u001B[1;32m    929\u001B[0m \u001B[43m        \u001B[49m\u001B[38;5;28;43menumerate\u001B[39;49m\u001B[43m(\u001B[49m\u001B[43mcandidate_params\u001B[49m\u001B[43m)\u001B[49m\u001B[43m,\u001B[49m\n\u001B[1;32m    930\u001B[0m \u001B[43m        \u001B[49m\u001B[38;5;28;43menumerate\u001B[39;49m\u001B[43m(\u001B[49m\u001B[43mcv\u001B[49m\u001B[38;5;241;43m.\u001B[39;49m\u001B[43msplit\u001B[49m\u001B[43m(\u001B[49m\u001B[43mX\u001B[49m\u001B[43m,\u001B[49m\u001B[43m \u001B[49m\u001B[43my\u001B[49m\u001B[43m,\u001B[49m\u001B[43m \u001B[49m\u001B[38;5;241;43m*\u001B[39;49m\u001B[38;5;241;43m*\u001B[39;49m\u001B[43mrouted_params\u001B[49m\u001B[38;5;241;43m.\u001B[39;49m\u001B[43msplitter\u001B[49m\u001B[38;5;241;43m.\u001B[39;49m\u001B[43msplit\u001B[49m\u001B[43m)\u001B[49m\u001B[43m)\u001B[49m\u001B[43m,\u001B[49m\n\u001B[1;32m    931\u001B[0m \u001B[43m    \u001B[49m\u001B[43m)\u001B[49m\n\u001B[1;32m    932\u001B[0m \u001B[43m\u001B[49m\u001B[43m)\u001B[49m\n\u001B[1;32m    934\u001B[0m \u001B[38;5;28;01mif\u001B[39;00m \u001B[38;5;28mlen\u001B[39m(out) \u001B[38;5;241m<\u001B[39m \u001B[38;5;241m1\u001B[39m:\n\u001B[1;32m    935\u001B[0m     \u001B[38;5;28;01mraise\u001B[39;00m \u001B[38;5;167;01mValueError\u001B[39;00m(\n\u001B[1;32m    936\u001B[0m         \u001B[38;5;124m\"\u001B[39m\u001B[38;5;124mNo fits were performed. \u001B[39m\u001B[38;5;124m\"\u001B[39m\n\u001B[1;32m    937\u001B[0m         \u001B[38;5;124m\"\u001B[39m\u001B[38;5;124mWas the CV iterator empty? \u001B[39m\u001B[38;5;124m\"\u001B[39m\n\u001B[1;32m    938\u001B[0m         \u001B[38;5;124m\"\u001B[39m\u001B[38;5;124mWere there no candidates?\u001B[39m\u001B[38;5;124m\"\u001B[39m\n\u001B[1;32m    939\u001B[0m     )\n",
      "File \u001B[0;32m~/DataspellProjects/RandomProjects/venv/lib/python3.11/site-packages/sklearn/utils/parallel.py:67\u001B[0m, in \u001B[0;36mParallel.__call__\u001B[0;34m(self, iterable)\u001B[0m\n\u001B[1;32m     62\u001B[0m config \u001B[38;5;241m=\u001B[39m get_config()\n\u001B[1;32m     63\u001B[0m iterable_with_config \u001B[38;5;241m=\u001B[39m (\n\u001B[1;32m     64\u001B[0m     (_with_config(delayed_func, config), args, kwargs)\n\u001B[1;32m     65\u001B[0m     \u001B[38;5;28;01mfor\u001B[39;00m delayed_func, args, kwargs \u001B[38;5;129;01min\u001B[39;00m iterable\n\u001B[1;32m     66\u001B[0m )\n\u001B[0;32m---> 67\u001B[0m \u001B[38;5;28;01mreturn\u001B[39;00m \u001B[38;5;28;43msuper\u001B[39;49m\u001B[43m(\u001B[49m\u001B[43m)\u001B[49m\u001B[38;5;241;43m.\u001B[39;49m\u001B[38;5;21;43m__call__\u001B[39;49m\u001B[43m(\u001B[49m\u001B[43miterable_with_config\u001B[49m\u001B[43m)\u001B[49m\n",
      "File \u001B[0;32m~/DataspellProjects/RandomProjects/venv/lib/python3.11/site-packages/joblib/parallel.py:1863\u001B[0m, in \u001B[0;36mParallel.__call__\u001B[0;34m(self, iterable)\u001B[0m\n\u001B[1;32m   1861\u001B[0m     output \u001B[38;5;241m=\u001B[39m \u001B[38;5;28mself\u001B[39m\u001B[38;5;241m.\u001B[39m_get_sequential_output(iterable)\n\u001B[1;32m   1862\u001B[0m     \u001B[38;5;28mnext\u001B[39m(output)\n\u001B[0;32m-> 1863\u001B[0m     \u001B[38;5;28;01mreturn\u001B[39;00m output \u001B[38;5;28;01mif\u001B[39;00m \u001B[38;5;28mself\u001B[39m\u001B[38;5;241m.\u001B[39mreturn_generator \u001B[38;5;28;01melse\u001B[39;00m \u001B[38;5;28mlist\u001B[39m(output)\n\u001B[1;32m   1865\u001B[0m \u001B[38;5;66;03m# Let's create an ID that uniquely identifies the current call. If the\u001B[39;00m\n\u001B[1;32m   1866\u001B[0m \u001B[38;5;66;03m# call is interrupted early and that the same instance is immediately\u001B[39;00m\n\u001B[1;32m   1867\u001B[0m \u001B[38;5;66;03m# re-used, this id will be used to prevent workers that were\u001B[39;00m\n\u001B[1;32m   1868\u001B[0m \u001B[38;5;66;03m# concurrently finalizing a task from the previous call to run the\u001B[39;00m\n\u001B[1;32m   1869\u001B[0m \u001B[38;5;66;03m# callback.\u001B[39;00m\n\u001B[1;32m   1870\u001B[0m \u001B[38;5;28;01mwith\u001B[39;00m \u001B[38;5;28mself\u001B[39m\u001B[38;5;241m.\u001B[39m_lock:\n",
      "File \u001B[0;32m~/DataspellProjects/RandomProjects/venv/lib/python3.11/site-packages/joblib/parallel.py:1792\u001B[0m, in \u001B[0;36mParallel._get_sequential_output\u001B[0;34m(self, iterable)\u001B[0m\n\u001B[1;32m   1790\u001B[0m \u001B[38;5;28mself\u001B[39m\u001B[38;5;241m.\u001B[39mn_dispatched_batches \u001B[38;5;241m+\u001B[39m\u001B[38;5;241m=\u001B[39m \u001B[38;5;241m1\u001B[39m\n\u001B[1;32m   1791\u001B[0m \u001B[38;5;28mself\u001B[39m\u001B[38;5;241m.\u001B[39mn_dispatched_tasks \u001B[38;5;241m+\u001B[39m\u001B[38;5;241m=\u001B[39m \u001B[38;5;241m1\u001B[39m\n\u001B[0;32m-> 1792\u001B[0m res \u001B[38;5;241m=\u001B[39m \u001B[43mfunc\u001B[49m\u001B[43m(\u001B[49m\u001B[38;5;241;43m*\u001B[39;49m\u001B[43margs\u001B[49m\u001B[43m,\u001B[49m\u001B[43m \u001B[49m\u001B[38;5;241;43m*\u001B[39;49m\u001B[38;5;241;43m*\u001B[39;49m\u001B[43mkwargs\u001B[49m\u001B[43m)\u001B[49m\n\u001B[1;32m   1793\u001B[0m \u001B[38;5;28mself\u001B[39m\u001B[38;5;241m.\u001B[39mn_completed_tasks \u001B[38;5;241m+\u001B[39m\u001B[38;5;241m=\u001B[39m \u001B[38;5;241m1\u001B[39m\n\u001B[1;32m   1794\u001B[0m \u001B[38;5;28mself\u001B[39m\u001B[38;5;241m.\u001B[39mprint_progress()\n",
      "File \u001B[0;32m~/DataspellProjects/RandomProjects/venv/lib/python3.11/site-packages/sklearn/utils/parallel.py:129\u001B[0m, in \u001B[0;36m_FuncWrapper.__call__\u001B[0;34m(self, *args, **kwargs)\u001B[0m\n\u001B[1;32m    127\u001B[0m     config \u001B[38;5;241m=\u001B[39m {}\n\u001B[1;32m    128\u001B[0m \u001B[38;5;28;01mwith\u001B[39;00m config_context(\u001B[38;5;241m*\u001B[39m\u001B[38;5;241m*\u001B[39mconfig):\n\u001B[0;32m--> 129\u001B[0m     \u001B[38;5;28;01mreturn\u001B[39;00m \u001B[38;5;28;43mself\u001B[39;49m\u001B[38;5;241;43m.\u001B[39;49m\u001B[43mfunction\u001B[49m\u001B[43m(\u001B[49m\u001B[38;5;241;43m*\u001B[39;49m\u001B[43margs\u001B[49m\u001B[43m,\u001B[49m\u001B[43m \u001B[49m\u001B[38;5;241;43m*\u001B[39;49m\u001B[38;5;241;43m*\u001B[39;49m\u001B[43mkwargs\u001B[49m\u001B[43m)\u001B[49m\n",
      "File \u001B[0;32m~/DataspellProjects/RandomProjects/venv/lib/python3.11/site-packages/sklearn/model_selection/_validation.py:890\u001B[0m, in \u001B[0;36m_fit_and_score\u001B[0;34m(estimator, X, y, scorer, train, test, verbose, parameters, fit_params, score_params, return_train_score, return_parameters, return_n_test_samples, return_times, return_estimator, split_progress, candidate_progress, error_score)\u001B[0m\n\u001B[1;32m    888\u001B[0m         estimator\u001B[38;5;241m.\u001B[39mfit(X_train, \u001B[38;5;241m*\u001B[39m\u001B[38;5;241m*\u001B[39mfit_params)\n\u001B[1;32m    889\u001B[0m     \u001B[38;5;28;01melse\u001B[39;00m:\n\u001B[0;32m--> 890\u001B[0m         \u001B[43mestimator\u001B[49m\u001B[38;5;241;43m.\u001B[39;49m\u001B[43mfit\u001B[49m\u001B[43m(\u001B[49m\u001B[43mX_train\u001B[49m\u001B[43m,\u001B[49m\u001B[43m \u001B[49m\u001B[43my_train\u001B[49m\u001B[43m,\u001B[49m\u001B[43m \u001B[49m\u001B[38;5;241;43m*\u001B[39;49m\u001B[38;5;241;43m*\u001B[39;49m\u001B[43mfit_params\u001B[49m\u001B[43m)\u001B[49m\n\u001B[1;32m    892\u001B[0m \u001B[38;5;28;01mexcept\u001B[39;00m \u001B[38;5;167;01mException\u001B[39;00m:\n\u001B[1;32m    893\u001B[0m     \u001B[38;5;66;03m# Note fit time as time until error\u001B[39;00m\n\u001B[1;32m    894\u001B[0m     fit_time \u001B[38;5;241m=\u001B[39m time\u001B[38;5;241m.\u001B[39mtime() \u001B[38;5;241m-\u001B[39m start_time\n",
      "File \u001B[0;32m~/DataspellProjects/RandomProjects/venv/lib/python3.11/site-packages/sklearn/base.py:1351\u001B[0m, in \u001B[0;36m_fit_context.<locals>.decorator.<locals>.wrapper\u001B[0;34m(estimator, *args, **kwargs)\u001B[0m\n\u001B[1;32m   1344\u001B[0m     estimator\u001B[38;5;241m.\u001B[39m_validate_params()\n\u001B[1;32m   1346\u001B[0m \u001B[38;5;28;01mwith\u001B[39;00m config_context(\n\u001B[1;32m   1347\u001B[0m     skip_parameter_validation\u001B[38;5;241m=\u001B[39m(\n\u001B[1;32m   1348\u001B[0m         prefer_skip_nested_validation \u001B[38;5;129;01mor\u001B[39;00m global_skip_validation\n\u001B[1;32m   1349\u001B[0m     )\n\u001B[1;32m   1350\u001B[0m ):\n\u001B[0;32m-> 1351\u001B[0m     \u001B[38;5;28;01mreturn\u001B[39;00m \u001B[43mfit_method\u001B[49m\u001B[43m(\u001B[49m\u001B[43mestimator\u001B[49m\u001B[43m,\u001B[49m\u001B[43m \u001B[49m\u001B[38;5;241;43m*\u001B[39;49m\u001B[43margs\u001B[49m\u001B[43m,\u001B[49m\u001B[43m \u001B[49m\u001B[38;5;241;43m*\u001B[39;49m\u001B[38;5;241;43m*\u001B[39;49m\u001B[43mkwargs\u001B[49m\u001B[43m)\u001B[49m\n",
      "File \u001B[0;32m~/DataspellProjects/RandomProjects/venv/lib/python3.11/site-packages/sklearn/ensemble/_forest.py:489\u001B[0m, in \u001B[0;36mBaseForest.fit\u001B[0;34m(self, X, y, sample_weight)\u001B[0m\n\u001B[1;32m    478\u001B[0m trees \u001B[38;5;241m=\u001B[39m [\n\u001B[1;32m    479\u001B[0m     \u001B[38;5;28mself\u001B[39m\u001B[38;5;241m.\u001B[39m_make_estimator(append\u001B[38;5;241m=\u001B[39m\u001B[38;5;28;01mFalse\u001B[39;00m, random_state\u001B[38;5;241m=\u001B[39mrandom_state)\n\u001B[1;32m    480\u001B[0m     \u001B[38;5;28;01mfor\u001B[39;00m i \u001B[38;5;129;01min\u001B[39;00m \u001B[38;5;28mrange\u001B[39m(n_more_estimators)\n\u001B[1;32m    481\u001B[0m ]\n\u001B[1;32m    483\u001B[0m \u001B[38;5;66;03m# Parallel loop: we prefer the threading backend as the Cython code\u001B[39;00m\n\u001B[1;32m    484\u001B[0m \u001B[38;5;66;03m# for fitting the trees is internally releasing the Python GIL\u001B[39;00m\n\u001B[1;32m    485\u001B[0m \u001B[38;5;66;03m# making threading more efficient than multiprocessing in\u001B[39;00m\n\u001B[1;32m    486\u001B[0m \u001B[38;5;66;03m# that case. However, for joblib 0.12+ we respect any\u001B[39;00m\n\u001B[1;32m    487\u001B[0m \u001B[38;5;66;03m# parallel_backend contexts set at a higher level,\u001B[39;00m\n\u001B[1;32m    488\u001B[0m \u001B[38;5;66;03m# since correctness does not rely on using threads.\u001B[39;00m\n\u001B[0;32m--> 489\u001B[0m trees \u001B[38;5;241m=\u001B[39m \u001B[43mParallel\u001B[49m\u001B[43m(\u001B[49m\n\u001B[1;32m    490\u001B[0m \u001B[43m    \u001B[49m\u001B[43mn_jobs\u001B[49m\u001B[38;5;241;43m=\u001B[39;49m\u001B[38;5;28;43mself\u001B[39;49m\u001B[38;5;241;43m.\u001B[39;49m\u001B[43mn_jobs\u001B[49m\u001B[43m,\u001B[49m\n\u001B[1;32m    491\u001B[0m \u001B[43m    \u001B[49m\u001B[43mverbose\u001B[49m\u001B[38;5;241;43m=\u001B[39;49m\u001B[38;5;28;43mself\u001B[39;49m\u001B[38;5;241;43m.\u001B[39;49m\u001B[43mverbose\u001B[49m\u001B[43m,\u001B[49m\n\u001B[1;32m    492\u001B[0m \u001B[43m    \u001B[49m\u001B[43mprefer\u001B[49m\u001B[38;5;241;43m=\u001B[39;49m\u001B[38;5;124;43m\"\u001B[39;49m\u001B[38;5;124;43mthreads\u001B[39;49m\u001B[38;5;124;43m\"\u001B[39;49m\u001B[43m,\u001B[49m\n\u001B[1;32m    493\u001B[0m \u001B[43m\u001B[49m\u001B[43m)\u001B[49m\u001B[43m(\u001B[49m\n\u001B[1;32m    494\u001B[0m \u001B[43m    \u001B[49m\u001B[43mdelayed\u001B[49m\u001B[43m(\u001B[49m\u001B[43m_parallel_build_trees\u001B[49m\u001B[43m)\u001B[49m\u001B[43m(\u001B[49m\n\u001B[1;32m    495\u001B[0m \u001B[43m        \u001B[49m\u001B[43mt\u001B[49m\u001B[43m,\u001B[49m\n\u001B[1;32m    496\u001B[0m \u001B[43m        \u001B[49m\u001B[38;5;28;43mself\u001B[39;49m\u001B[38;5;241;43m.\u001B[39;49m\u001B[43mbootstrap\u001B[49m\u001B[43m,\u001B[49m\n\u001B[1;32m    497\u001B[0m \u001B[43m        \u001B[49m\u001B[43mX\u001B[49m\u001B[43m,\u001B[49m\n\u001B[1;32m    498\u001B[0m \u001B[43m        \u001B[49m\u001B[43my\u001B[49m\u001B[43m,\u001B[49m\n\u001B[1;32m    499\u001B[0m \u001B[43m        \u001B[49m\u001B[43msample_weight\u001B[49m\u001B[43m,\u001B[49m\n\u001B[1;32m    500\u001B[0m \u001B[43m        \u001B[49m\u001B[43mi\u001B[49m\u001B[43m,\u001B[49m\n\u001B[1;32m    501\u001B[0m \u001B[43m        \u001B[49m\u001B[38;5;28;43mlen\u001B[39;49m\u001B[43m(\u001B[49m\u001B[43mtrees\u001B[49m\u001B[43m)\u001B[49m\u001B[43m,\u001B[49m\n\u001B[1;32m    502\u001B[0m \u001B[43m        \u001B[49m\u001B[43mverbose\u001B[49m\u001B[38;5;241;43m=\u001B[39;49m\u001B[38;5;28;43mself\u001B[39;49m\u001B[38;5;241;43m.\u001B[39;49m\u001B[43mverbose\u001B[49m\u001B[43m,\u001B[49m\n\u001B[1;32m    503\u001B[0m \u001B[43m        \u001B[49m\u001B[43mclass_weight\u001B[49m\u001B[38;5;241;43m=\u001B[39;49m\u001B[38;5;28;43mself\u001B[39;49m\u001B[38;5;241;43m.\u001B[39;49m\u001B[43mclass_weight\u001B[49m\u001B[43m,\u001B[49m\n\u001B[1;32m    504\u001B[0m \u001B[43m        \u001B[49m\u001B[43mn_samples_bootstrap\u001B[49m\u001B[38;5;241;43m=\u001B[39;49m\u001B[43mn_samples_bootstrap\u001B[49m\u001B[43m,\u001B[49m\n\u001B[1;32m    505\u001B[0m \u001B[43m        \u001B[49m\u001B[43mmissing_values_in_feature_mask\u001B[49m\u001B[38;5;241;43m=\u001B[39;49m\u001B[43mmissing_values_in_feature_mask\u001B[49m\u001B[43m,\u001B[49m\n\u001B[1;32m    506\u001B[0m \u001B[43m    \u001B[49m\u001B[43m)\u001B[49m\n\u001B[1;32m    507\u001B[0m \u001B[43m    \u001B[49m\u001B[38;5;28;43;01mfor\u001B[39;49;00m\u001B[43m \u001B[49m\u001B[43mi\u001B[49m\u001B[43m,\u001B[49m\u001B[43m \u001B[49m\u001B[43mt\u001B[49m\u001B[43m \u001B[49m\u001B[38;5;129;43;01min\u001B[39;49;00m\u001B[43m \u001B[49m\u001B[38;5;28;43menumerate\u001B[39;49m\u001B[43m(\u001B[49m\u001B[43mtrees\u001B[49m\u001B[43m)\u001B[49m\n\u001B[1;32m    508\u001B[0m \u001B[43m\u001B[49m\u001B[43m)\u001B[49m\n\u001B[1;32m    510\u001B[0m \u001B[38;5;66;03m# Collect newly grown trees\u001B[39;00m\n\u001B[1;32m    511\u001B[0m \u001B[38;5;28mself\u001B[39m\u001B[38;5;241m.\u001B[39mestimators_\u001B[38;5;241m.\u001B[39mextend(trees)\n",
      "File \u001B[0;32m~/DataspellProjects/RandomProjects/venv/lib/python3.11/site-packages/sklearn/utils/parallel.py:67\u001B[0m, in \u001B[0;36mParallel.__call__\u001B[0;34m(self, iterable)\u001B[0m\n\u001B[1;32m     62\u001B[0m config \u001B[38;5;241m=\u001B[39m get_config()\n\u001B[1;32m     63\u001B[0m iterable_with_config \u001B[38;5;241m=\u001B[39m (\n\u001B[1;32m     64\u001B[0m     (_with_config(delayed_func, config), args, kwargs)\n\u001B[1;32m     65\u001B[0m     \u001B[38;5;28;01mfor\u001B[39;00m delayed_func, args, kwargs \u001B[38;5;129;01min\u001B[39;00m iterable\n\u001B[1;32m     66\u001B[0m )\n\u001B[0;32m---> 67\u001B[0m \u001B[38;5;28;01mreturn\u001B[39;00m \u001B[38;5;28;43msuper\u001B[39;49m\u001B[43m(\u001B[49m\u001B[43m)\u001B[49m\u001B[38;5;241;43m.\u001B[39;49m\u001B[38;5;21;43m__call__\u001B[39;49m\u001B[43m(\u001B[49m\u001B[43miterable_with_config\u001B[49m\u001B[43m)\u001B[49m\n",
      "File \u001B[0;32m~/DataspellProjects/RandomProjects/venv/lib/python3.11/site-packages/joblib/parallel.py:1952\u001B[0m, in \u001B[0;36mParallel.__call__\u001B[0;34m(self, iterable)\u001B[0m\n\u001B[1;32m   1946\u001B[0m \u001B[38;5;66;03m# The first item from the output is blank, but it makes the interpreter\u001B[39;00m\n\u001B[1;32m   1947\u001B[0m \u001B[38;5;66;03m# progress until it enters the Try/Except block of the generator and\u001B[39;00m\n\u001B[1;32m   1948\u001B[0m \u001B[38;5;66;03m# reach the first `yield` statement. This starts the aynchronous\u001B[39;00m\n\u001B[1;32m   1949\u001B[0m \u001B[38;5;66;03m# dispatch of the tasks to the workers.\u001B[39;00m\n\u001B[1;32m   1950\u001B[0m \u001B[38;5;28mnext\u001B[39m(output)\n\u001B[0;32m-> 1952\u001B[0m \u001B[38;5;28;01mreturn\u001B[39;00m output \u001B[38;5;28;01mif\u001B[39;00m \u001B[38;5;28mself\u001B[39m\u001B[38;5;241m.\u001B[39mreturn_generator \u001B[38;5;28;01melse\u001B[39;00m \u001B[38;5;28mlist\u001B[39m(output)\n",
      "File \u001B[0;32m~/DataspellProjects/RandomProjects/venv/lib/python3.11/site-packages/joblib/parallel.py:1595\u001B[0m, in \u001B[0;36mParallel._get_outputs\u001B[0;34m(self, iterator, pre_dispatch)\u001B[0m\n\u001B[1;32m   1592\u001B[0m     \u001B[38;5;28;01myield\u001B[39;00m\n\u001B[1;32m   1594\u001B[0m     \u001B[38;5;28;01mwith\u001B[39;00m \u001B[38;5;28mself\u001B[39m\u001B[38;5;241m.\u001B[39m_backend\u001B[38;5;241m.\u001B[39mretrieval_context():\n\u001B[0;32m-> 1595\u001B[0m         \u001B[38;5;28;01myield from\u001B[39;00m \u001B[38;5;28mself\u001B[39m\u001B[38;5;241m.\u001B[39m_retrieve()\n\u001B[1;32m   1597\u001B[0m \u001B[38;5;28;01mexcept\u001B[39;00m \u001B[38;5;167;01mGeneratorExit\u001B[39;00m:\n\u001B[1;32m   1598\u001B[0m     \u001B[38;5;66;03m# The generator has been garbage collected before being fully\u001B[39;00m\n\u001B[1;32m   1599\u001B[0m     \u001B[38;5;66;03m# consumed. This aborts the remaining tasks if possible and warn\u001B[39;00m\n\u001B[1;32m   1600\u001B[0m     \u001B[38;5;66;03m# the user if necessary.\u001B[39;00m\n\u001B[1;32m   1601\u001B[0m     \u001B[38;5;28mself\u001B[39m\u001B[38;5;241m.\u001B[39m_exception \u001B[38;5;241m=\u001B[39m \u001B[38;5;28;01mTrue\u001B[39;00m\n",
      "File \u001B[0;32m~/DataspellProjects/RandomProjects/venv/lib/python3.11/site-packages/joblib/parallel.py:1707\u001B[0m, in \u001B[0;36mParallel._retrieve\u001B[0;34m(self)\u001B[0m\n\u001B[1;32m   1702\u001B[0m \u001B[38;5;66;03m# If the next job is not ready for retrieval yet, we just wait for\u001B[39;00m\n\u001B[1;32m   1703\u001B[0m \u001B[38;5;66;03m# async callbacks to progress.\u001B[39;00m\n\u001B[1;32m   1704\u001B[0m \u001B[38;5;28;01mif\u001B[39;00m ((\u001B[38;5;28mlen\u001B[39m(\u001B[38;5;28mself\u001B[39m\u001B[38;5;241m.\u001B[39m_jobs) \u001B[38;5;241m==\u001B[39m \u001B[38;5;241m0\u001B[39m) \u001B[38;5;129;01mor\u001B[39;00m\n\u001B[1;32m   1705\u001B[0m     (\u001B[38;5;28mself\u001B[39m\u001B[38;5;241m.\u001B[39m_jobs[\u001B[38;5;241m0\u001B[39m]\u001B[38;5;241m.\u001B[39mget_status(\n\u001B[1;32m   1706\u001B[0m         timeout\u001B[38;5;241m=\u001B[39m\u001B[38;5;28mself\u001B[39m\u001B[38;5;241m.\u001B[39mtimeout) \u001B[38;5;241m==\u001B[39m TASK_PENDING)):\n\u001B[0;32m-> 1707\u001B[0m     time\u001B[38;5;241m.\u001B[39msleep(\u001B[38;5;241m0.01\u001B[39m)\n\u001B[1;32m   1708\u001B[0m     \u001B[38;5;28;01mcontinue\u001B[39;00m\n\u001B[1;32m   1710\u001B[0m \u001B[38;5;66;03m# We need to be careful: the job list can be filling up as\u001B[39;00m\n\u001B[1;32m   1711\u001B[0m \u001B[38;5;66;03m# we empty it and Python list are not thread-safe by\u001B[39;00m\n\u001B[1;32m   1712\u001B[0m \u001B[38;5;66;03m# default hence the use of the lock\u001B[39;00m\n",
      "\u001B[0;31mKeyboardInterrupt\u001B[0m: "
     ]
    }
   ],
   "source": [
    "def custom_auc(y_true, y_pred):\n",
    "    # check if y_pred is 1-dimensional\n",
    "    if len(y_pred.shape) == 1:\n",
    "        precision, recall, _ = precision_recall_curve(y_true, y_pred)\n",
    "    else:\n",
    "        precision, recall, _ = precision_recall_curve(y_true, y_pred[:, 1])\n",
    "    return auc(recall, precision)\n",
    "\n",
    "# Create the parameter grid based on the results of random search\n",
    "param_grid = {\n",
    "    'max_depth': [20,  80, 100],\n",
    "    'max_features': ['sqrt'],\n",
    "    'n_estimators': [100, 500, 1000]\n",
    "}\n",
    "# Create a based model\n",
    "rf_0 = RandomForestClassifier(n_jobs=-1)\n",
    "# Instantiate the grid search model\n",
    "grid_search = GridSearchCV(estimator=rf_0, param_grid=param_grid, scoring=make_scorer(custom_auc, needs_proba=True))\n",
    "grid_search.fit(X_train, y_train.values.ravel())\n",
    "print ('Best Parameters: ', grid_search.best_params_, ' \\n')\n",
    "\n",
    "#Create a Gaussian Classifier\n",
    "rf2=RandomForestClassifier(n_estimators=1000, max_depth = 100, max_features = 'sqrt', min_samples_leaf =1,min_samples_split =2, n_jobs=-1, random_state=42)\n",
    "\n",
    "#Train the model using the training sets y_pred=clf.predict(X_test)\n",
    "rf2.fit(X_train, y_train.values.ravel())\n",
    "\n",
    "y_train_scores_dt = rf2.predict_proba(X_train)[:, 1]\n",
    "y_test_scores_dt = rf2.predict_proba(X_test)[:, 1]\n",
    "\n",
    "# Precision-Recall curve\n",
    "precision_train, recall_train, _ = precision_recall_curve(y_train, y_train_scores_dt)\n",
    "precision_test, recall_test, _ = precision_recall_curve(y_test, y_test_scores_dt)\n",
    "\n",
    "# AUC\n",
    "auprc_train = auc(recall_train, precision_train)\n",
    "auprc_test = auc(recall_test, precision_test)\n",
    "\n",
    "print(f\"AUPRC on Training set: {auprc_train}\")\n",
    "print(f\"AUPRC on Testing set: {auprc_test}\")\n",
    "\n",
    "# Calculate F1 Score for both train and test sets\n",
    "f1_train = f1_score(ytrain, y_train_pred)\n",
    "f1_test = f1_score(ytest, y_test_pred)\n",
    "\n",
    "print(f\"F1 Score on Training set: {f1_train}\")\n",
    "print(f\"F1 Score on Testing set: {f1_test}\")\n",
    "\n",
    "cm_train = confusion_matrix(ytrain, y_train_pred)\n",
    "cm_test = confusion_matrix(ytest, y_test_pred)\n",
    "\n",
    "print(f\"Confusion Matrix on Training set: \\n{cm_train}\")\n",
    "print(f\"Confusion Matrix on Testing set: \\n{cm_test}\")"
   ],
   "metadata": {
    "collapsed": false,
    "ExecuteTime": {
     "end_time": "2024-02-05T19:24:17.002689Z",
     "start_time": "2024-02-05T19:24:01.752290Z"
    }
   }
  },
  {
   "cell_type": "code",
   "execution_count": null,
   "outputs": [],
   "source": [],
   "metadata": {
    "collapsed": false,
    "is_executing": true,
    "ExecuteTime": {
     "start_time": "2024-01-22T02:16:51.380226Z"
    }
   }
  }
 ],
 "metadata": {
  "kernelspec": {
   "display_name": "Python 3",
   "language": "python",
   "name": "python3"
  },
  "language_info": {
   "codemirror_mode": {
    "name": "ipython",
    "version": 2
   },
   "file_extension": ".py",
   "mimetype": "text/x-python",
   "name": "python",
   "nbconvert_exporter": "python",
   "pygments_lexer": "ipython2",
   "version": "2.7.6"
  }
 },
 "nbformat": 4,
 "nbformat_minor": 0
}
