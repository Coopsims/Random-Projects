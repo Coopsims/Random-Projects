{
 "cells": [
  {
   "cell_type": "code",
   "execution_count": 15,
   "metadata": {
    "collapsed": true,
    "ExecuteTime": {
     "end_time": "2024-02-03T04:32:06.680271Z",
     "start_time": "2024-02-03T04:32:06.677818Z"
    }
   },
   "outputs": [],
   "source": [
    "#Imports\n",
    "import pandas as pd\n",
    "from sklearn import neighbors\n",
    "from sklearn.preprocessing import LabelEncoder\n",
    "import tensorflow as tf\n",
    "import keras\n",
    "import numpy as np\n",
    "from keras.src.layers import Dropout\n",
    "from matplotlib import pyplot as plt\n",
    "from keras.callbacks import EarlyStopping\n",
    "from sklearn.metrics import confusion_matrix\n",
    "from sklearn.model_selection import train_test_split\n",
    "from sklearn.metrics import make_scorer, confusion_matrix, precision_score, recall_score, f1_score, accuracy_score\n",
    "from sklearn.model_selection import GridSearchCV\n",
    "from sklearn.ensemble import RandomForestClassifier\n",
    "from sklearn.tree import DecisionTreeClassifier\n",
    "from imblearn.over_sampling import SMOTE\n",
    "from keras.optimizers import SGD\n",
    "from sklearn.metrics import precision_recall_curve, auc\n",
    "import seaborn as sns\n",
    "from keras import metrics"
   ]
  },
  {
   "cell_type": "code",
   "execution_count": 2,
   "outputs": [],
   "source": [
    "#Data importing\n",
    "dataFrame = pd.read_csv('./dataset.csv')\n",
    "\n",
    "# variable I will try to predict: popularity\n",
    "# the dataset is taken from: https://www.kaggle.com/datasets/maharshipandya/-spotify-tracks-dataset/\n",
    "\n",
    "dataFrame['popularity_flag'] = 0\n",
    "dataFrame.loc[dataFrame['popularity'] > 50, 'popularity_flag'] = 1\n",
    "# Label encoding 'track_genre'\n",
    "le = LabelEncoder()\n",
    "dataFrame['track_genre_encoded'] = le.fit_transform(dataFrame['track_genre'])\n",
    "\n",
    "# Drop the columns\n",
    "dataFrame = dataFrame.drop(columns=['Unnamed: 0', 'track_id', 'artists', 'album_name', 'track_name', 'track_genre', 'popularity'])"
   ],
   "metadata": {
    "collapsed": false,
    "ExecuteTime": {
     "end_time": "2024-02-03T04:25:50.451594Z",
     "start_time": "2024-02-03T04:25:50.254545Z"
    }
   }
  },
  {
   "cell_type": "code",
   "outputs": [
    {
     "name": "stdout",
     "output_type": "stream",
     "text": [
      "                     duration_ms  explicit  danceability    energy       key  \\\n",
      "duration_ms             1.000000 -0.065263     -0.073426  0.058523  0.008114   \n",
      "explicit               -0.065263  1.000000      0.122507  0.096955  0.004484   \n",
      "danceability           -0.073426  0.122507      1.000000  0.134325  0.036469   \n",
      "energy                  0.058523  0.096955      0.134325  1.000000  0.048006   \n",
      "key                     0.008114  0.004484      0.036469  0.048006  1.000000   \n",
      "loudness               -0.003470  0.108588      0.259077  0.761690  0.038590   \n",
      "mode                   -0.035556 -0.037212     -0.069219 -0.078362 -0.135916   \n",
      "speechiness            -0.062600  0.307952      0.108626  0.142509  0.020418   \n",
      "acousticness           -0.103788 -0.094403     -0.171533 -0.733906 -0.040937   \n",
      "instrumentalness        0.124371 -0.103404     -0.185606 -0.181879 -0.006823   \n",
      "liveness                0.010321  0.032549     -0.131617  0.184796 -0.001600   \n",
      "valence                -0.154479 -0.003381      0.477341  0.258934  0.034103   \n",
      "tempo                   0.024346 -0.002816     -0.050450  0.247851  0.010917   \n",
      "time_signature          0.018225  0.038386      0.207218  0.187126  0.015065   \n",
      "popularity_flag        -0.040963  0.057929      0.052042 -0.022272 -0.001434   \n",
      "track_genre_encoded    -0.032826 -0.054828      0.003569 -0.056175 -0.005508   \n",
      "\n",
      "                     loudness      mode  speechiness  acousticness  \\\n",
      "duration_ms         -0.003470 -0.035556    -0.062600     -0.103788   \n",
      "explicit             0.108588 -0.037212     0.307952     -0.094403   \n",
      "danceability         0.259077 -0.069219     0.108626     -0.171533   \n",
      "energy               0.761690 -0.078362     0.142509     -0.733906   \n",
      "key                  0.038590 -0.135916     0.020418     -0.040937   \n",
      "loudness             1.000000 -0.041764     0.060826     -0.589803   \n",
      "mode                -0.041764  1.000000    -0.046532      0.095553   \n",
      "speechiness          0.060826 -0.046532     1.000000     -0.002186   \n",
      "acousticness        -0.589803  0.095553    -0.002186      1.000000   \n",
      "instrumentalness    -0.433477 -0.049955    -0.089616      0.104027   \n",
      "liveness             0.076899  0.014012     0.205219     -0.020700   \n",
      "valence              0.279848  0.021953     0.036635     -0.107070   \n",
      "tempo                0.212446  0.000566     0.017273     -0.208224   \n",
      "time_signature       0.191992 -0.024092    -0.000011     -0.176138   \n",
      "popularity_flag      0.034287 -0.026222    -0.049382     -0.035406   \n",
      "track_genre_encoded -0.027233  0.005242    -0.085145      0.077217   \n",
      "\n",
      "                     instrumentalness  liveness   valence     tempo  \\\n",
      "duration_ms                  0.124371  0.010321 -0.154479  0.024346   \n",
      "explicit                    -0.103404  0.032549 -0.003381 -0.002816   \n",
      "danceability                -0.185606 -0.131617  0.477341 -0.050450   \n",
      "energy                      -0.181879  0.184796  0.258934  0.247851   \n",
      "key                         -0.006823 -0.001600  0.034103  0.010917   \n",
      "loudness                    -0.433477  0.076899  0.279848  0.212446   \n",
      "mode                        -0.049955  0.014012  0.021953  0.000566   \n",
      "speechiness                 -0.089616  0.205219  0.036635  0.017273   \n",
      "acousticness                 0.104027 -0.020700 -0.107070 -0.208224   \n",
      "instrumentalness             1.000000 -0.079893 -0.324312 -0.050330   \n",
      "liveness                    -0.079893  1.000000  0.019086  0.000600   \n",
      "valence                     -0.324312  0.019086  1.000000  0.078273   \n",
      "tempo                       -0.050330  0.000600  0.078273  1.000000   \n",
      "time_signature              -0.082580 -0.023651  0.133686  0.066641   \n",
      "popularity_flag             -0.081798 -0.086904 -0.040244 -0.013160   \n",
      "track_genre_encoded         -0.070664  0.033565  0.053307 -0.025926   \n",
      "\n",
      "                     time_signature  popularity_flag  track_genre_encoded  \n",
      "duration_ms                0.018225        -0.040963            -0.032826  \n",
      "explicit                   0.038386         0.057929            -0.054828  \n",
      "danceability               0.207218         0.052042             0.003569  \n",
      "energy                     0.187126        -0.022272            -0.056175  \n",
      "key                        0.015065        -0.001434            -0.005508  \n",
      "loudness                   0.191992         0.034287            -0.027233  \n",
      "mode                      -0.024092        -0.026222             0.005242  \n",
      "speechiness               -0.000011        -0.049382            -0.085145  \n",
      "acousticness              -0.176138        -0.035406             0.077217  \n",
      "instrumentalness          -0.082580        -0.081798            -0.070664  \n",
      "liveness                  -0.023651        -0.086904             0.033565  \n",
      "valence                    0.133686        -0.040244             0.053307  \n",
      "tempo                      0.066641        -0.013160            -0.025926  \n",
      "time_signature             1.000000         0.024891            -0.021005  \n",
      "popularity_flag            0.024891         1.000000            -0.008654  \n",
      "track_genre_encoded       -0.021005        -0.008654             1.000000  \n"
     ]
    },
    {
     "data": {
      "text/plain": "<Axes: >"
     },
     "execution_count": 3,
     "metadata": {},
     "output_type": "execute_result"
    },
    {
     "data": {
      "text/plain": "<Figure size 1100x900 with 2 Axes>",
      "image/png": "[encoded data removed]"
     },
     "metadata": {},
     "output_type": "display_data"
    }
   ],
   "source": [
    "# Calculate correlation matrix\n",
    "corr_matrix = dataFrame.corr()\n",
    "\n",
    "# Show correlation matrix\n",
    "print(corr_matrix)\n",
    "\n",
    "# Generate a mask for the upper triangle\n",
    "mask = np.triu(np.ones_like(corr_matrix, dtype=bool))\n",
    "\n",
    "# Set up the matplotlib figure\n",
    "f, ax = plt.subplots(figsize=(11, 9))\n",
    "\n",
    "# Generate a custom diverging colormap\n",
    "cmap = sns.diverging_palette(230, 20, as_cmap=True,)\n",
    "\n",
    "# Draw the heatmap with the mask and correct aspect ratio\n",
    "sns.heatmap(corr_matrix, mask=mask, cmap=cmap, vmax=.3, center=0,\n",
    "            square=True, linewidths=.5, cbar_kws={\"shrink\": .5})"
   ],
   "metadata": {
    "collapsed": false,
    "ExecuteTime": {
     "end_time": "2024-02-03T04:25:55.629614Z",
     "start_time": "2024-02-03T04:25:55.390285Z"
    }
   },
   "execution_count": 3
  },
  {
   "cell_type": "markdown",
   "source": [
    "Label to integer mapping: {'acoustic': 0, 'afrobeat': 1, 'alt-rock': 2, 'alternative': 3, 'ambient': 4, 'anime': 5, 'black-metal': 6, 'bluegrass': 7, 'blues': 8, 'brazil': 9, 'breakbeat': 10, 'british': 11, 'cantopop': 12, 'chicago-house': 13, 'children': 14, 'chill': 15, 'classical': 16, 'club': 17, 'comedy': 18, 'country': 19, 'dance': 20, 'dancehall': 21, 'death-metal': 22, 'deep-house': 23, 'detroit-techno': 24, 'disco': 25, 'disney': 26, 'drum-and-bass': 27, 'dub': 28, 'dubstep': 29, 'edm': 30, 'electro': 31, 'electronic': 32, 'emo': 33, 'folk': 34, 'forro': 35, 'french': 36, 'funk': 37, 'garage': 38, 'german': 39, 'gospel': 40, 'goth': 41, 'grindcore': 42, 'groove': 43, 'grunge': 44, 'guitar': 45, 'happy': 46, 'hard-rock': 47, 'hardcore': 48, 'hardstyle': 49, 'heavy-metal': 50, 'hip-hop': 51, 'honky-tonk': 52, 'house': 53, 'idm': 54, 'indian': 55, 'indie': 56, 'indie-pop': 57, 'industrial': 58, 'iranian': 59, 'j-dance': 60, 'j-idol': 61, 'j-pop': 62, 'j-rock': 63, 'jazz': 64, 'k-pop': 65, 'kids': 66, 'latin': 67, 'latino': 68, 'malay': 69, 'mandopop': 70, 'metal': 71, 'metalcore': 72, 'minimal-techno': 73, 'mpb': 74, 'new-age': 75, 'opera': 76, 'pagode': 77, 'party': 78, 'piano': 79, 'pop': 80, 'pop-film': 81, 'power-pop': 82, 'progressive-house': 83, 'psych-rock': 84, 'punk': 85, 'punk-rock': 86, 'r-n-b': 87, 'reggae': 88, 'reggaeton': 89, 'rock': 90, 'rock-n-roll': 91, 'rockabilly': 92, 'romance': 93, 'sad': 94, 'salsa': 95, 'samba': 96, 'sertanejo': 97, 'show-tunes': 98, 'singer-songwriter': 99, 'ska': 100, 'sleep': 101, 'songwriter': 102, 'soul': 103, 'spanish': 104, 'study': 105, 'swedish': 106, 'synth-pop': 107, 'tango': 108, 'techno': 109, 'trance': 110, 'trip-hop': 111, 'turkish': 112, 'world-music': 113}"
   ],
   "metadata": {
    "collapsed": false
   }
  },
  {
   "cell_type": "markdown",
   "source": [
    "This is a lot to go through but basically it is assigning each genre a number so that I now have a quantitative variable instead of a qualitative one. this allows for a neural net to run on the data."
   ],
   "metadata": {
    "collapsed": false
   }
  },
  {
   "cell_type": "code",
   "execution_count": 4,
   "outputs": [],
   "source": [
    "inputs = ['track_genre_encoded', 'danceability', 'energy', 'key', 'loudness', 'mode', 'speechiness', 'acousticness',\n",
    "          'instrumentalness', 'liveness', 'valence', 'tempo', 'time_signature', 'explicit']\n",
    "target = ['popularity_flag']"
   ],
   "metadata": {
    "collapsed": false,
    "ExecuteTime": {
     "end_time": "2024-02-03T04:26:03.279172Z",
     "start_time": "2024-02-03T04:26:03.273711Z"
    }
   }
  },
  {
   "cell_type": "code",
   "execution_count": 5,
   "outputs": [],
   "source": [
    "xtrain, xtest, ytrain, ytest = train_test_split(dataFrame[inputs], dataFrame[target], test_size=0.2, random_state=42)"
   ],
   "metadata": {
    "collapsed": false,
    "ExecuteTime": {
     "end_time": "2024-02-03T04:26:39.995396Z",
     "start_time": "2024-02-03T04:26:39.974359Z"
    }
   }
  },
  {
   "cell_type": "code",
   "outputs": [
    {
     "name": "stdout",
     "output_type": "stream",
     "text": [
      "The AUPRC baseline is: popularity_flag    0.24455\n",
      "dtype: float64\n"
     ]
    },
    {
     "name": "stderr",
     "output_type": "stream",
     "text": [
      "/Users/benfunk/anaconda3/lib/python3.10/site-packages/numpy/core/fromnumeric.py:3430: FutureWarning: In a future version, DataFrame.mean(axis=None) will return a scalar mean over the entire DataFrame. To retain the old behavior, use 'frame.mean(axis=0)' or just 'frame.mean()'\n",
      "  return mean(axis=axis, dtype=dtype, out=out, **kwargs)\n"
     ]
    }
   ],
   "source": [
    "# Assuming y_train is your training labels\n",
    "positive_class_proportion = np.mean(ytrain)\n",
    "\n",
    "print(f\"The AUPRC baseline is: {positive_class_proportion}\")"
   ],
   "metadata": {
    "collapsed": false,
    "ExecuteTime": {
     "end_time": "2024-02-03T04:26:40.541664Z",
     "start_time": "2024-02-03T04:26:40.528834Z"
    }
   },
   "execution_count": 6
  },
  {
   "cell_type": "markdown",
   "source": [
    "This means that if my model is guessing it should have a score of 0.24 or 24% as the I am working with an unbalanced dataset. It focuses on the trade-off between precision and recall, and the AUPRC (Area Under the Precision-Recall Curve) is  useful for evaluating imbalanced dataset models... like what I have. It provides a measure of how well the model can increase its prediction accuracy on the positive class without incurring too many false positive errors."
   ],
   "metadata": {
    "collapsed": false
   }
  },
  {
   "cell_type": "code",
   "execution_count": 7,
   "outputs": [
    {
     "name": "stdout",
     "output_type": "stream",
     "text": [
      "AUPRC on Training set: 0.8022429232302499\n",
      "AUPRC on Testing set: 0.49061103748163354\n",
      "F1 Score on Training set: 0.6470891293147861\n",
      "F1 Score on Testing set: 0.3269556162957178\n"
     ]
    }
   ],
   "source": [
    "model = neighbors.KNeighborsRegressor(2)\n",
    "model.fit(xtrain,ytrain)\n",
    "ypred = model.predict(xtest)\n",
    "ypred = (ypred > 0.5).astype(int)  # Apply a threshold \n",
    "\n",
    "y_train_scores = model.predict(xtrain)\n",
    "y_test_scores = model.predict(xtest)\n",
    "\n",
    "#Apply same threshold to train predictions\n",
    "y_train_pred = (y_train_scores > 0.5).astype(int)\n",
    "y_test_pred = (y_test_scores > 0.5).astype(int)\n",
    "\n",
    "# Precision-Recall curve\n",
    "precision_train, recall_train, _ = precision_recall_curve(ytrain, y_train_pred)\n",
    "precision_test, recall_test, _ = precision_recall_curve(ytest, y_test_pred)\n",
    "\n",
    "# AUC\n",
    "auprc_train = auc(recall_train, precision_train)\n",
    "auprc_test = auc(recall_test, precision_test)\n",
    "\n",
    "print(f\"AUPRC on Training set: {auprc_train}\")\n",
    "print(f\"AUPRC on Testing set: {auprc_test}\")\n",
    "\n",
    "# Calculate F1 Score\n",
    "f1_train = f1_score(ytrain, y_train_pred)\n",
    "f1_test = f1_score(ytest, y_test_pred)\n",
    "\n",
    "print(f\"F1 Score on Training set: {f1_train}\")\n",
    "print(f\"F1 Score on Testing set: {f1_test}\")"
   ],
   "metadata": {
    "collapsed": false,
    "ExecuteTime": {
     "end_time": "2024-02-03T04:26:43.182934Z",
     "start_time": "2024-02-03T04:26:42.541359Z"
    }
   }
  },
  {
   "cell_type": "markdown",
   "source": [
    "this does fine on the training set but leaves much to be desired on the testing set. for this project any f1 score over .5 will be a good model"
   ],
   "metadata": {
    "collapsed": false
   }
  },
  {
   "cell_type": "code",
   "outputs": [
    {
     "name": "stdout",
     "output_type": "stream",
     "text": [
      "AUPRC on Training set: 0.8022429232302499\n",
      "AUPRC on Testing set: 0.49061103748163354\n",
      "F1 Score on Training set: 0.6470891293147861\n",
      "F1 Score on Testing set: 0.3269556162957178\n"
     ]
    }
   ],
   "source": [
    "model = neighbors.KNeighborsClassifier(n_neighbors=2)\n",
    "model.fit(xtrain, ytrain.values.ravel())\n",
    "y_train_scores = model.predict_proba(xtrain)[:, 1]\n",
    "y_test_scores = model.predict_proba(xtest)[:, 1]\n",
    "\n",
    "#Apply same threshold to train predictions\n",
    "y_train_pred = (y_train_scores > 0.5).astype(int)\n",
    "y_test_pred = (y_test_scores > 0.5).astype(int)\n",
    "\n",
    "# Precision-Recall curve\n",
    "precision_train, recall_train, _ = precision_recall_curve(ytrain, y_train_pred)\n",
    "precision_test, recall_test, _ = precision_recall_curve(ytest, y_test_pred)\n",
    "\n",
    "# AUC\n",
    "auprc_train = auc(recall_train, precision_train)\n",
    "auprc_test = auc(recall_test, precision_test)\n",
    "\n",
    "print(f\"AUPRC on Training set: {auprc_train}\")\n",
    "print(f\"AUPRC on Testing set: {auprc_test}\")\n",
    "\n",
    "# Calculate F1 Score\n",
    "f1_train = f1_score(ytrain, y_train_pred)\n",
    "f1_test = f1_score(ytest, y_test_pred)\n",
    "\n",
    "print(f\"F1 Score on Training set: {f1_train}\")\n",
    "print(f\"F1 Score on Testing set: {f1_test}\")"
   ],
   "metadata": {
    "collapsed": false,
    "ExecuteTime": {
     "end_time": "2024-02-03T04:28:36.617158Z",
     "start_time": "2024-02-03T04:28:36.065683Z"
    }
   },
   "execution_count": 8
  },
  {
   "cell_type": "code",
   "execution_count": 9,
   "outputs": [],
   "source": [
    "# Data importing\n",
    "dataFrame = pd.read_csv('./dataset.csv')\n",
    "dataFrame['popularity_flag'] = 0\n",
    "dataFrame.loc[dataFrame['popularity'] > 50, 'popularity_flag'] = 1\n",
    "# Label encoding 'track_genre'\n",
    "le = LabelEncoder()\n",
    "dataFrame['track_genre_encoded'] = le.fit_transform(dataFrame['track_genre'])\n",
    "\n",
    "# Drop the columns\n",
    "dataFrame = dataFrame.drop(columns=['Unnamed: 0', 'track_id', 'artists', 'album_name', 'track_name', 'track_genre', 'popularity'])\n",
    "\n",
    "# Split into features and target\n",
    "X = dataFrame.drop(columns=['popularity_flag'])\n",
    "y = dataFrame['popularity_flag']\n",
    "\n",
    "# Convert to tensor\n",
    "X_tensor = tf.convert_to_tensor(X.values, dtype=tf.float32)\n",
    "y_tensor = tf.convert_to_tensor(y.values, dtype=tf.float32)\n",
    "\n",
    "# Calculate the index at which to split the dataset\n",
    "train_size = int(0.8 * len(X))\n",
    "\n",
    "# Manually slice the tensors for train/test sets\n",
    "x_train_tensor = X_tensor[:train_size]\n",
    "y_train_tensor = y_tensor[:train_size]\n",
    "x_test_tensor = X_tensor[train_size:]\n",
    "y_test_tensor = y_tensor[train_size:]\n"
   ],
   "metadata": {
    "collapsed": false,
    "ExecuteTime": {
     "end_time": "2024-02-03T04:28:38.131616Z",
     "start_time": "2024-02-03T04:28:37.873044Z"
    }
   }
  },
  {
   "cell_type": "code",
   "execution_count": 10,
   "outputs": [],
   "source": [
    "@keras.saving.register_keras_serializable()\n",
    "def mse_loss(y_true, y_pred):\n",
    "    return tf.reduce_mean(tf.square(y_pred - y_true))\n",
    "\n",
    "@keras.saving.register_keras_serializable()\n",
    "def rmse(y_true, y_pred):\n",
    "    return tf.sqrt(mse_loss(y_true,y_pred))\n",
    "\n",
    "@keras.saving.register_keras_serializable()\n",
    "def r_squared(y_true, y_pred,):\n",
    "    residual = tf.reduce_sum(tf.square(tf.subtract(y_true, y_pred)))\n",
    "    total = tf.reduce_sum(tf.square(tf.subtract(y_true, tf.reduce_mean(y_true))))\n",
    "    r2 = tf.subtract(1.0, tf.divide(residual, total))\n",
    "    return r2\n",
    "\n",
    "@keras.saving.register_keras_serializable()\n",
    "def r_squared_loss(y_true, y_pred):\n",
    "    residual = tf.reduce_sum(tf.square(tf.subtract(y_true, y_pred)))\n",
    "    total = tf.reduce_sum(tf.square(tf.subtract(y_true, tf.reduce_mean(y_true))))\n",
    "    r2 = tf.subtract(1.0, tf.divide(residual, total))\n",
    "    return 1 - r2  # or you can return -r2 to minimize the negative value\n",
    "\n",
    "def custom_loss(y_true, y_pred):\n",
    "    # Assign costs\n",
    "    cost_fp = 2.0  # cost of a false positive\n",
    "    cost_fn = 5.0  # cost of a false negative\n",
    "\n",
    "    # Calculate binary cross-entropy\n",
    "    bce = tf.keras.losses.BinaryCrossentropy()\n",
    "    base_loss = bce(y_true, y_pred)\n",
    "\n",
    "    # Calculate false positives and false negatives\n",
    "    y_pred_binary = tf.round(y_pred)\n",
    "    fp = tf.math.reduce_sum(tf.math.multiply(tf.math.subtract(y_pred_binary, y_true), cost_fp))\n",
    "    fn = tf.math.reduce_sum(tf.math.multiply(tf.math.subtract(y_true, y_pred_binary), cost_fn))\n",
    "\n",
    "    # Add to base loss\n",
    "    return base_loss + fp + fn\n",
    "\n",
    "def plot_results(history):\n",
    "    epoch_num = np.arange(1, len(history.history['loss'])+1)\n",
    "\n",
    "    plt.figure(figsize=(15, 5))\n",
    "\n",
    "    plt.subplot(1, 2, 1)\n",
    "    plt.plot(epoch_num, history.history['loss'], label='training_loss')\n",
    "    plt.plot(epoch_num, history.history['val_loss'], label='test_loss')\n",
    "    plt.legend()\n",
    "    plt.xlabel('Epoch')\n",
    "    plt.ylabel('Loss')\n",
    "    plt.grid(True)\n",
    "\n",
    "    plt.subplot(1, 2, 2)\n",
    "    plt.plot(epoch_num, history.history['accuracy'], label='training_accuracy')\n",
    "    plt.plot(epoch_num, history.history['val_accuracy'], label='test_accuracy')\n",
    "    plt.legend()\n",
    "    plt.xlabel('Epoch')\n",
    "    plt.ylabel('Accuracy')\n",
    "    plt.grid(True)"
   ],
   "metadata": {
    "collapsed": false,
    "ExecuteTime": {
     "end_time": "2024-02-03T04:28:39.090452Z",
     "start_time": "2024-02-03T04:28:39.085262Z"
    }
   }
  },
  {
   "cell_type": "code",
   "execution_count": 21,
   "outputs": [],
   "source": [
    "input_shape = (x_train_tensor.shape[1],)\n",
    "\n",
    "# Build model function\n",
    "def build_model(input_shape):\n",
    "    model = tf.keras.Sequential([\n",
    "        tf.keras.layers.Dense(8, activation='relu', input_shape=input_shape),\n",
    "        tf.keras.layers.Dense(8, activation='relu'),\n",
    "        tf.keras.layers.Dense(4, activation='elu'),\n",
    "        tf.keras.layers.Dense(4, activation='elu'),\n",
    "        tf.keras.layers.Dense(1, activation='sigmoid')\n",
    "    ])\n",
    "    return model"
   ],
   "metadata": {
    "collapsed": false,
    "ExecuteTime": {
     "end_time": "2024-02-03T04:39:10.591967Z",
     "start_time": "2024-02-03T04:39:10.585234Z"
    }
   }
  },
  {
   "cell_type": "code",
   "outputs": [
    {
     "name": "stdout",
     "output_type": "stream",
     "text": [
      "2850/2850 [==============================] - 1s 193us/step\n",
      "2850/2850 [==============================] - 1s 227us/step\n",
      "2850/2850 [==============================] - 1s 186us/step\n",
      "2850/2850 [==============================] - 1s 187us/step\n",
      "2850/2850 [==============================] - 1s 184us/step\n",
      "2850/2850 [==============================] - 1s 184us/step\n",
      "2850/2850 [==============================] - 1s 184us/step\n",
      "2850/2850 [==============================] - 1s 235us/step\n",
      "2850/2850 [==============================] - 1s 186us/step\n",
      "2850/2850 [==============================] - 1s 184us/step\n",
      "Best class weights:  {0: 1.0, 1: 3.6666666666666665}\n",
      "Best F1 score:  0.4032882180939541\n"
     ]
    }
   ],
   "source": [
    "\n",
    "# Define a set of class weights to evaluate\n",
    "class_weights_grid = [{0:1.0, 1:weight} for weight in np.linspace(1, 5, 100)]  # Drop the 100 down to 10 if you are running this on a weaker computer.\n",
    "\n",
    "# Initial placeholders for the best weights and highest f1 score\n",
    "best_class_weights = None\n",
    "highest_f1 = 0\n",
    "\n",
    "for class_weights in class_weights_grid:\n",
    "\n",
    "    #Build and compile model as before\n",
    "    model = build_model(input_shape)\n",
    "    model.compile(optimizer='adam',\n",
    "                  loss=tf.keras.losses.BinaryCrossentropy(),\n",
    "                  metrics=[metrics.BinaryAccuracy(name='accuracy'),\n",
    "                           metrics.Precision(name='precision'),\n",
    "                           metrics.Recall(name='recall'),\n",
    "                           metrics.AUC(name='auc')])\n",
    "\n",
    "    # Train model with current class weight\n",
    "    model.fit(x_train_tensor,\n",
    "              y_train_tensor,\n",
    "              epochs=20,\n",
    "              validation_split=0.1,\n",
    "              batch_size=200,\n",
    "              class_weight=class_weights,\n",
    "              verbose=0) # Turn off output \n",
    "\n",
    "    # Evaluate F1 Score\n",
    "    y_train_scores = model.predict(x_train_tensor).flatten()\n",
    "    y_train_pred = (y_train_scores > 0.5).astype(int)\n",
    "    f1 = f1_score(y_train_tensor, y_train_pred)\n",
    "\n",
    "    if f1 > highest_f1:\n",
    "        best_class_weights = class_weights\n",
    "        highest_f1 = f1\n",
    "\n",
    "# Output the best class weights\n",
    "print(\"Best class weights: \", best_class_weights)\n",
    "print(\"Best F1 score: \", highest_f1)"
   ],
   "metadata": {
    "collapsed": false,
    "ExecuteTime": {
     "end_time": "2024-02-03T04:39:53.253441Z",
     "start_time": "2024-02-03T04:39:11.758817Z"
    }
   },
   "execution_count": 22
  },
  {
   "cell_type": "markdown",
   "source": [
    "Now that I have found the best class weight I will use that to train the final model"
   ],
   "metadata": {
    "collapsed": false
   }
  },
  {
   "cell_type": "code",
   "outputs": [
    {
     "name": "stdout",
     "output_type": "stream",
     "text": [
      "Epoch 1/20\n",
      "411/411 [==============================] - 0s 657us/step - loss: 3294.8499 - accuracy: 0.4084 - precision: 0.2523 - recall: 0.6867 - auc: 0.5008 - val_loss: 0.7671 - val_accuracy: 0.2580 - val_precision: 0.2580 - val_recall: 1.0000 - val_auc: 0.5000\n",
      "Epoch 2/20\n",
      "411/411 [==============================] - 0s 436us/step - loss: 1.1837 - accuracy: 0.2520 - precision: 0.2520 - recall: 1.0000 - auc: 0.5007 - val_loss: 0.7862 - val_accuracy: 0.2580 - val_precision: 0.2580 - val_recall: 1.0000 - val_auc: 0.5000\n",
      "Epoch 3/20\n",
      "411/411 [==============================] - 0s 456us/step - loss: 1.1837 - accuracy: 0.2520 - precision: 0.2520 - recall: 1.0000 - auc: 0.5038 - val_loss: 0.7633 - val_accuracy: 0.2580 - val_precision: 0.2580 - val_recall: 1.0000 - val_auc: 0.5000\n",
      "Epoch 4/20\n",
      "411/411 [==============================] - 0s 434us/step - loss: 1.1837 - accuracy: 0.2520 - precision: 0.2520 - recall: 1.0000 - auc: 0.4986 - val_loss: 0.7662 - val_accuracy: 0.2580 - val_precision: 0.2580 - val_recall: 1.0000 - val_auc: 0.5000\n",
      "Epoch 5/20\n",
      "411/411 [==============================] - 0s 429us/step - loss: 1.1838 - accuracy: 0.2520 - precision: 0.2520 - recall: 1.0000 - auc: 0.4981 - val_loss: 0.7709 - val_accuracy: 0.2580 - val_precision: 0.2580 - val_recall: 1.0000 - val_auc: 0.5000\n",
      "Epoch 6/20\n",
      "411/411 [==============================] - 0s 433us/step - loss: 1.1837 - accuracy: 0.2520 - precision: 0.2520 - recall: 1.0000 - auc: 0.5008 - val_loss: 0.7799 - val_accuracy: 0.2580 - val_precision: 0.2580 - val_recall: 1.0000 - val_auc: 0.5000\n",
      "Epoch 7/20\n",
      "411/411 [==============================] - 0s 430us/step - loss: 1.1838 - accuracy: 0.2520 - precision: 0.2520 - recall: 1.0000 - auc: 0.4998 - val_loss: 0.7729 - val_accuracy: 0.2580 - val_precision: 0.2580 - val_recall: 1.0000 - val_auc: 0.5000\n",
      "Epoch 8/20\n",
      "411/411 [==============================] - 0s 430us/step - loss: 1.1838 - accuracy: 0.2520 - precision: 0.2520 - recall: 1.0000 - auc: 0.4984 - val_loss: 0.7656 - val_accuracy: 0.2580 - val_precision: 0.2580 - val_recall: 1.0000 - val_auc: 0.5000\n",
      "Epoch 9/20\n",
      "411/411 [==============================] - 0s 422us/step - loss: 1.1838 - accuracy: 0.2520 - precision: 0.2520 - recall: 1.0000 - auc: 0.4970 - val_loss: 0.7752 - val_accuracy: 0.2580 - val_precision: 0.2580 - val_recall: 1.0000 - val_auc: 0.5000\n",
      "Epoch 10/20\n",
      "411/411 [==============================] - 0s 423us/step - loss: 1.1838 - accuracy: 0.2520 - precision: 0.2520 - recall: 1.0000 - auc: 0.4986 - val_loss: 0.7717 - val_accuracy: 0.2580 - val_precision: 0.2580 - val_recall: 1.0000 - val_auc: 0.5000\n",
      "Epoch 11/20\n",
      "411/411 [==============================] - 0s 441us/step - loss: 1.1838 - accuracy: 0.2520 - precision: 0.2520 - recall: 1.0000 - auc: 0.4967 - val_loss: 0.7735 - val_accuracy: 0.2580 - val_precision: 0.2580 - val_recall: 1.0000 - val_auc: 0.5000\n",
      "Epoch 12/20\n",
      "411/411 [==============================] - 0s 427us/step - loss: 1.1838 - accuracy: 0.2520 - precision: 0.2520 - recall: 1.0000 - auc: 0.4987 - val_loss: 0.7589 - val_accuracy: 0.2580 - val_precision: 0.2580 - val_recall: 1.0000 - val_auc: 0.5000\n",
      "Epoch 13/20\n",
      "411/411 [==============================] - 0s 428us/step - loss: 1.1838 - accuracy: 0.2520 - precision: 0.2520 - recall: 1.0000 - auc: 0.4998 - val_loss: 0.7673 - val_accuracy: 0.2580 - val_precision: 0.2580 - val_recall: 1.0000 - val_auc: 0.5000\n",
      "Epoch 14/20\n",
      "411/411 [==============================] - 0s 457us/step - loss: 1.1838 - accuracy: 0.2520 - precision: 0.2520 - recall: 1.0000 - auc: 0.5000 - val_loss: 0.7624 - val_accuracy: 0.2580 - val_precision: 0.2580 - val_recall: 1.0000 - val_auc: 0.5000\n",
      "Epoch 15/20\n",
      "411/411 [==============================] - 0s 431us/step - loss: 1.1838 - accuracy: 0.2520 - precision: 0.2520 - recall: 1.0000 - auc: 0.4981 - val_loss: 0.7675 - val_accuracy: 0.2580 - val_precision: 0.2580 - val_recall: 1.0000 - val_auc: 0.5000\n",
      "Epoch 16/20\n",
      "411/411 [==============================] - 0s 453us/step - loss: 1.1837 - accuracy: 0.2520 - precision: 0.2520 - recall: 1.0000 - auc: 0.5006 - val_loss: 0.7770 - val_accuracy: 0.2580 - val_precision: 0.2580 - val_recall: 1.0000 - val_auc: 0.5000\n",
      "Epoch 17/20\n",
      "411/411 [==============================] - 0s 443us/step - loss: 1.1838 - accuracy: 0.2520 - precision: 0.2520 - recall: 1.0000 - auc: 0.4964 - val_loss: 0.7730 - val_accuracy: 0.2580 - val_precision: 0.2580 - val_recall: 1.0000 - val_auc: 0.5000\n",
      "Epoch 18/20\n",
      "411/411 [==============================] - 0s 455us/step - loss: 1.1838 - accuracy: 0.2520 - precision: 0.2520 - recall: 1.0000 - auc: 0.4974 - val_loss: 0.7612 - val_accuracy: 0.2580 - val_precision: 0.2580 - val_recall: 1.0000 - val_auc: 0.5000\n",
      "Epoch 19/20\n",
      "411/411 [==============================] - 0s 443us/step - loss: 1.1838 - accuracy: 0.2520 - precision: 0.2520 - recall: 1.0000 - auc: 0.5014 - val_loss: 0.7691 - val_accuracy: 0.2580 - val_precision: 0.2580 - val_recall: 1.0000 - val_auc: 0.5000\n",
      "Epoch 20/20\n",
      "411/411 [==============================] - 0s 454us/step - loss: 1.1838 - accuracy: 0.2520 - precision: 0.2520 - recall: 1.0000 - auc: 0.4966 - val_loss: 0.7783 - val_accuracy: 0.2580 - val_precision: 0.2580 - val_recall: 1.0000 - val_auc: 0.5000\n",
      "2850/2850 [==============================] - 1s 188us/step\n",
      "713/713 [==============================] - 0s 194us/step\n",
      "Summarizing model performance:\n",
      "\n",
      "AUPRC on Training set: 0.6262787969166328\n",
      "AUPRC on Testing set: 0.6038815789473684\n",
      "F1 Score on Training set: 0.4032670355066882\n",
      "F1 Score on Testing set: 0.34404619239568585\n"
     ]
    }
   ],
   "source": [
    "\n",
    "# Class weights for cost-sensitive training\n",
    "class_weights = {0: 1., 1: 3.9}  # You can fine-tune this based on your specific case\n",
    "early_stopping = EarlyStopping(monitor='accuracy', patience=50, restore_best_weights=True)\n",
    "\n",
    "with tf.device('/GPU:0'):\n",
    "    # Regular model training\n",
    "    model = build_model(input_shape)\n",
    "    model.compile(optimizer='adam', loss=tf.keras.losses.BinaryCrossentropy(), \n",
    "                  metrics=[metrics.BinaryAccuracy(name='accuracy'), \n",
    "                           metrics.Precision(name='precision'), \n",
    "                           metrics.Recall(name='recall'), \n",
    "                           metrics.AUC(name='auc')])\n",
    "    \n",
    "    model.fit(x_train_tensor, y_train_tensor, epochs=20,validation_split=0.1, batch_size=200, class_weight = class_weights)\n",
    "\n",
    "    # Get model's predictions (as class labels using threshold of 0.5)\n",
    "    y_train_scores = model.predict(x_train_tensor).flatten()\n",
    "    y_test_scores = model.predict(x_test_tensor).flatten()\n",
    "    y_train_pred = (y_train_scores > 0.5).astype(int)\n",
    "    y_test_pred = (y_test_scores > 0.5).astype(int)\n",
    "\n",
    "    print(f\"Summarizing model performance:\\n\")\n",
    "\n",
    "    # Precision-Recall curve\n",
    "    precision_train, recall_train, _ = precision_recall_curve(y_train_tensor, y_train_pred)\n",
    "    precision_test, recall_test, _ = precision_recall_curve(y_test_tensor, y_test_pred)\n",
    "\n",
    "    # Calculate AUC\n",
    "    auprc_train = auc(recall_train, precision_train)\n",
    "    auprc_test = auc(recall_test, precision_test)\n",
    "    print(f\"AUPRC on Training set: {auprc_train}\")\n",
    "    print(f\"AUPRC on Testing set: {auprc_test}\")\n",
    "\n",
    "    # Calculate F1 Score\n",
    "    f1_train = f1_score(y_train_tensor, y_train_pred)\n",
    "    f1_test = f1_score(y_test_tensor, y_test_pred)\n",
    "    print(f\"F1 Score on Training set: {f1_train}\")\n",
    "    print(f\"F1 Score on Testing set: {f1_test}\")"
   ],
   "metadata": {
    "collapsed": false,
    "pycharm": {
     "is_executing": true
    },
    "ExecuteTime": {
     "end_time": "2024-02-03T04:36:04.984337Z",
     "start_time": "2024-02-03T04:36:00.045858Z"
    }
   },
   "execution_count": 20
  },
  {
   "cell_type": "code",
   "execution_count": 12,
   "outputs": [
    {
     "name": "stdout",
     "output_type": "stream",
     "text": [
      "AUPRC on Training set: 0.9995438542449004\n",
      "AUPRC on Testing set: 0.5892483905553867\n"
     ]
    }
   ],
   "source": [
    "    model.compile(optimizer='adam', loss=tf.keras.losses.BinaryCrossentropy(), metrics=['accuracy'])\n",
    "model.fit(x_train_tensor, y_train_tensor, epochs=20,validation_split=0.1, batch_size=200)#Data importing\n",
    "dataFrame = pd.read_csv('./dataset.csv')\n",
    "\n",
    "# variable I will try to predict: popularity\n",
    "# the dataset is taken from: https://www.kaggle.com/datasets/maharshipandya/-spotify-tracks-dataset/\n",
    "\n",
    "dataFrame['popularity_flag'] = 0\n",
    "dataFrame.loc[dataFrame['popularity'] > 50, 'popularity_flag'] = 1\n",
    "# Label encoding 'track_genre'\n",
    "le = LabelEncoder()\n",
    "dataFrame['track_genre_encoded'] = le.fit_transform(dataFrame['track_genre'])\n",
    "\n",
    "# Drop the columns\n",
    "dataFrame = dataFrame.drop(columns=['Unnamed: 0', 'track_id', 'artists', 'album_name', 'track_name', 'track_genre', 'popularity'])\n",
    "\n",
    "inputs = ['track_genre_encoded', 'danceability', 'energy', 'key', 'loudness', 'mode', 'speechiness', 'acousticness',\n",
    "          'instrumentalness', 'liveness', 'valence', 'tempo', 'time_signature', 'explicit']\n",
    "target = ['popularity_flag']\n",
    "\n",
    "X_train, X_test, y_train, y_test = train_test_split(dataFrame[inputs], dataFrame[target], test_size=0.2, random_state=42)\n",
    "\n",
    "dt = DecisionTreeClassifier(random_state=42)\n",
    "dt.fit(X_train, y_train)\n",
    "\n",
    "# Print the confusion matrix using Matplotlib\n",
    "y_train_scores_dt = dt.predict_proba(X_train)[:, 1]\n",
    "y_test_scores_dt = dt.predict_proba(X_test)[:, 1]\n",
    "# Precision-Recall curve\n",
    "precision_train, recall_train, _ = precision_recall_curve(y_train, y_train_scores_dt)\n",
    "precision_test, recall_test, _ = precision_recall_curve(y_test, y_test_scores_dt)\n",
    "\n",
    "# AUC\n",
    "auprc_train = auc(recall_train, precision_train)\n",
    "auprc_test = auc(recall_test, precision_test)\n",
    "\n",
    "print(f\"AUPRC on Training set: {auprc_train}\")\n",
    "print(f\"AUPRC on Testing set: {auprc_test}\")\n",
    "\n",
    "# Calculate F1 Score for both train and test sets\n",
    "f1_train = f1_score(ytrain, y_train_pred)\n",
    "f1_test = f1_score(ytest, y_test_pred)\n",
    "\n",
    "print(f\"F1 Score on Training set: {f1_train}\")\n",
    "print(f\"F1 Score on Testing set: {f1_test}\")"
   ],
   "metadata": {
    "collapsed": false,
    "ExecuteTime": {
     "end_time": "2024-01-22T02:14:09.707588Z",
     "start_time": "2024-01-22T02:14:08.546233Z"
    }
   }
  },
  {
   "cell_type": "markdown",
   "source": [],
   "metadata": {
    "collapsed": false
   }
  },
  {
   "cell_type": "code",
   "execution_count": 13,
   "outputs": [
    {
     "name": "stdout",
     "output_type": "stream",
     "text": [
      "AUPRC on Training set: 0.9986238265622851\n",
      "AUPRC on Testing set: 0.7408075838365074\n"
     ]
    }
   ],
   "source": [
    "\n",
    "#Create a Gaussian Classifier\n",
    "rf=RandomForestClassifier(n_estimators=1000, n_jobs=-1, random_state=42)\n",
    "\n",
    "#Train the model using the training sets y_pred=clf.predict(X_test)\n",
    "rf.fit(X_train, y_train.values.ravel())\n",
    "y_train_predrf = rf.predict(X_train)\n",
    "y_test_predrf = rf.predict(X_test)\n",
    "\n",
    "conf_matrix_rf = confusion_matrix(y_true=y_test, y_pred=y_test_predrf)\n",
    "\n",
    "\n",
    "y_train_scores_dt = rf.predict_proba(X_train)[:, 1]\n",
    "y_test_scores_dt = rf.predict_proba(X_test)[:, 1]\n",
    "# Precision-Recall curve\n",
    "precision_train, recall_train, _ = precision_recall_curve(y_train, y_train_scores_dt)\n",
    "precision_test, recall_test, _ = precision_recall_curve(y_test, y_test_scores_dt)\n",
    "\n",
    "# AUC\n",
    "auprc_train = auc(recall_train, precision_train)\n",
    "auprc_test = auc(recall_test, precision_test)\n",
    "\n",
    "print(f\"AUPRC on Training set: {auprc_train}\")\n",
    "print(f\"AUPRC on Testing set: {auprc_test}\")\n",
    "\n",
    "# Calculate F1 Score for both train and test sets\n",
    "f1_train = f1_score(ytrain, y_train_pred)\n",
    "f1_test = f1_score(ytest, y_test_pred)\n",
    "\n",
    "print(f\"F1 Score on Training set: {f1_train}\")\n",
    "print(f\"F1 Score on Testing set: {f1_test}\")\n"
   ],
   "metadata": {
    "collapsed": false,
    "ExecuteTime": {
     "end_time": "2024-01-22T02:14:31.499724Z",
     "start_time": "2024-01-22T02:14:09.707467Z"
    }
   }
  },
  {
   "cell_type": "code",
   "execution_count": null,
   "outputs": [],
   "source": [
    "def custom_auc(y_true, y_pred):\n",
    "    # check if y_pred is 1-dimensional\n",
    "    if len(y_pred.shape) == 1:\n",
    "        precision, recall, _ = precision_recall_curve(y_true, y_pred)\n",
    "    else:\n",
    "        precision, recall, _ = precision_recall_curve(y_true, y_pred[:, 1])\n",
    "    return auc(recall, precision)\n",
    "\n",
    "# Create the parameter grid based on the results of random search\n",
    "param_grid = {\n",
    "    'max_depth': [20,  80, 100],\n",
    "    'max_features': ['sqrt'],\n",
    "    'n_estimators': [100, 500, 1000]\n",
    "}\n",
    "# Create a based model\n",
    "rf_0 = RandomForestClassifier(n_jobs=-1, random_state=42)\n",
    "# Instantiate the grid search model\n",
    "grid_search = GridSearchCV(estimator=rf_0, param_grid=param_grid, scoring=make_scorer(custom_auc, needs_proba=True))\n",
    "grid_search.fit(X_train, y_train.values.ravel())\n",
    "print ('Best Parameters: ', grid_search.best_params_, ' \\n')\n",
    "\n",
    "#Create a Gaussian Classifier\n",
    "rf2=RandomForestClassifier(n_estimators=1000, max_depth = 100, max_features = 'sqrt', min_samples_leaf =1,min_samples_split =2, n_jobs=-1, random_state=42)\n",
    "\n",
    "#Train the model using the training sets y_pred=clf.predict(X_test)\n",
    "rf2.fit(X_train, y_train.values.ravel())\n",
    "\n",
    "y_train_scores_dt = rf2.predict_proba(X_train)[:, 1]\n",
    "y_test_scores_dt = rf2.predict_proba(X_test)[:, 1]\n",
    "\n",
    "# Precision-Recall curve\n",
    "precision_train, recall_train, _ = precision_recall_curve(y_train, y_train_scores_dt)\n",
    "precision_test, recall_test, _ = precision_recall_curve(y_test, y_test_scores_dt)\n",
    "\n",
    "# AUC\n",
    "auprc_train = auc(recall_train, precision_train)\n",
    "auprc_test = auc(recall_test, precision_test)\n",
    "\n",
    "print(f\"AUPRC on Training set: {auprc_train}\")\n",
    "print(f\"AUPRC on Testing set: {auprc_test}\")\n",
    "\n",
    "# Calculate F1 Score for both train and test sets\n",
    "f1_train = f1_score(ytrain, y_train_pred)\n",
    "f1_test = f1_score(ytest, y_test_pred)\n",
    "\n",
    "print(f\"F1 Score on Training set: {f1_train}\")\n",
    "print(f\"F1 Score on Testing set: {f1_test}\")"
   ],
   "metadata": {
    "collapsed": false,
    "is_executing": true,
    "ExecuteTime": {
     "start_time": "2024-01-22T02:14:31.500749Z"
    }
   }
  },
  {
   "cell_type": "code",
   "execution_count": null,
   "outputs": [],
   "source": [],
   "metadata": {
    "collapsed": false,
    "is_executing": true,
    "ExecuteTime": {
     "start_time": "2024-01-22T02:16:51.380226Z"
    }
   }
  }
 ],
 "metadata": {
  "kernelspec": {
   "display_name": "Python 3",
   "language": "python",
   "name": "python3"
  },
  "language_info": {
   "codemirror_mode": {
    "name": "ipython",
    "version": 2
   },
   "file_extension": ".py",
   "mimetype": "text/x-python",
   "name": "python",
   "nbconvert_exporter": "python",
   "pygments_lexer": "ipython2",
   "version": "2.7.6"
  }
 },
 "nbformat": 4,
 "nbformat_minor": 0
}
