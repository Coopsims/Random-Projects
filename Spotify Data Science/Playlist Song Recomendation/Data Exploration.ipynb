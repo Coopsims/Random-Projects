{
 "cells": [
  {
   "cell_type": "code",
   "execution_count": 9,
   "id": "initial_id",
   "metadata": {
    "collapsed": true,
    "ExecuteTime": {
     "end_time": "2024-01-19T04:14:20.547163Z",
     "start_time": "2024-01-19T04:14:18.946298Z"
    }
   },
   "outputs": [],
   "source": [
    "# Imports\n",
    "import os\n",
    "import json\n",
    "import pandas as pd"
   ]
  },
  {
   "cell_type": "code",
   "outputs": [],
   "source": [
    "# Directory containing JSON files\n",
    "directory = './spotify_million_playlist_dataset/data'\n",
    "# directory = './Test Playlist'\n",
    "# Initialize data structures\n",
    "playlists_data = []\n",
    "unique_songs = {}  # Dictionary to store unique songs with URI as key\n",
    "playlist_song_map = {}  # Mapping of playlist name to song URIs\n",
    "\n",
    "# Read each JSON file and extract data\n",
    "for filename in os.listdir(directory):\n",
    "    if filename.endswith('.json'):\n",
    "        filepath = os.path.join(directory, filename)\n",
    "        with open(filepath, 'r') as file:\n",
    "            data = json.load(file)\n",
    "            for playlist in data['playlists']:\n",
    "                # Extract playlist-level features\n",
    "                playlist_info = {\n",
    "                    'name': playlist['name'],\n",
    "                    'num_tracks': playlist['num_tracks'],\n",
    "                    'num_albums': playlist['num_albums'],\n",
    "                    'num_followers': playlist['num_followers'],\n",
    "                    'num_edits': playlist['num_edits'],\n",
    "                    'duration_ms': playlist['duration_ms'],\n",
    "                    'num_artists': playlist['num_artists']\n",
    "                }\n",
    "                playlists_data.append(playlist_info)\n",
    "\n",
    "                # Initialize song list for this playlist\n",
    "                playlist_song_map[playlist['name']] = []\n",
    "\n",
    "                # Extract and store unique track-level features\n",
    "                for track in playlist['tracks']:\n",
    "                    track_uri = track['track_uri']\n",
    "                    if track_uri not in unique_songs:\n",
    "                        unique_songs[track_uri] = {\n",
    "                            'artist_name': track['artist_name'],\n",
    "                            'track_name': track['track_name'],\n",
    "                            'duration_ms': track['duration_ms']\n",
    "                        }\n",
    "                    playlist_song_map[playlist['name']].append(track_uri)\n",
    "\n",
    "# Convert playlists data and unique songs to DataFrames\n",
    "playlists_df = pd.DataFrame(playlists_data)\n",
    "unique_songs_df = pd.DataFrame(unique_songs.values(), index=unique_songs.keys())\n",
    "\n",
    "# Now, playlists_df, unique_songs_df, and playlist_song_map are ready for further processing"
   ],
   "metadata": {
    "collapsed": false,
    "ExecuteTime": {
     "end_time": "2024-01-19T04:18:12.484154Z",
     "start_time": "2024-01-19T04:15:58.803975Z"
    }
   },
   "id": "65e72c7458ca2fc2",
   "execution_count": 11
  },
  {
   "cell_type": "code",
   "outputs": [],
   "source": [],
   "metadata": {
    "collapsed": false
   },
   "id": "8d55525838c19593"
  }
 ],
 "metadata": {
  "kernelspec": {
   "name": "randomprojects",
   "language": "python",
   "display_name": "RandomProjects"
  },
  "language_info": {
   "codemirror_mode": {
    "name": "ipython",
    "version": 2
   },
   "file_extension": ".py",
   "mimetype": "text/x-python",
   "name": "python",
   "nbconvert_exporter": "python",
   "pygments_lexer": "ipython2",
   "version": "2.7.6"
  }
 },
 "nbformat": 4,
 "nbformat_minor": 5
}
