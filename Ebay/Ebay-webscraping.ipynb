{
 "cells": [
  {
   "cell_type": "code",
   "execution_count": 14,
   "id": "45ea10cd41652538",
   "metadata": {
    "collapsed": false,
    "ExecuteTime": {
     "end_time": "2024-04-04T19:38:44.160698Z",
     "start_time": "2024-04-04T19:38:44.155104Z"
    }
   },
   "outputs": [],
   "source": [
    "import requests\n",
    "from bs4 import BeautifulSoup\n",
    "import pandas as pd\n",
    "import time"
   ]
  },
  {
   "cell_type": "code",
   "outputs": [],
   "source": [
    "keyword = \"Canon RF 200-800mm\"\n",
    "headers = {\n",
    "    'User-Agent': 'Mozilla/5.0 (Windows NT 10.0; Win64; x64) AppleWebKit/537.36 (KHTML, like Gecko) Chrome/58.0.3029.110 Safari/537.3'}\n",
    "\n",
    "data = []\n",
    "\n",
    "for page_number in range(1, 6):\n",
    "    url = f\"https://www.ebay.com/sch/i.html?_nkw={keyword}&_pgn={page_number}&_ipg=240\"\n",
    "    result = requests.get(url, headers=headers)\n",
    "    if result.status_code == 200:\n",
    "        soup = BeautifulSoup(result.content, 'html.parser')\n",
    "        listings = soup.find_all('li', attrs={'class': 's-item'})\n",
    "        \n",
    "        for listing in listings:\n",
    "            # Dictionary to store the data for each listing\n",
    "            listing_dict = {}\n",
    "        \n",
    "            title = listing.find('div', attrs={'class': 's-item__title'})\n",
    "            if title:\n",
    "                listing_dict['Title'] = title.get_text()\n",
    "        \n",
    "            price = listing.find('span', attrs={'class': 's-item__price'})\n",
    "            if price:\n",
    "                listing_dict['price'] = price.get_text()\n",
    "        \n",
    "            url = listing.find('a', attrs={'class': 's-item__link'})\n",
    "            if url:\n",
    "                listing_dict['url'] = url['href']\n",
    "        \n",
    "            shipping = listing.find('span', attrs={'class': \"s-item__shipping s-item__logisticsCost\"})\n",
    "            if shipping:\n",
    "                listing_dict['shipping'] = shipping.get_text()\n",
    "        \n",
    "            location = listing.find('span', attrs={'class': 's-item__location s-item__itemLocation'})\n",
    "            if location:\n",
    "                listing_dict['location'] = location.get_text()\n",
    "        \n",
    "            condition = listing.find('span', attrs={'class': 'SECONDARY_INFO'})\n",
    "            if condition:\n",
    "                listing_dict['condition'] = condition.get_text()\n",
    "        \n",
    "            listing_type = listing.find('span', attrs={'class':'s-item__purchase-options s-item__purchaseOptions'})\n",
    "            if listing_type:\n",
    "                listing_dict['listing_type'] = listing_type.get_text()\n",
    "            data.append(listing_dict)\n",
    "        time.sleep(1)\n",
    "        \n",
    "# Create DataFrame\n",
    "df = pd.DataFrame(data)\n",
    "\n",
    "df.to_csv(f\"{keyword} ebay-list.csv\", index=False)"
   ],
   "metadata": {
    "collapsed": true,
    "ExecuteTime": {
     "end_time": "2024-04-04T20:01:21.658056Z",
     "start_time": "2024-04-04T20:01:08.933691Z"
    }
   },
   "id": "initial_id",
   "execution_count": 18
  },
  {
   "cell_type": "code",
   "outputs": [],
   "source": [],
   "metadata": {
    "collapsed": false,
    "ExecuteTime": {
     "end_time": "2024-04-04T19:45:26.437814Z",
     "start_time": "2024-04-04T19:45:26.428901Z"
    }
   },
   "id": "b63d5dabb5adf8c8",
   "execution_count": 16
  },
  {
   "cell_type": "code",
   "outputs": [],
   "source": [],
   "metadata": {
    "collapsed": false
   },
   "id": "f2c5892d19c3368d"
  }
 ],
 "metadata": {
  "kernelspec": {
   "display_name": "Python 3",
   "language": "python",
   "name": "python3"
  },
  "language_info": {
   "codemirror_mode": {
    "name": "ipython",
    "version": 2
   },
   "file_extension": ".py",
   "mimetype": "text/x-python",
   "name": "python",
   "nbconvert_exporter": "python",
   "pygments_lexer": "ipython2",
   "version": "2.7.6"
  }
 },
 "nbformat": 4,
 "nbformat_minor": 5
}
