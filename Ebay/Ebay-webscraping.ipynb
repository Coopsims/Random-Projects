{
 "cells": [
  {
   "cell_type": "code",
   "id": "45ea10cd41652538",
   "metadata": {
    "collapsed": false,
    "ExecuteTime": {
     "end_time": "2024-06-12T15:42:14.909844Z",
     "start_time": "2024-06-12T15:42:12.885260Z"
    }
   },
   "source": [
    "import requests\n",
    "from bs4 import BeautifulSoup\n",
    "import pandas as pd\n",
    "import time"
   ],
   "outputs": [],
   "execution_count": 1
  },
  {
   "cell_type": "code",
   "source": [
    "import requests\n",
    "from bs4 import BeautifulSoup\n",
    "import pandas as pd\n",
    "import time\n",
    "from requests.exceptions import RequestException\n",
    "import random"
   ],
   "metadata": {
    "collapsed": true,
    "ExecuteTime": {
     "end_time": "2025-01-08T15:07:29.666015Z",
     "start_time": "2025-01-08T15:07:29.367586Z"
    }
   },
   "id": "a886c60e0471151d",
   "outputs": [],
   "execution_count": 1
  },
  {
   "metadata": {
    "ExecuteTime": {
     "end_time": "2024-06-14T02:57:12.101889Z",
     "start_time": "2024-06-14T02:57:12.099866Z"
    }
   },
   "cell_type": "code",
   "source": "keyword = \"Canon_RF_100_500\"",
   "id": "51ff41852749b5f2",
   "outputs": [],
   "execution_count": 8
  },
  {
   "metadata": {
    "ExecuteTime": {
     "end_time": "2025-01-08T15:08:25.476924Z",
     "start_time": "2025-01-08T15:08:25.471328Z"
    }
   },
   "cell_type": "code",
   "source": [
    "headers = {\n",
    "    'User-Agent': 'Mozilla/5.0 (Macintosh; Intel Mac OS X 10_15_7) AppleWebKit/537.36 (KHTML, like Gecko) Chrome/125.0.0.0 Safari/537.36'\n",
    "}\n",
    "data = []\n",
    "\n",
    "def fetch_page(url, headers, retries=3, backoff_factor=0.3):\n",
    "\n",
    "\n",
    "    \"\"\"\n",
    "    Fetches the content of a webpage with retry and backoff logic.\n",
    "\n",
    "    This function sends a GET request to the specified URL and retries the request if the\n",
    "    request fails or encounters a 503 Service Unavailable error. The retry behavior includes\n",
    "    exponential backoff with jitter to prevent overwhelming the server.\n",
    "\n",
    "    Args:\n",
    "        :param url (str): The URL of the webpage to fetch.\n",
    "        :param headers (dict): A dictionary of HTTP headers to send with the request.\n",
    "        :param retries (int, optional): The number of retry attempts for failures (default is 3).\n",
    "        :param backoff_factor (float, optional): The base delay in seconds for exponential backoff (default is 0.3).\n",
    "\n",
    "    :return\n",
    "        requests.Response or None: The HTTP response object if the request is successful and\n",
    "        returns status code 200, otherwise `None` if all retries fail.\n",
    "\n",
    "    Notes:\n",
    "        - This function requires the `requests` and `random` libraries.\n",
    "        - If retries are exhausted, or a non-retriable error occurs, the function returns `None`.\n",
    "        - Status code 503 triggers a retry with exponential backoff.\n",
    "\n",
    "    \"\"\"\n",
    "    \n",
    "    session = requests.Session()\n",
    "    for retry in range(retries):\n",
    "        try:\n",
    "            result = session.get(url, headers=headers)\n",
    "            if result.status_code == 200:\n",
    "                return result\n",
    "            elif result.status_code == 503:\n",
    "                print(f\"503 Service Unavailable. Retrying in {backoff_factor} seconds...\")\n",
    "                time.sleep(backoff_factor)\n",
    "                backoff_factor *= 2*(1+ random.random())  # Exponential backoff\n",
    "            else:\n",
    "                print(f\"Failed to retrieve page: Status code {result.status_code}\")\n",
    "                break\n",
    "        except RequestException as e:\n",
    "            print(f\"Request failed: {e}\")\n",
    "            time.sleep(backoff_factor)\n",
    "            backoff_factor *= 2*(1+ random.random())  # Exponential backoff\n",
    "    return None\n",
    "# \n",
    "# for page_number in range(1, 6):\n",
    "#     url = f\"https://www.ebay.com/sch/i.html?_nkw={keyword}&_pgn={page_number}&_ipg=240\"\n",
    "#     result = fetch_page(url, headers)\n",
    "# \n",
    "#     if result:\n",
    "#         soup = BeautifulSoup(result.content, 'html.parser')\n",
    "#         listings = soup.find_all('li', attrs={'class': 's-item'})\n",
    "# \n",
    "#         for listing in listings:\n",
    "#             listing_dict = {}\n",
    "# \n",
    "#             title = listing.find('div', attrs={'class': 's-item__title'})\n",
    "#             if title:\n",
    "#                 listing_dict['Title'] = title.get_text()\n",
    "#             else:\n",
    "#                 listing_dict['Title'] = None\n",
    "# \n",
    "#             price = listing.find('span', attrs={'class': 's-item__price'})\n",
    "#             if price:\n",
    "#                 listing_dict['Price'] = price.get_text()\n",
    "#             else:\n",
    "#                 listing_dict['Price'] = None\n",
    "# \n",
    "#             url = listing.find('a', attrs={'class': 's-item__link'})\n",
    "#             if url:\n",
    "#                 listing_dict['URL'] = url['href']\n",
    "#             else:\n",
    "#                 listing_dict['URL'] = None\n",
    "# \n",
    "#             shipping = listing.find('span', attrs={'class': \"s-item__shipping s-item__logisticsCost\"})\n",
    "#             if shipping:\n",
    "#                 listing_dict['Shipping'] = shipping.get_text()\n",
    "#             else:\n",
    "#                 listing_dict['Shipping'] = None\n",
    "# \n",
    "#             location = listing.find('span', attrs={'class': 's-item__location s-item__itemLocation'})\n",
    "#             if location:\n",
    "#                 listing_dict['Location'] = location.get_text()\n",
    "#             else:\n",
    "#                 listing_dict['Location'] = None\n",
    "# \n",
    "#             condition = listing.find('span', attrs={'class': 'SECONDARY_INFO'})\n",
    "#             if condition:\n",
    "#                 listing_dict['Condition'] = condition.get_text()\n",
    "#             else:\n",
    "#                 listing_dict['Condition'] = None\n",
    "# \n",
    "#             listing_type = listing.find('span', attrs={'class':'s-item__purchase-options s-item__purchaseOptions'})\n",
    "#             if listing_type:\n",
    "#                 listing_dict['Listing Type'] = listing_type.get_text()\n",
    "#             else:\n",
    "#                 listing_dict['Listing Type'] = None\n",
    "# \n",
    "#             data.append(listing_dict)\n",
    "#     else:\n",
    "#         print(f\"Failed to retrieve page {page_number} after multiple attempts.\")\n",
    "\n",
    "# # Create DataFrame\n",
    "# df = pd.DataFrame(data)\n",
    "# \n",
    "# # Check the DataFrame to ensure data has been scraped\n",
    "# print(df.head())\n",
    "# \n",
    "# # Save DataFrame to CSV\n",
    "# df.to_csv(f\"{keyword}_ebay_listings.csv\", index=False)"
   ],
   "id": "initial_id",
   "outputs": [],
   "execution_count": 2
  },
  {
   "metadata": {
    "ExecuteTime": {
     "end_time": "2025-01-08T15:08:59.272263Z",
     "start_time": "2025-01-08T15:08:59.269609Z"
    }
   },
   "cell_type": "code",
   "source": "print(help(fetch_page))",
   "id": "14dd11b66ff1fa43",
   "outputs": [
    {
     "name": "stdout",
     "output_type": "stream",
     "text": [
      "Help on function fetch_page in module __main__:\n",
      "\n",
      "fetch_page(url, headers, retries=3, backoff_factor=0.3)\n",
      "    Fetches the content of a webpage with retry and backoff logic.\n",
      "    \n",
      "    This function sends a GET request to the specified URL and retries the request if the\n",
      "    request fails or encounters a 503 Service Unavailable error. The retry behavior includes\n",
      "    exponential backoff with jitter to prevent overwhelming the server.\n",
      "    \n",
      "    Args:\n",
      "        :param url (str): The URL of the webpage to fetch.\n",
      "        :param headers (dict): A dictionary of HTTP headers to send with the request.\n",
      "        :param retries (int, optional): The number of retry attempts for failures (default is 3).\n",
      "        :param backoff_factor (float, optional): The base delay in seconds for exponential backoff (default is 0.3).\n",
      "    \n",
      "    :return\n",
      "        requests.Response or None: The HTTP response object if the request is successful and\n",
      "        returns status code 200, otherwise `None` if all retries fail.\n",
      "    \n",
      "    Notes:\n",
      "        - This function requires the `requests` and `random` libraries.\n",
      "        - If retries are exhausted, or a non-retriable error occurs, the function returns `None`.\n",
      "        - Status code 503 triggers a retry with exponential backoff.\n",
      "\n",
      "None\n"
     ]
    }
   ],
   "execution_count": 4
  },
  {
   "cell_type": "code",
   "source": "df = pd.read_csv(\"Canon_RF_100_500_ebay_listings.csv\")",
   "metadata": {
    "collapsed": false,
    "ExecuteTime": {
     "end_time": "2024-06-14T02:57:17.021971Z",
     "start_time": "2024-06-14T02:57:17.009925Z"
    }
   },
   "id": "b36c1ac8aa46ca8",
   "outputs": [],
   "execution_count": 9
  },
  {
   "metadata": {
    "ExecuteTime": {
     "end_time": "2024-06-14T02:57:17.840471Z",
     "start_time": "2024-06-14T02:57:17.832709Z"
    }
   },
   "cell_type": "code",
   "source": [
    "\n",
    "# Define the keyword to filter by\n",
    "keywords = keyword.split('_')\n",
    "# Filter the DataFrame to include only rows where the keyword appears in relevant columns\n",
    "filtered_df_all_keywords = df\n",
    "for kw in keywords:\n",
    "    filtered_df_all_keywords = filtered_df_all_keywords[filtered_df_all_keywords['Title'].str.contains(kw, case=False, na=False)]\n",
    "\n",
    "# Function to clean and convert price to a float\n",
    "def clean_price(price):\n",
    "    if 'to' in price:\n",
    "        price = price.split('to')[0].strip()\n",
    "    return float(price.replace('$', '').replace(',', '').strip())\n",
    "\n",
    "# Apply the clean_price function to the 'Price' column\n",
    "filtered_df_all_keywords['Price'] = filtered_df_all_keywords['Price'].apply(clean_price)\n",
    "\n",
    "# Filter the DataFrame to include only rows where the price is greater than or equal to 1500\n",
    "filtered_df_all_keywords = filtered_df_all_keywords[filtered_df_all_keywords['Price'] >= 1000]"
   ],
   "id": "b63d5dabb5adf8c8",
   "outputs": [],
   "execution_count": 10
  },
  {
   "cell_type": "code",
   "source": "filtered_df_all_keywords.to_csv(f\"{keyword}_filtered_ebay_listings.csv\", index=False)",
   "metadata": {
    "collapsed": false,
    "ExecuteTime": {
     "end_time": "2024-06-14T02:57:19.251381Z",
     "start_time": "2024-06-14T02:57:19.244772Z"
    }
   },
   "id": "f2c5892d19c3368d",
   "outputs": [],
   "execution_count": 11
  },
  {
   "metadata": {},
   "cell_type": "code",
   "outputs": [],
   "execution_count": null,
   "source": "",
   "id": "9a7ec99dc3686456"
  }
 ],
 "metadata": {
  "kernelspec": {
   "display_name": "Python 3",
   "language": "python",
   "name": "python3"
  },
  "language_info": {
   "codemirror_mode": {
    "name": "ipython",
    "version": 2
   },
   "file_extension": ".py",
   "mimetype": "text/x-python",
   "name": "python",
   "nbconvert_exporter": "python",
   "pygments_lexer": "ipython2",
   "version": "2.7.6"
  }
 },
 "nbformat": 4,
 "nbformat_minor": 5
}
