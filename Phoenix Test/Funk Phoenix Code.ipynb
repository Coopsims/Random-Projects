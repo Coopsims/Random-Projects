{
 "cells": [
  {
   "cell_type": "code",
   "execution_count": 1,
   "id": "f41c6320f472779b",
   "metadata": {
    "collapsed": false,
    "ExecuteTime": {
     "end_time": "2024-02-15T17:50:50.239913Z",
     "start_time": "2024-02-15T17:50:48.084754Z"
    }
   },
   "outputs": [
    {
     "name": "stderr",
     "output_type": "stream",
     "text": [
      "/var/folders/1g/qs1wt1d52t1fp_9wj2_z6vlr0000gn/T/ipykernel_51699/1470788327.py:2: DeprecationWarning: \n",
      "Pyarrow will become a required dependency of pandas in the next major release of pandas (pandas 3.0),\n",
      "(to allow more performant data types, such as the Arrow string type, and better interoperability with other libraries)\n",
      "but was not found to be installed on your system.\n",
      "If this would cause problems for you,\n",
      "please provide us feedback at https://github.com/pandas-dev/pandas/issues/54466\n",
      "        \n",
      "  import pandas as pd\n"
     ]
    }
   ],
   "source": [
    "# All Necessary Libraries\n",
    "import pandas as pd\n",
    "import numpy as np\n",
    "from matplotlib import pyplot as plt\n"
   ]
  },
  {
   "cell_type": "code",
   "outputs": [],
   "source": [
    "# Load the dataset\n",
    "club_data = pd.read_csv('Junior Data Analyst - Excel Assessment/CLUBDATA-Table 1.csv', skiprows=1)\n",
    "fitness_table = pd.read_csv('Junior Data Analyst - Excel Assessment/FITNESS TABLE-Table 1.csv', skiprows=1)"
   ],
   "metadata": {
    "collapsed": false,
    "ExecuteTime": {
     "end_time": "2024-02-14T02:45:11.012593Z",
     "start_time": "2024-02-14T02:45:11.008164Z"
    }
   },
   "id": "9155b59ef253d067",
   "execution_count": 48
  },
  {
   "cell_type": "code",
   "outputs": [
    {
     "name": "stderr",
     "output_type": "stream",
     "text": [
      "/var/folders/1g/qs1wt1d52t1fp_9wj2_z6vlr0000gn/T/ipykernel_40922/3835625830.py:7: FutureWarning: Setting an item of incompatible dtype is deprecated and will raise an error in a future version of pandas. Value '['abbott.annie@pecinow.org' 'liesuchke.aurelie@pecinow.org'\n",
      " 'cruickshank.darby@pecinow.org' 'borer.jaydon@pecinow.org'\n",
      " 'lynch.moriah @pecinow.org' 'eichmann.amiya@pecinow.org'\n",
      " 'rau.pierce@pecinow.org' 'stevens.amelia@pecinow.org'\n",
      " 'simpson.toby@pecinow.org' 'murphy.ethan@pecinow.org'\n",
      " 'wood.ashley@pecinow.org' 'scott.megan@pecinow.org'\n",
      " 'raynor.earnestine@pecinow.org' 'gaylord.jason@pecinow.org'\n",
      " 'sauer.kendrick@pecinow.org' 'olson.annabell@pecinow.org'\n",
      " 'upton.jena@pecinow.org' 'bins.shanny@pecinow.org'\n",
      " 'abshire.tia@pecinow.org' 'runolfsdottir.isabel@pecinow.org']' has dtype incompatible with float64, please explicitly cast to a compatible dtype first.\n",
      "  club_data.loc[english_speakers, 'EMAIL ADDRESS'] = (club_data['LASTNAME'].str.lower() + '.' + club_data['FIRSTNAME'].str.lower() + '@pecinow.org')\n",
      "/var/folders/1g/qs1wt1d52t1fp_9wj2_z6vlr0000gn/T/ipykernel_40922/3835625830.py:11: FutureWarning: Setting an item of incompatible dtype is deprecated and will raise an error in a future version of pandas. Value '['TfilhoBR3' 'HweinhaeDE14' 'MschotinDE15' 'LbirnbaumDE16' 'PstolzeDE17'\n",
      " 'RtlustekDE18' 'BwesackAU27' 'BkadeAU28' 'LrosemannAU29' 'VmoreauFR30'\n",
      " 'PdurandFR31' 'LchevalierFR32' 'CtoussaintFR33' 'VlenoirFR34'\n",
      " 'AlenoirFR35' 'Blebrun-brunFR36' 'AmaillardFR37' 'Bhoarau-guyonFR38'\n",
      " 'HterceroAG39' 'HpolancoAG40' 'LolivieraAG41' 'AgarzaES42' 'IbandaES43'\n",
      " 'CmateosES44' 'EprinsDU45' 'RphamDU46' 'ErotteveelDU47' 'MsoderbergSV48'\n",
      " 'BpalssonSV49' 'AsobrinhoPR50']' has dtype incompatible with float64, please explicitly cast to a compatible dtype first.\n",
      "  club_data.loc[non_english_speakers, 'USERNAME'] = (club_data['FIRSTNAME'].str[0].str.upper() + club_data['LASTNAME'].str.lower() + club_data['COUNTRYCODE'].astype(str) + club_data['INDEX'].astype(str))\n"
     ]
    }
   ],
   "source": [
    "\n",
    "# Stage 1\n",
    "# Task 1: Populate FULLNAME in uppercase\n",
    "club_data['FULL NAME'] = (club_data['PREFIX'] + ' ' + club_data['FIRSTNAME'] + ' ' + club_data['LASTNAME']).str.upper()\n",
    "\n",
    "# Task 2: Generate EMAIL ADDRESS for English speakers\n",
    "english_speakers = club_data['LANGUAGE'] == 'English'\n",
    "club_data.loc[english_speakers, 'EMAIL ADDRESS'] = (club_data['LASTNAME'].str.lower() + '.' + club_data['FIRSTNAME'].str.lower() + '@pecinow.org')\n",
    "\n",
    "# Task 3: Generate USER NAME for non-English speakers\n",
    "non_english_speakers = club_data['LANGUAGE'] != 'English'\n",
    "club_data.loc[non_english_speakers, 'USERNAME'] = (club_data['FIRSTNAME'].str[0].str.upper() + club_data['LASTNAME'].str.lower() + club_data['COUNTRYCODE'].astype(str) + club_data['INDEX'].astype(str))\n",
    "\n",
    "# Task 4: Convert columns 2 (FULLNAME), 10 (EMAIL_ADDRESS), and 11 (USER_NAME) to numerical values\n",
    "# Assuming we are to replace these with their string length as a simple numerical representation\n",
    "club_data['FULL NAME'] = club_data['FULL NAME'].str.len()\n",
    "club_data['EMAIL ADDRESS'] = club_data['EMAIL ADDRESS'].str.len()\n",
    "club_data['USERNAME'] = club_data['USERNAME'].str.len()\n",
    "\n",
    "# Verify objectives A, B, and C from Stage 1\n",
    "verify_A = english_speakers.all() and club_data['EMAIL_ADDRESS'].notnull().all()\n",
    "verify_B = non_english_speakers.all() and club_data['USER_NAME'].notnull().all()\n",
    "verify_C = not (club_data['EMAIL ADDRESS'].notnull() & club_data['USERNAME'].notnull()).any()"
   ],
   "metadata": {
    "collapsed": false,
    "ExecuteTime": {
     "end_time": "2024-02-14T02:45:11.629025Z",
     "start_time": "2024-02-14T02:45:11.625208Z"
    }
   },
   "id": "566141a3b3454b02",
   "execution_count": 49
  },
  {
   "cell_type": "code",
   "outputs": [
    {
     "data": {
      "text/plain": "0    NaN\n1    NaN\n2    NaN\n3    NaN\n4    NaN\n5    NaN\n6    NaN\n7    NaN\n8    NaN\n9    NaN\n10   NaN\n11   NaN\n12   NaN\n13   NaN\n14   NaN\n15   NaN\n16   NaN\n17   NaN\n18   NaN\n19   NaN\n20   NaN\n21   NaN\n22   NaN\n23   NaN\n24   NaN\n25   NaN\n26   NaN\n27   NaN\n28   NaN\n29   NaN\n30   NaN\n31   NaN\n32   NaN\n33   NaN\n34   NaN\n35   NaN\n36   NaN\n37   NaN\n38   NaN\n39   NaN\n40   NaN\n41   NaN\n42   NaN\n43   NaN\n44   NaN\n45   NaN\n46   NaN\n47   NaN\n48   NaN\n49   NaN\nName: PECI-CODE, dtype: float64"
     },
     "execution_count": 42,
     "metadata": {},
     "output_type": "execute_result"
    }
   ],
   "source": [
    "\n",
    "# Stage 2\n",
    "# Task 5: Convert height from cm to inches\n",
    "club_data['HEIGHT (INCHES)'] = round(club_data['HEIGHT (CMS)'] * 0.3937007874, 1)\n",
    "\n",
    "# Task 6: Convert weight from kg to lbs\n",
    "club_data['WEIGHT (LBS)'] = round(club_data['WEIGHT (KGS)'] * 2.2046226218, 2)\n",
    "\n",
    "# Task 7: Calculate PECI-SCORE\n",
    "club_data['PECI-SCORE'] = round(703 * club_data['WEIGHT (LBS)'] / club_data['HEIGHT (INCHES)']**2, 1)\n",
    "\n",
    "# Task 8: Use VLOOKUP to assign PECI-CODE from FITNESS TABLE\n",
    "peci_code_map = fitness_table.set_index('PECI-SCORE')['PECI-CODE'].to_dict()\n",
    "club_data['PECI-CODE']"
   ],
   "metadata": {
    "collapsed": false,
    "ExecuteTime": {
     "end_time": "2024-02-14T02:42:03.348752Z",
     "start_time": "2024-02-14T02:42:03.345947Z"
    }
   },
   "id": "e7f7ea13b76f8f03",
   "execution_count": 42
  },
  {
   "cell_type": "code",
   "outputs": [],
   "source": [
    "\n",
    "# Stage 3: Pivot Table 1\n",
    "pivot_table_1 = pd.pivot_table(\n",
    "    club_data,\n",
    "    values='HEIGHT_IN',\n",
    "    index=['SEX', 'COUNTRY'],\n",
    "    columns='YEARS',\n",
    "    aggfunc=np.mean\n",
    ")"
   ],
   "metadata": {
    "collapsed": false
   },
   "id": "3904987fce4f06f1",
   "execution_count": null
  },
  {
   "cell_type": "code",
   "outputs": [],
   "source": [
    "\n",
    "# Stage 4: Pivot Table 2\n",
    "# Make a duplicate of pivot_table_1 with COUNT instead of AVERAGE\n",
    "pivot_table_2 = pd.pivot_table(\n",
    "    club_data,\n",
    "    values='HEIGHT_IN',\n",
    "    index=['SEX', 'COUNTRY'],\n",
    "    columns='YEARS',\n",
    "    aggfunc='count'\n",
    ")\n",
    "\n",
    "# For the next part of stage 4, filter to get only females and then rename the table\n",
    "all_female = club_data[club_data['SEX'] == 'Female']"
   ],
   "metadata": {
    "collapsed": false
   },
   "id": "cfc7ec94f03f153a",
   "execution_count": null
  },
  {
   "cell_type": "code",
   "outputs": [],
   "source": [
    "\n",
    "# Stage 5: Sorting and PivotChart\n",
    "# Sort ALLFEMALE by LASTNAME and BIRTHDATE\n",
    "all_female_sorted = all_female.sort_values(by=['LASTNAME', 'BIRTHDATE'], ascending=[False, True])\n",
    "\n",
    "# Extract YEAR from BIRTHDATE\n",
    "all_female_sorted['YEAR'] = pd.DatetimeIndex(all_female_sorted['BIRTHDATE']).year\n",
    "\n",
    "# Hide the ZODIAC column by dropping it from this DataFrame\n",
    "all_female_sorted = all_female_sorted.drop(columns=['ZODIAC'])\n",
    "\n",
    "# Create a pivot chart (this will be a bar chart in matplotlib)\n",
    "pivot_chart_data = pd.pivot_table(\n",
    "    all_female_sorted,\n",
    "    values='COUNT',  # This should be replaced with the appropriate column name\n",
    "    index='COUNTRY',\n",
    "    columns=['SPORTS_LOCATION', 'SPORTS', 'FAVORITE_COLOR', 'SEX', 'LANGUAGE'],\n",
    "    aggfunc='count'\n",
    ")\n",
    "\n",
    "# Visualize with a bar chart\n",
    "pivot_chart_data.plot(kind='bar')\n",
    "plt.show()  # This shows the plot in a new window"
   ],
   "metadata": {
    "collapsed": false
   },
   "id": "60aade18e1b6e59c",
   "execution_count": null
  },
  {
   "cell_type": "code",
   "outputs": [
    {
     "ename": "NameError",
     "evalue": "name 'all_female_sorted' is not defined",
     "output_type": "error",
     "traceback": [
      "\u001B[0;31m---------------------------------------------------------------------------\u001B[0m",
      "\u001B[0;31mNameError\u001B[0m                                 Traceback (most recent call last)",
      "Cell \u001B[0;32mIn[21], line 8\u001B[0m\n\u001B[1;32m      6\u001B[0m \u001B[38;5;28;01mwith\u001B[39;00m pd\u001B[38;5;241m.\u001B[39mExcelWriter(\u001B[38;5;124m'\u001B[39m\u001B[38;5;124m./club_data_workbook.xlsx\u001B[39m\u001B[38;5;124m'\u001B[39m, engine\u001B[38;5;241m=\u001B[39m\u001B[38;5;124m'\u001B[39m\u001B[38;5;124mopenpyxl\u001B[39m\u001B[38;5;124m'\u001B[39m) \u001B[38;5;28;01mas\u001B[39;00m writer:\n\u001B[1;32m      7\u001B[0m     club_data\u001B[38;5;241m.\u001B[39mto_excel(writer, sheet_name\u001B[38;5;241m=\u001B[39m\u001B[38;5;124m'\u001B[39m\u001B[38;5;124mClub Data Cleaned\u001B[39m\u001B[38;5;124m'\u001B[39m, index\u001B[38;5;241m=\u001B[39m\u001B[38;5;28;01mFalse\u001B[39;00m)\n\u001B[0;32m----> 8\u001B[0m     \u001B[43mall_female_sorted\u001B[49m\u001B[38;5;241m.\u001B[39mto_excel(writer, sheet_name\u001B[38;5;241m=\u001B[39m\u001B[38;5;124m'\u001B[39m\u001B[38;5;124mAll Female Sorted\u001B[39m\u001B[38;5;124m'\u001B[39m, index\u001B[38;5;241m=\u001B[39m\u001B[38;5;28;01mFalse\u001B[39;00m)\n",
      "\u001B[0;31mNameError\u001B[0m: name 'all_female_sorted' is not defined"
     ]
    },
    {
     "data": {
      "text/plain": "<Figure size 640x480 with 0 Axes>"
     },
     "metadata": {},
     "output_type": "display_data"
    }
   ],
   "source": [
    "\n",
    "# Stage 6: Print Setup and Output\n",
    "# Since Python doesn't handle page setup for printing, you would typically save the chart as an image file.\n",
    "plt.savefig('./ALLFEMALESPORTS_CHART_BY_YOURNAME.pdf')\n",
    "\n",
    "# Save DataFrames to an Excel file, each as a separate sheet\n",
    "with pd.ExcelWriter('./club_data_workbook.xlsx', engine='openpyxl') as writer:\n",
    "    club_data.to_excel(writer, sheet_name='Club Data Cleaned', index=False)\n",
    "    all_female_sorted.to_excel(writer, sheet_name='All Female Sorted', index=False)\n",
    "    "
   ],
   "metadata": {
    "collapsed": false,
    "ExecuteTime": {
     "end_time": "2024-02-14T02:13:59.354348Z",
     "start_time": "2024-02-14T02:13:59.031940Z"
    }
   },
   "id": "427701728619531d",
   "execution_count": 21
  },
  {
   "cell_type": "code",
   "outputs": [
    {
     "ename": "KeyError",
     "evalue": "\"None of ['PECI_SCORE'] are in the columns\"",
     "output_type": "error",
     "traceback": [
      "\u001B[0;31m---------------------------------------------------------------------------\u001B[0m",
      "\u001B[0;31mKeyError\u001B[0m                                  Traceback (most recent call last)",
      "\u001B[0;32m/var/folders/1g/qs1wt1d52t1fp_9wj2_z6vlr0000gn/T/ipykernel_40922/1229252760.py\u001B[0m in \u001B[0;36m?\u001B[0;34m()\u001B[0m\n\u001B[1;32m     27\u001B[0m \u001B[0;31m# Task 7: Calculate PECI-SCORE\u001B[0m\u001B[0;34m\u001B[0m\u001B[0;34m\u001B[0m\u001B[0m\n\u001B[1;32m     28\u001B[0m \u001B[0mclub_data\u001B[0m\u001B[0;34m[\u001B[0m\u001B[0;34m'PECI_SCORE'\u001B[0m\u001B[0;34m]\u001B[0m \u001B[0;34m=\u001B[0m \u001B[0mround\u001B[0m\u001B[0;34m(\u001B[0m\u001B[0;36m703\u001B[0m \u001B[0;34m*\u001B[0m \u001B[0mclub_data\u001B[0m\u001B[0;34m[\u001B[0m\u001B[0;34m'WEIGHT_LBS'\u001B[0m\u001B[0;34m]\u001B[0m \u001B[0;34m/\u001B[0m \u001B[0mclub_data\u001B[0m\u001B[0;34m[\u001B[0m\u001B[0;34m'HEIGHT_IN'\u001B[0m\u001B[0;34m]\u001B[0m\u001B[0;34m**\u001B[0m\u001B[0;36m2\u001B[0m\u001B[0;34m,\u001B[0m \u001B[0;36m1\u001B[0m\u001B[0;34m)\u001B[0m\u001B[0;34m\u001B[0m\u001B[0;34m\u001B[0m\u001B[0m\n\u001B[1;32m     29\u001B[0m \u001B[0;34m\u001B[0m\u001B[0m\n\u001B[1;32m     30\u001B[0m \u001B[0;31m# Task 8: Use VLOOKUP to assign PECI-CODE from FITNESS TABLE\u001B[0m\u001B[0;34m\u001B[0m\u001B[0;34m\u001B[0m\u001B[0m\n\u001B[0;32m---> 31\u001B[0;31m \u001B[0mpeci_code_map\u001B[0m \u001B[0;34m=\u001B[0m \u001B[0mfitness_table\u001B[0m\u001B[0;34m.\u001B[0m\u001B[0mset_index\u001B[0m\u001B[0;34m(\u001B[0m\u001B[0;34m'PECI_SCORE'\u001B[0m\u001B[0;34m)\u001B[0m\u001B[0;34m[\u001B[0m\u001B[0;34m'PECI_CODE'\u001B[0m\u001B[0;34m]\u001B[0m\u001B[0;34m.\u001B[0m\u001B[0mto_dict\u001B[0m\u001B[0;34m(\u001B[0m\u001B[0;34m)\u001B[0m\u001B[0;34m\u001B[0m\u001B[0;34m\u001B[0m\u001B[0m\n\u001B[0m\u001B[1;32m     32\u001B[0m \u001B[0mclub_data\u001B[0m\u001B[0;34m[\u001B[0m\u001B[0;34m'PECI_CODE'\u001B[0m\u001B[0;34m]\u001B[0m\u001B[0;34m\u001B[0m\u001B[0;34m\u001B[0m\u001B[0m\n\u001B[1;32m     33\u001B[0m \u001B[0;34m\u001B[0m\u001B[0m\n\u001B[1;32m     34\u001B[0m \u001B[0;31m# Stage 3: Pivot Table 1\u001B[0m\u001B[0;34m\u001B[0m\u001B[0;34m\u001B[0m\u001B[0m\n",
      "\u001B[0;32m~/DataspellProjects/RandomProjects/venv/lib/python3.11/site-packages/pandas/core/frame.py\u001B[0m in \u001B[0;36m?\u001B[0;34m(self, keys, drop, append, inplace, verify_integrity)\u001B[0m\n\u001B[1;32m   6102\u001B[0m                     \u001B[0;32mif\u001B[0m \u001B[0;32mnot\u001B[0m \u001B[0mfound\u001B[0m\u001B[0;34m:\u001B[0m\u001B[0;34m\u001B[0m\u001B[0;34m\u001B[0m\u001B[0m\n\u001B[1;32m   6103\u001B[0m                         \u001B[0mmissing\u001B[0m\u001B[0;34m.\u001B[0m\u001B[0mappend\u001B[0m\u001B[0;34m(\u001B[0m\u001B[0mcol\u001B[0m\u001B[0;34m)\u001B[0m\u001B[0;34m\u001B[0m\u001B[0;34m\u001B[0m\u001B[0m\n\u001B[1;32m   6104\u001B[0m \u001B[0;34m\u001B[0m\u001B[0m\n\u001B[1;32m   6105\u001B[0m         \u001B[0;32mif\u001B[0m \u001B[0mmissing\u001B[0m\u001B[0;34m:\u001B[0m\u001B[0;34m\u001B[0m\u001B[0;34m\u001B[0m\u001B[0m\n\u001B[0;32m-> 6106\u001B[0;31m             \u001B[0;32mraise\u001B[0m \u001B[0mKeyError\u001B[0m\u001B[0;34m(\u001B[0m\u001B[0;34mf\"None of {missing} are in the columns\"\u001B[0m\u001B[0;34m)\u001B[0m\u001B[0;34m\u001B[0m\u001B[0;34m\u001B[0m\u001B[0m\n\u001B[0m\u001B[1;32m   6107\u001B[0m \u001B[0;34m\u001B[0m\u001B[0m\n\u001B[1;32m   6108\u001B[0m         \u001B[0;32mif\u001B[0m \u001B[0minplace\u001B[0m\u001B[0;34m:\u001B[0m\u001B[0;34m\u001B[0m\u001B[0;34m\u001B[0m\u001B[0m\n\u001B[1;32m   6109\u001B[0m             \u001B[0mframe\u001B[0m \u001B[0;34m=\u001B[0m \u001B[0mself\u001B[0m\u001B[0;34m\u001B[0m\u001B[0;34m\u001B[0m\u001B[0m\n",
      "\u001B[0;31mKeyError\u001B[0m: \"None of ['PECI_SCORE'] are in the columns\""
     ]
    }
   ],
   "source": [],
   "metadata": {
    "collapsed": true,
    "ExecuteTime": {
     "end_time": "2024-02-14T02:12:05.523679Z",
     "start_time": "2024-02-14T02:12:05.518800Z"
    }
   },
   "id": "initial_id",
   "execution_count": 20
  },
  {
   "cell_type": "code",
   "outputs": [],
   "source": [],
   "metadata": {
    "collapsed": false
   },
   "id": "76e98ce125bfe31f"
  }
 ],
 "metadata": {
  "kernelspec": {
   "display_name": "Python 3",
   "language": "python",
   "name": "python3"
  },
  "language_info": {
   "codemirror_mode": {
    "name": "ipython",
    "version": 2
   },
   "file_extension": ".py",
   "mimetype": "text/x-python",
   "name": "python",
   "nbconvert_exporter": "python",
   "pygments_lexer": "ipython2",
   "version": "2.7.6"
  }
 },
 "nbformat": 4,
 "nbformat_minor": 5
}
