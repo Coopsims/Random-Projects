{
 "cells": [
  {
   "cell_type": "code",
   "execution_count": null,
   "id": "initial_id",
   "metadata": {
    "collapsed": true
   },
   "outputs": [],
   "source": []
  },
  {
   "cell_type": "code",
   "outputs": [],
   "source": [
    "import numpy as np\n",
    "\n",
    "data = [2,6,6,8,9,10,11,11,12,12,13,13,14,14,14,15,15,16,17,18,18,18,19,19,20,20,20,21,23,26,27,28,29,30,31,32,33,33,34,36,37,39,40,43,45,52,61,62,64,69]\n",
    "\n",
    "def calculate_quartiles(data):\n",
    "    data = sorted(data)\n",
    "    Q1 = np.percentile(data, 25)\n",
    "    Q2 = np.median(data)\n",
    "    Q3 = np.percentile(data, 75)\n",
    "    return Q1, Q2, Q3\n",
    "\n",
    "def calculate_outliers(data, Q1, Q3):\n",
    "    IQR = Q3 - Q1\n",
    "    lower_bound = Q1 - 1.5 * IQR\n",
    "    upper_bound = Q3 + 1.5 * IQR\n",
    "    outliers = [x for x in data if x < lower_bound or x > upper_bound]\n",
    "    return outliers"
   ],
   "metadata": {
    "collapsed": false,
    "ExecuteTime": {
     "end_time": "2024-04-06T02:29:56.869109Z",
     "start_time": "2024-04-06T02:29:56.279872Z"
    }
   },
   "id": "c1017cd18b7d484e",
   "execution_count": 1
  },
  {
   "cell_type": "code",
   "outputs": [
    {
     "name": "stdout",
     "output_type": "stream",
     "text": [
      "(14.0, 20.0, 33.0)\n"
     ]
    }
   ],
   "source": [
    "print(calculate_quartiles(data))"
   ],
   "metadata": {
    "collapsed": false,
    "ExecuteTime": {
     "end_time": "2024-04-06T02:30:27.616930Z",
     "start_time": "2024-04-06T02:30:27.611334Z"
    }
   },
   "id": "344847f2528aca75",
   "execution_count": 2
  },
  {
   "cell_type": "code",
   "outputs": [
    {
     "data": {
      "text/plain": "19"
     },
     "execution_count": 3,
     "metadata": {},
     "output_type": "execute_result"
    }
   ],
   "source": [
    "33-14"
   ],
   "metadata": {
    "collapsed": false,
    "ExecuteTime": {
     "end_time": "2024-04-06T02:30:49.887113Z",
     "start_time": "2024-04-06T02:30:49.879591Z"
    }
   },
   "id": "ed69e2db410d493b",
   "execution_count": 3
  },
  {
   "cell_type": "code",
   "outputs": [
    {
     "data": {
      "text/plain": "-14.5"
     },
     "execution_count": 5,
     "metadata": {},
     "output_type": "execute_result"
    }
   ],
   "source": [
    "14-19*1.5"
   ],
   "metadata": {
    "collapsed": false,
    "ExecuteTime": {
     "end_time": "2024-04-06T02:33:09.831470Z",
     "start_time": "2024-04-06T02:33:09.825199Z"
    }
   },
   "id": "93e60c5d348b2647",
   "execution_count": 5
  },
  {
   "cell_type": "code",
   "outputs": [
    {
     "data": {
      "text/plain": "(852.272727272727, 1278.40909090909, 426.136363636364)"
     },
     "execution_count": 3,
     "metadata": {},
     "output_type": "execute_result"
    }
   ],
   "source": [
    "from sympy import symbols, Eq, solve\n",
    "\n",
    "# Define the variable\n",
    "x = symbols('x')\n",
    "\n",
    "# Define the equation\n",
    "equation = Eq(0.88 * x, 750)\n",
    "\n",
    "# Solve the equation\n",
    "selling_price = solve(equation, x)[0]\n",
    "\n",
    "# To ensure a profit, we need to sell for more than this price\n",
    "selling_price_minimum = selling_price * 1.5  # Adding a small amount to ensure profit\n",
    "\n",
    "\n",
    "profit = selling_price_minimum - selling_price\n",
    "\n",
    "selling_price, selling_price_minimum, profit"
   ],
   "metadata": {
    "collapsed": false,
    "ExecuteTime": {
     "end_time": "2024-04-06T22:42:13.535554Z",
     "start_time": "2024-04-06T22:42:13.532698Z"
    }
   },
   "id": "cf44fbda0f7261b5",
   "execution_count": 3
  },
  {
   "cell_type": "code",
   "outputs": [],
   "source": [],
   "metadata": {
    "collapsed": false
   },
   "id": "b5a4762f7d619923"
  }
 ],
 "metadata": {
  "kernelspec": {
   "display_name": "Python 3",
   "language": "python",
   "name": "python3"
  },
  "language_info": {
   "codemirror_mode": {
    "name": "ipython",
    "version": 2
   },
   "file_extension": ".py",
   "mimetype": "text/x-python",
   "name": "python",
   "nbconvert_exporter": "python",
   "pygments_lexer": "ipython2",
   "version": "2.7.6"
  }
 },
 "nbformat": 4,
 "nbformat_minor": 5
}
